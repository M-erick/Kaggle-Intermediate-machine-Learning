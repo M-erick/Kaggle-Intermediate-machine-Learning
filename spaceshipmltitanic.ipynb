{
 "cells": [
  {
   "cell_type": "code",
   "execution_count": null,
   "id": "475c5f4c",
   "metadata": {
    "papermill": {
     "duration": 0.021842,
     "end_time": "2023-06-05T23:04:12.865512",
     "exception": false,
     "start_time": "2023-06-05T23:04:12.843670",
     "status": "completed"
    },
    "tags": []
   },
   "outputs": [],
   "source": []
  },
  {
   "cell_type": "code",
   "execution_count": 1,
   "id": "cf4b165b",
   "metadata": {
    "_cell_guid": "b1076dfc-b9ad-4769-8c92-a6c4dae69d19",
    "_uuid": "8f2839f25d086af736a60e9eeb907d3b93b6e0e5",
    "execution": {
     "iopub.execute_input": "2023-06-05T23:04:12.905627Z",
     "iopub.status.busy": "2023-06-05T23:04:12.904532Z",
     "iopub.status.idle": "2023-06-05T23:04:12.917329Z",
     "shell.execute_reply": "2023-06-05T23:04:12.915895Z"
    },
    "papermill": {
     "duration": 0.035158,
     "end_time": "2023-06-05T23:04:12.919614",
     "exception": false,
     "start_time": "2023-06-05T23:04:12.884456",
     "status": "completed"
    },
    "tags": []
   },
   "outputs": [
    {
     "name": "stdout",
     "output_type": "stream",
     "text": [
      "/kaggle/input/spaceship-titanic/sample_submission.csv\n",
      "/kaggle/input/spaceship-titanic/train.csv\n",
      "/kaggle/input/spaceship-titanic/test.csv\n"
     ]
    }
   ],
   "source": [
    "# This Python 3 environment comes with many helpful analytics libraries installed\n",
    "# It is defined by the kaggle/python Docker image: https://github.com/kaggle/docker-python\n",
    "# For example, here's several helpful packages to load\n",
    "\n",
    "import numpy as np # linear algebra\n",
    "import pandas as pd # data processing, CSV file I/O (e.g. pd.read_csv)\n",
    "\n",
    "# Input data files are available in the read-only \"../input/\" directory\n",
    "# For example, running this (by clicking run or pressing Shift+Enter) will list all files under the input directory\n",
    "\n",
    "import os\n",
    "for dirname, _, filenames in os.walk('/kaggle/input'):\n",
    "    for filename in filenames:\n",
    "        print(os.path.join(dirname, filename))\n",
    "\n",
    "# You can write up to 20GB to the current directory (/kaggle/working/) that gets preserved as output when you create a version using \"Save & Run All\" \n",
    "# You can also write temporary files to /kaggle/temp/, but they won't be saved outside of the current session"
   ]
  },
  {
   "cell_type": "code",
   "execution_count": 2,
   "id": "7468cb56",
   "metadata": {
    "execution": {
     "iopub.execute_input": "2023-06-05T23:04:12.961809Z",
     "iopub.status.busy": "2023-06-05T23:04:12.960992Z",
     "iopub.status.idle": "2023-06-05T23:04:13.040204Z",
     "shell.execute_reply": "2023-06-05T23:04:13.039112Z"
    },
    "papermill": {
     "duration": 0.103427,
     "end_time": "2023-06-05T23:04:13.042358",
     "exception": false,
     "start_time": "2023-06-05T23:04:12.938931",
     "status": "completed"
    },
    "tags": []
   },
   "outputs": [],
   "source": [
    "train_data =pd.read_csv('/kaggle/input/spaceship-titanic/train.csv')\n",
    "test_data =pd.read_csv('/kaggle/input/spaceship-titanic/test.csv')\n",
    "submission_data =pd.read_csv('/kaggle/input/spaceship-titanic/sample_submission.csv')"
   ]
  },
  {
   "cell_type": "code",
   "execution_count": 3,
   "id": "e621a50a",
   "metadata": {
    "execution": {
     "iopub.execute_input": "2023-06-05T23:04:13.082998Z",
     "iopub.status.busy": "2023-06-05T23:04:13.081960Z",
     "iopub.status.idle": "2023-06-05T23:04:13.110315Z",
     "shell.execute_reply": "2023-06-05T23:04:13.109144Z"
    },
    "papermill": {
     "duration": 0.051772,
     "end_time": "2023-06-05T23:04:13.113025",
     "exception": false,
     "start_time": "2023-06-05T23:04:13.061253",
     "status": "completed"
    },
    "tags": []
   },
   "outputs": [
    {
     "data": {
      "text/html": [
       "<div>\n",
       "<style scoped>\n",
       "    .dataframe tbody tr th:only-of-type {\n",
       "        vertical-align: middle;\n",
       "    }\n",
       "\n",
       "    .dataframe tbody tr th {\n",
       "        vertical-align: top;\n",
       "    }\n",
       "\n",
       "    .dataframe thead th {\n",
       "        text-align: right;\n",
       "    }\n",
       "</style>\n",
       "<table border=\"1\" class=\"dataframe\">\n",
       "  <thead>\n",
       "    <tr style=\"text-align: right;\">\n",
       "      <th></th>\n",
       "      <th>PassengerId</th>\n",
       "      <th>HomePlanet</th>\n",
       "      <th>CryoSleep</th>\n",
       "      <th>Cabin</th>\n",
       "      <th>Destination</th>\n",
       "      <th>Age</th>\n",
       "      <th>VIP</th>\n",
       "      <th>RoomService</th>\n",
       "      <th>FoodCourt</th>\n",
       "      <th>ShoppingMall</th>\n",
       "      <th>Spa</th>\n",
       "      <th>VRDeck</th>\n",
       "      <th>Name</th>\n",
       "      <th>Transported</th>\n",
       "    </tr>\n",
       "  </thead>\n",
       "  <tbody>\n",
       "    <tr>\n",
       "      <th>0</th>\n",
       "      <td>0001_01</td>\n",
       "      <td>Europa</td>\n",
       "      <td>False</td>\n",
       "      <td>B/0/P</td>\n",
       "      <td>TRAPPIST-1e</td>\n",
       "      <td>39.0</td>\n",
       "      <td>False</td>\n",
       "      <td>0.0</td>\n",
       "      <td>0.0</td>\n",
       "      <td>0.0</td>\n",
       "      <td>0.0</td>\n",
       "      <td>0.0</td>\n",
       "      <td>Maham Ofracculy</td>\n",
       "      <td>False</td>\n",
       "    </tr>\n",
       "    <tr>\n",
       "      <th>1</th>\n",
       "      <td>0002_01</td>\n",
       "      <td>Earth</td>\n",
       "      <td>False</td>\n",
       "      <td>F/0/S</td>\n",
       "      <td>TRAPPIST-1e</td>\n",
       "      <td>24.0</td>\n",
       "      <td>False</td>\n",
       "      <td>109.0</td>\n",
       "      <td>9.0</td>\n",
       "      <td>25.0</td>\n",
       "      <td>549.0</td>\n",
       "      <td>44.0</td>\n",
       "      <td>Juanna Vines</td>\n",
       "      <td>True</td>\n",
       "    </tr>\n",
       "    <tr>\n",
       "      <th>2</th>\n",
       "      <td>0003_01</td>\n",
       "      <td>Europa</td>\n",
       "      <td>False</td>\n",
       "      <td>A/0/S</td>\n",
       "      <td>TRAPPIST-1e</td>\n",
       "      <td>58.0</td>\n",
       "      <td>True</td>\n",
       "      <td>43.0</td>\n",
       "      <td>3576.0</td>\n",
       "      <td>0.0</td>\n",
       "      <td>6715.0</td>\n",
       "      <td>49.0</td>\n",
       "      <td>Altark Susent</td>\n",
       "      <td>False</td>\n",
       "    </tr>\n",
       "    <tr>\n",
       "      <th>3</th>\n",
       "      <td>0003_02</td>\n",
       "      <td>Europa</td>\n",
       "      <td>False</td>\n",
       "      <td>A/0/S</td>\n",
       "      <td>TRAPPIST-1e</td>\n",
       "      <td>33.0</td>\n",
       "      <td>False</td>\n",
       "      <td>0.0</td>\n",
       "      <td>1283.0</td>\n",
       "      <td>371.0</td>\n",
       "      <td>3329.0</td>\n",
       "      <td>193.0</td>\n",
       "      <td>Solam Susent</td>\n",
       "      <td>False</td>\n",
       "    </tr>\n",
       "    <tr>\n",
       "      <th>4</th>\n",
       "      <td>0004_01</td>\n",
       "      <td>Earth</td>\n",
       "      <td>False</td>\n",
       "      <td>F/1/S</td>\n",
       "      <td>TRAPPIST-1e</td>\n",
       "      <td>16.0</td>\n",
       "      <td>False</td>\n",
       "      <td>303.0</td>\n",
       "      <td>70.0</td>\n",
       "      <td>151.0</td>\n",
       "      <td>565.0</td>\n",
       "      <td>2.0</td>\n",
       "      <td>Willy Santantines</td>\n",
       "      <td>True</td>\n",
       "    </tr>\n",
       "  </tbody>\n",
       "</table>\n",
       "</div>"
      ],
      "text/plain": [
       "  PassengerId HomePlanet CryoSleep  Cabin  Destination   Age    VIP  \\\n",
       "0     0001_01     Europa     False  B/0/P  TRAPPIST-1e  39.0  False   \n",
       "1     0002_01      Earth     False  F/0/S  TRAPPIST-1e  24.0  False   \n",
       "2     0003_01     Europa     False  A/0/S  TRAPPIST-1e  58.0   True   \n",
       "3     0003_02     Europa     False  A/0/S  TRAPPIST-1e  33.0  False   \n",
       "4     0004_01      Earth     False  F/1/S  TRAPPIST-1e  16.0  False   \n",
       "\n",
       "   RoomService  FoodCourt  ShoppingMall     Spa  VRDeck               Name  \\\n",
       "0          0.0        0.0           0.0     0.0     0.0    Maham Ofracculy   \n",
       "1        109.0        9.0          25.0   549.0    44.0       Juanna Vines   \n",
       "2         43.0     3576.0           0.0  6715.0    49.0      Altark Susent   \n",
       "3          0.0     1283.0         371.0  3329.0   193.0       Solam Susent   \n",
       "4        303.0       70.0         151.0   565.0     2.0  Willy Santantines   \n",
       "\n",
       "   Transported  \n",
       "0        False  \n",
       "1         True  \n",
       "2        False  \n",
       "3        False  \n",
       "4         True  "
      ]
     },
     "execution_count": 3,
     "metadata": {},
     "output_type": "execute_result"
    }
   ],
   "source": [
    "train_data.head()"
   ]
  },
  {
   "cell_type": "code",
   "execution_count": 4,
   "id": "0f10cfcb",
   "metadata": {
    "execution": {
     "iopub.execute_input": "2023-06-05T23:04:13.154624Z",
     "iopub.status.busy": "2023-06-05T23:04:13.154206Z",
     "iopub.status.idle": "2023-06-05T23:04:13.164041Z",
     "shell.execute_reply": "2023-06-05T23:04:13.162439Z"
    },
    "papermill": {
     "duration": 0.033966,
     "end_time": "2023-06-05T23:04:13.166802",
     "exception": false,
     "start_time": "2023-06-05T23:04:13.132836",
     "status": "completed"
    },
    "tags": []
   },
   "outputs": [
    {
     "data": {
      "text/plain": [
       "PassengerId      object\n",
       "HomePlanet       object\n",
       "CryoSleep        object\n",
       "Cabin            object\n",
       "Destination      object\n",
       "Age             float64\n",
       "VIP              object\n",
       "RoomService     float64\n",
       "FoodCourt       float64\n",
       "ShoppingMall    float64\n",
       "Spa             float64\n",
       "VRDeck          float64\n",
       "Name             object\n",
       "Transported        bool\n",
       "dtype: object"
      ]
     },
     "execution_count": 4,
     "metadata": {},
     "output_type": "execute_result"
    }
   ],
   "source": [
    "# data types\n",
    "train_data.dtypes"
   ]
  },
  {
   "cell_type": "code",
   "execution_count": 5,
   "id": "f03bbe04",
   "metadata": {
    "execution": {
     "iopub.execute_input": "2023-06-05T23:04:13.209797Z",
     "iopub.status.busy": "2023-06-05T23:04:13.208545Z",
     "iopub.status.idle": "2023-06-05T23:04:13.218566Z",
     "shell.execute_reply": "2023-06-05T23:04:13.217450Z"
    },
    "papermill": {
     "duration": 0.033293,
     "end_time": "2023-06-05T23:04:13.221062",
     "exception": false,
     "start_time": "2023-06-05T23:04:13.187769",
     "status": "completed"
    },
    "tags": []
   },
   "outputs": [],
   "source": [
    "# Convert CryoSleep data type to boolean fro Object\n",
    "train_data['CryoSleep']=train_data['CryoSleep'].astype('bool')"
   ]
  },
  {
   "cell_type": "code",
   "execution_count": 6,
   "id": "25ef0ad4",
   "metadata": {
    "execution": {
     "iopub.execute_input": "2023-06-05T23:04:13.262857Z",
     "iopub.status.busy": "2023-06-05T23:04:13.261884Z",
     "iopub.status.idle": "2023-06-05T23:04:13.267902Z",
     "shell.execute_reply": "2023-06-05T23:04:13.266943Z"
    },
    "papermill": {
     "duration": 0.028827,
     "end_time": "2023-06-05T23:04:13.269949",
     "exception": false,
     "start_time": "2023-06-05T23:04:13.241122",
     "status": "completed"
    },
    "tags": []
   },
   "outputs": [],
   "source": [
    "# Convert VIP data type to boolean fro Object\n",
    "train_data['VIP']=train_data['VIP'].astype('bool')"
   ]
  },
  {
   "cell_type": "code",
   "execution_count": 7,
   "id": "0a9b3cd8",
   "metadata": {
    "execution": {
     "iopub.execute_input": "2023-06-05T23:04:13.310266Z",
     "iopub.status.busy": "2023-06-05T23:04:13.309903Z",
     "iopub.status.idle": "2023-06-05T23:04:13.318045Z",
     "shell.execute_reply": "2023-06-05T23:04:13.316597Z"
    },
    "papermill": {
     "duration": 0.030718,
     "end_time": "2023-06-05T23:04:13.320218",
     "exception": false,
     "start_time": "2023-06-05T23:04:13.289500",
     "status": "completed"
    },
    "tags": []
   },
   "outputs": [
    {
     "data": {
      "text/plain": [
       "PassengerId      object\n",
       "HomePlanet       object\n",
       "CryoSleep          bool\n",
       "Cabin            object\n",
       "Destination      object\n",
       "Age             float64\n",
       "VIP                bool\n",
       "RoomService     float64\n",
       "FoodCourt       float64\n",
       "ShoppingMall    float64\n",
       "Spa             float64\n",
       "VRDeck          float64\n",
       "Name             object\n",
       "Transported        bool\n",
       "dtype: object"
      ]
     },
     "execution_count": 7,
     "metadata": {},
     "output_type": "execute_result"
    }
   ],
   "source": [
    "train_data.dtypes"
   ]
  },
  {
   "cell_type": "code",
   "execution_count": 8,
   "id": "bb4fefd1",
   "metadata": {
    "execution": {
     "iopub.execute_input": "2023-06-05T23:04:13.362738Z",
     "iopub.status.busy": "2023-06-05T23:04:13.361651Z",
     "iopub.status.idle": "2023-06-05T23:04:13.385683Z",
     "shell.execute_reply": "2023-06-05T23:04:13.383691Z"
    },
    "papermill": {
     "duration": 0.047835,
     "end_time": "2023-06-05T23:04:13.387952",
     "exception": false,
     "start_time": "2023-06-05T23:04:13.340117",
     "status": "completed"
    },
    "tags": []
   },
   "outputs": [
    {
     "name": "stdout",
     "output_type": "stream",
     "text": [
      "PassengerId\n",
      "False    8693\n",
      "Name: PassengerId, dtype: int64\n",
      "\n",
      "HomePlanet\n",
      "False    8492\n",
      "True      201\n",
      "Name: HomePlanet, dtype: int64\n",
      "\n",
      "CryoSleep\n",
      "False    8693\n",
      "Name: CryoSleep, dtype: int64\n",
      "\n",
      "Cabin\n",
      "False    8494\n",
      "True      199\n",
      "Name: Cabin, dtype: int64\n",
      "\n",
      "Destination\n",
      "False    8511\n",
      "True      182\n",
      "Name: Destination, dtype: int64\n",
      "\n",
      "Age\n",
      "False    8514\n",
      "True      179\n",
      "Name: Age, dtype: int64\n",
      "\n",
      "VIP\n",
      "False    8693\n",
      "Name: VIP, dtype: int64\n",
      "\n",
      "RoomService\n",
      "False    8512\n",
      "True      181\n",
      "Name: RoomService, dtype: int64\n",
      "\n",
      "FoodCourt\n",
      "False    8510\n",
      "True      183\n",
      "Name: FoodCourt, dtype: int64\n",
      "\n",
      "ShoppingMall\n",
      "False    8485\n",
      "True      208\n",
      "Name: ShoppingMall, dtype: int64\n",
      "\n",
      "Spa\n",
      "False    8510\n",
      "True      183\n",
      "Name: Spa, dtype: int64\n",
      "\n",
      "VRDeck\n",
      "False    8505\n",
      "True      188\n",
      "Name: VRDeck, dtype: int64\n",
      "\n",
      "Name\n",
      "False    8493\n",
      "True      200\n",
      "Name: Name, dtype: int64\n",
      "\n",
      "Transported\n",
      "False    8693\n",
      "Name: Transported, dtype: int64\n",
      "\n"
     ]
    }
   ],
   "source": [
    "# Count missing values  in each column\n",
    "missing_data = train_data.isnull()\n",
    "# missing_data.head(5)\n",
    "\n",
    "for column in missing_data.columns.values.tolist():\n",
    "    print(column)\n",
    "    print(missing_data[column].value_counts())\n",
    "    print('')"
   ]
  },
  {
   "cell_type": "code",
   "execution_count": 9,
   "id": "3179b4ff",
   "metadata": {
    "execution": {
     "iopub.execute_input": "2023-06-05T23:04:13.430796Z",
     "iopub.status.busy": "2023-06-05T23:04:13.429761Z",
     "iopub.status.idle": "2023-06-05T23:04:13.451078Z",
     "shell.execute_reply": "2023-06-05T23:04:13.449231Z"
    },
    "papermill": {
     "duration": 0.045868,
     "end_time": "2023-06-05T23:04:13.453998",
     "exception": false,
     "start_time": "2023-06-05T23:04:13.408130",
     "status": "completed"
    },
    "tags": []
   },
   "outputs": [
    {
     "name": "stdout",
     "output_type": "stream",
     "text": [
      "PassengerId\n",
      "False    4277\n",
      "Name: PassengerId, dtype: int64\n",
      "\n",
      "HomePlanet\n",
      "False    4190\n",
      "True       87\n",
      "Name: HomePlanet, dtype: int64\n",
      "\n",
      "CryoSleep\n",
      "False    4184\n",
      "True       93\n",
      "Name: CryoSleep, dtype: int64\n",
      "\n",
      "Cabin\n",
      "False    4177\n",
      "True      100\n",
      "Name: Cabin, dtype: int64\n",
      "\n",
      "Destination\n",
      "False    4185\n",
      "True       92\n",
      "Name: Destination, dtype: int64\n",
      "\n",
      "Age\n",
      "False    4186\n",
      "True       91\n",
      "Name: Age, dtype: int64\n",
      "\n",
      "VIP\n",
      "False    4184\n",
      "True       93\n",
      "Name: VIP, dtype: int64\n",
      "\n",
      "RoomService\n",
      "False    4195\n",
      "True       82\n",
      "Name: RoomService, dtype: int64\n",
      "\n",
      "FoodCourt\n",
      "False    4171\n",
      "True      106\n",
      "Name: FoodCourt, dtype: int64\n",
      "\n",
      "ShoppingMall\n",
      "False    4179\n",
      "True       98\n",
      "Name: ShoppingMall, dtype: int64\n",
      "\n",
      "Spa\n",
      "False    4176\n",
      "True      101\n",
      "Name: Spa, dtype: int64\n",
      "\n",
      "VRDeck\n",
      "False    4197\n",
      "True       80\n",
      "Name: VRDeck, dtype: int64\n",
      "\n",
      "Name\n",
      "False    4183\n",
      "True       94\n",
      "Name: Name, dtype: int64\n",
      "\n"
     ]
    }
   ],
   "source": [
    "# Count missing values  in each column\n",
    "missing_data = test_data.isnull()\n",
    "# missing_data.head(5)\n",
    "\n",
    "for column in missing_data.columns.values.tolist():\n",
    "    print(column)\n",
    "    print(missing_data[column].value_counts())\n",
    "    print('')"
   ]
  },
  {
   "cell_type": "code",
   "execution_count": 10,
   "id": "503ddba2",
   "metadata": {
    "execution": {
     "iopub.execute_input": "2023-06-05T23:04:13.497676Z",
     "iopub.status.busy": "2023-06-05T23:04:13.496095Z",
     "iopub.status.idle": "2023-06-05T23:04:13.511991Z",
     "shell.execute_reply": "2023-06-05T23:04:13.510829Z"
    },
    "papermill": {
     "duration": 0.039929,
     "end_time": "2023-06-05T23:04:13.514056",
     "exception": false,
     "start_time": "2023-06-05T23:04:13.474127",
     "status": "completed"
    },
    "tags": []
   },
   "outputs": [
    {
     "data": {
      "text/plain": [
       "RoomService    -0.244611\n",
       "Spa            -0.221131\n",
       "VRDeck         -0.207075\n",
       "Age            -0.075026\n",
       "VIP            -0.024602\n",
       "ShoppingMall    0.010141\n",
       "FoodCourt       0.046566\n",
       "CryoSleep       0.451744\n",
       "Transported     1.000000\n",
       "Name: Transported, dtype: float64"
      ]
     },
     "execution_count": 10,
     "metadata": {},
     "output_type": "execute_result"
    }
   ],
   "source": [
    "# Correlation between the target;transported and other variables\n",
    "train_data.corr()['Transported'].sort_values()"
   ]
  },
  {
   "cell_type": "code",
   "execution_count": 11,
   "id": "3316fcdd",
   "metadata": {
    "execution": {
     "iopub.execute_input": "2023-06-05T23:04:13.556741Z",
     "iopub.status.busy": "2023-06-05T23:04:13.555778Z",
     "iopub.status.idle": "2023-06-05T23:04:13.566390Z",
     "shell.execute_reply": "2023-06-05T23:04:13.565405Z"
    },
    "papermill": {
     "duration": 0.035084,
     "end_time": "2023-06-05T23:04:13.569250",
     "exception": false,
     "start_time": "2023-06-05T23:04:13.534166",
     "status": "completed"
    },
    "tags": []
   },
   "outputs": [
    {
     "data": {
      "text/plain": [
       "Earth     4602\n",
       "Europa    2131\n",
       "Mars      1759\n",
       "Name: HomePlanet, dtype: int64"
      ]
     },
     "execution_count": 11,
     "metadata": {},
     "output_type": "execute_result"
    }
   ],
   "source": [
    "# Total count per HomePlanet in train_data\n",
    "train_data['HomePlanet'].value_counts()\n",
    "\n"
   ]
  },
  {
   "cell_type": "code",
   "execution_count": 12,
   "id": "0b63b461",
   "metadata": {
    "execution": {
     "iopub.execute_input": "2023-06-05T23:04:13.612985Z",
     "iopub.status.busy": "2023-06-05T23:04:13.612400Z",
     "iopub.status.idle": "2023-06-05T23:04:13.621295Z",
     "shell.execute_reply": "2023-06-05T23:04:13.620555Z"
    },
    "papermill": {
     "duration": 0.032498,
     "end_time": "2023-06-05T23:04:13.623151",
     "exception": false,
     "start_time": "2023-06-05T23:04:13.590653",
     "status": "completed"
    },
    "tags": []
   },
   "outputs": [
    {
     "data": {
      "text/plain": [
       "Earth     2263\n",
       "Europa    1002\n",
       "Mars       925\n",
       "Name: HomePlanet, dtype: int64"
      ]
     },
     "execution_count": 12,
     "metadata": {},
     "output_type": "execute_result"
    }
   ],
   "source": [
    "test_data['HomePlanet'].value_counts()"
   ]
  },
  {
   "cell_type": "code",
   "execution_count": 13,
   "id": "24ecfd5e",
   "metadata": {
    "execution": {
     "iopub.execute_input": "2023-06-05T23:04:13.670126Z",
     "iopub.status.busy": "2023-06-05T23:04:13.668933Z",
     "iopub.status.idle": "2023-06-05T23:04:13.676436Z",
     "shell.execute_reply": "2023-06-05T23:04:13.674613Z"
    },
    "papermill": {
     "duration": 0.033467,
     "end_time": "2023-06-05T23:04:13.678626",
     "exception": false,
     "start_time": "2023-06-05T23:04:13.645159",
     "status": "completed"
    },
    "tags": []
   },
   "outputs": [],
   "source": [
    "# Replacing null values with Earth,word with most frequency in data set \n",
    "train_data['HomePlanet'].replace(np.nan,'Earth',inplace=True)"
   ]
  },
  {
   "cell_type": "code",
   "execution_count": 14,
   "id": "3d16f669",
   "metadata": {
    "execution": {
     "iopub.execute_input": "2023-06-05T23:04:13.721872Z",
     "iopub.status.busy": "2023-06-05T23:04:13.721445Z",
     "iopub.status.idle": "2023-06-05T23:04:13.726128Z",
     "shell.execute_reply": "2023-06-05T23:04:13.725458Z"
    },
    "papermill": {
     "duration": 0.029131,
     "end_time": "2023-06-05T23:04:13.728885",
     "exception": false,
     "start_time": "2023-06-05T23:04:13.699754",
     "status": "completed"
    },
    "tags": []
   },
   "outputs": [],
   "source": [
    "test_data['HomePlanet'].replace(np.nan,'Earth',inplace=True)"
   ]
  },
  {
   "cell_type": "code",
   "execution_count": 15,
   "id": "cb898e75",
   "metadata": {
    "execution": {
     "iopub.execute_input": "2023-06-05T23:04:13.773263Z",
     "iopub.status.busy": "2023-06-05T23:04:13.772657Z",
     "iopub.status.idle": "2023-06-05T23:04:13.781747Z",
     "shell.execute_reply": "2023-06-05T23:04:13.780421Z"
    },
    "papermill": {
     "duration": 0.034072,
     "end_time": "2023-06-05T23:04:13.784513",
     "exception": false,
     "start_time": "2023-06-05T23:04:13.750441",
     "status": "completed"
    },
    "tags": []
   },
   "outputs": [
    {
     "data": {
      "text/plain": [
       "0"
      ]
     },
     "execution_count": 15,
     "metadata": {},
     "output_type": "execute_result"
    }
   ],
   "source": [
    "train_data['HomePlanet'].isnull().sum()"
   ]
  },
  {
   "cell_type": "code",
   "execution_count": 16,
   "id": "baccb1b6",
   "metadata": {
    "execution": {
     "iopub.execute_input": "2023-06-05T23:04:13.829058Z",
     "iopub.status.busy": "2023-06-05T23:04:13.828679Z",
     "iopub.status.idle": "2023-06-05T23:04:13.837111Z",
     "shell.execute_reply": "2023-06-05T23:04:13.835272Z"
    },
    "papermill": {
     "duration": 0.034309,
     "end_time": "2023-06-05T23:04:13.839899",
     "exception": false,
     "start_time": "2023-06-05T23:04:13.805590",
     "status": "completed"
    },
    "tags": []
   },
   "outputs": [
    {
     "data": {
      "text/plain": [
       "199"
      ]
     },
     "execution_count": 16,
     "metadata": {},
     "output_type": "execute_result"
    }
   ],
   "source": [
    "train_data['Cabin'].isnull().sum()"
   ]
  },
  {
   "cell_type": "code",
   "execution_count": 17,
   "id": "0d43c824",
   "metadata": {
    "execution": {
     "iopub.execute_input": "2023-06-05T23:04:13.885694Z",
     "iopub.status.busy": "2023-06-05T23:04:13.885265Z",
     "iopub.status.idle": "2023-06-05T23:04:13.894027Z",
     "shell.execute_reply": "2023-06-05T23:04:13.892419Z"
    },
    "papermill": {
     "duration": 0.033855,
     "end_time": "2023-06-05T23:04:13.896176",
     "exception": false,
     "start_time": "2023-06-05T23:04:13.862321",
     "status": "completed"
    },
    "tags": []
   },
   "outputs": [
    {
     "data": {
      "text/plain": [
       "182"
      ]
     },
     "execution_count": 17,
     "metadata": {},
     "output_type": "execute_result"
    }
   ],
   "source": [
    "train_data['Destination'].isnull().sum()"
   ]
  },
  {
   "cell_type": "code",
   "execution_count": 18,
   "id": "01efb0a7",
   "metadata": {
    "execution": {
     "iopub.execute_input": "2023-06-05T23:04:13.940086Z",
     "iopub.status.busy": "2023-06-05T23:04:13.939683Z",
     "iopub.status.idle": "2023-06-05T23:04:13.948437Z",
     "shell.execute_reply": "2023-06-05T23:04:13.947046Z"
    },
    "papermill": {
     "duration": 0.03364,
     "end_time": "2023-06-05T23:04:13.950552",
     "exception": false,
     "start_time": "2023-06-05T23:04:13.916912",
     "status": "completed"
    },
    "tags": []
   },
   "outputs": [
    {
     "data": {
      "text/plain": [
       "TRAPPIST-1e      5915\n",
       "55 Cancri e      1800\n",
       "PSO J318.5-22     796\n",
       "Name: Destination, dtype: int64"
      ]
     },
     "execution_count": 18,
     "metadata": {},
     "output_type": "execute_result"
    }
   ],
   "source": [
    "train_data['Destination'].value_counts()"
   ]
  },
  {
   "cell_type": "code",
   "execution_count": 19,
   "id": "774d0ce3",
   "metadata": {
    "execution": {
     "iopub.execute_input": "2023-06-05T23:04:13.993883Z",
     "iopub.status.busy": "2023-06-05T23:04:13.993474Z",
     "iopub.status.idle": "2023-06-05T23:04:14.001864Z",
     "shell.execute_reply": "2023-06-05T23:04:14.000702Z"
    },
    "papermill": {
     "duration": 0.032414,
     "end_time": "2023-06-05T23:04:14.003598",
     "exception": false,
     "start_time": "2023-06-05T23:04:13.971184",
     "status": "completed"
    },
    "tags": []
   },
   "outputs": [
    {
     "data": {
      "text/plain": [
       "TRAPPIST-1e      2956\n",
       "55 Cancri e       841\n",
       "PSO J318.5-22     388\n",
       "Name: Destination, dtype: int64"
      ]
     },
     "execution_count": 19,
     "metadata": {},
     "output_type": "execute_result"
    }
   ],
   "source": [
    "test_data['Destination'].value_counts()"
   ]
  },
  {
   "cell_type": "code",
   "execution_count": 20,
   "id": "8bf41e73",
   "metadata": {
    "execution": {
     "iopub.execute_input": "2023-06-05T23:04:14.048237Z",
     "iopub.status.busy": "2023-06-05T23:04:14.047877Z",
     "iopub.status.idle": "2023-06-05T23:04:14.053846Z",
     "shell.execute_reply": "2023-06-05T23:04:14.052624Z"
    },
    "papermill": {
     "duration": 0.030878,
     "end_time": "2023-06-05T23:04:14.056525",
     "exception": false,
     "start_time": "2023-06-05T23:04:14.025647",
     "status": "completed"
    },
    "tags": []
   },
   "outputs": [],
   "source": [
    "# Replace nan cell with max value(TRAPPIST-1e)\n",
    "train_data['Destination'].replace(np.nan,'TRAPPIST-1e',inplace=True)"
   ]
  },
  {
   "cell_type": "code",
   "execution_count": 21,
   "id": "18c01eba",
   "metadata": {
    "execution": {
     "iopub.execute_input": "2023-06-05T23:04:14.099726Z",
     "iopub.status.busy": "2023-06-05T23:04:14.099337Z",
     "iopub.status.idle": "2023-06-05T23:04:14.105275Z",
     "shell.execute_reply": "2023-06-05T23:04:14.104235Z"
    },
    "papermill": {
     "duration": 0.03023,
     "end_time": "2023-06-05T23:04:14.107803",
     "exception": false,
     "start_time": "2023-06-05T23:04:14.077573",
     "status": "completed"
    },
    "tags": []
   },
   "outputs": [],
   "source": [
    "test_data['Destination'].replace(np.nan,'TRAPPIST-1e',inplace=True)"
   ]
  },
  {
   "cell_type": "code",
   "execution_count": 22,
   "id": "6d8f694c",
   "metadata": {
    "execution": {
     "iopub.execute_input": "2023-06-05T23:04:14.151877Z",
     "iopub.status.busy": "2023-06-05T23:04:14.151509Z",
     "iopub.status.idle": "2023-06-05T23:04:14.158654Z",
     "shell.execute_reply": "2023-06-05T23:04:14.157660Z"
    },
    "papermill": {
     "duration": 0.031985,
     "end_time": "2023-06-05T23:04:14.160563",
     "exception": false,
     "start_time": "2023-06-05T23:04:14.128578",
     "status": "completed"
    },
    "tags": []
   },
   "outputs": [
    {
     "data": {
      "text/plain": [
       "0"
      ]
     },
     "execution_count": 22,
     "metadata": {},
     "output_type": "execute_result"
    }
   ],
   "source": [
    "train_data['Destination'].isnull().sum()"
   ]
  },
  {
   "cell_type": "code",
   "execution_count": 23,
   "id": "101efe88",
   "metadata": {
    "execution": {
     "iopub.execute_input": "2023-06-05T23:04:14.204952Z",
     "iopub.status.busy": "2023-06-05T23:04:14.204297Z",
     "iopub.status.idle": "2023-06-05T23:04:14.212564Z",
     "shell.execute_reply": "2023-06-05T23:04:14.211148Z"
    },
    "papermill": {
     "duration": 0.032969,
     "end_time": "2023-06-05T23:04:14.214459",
     "exception": false,
     "start_time": "2023-06-05T23:04:14.181490",
     "status": "completed"
    },
    "tags": []
   },
   "outputs": [
    {
     "data": {
      "text/plain": [
       "200"
      ]
     },
     "execution_count": 23,
     "metadata": {},
     "output_type": "execute_result"
    }
   ],
   "source": [
    "train_data['Name'].isnull().sum()"
   ]
  },
  {
   "cell_type": "code",
   "execution_count": 24,
   "id": "0d0fbf22",
   "metadata": {
    "execution": {
     "iopub.execute_input": "2023-06-05T23:04:14.260757Z",
     "iopub.status.busy": "2023-06-05T23:04:14.260090Z",
     "iopub.status.idle": "2023-06-05T23:04:14.266207Z",
     "shell.execute_reply": "2023-06-05T23:04:14.264658Z"
    },
    "papermill": {
     "duration": 0.032006,
     "end_time": "2023-06-05T23:04:14.269071",
     "exception": false,
     "start_time": "2023-06-05T23:04:14.237065",
     "status": "completed"
    },
    "tags": []
   },
   "outputs": [],
   "source": [
    "# Replacing missing age value with mean in train_data.csv\n",
    "mean =train_data['Age'].mean()\n",
    "\n",
    "train_data['Age'].replace(np.nan,mean,inplace=True)"
   ]
  },
  {
   "cell_type": "code",
   "execution_count": 25,
   "id": "54d34bbd",
   "metadata": {
    "execution": {
     "iopub.execute_input": "2023-06-05T23:04:14.313272Z",
     "iopub.status.busy": "2023-06-05T23:04:14.312690Z",
     "iopub.status.idle": "2023-06-05T23:04:14.318791Z",
     "shell.execute_reply": "2023-06-05T23:04:14.317760Z"
    },
    "papermill": {
     "duration": 0.031601,
     "end_time": "2023-06-05T23:04:14.321570",
     "exception": false,
     "start_time": "2023-06-05T23:04:14.289969",
     "status": "completed"
    },
    "tags": []
   },
   "outputs": [],
   "source": [
    "mean =test_data['Age'].mean()\n",
    "test_data['Age'].replace(np.nan,mean,inplace=True)"
   ]
  },
  {
   "cell_type": "code",
   "execution_count": 26,
   "id": "513a722c",
   "metadata": {
    "execution": {
     "iopub.execute_input": "2023-06-05T23:04:14.367125Z",
     "iopub.status.busy": "2023-06-05T23:04:14.366773Z",
     "iopub.status.idle": "2023-06-05T23:04:14.386162Z",
     "shell.execute_reply": "2023-06-05T23:04:14.385171Z"
    },
    "papermill": {
     "duration": 0.045009,
     "end_time": "2023-06-05T23:04:14.388034",
     "exception": false,
     "start_time": "2023-06-05T23:04:14.343025",
     "status": "completed"
    },
    "tags": []
   },
   "outputs": [
    {
     "data": {
      "text/html": [
       "<div>\n",
       "<style scoped>\n",
       "    .dataframe tbody tr th:only-of-type {\n",
       "        vertical-align: middle;\n",
       "    }\n",
       "\n",
       "    .dataframe tbody tr th {\n",
       "        vertical-align: top;\n",
       "    }\n",
       "\n",
       "    .dataframe thead th {\n",
       "        text-align: right;\n",
       "    }\n",
       "</style>\n",
       "<table border=\"1\" class=\"dataframe\">\n",
       "  <thead>\n",
       "    <tr style=\"text-align: right;\">\n",
       "      <th></th>\n",
       "      <th>PassengerId</th>\n",
       "      <th>HomePlanet</th>\n",
       "      <th>CryoSleep</th>\n",
       "      <th>Cabin</th>\n",
       "      <th>Destination</th>\n",
       "      <th>Age</th>\n",
       "      <th>VIP</th>\n",
       "      <th>RoomService</th>\n",
       "      <th>FoodCourt</th>\n",
       "      <th>ShoppingMall</th>\n",
       "      <th>Spa</th>\n",
       "      <th>VRDeck</th>\n",
       "      <th>Name</th>\n",
       "      <th>Transported</th>\n",
       "    </tr>\n",
       "  </thead>\n",
       "  <tbody>\n",
       "    <tr>\n",
       "      <th>0</th>\n",
       "      <td>0001_01</td>\n",
       "      <td>Europa</td>\n",
       "      <td>False</td>\n",
       "      <td>B/0/P</td>\n",
       "      <td>TRAPPIST-1e</td>\n",
       "      <td>39.0</td>\n",
       "      <td>False</td>\n",
       "      <td>0.0</td>\n",
       "      <td>0.0</td>\n",
       "      <td>0.0</td>\n",
       "      <td>0.0</td>\n",
       "      <td>0.0</td>\n",
       "      <td>Maham Ofracculy</td>\n",
       "      <td>False</td>\n",
       "    </tr>\n",
       "    <tr>\n",
       "      <th>1</th>\n",
       "      <td>0002_01</td>\n",
       "      <td>Earth</td>\n",
       "      <td>False</td>\n",
       "      <td>F/0/S</td>\n",
       "      <td>TRAPPIST-1e</td>\n",
       "      <td>24.0</td>\n",
       "      <td>False</td>\n",
       "      <td>109.0</td>\n",
       "      <td>9.0</td>\n",
       "      <td>25.0</td>\n",
       "      <td>549.0</td>\n",
       "      <td>44.0</td>\n",
       "      <td>Juanna Vines</td>\n",
       "      <td>True</td>\n",
       "    </tr>\n",
       "    <tr>\n",
       "      <th>2</th>\n",
       "      <td>0003_01</td>\n",
       "      <td>Europa</td>\n",
       "      <td>False</td>\n",
       "      <td>A/0/S</td>\n",
       "      <td>TRAPPIST-1e</td>\n",
       "      <td>58.0</td>\n",
       "      <td>True</td>\n",
       "      <td>43.0</td>\n",
       "      <td>3576.0</td>\n",
       "      <td>0.0</td>\n",
       "      <td>6715.0</td>\n",
       "      <td>49.0</td>\n",
       "      <td>Altark Susent</td>\n",
       "      <td>False</td>\n",
       "    </tr>\n",
       "    <tr>\n",
       "      <th>3</th>\n",
       "      <td>0003_02</td>\n",
       "      <td>Europa</td>\n",
       "      <td>False</td>\n",
       "      <td>A/0/S</td>\n",
       "      <td>TRAPPIST-1e</td>\n",
       "      <td>33.0</td>\n",
       "      <td>False</td>\n",
       "      <td>0.0</td>\n",
       "      <td>1283.0</td>\n",
       "      <td>371.0</td>\n",
       "      <td>3329.0</td>\n",
       "      <td>193.0</td>\n",
       "      <td>Solam Susent</td>\n",
       "      <td>False</td>\n",
       "    </tr>\n",
       "    <tr>\n",
       "      <th>4</th>\n",
       "      <td>0004_01</td>\n",
       "      <td>Earth</td>\n",
       "      <td>False</td>\n",
       "      <td>F/1/S</td>\n",
       "      <td>TRAPPIST-1e</td>\n",
       "      <td>16.0</td>\n",
       "      <td>False</td>\n",
       "      <td>303.0</td>\n",
       "      <td>70.0</td>\n",
       "      <td>151.0</td>\n",
       "      <td>565.0</td>\n",
       "      <td>2.0</td>\n",
       "      <td>Willy Santantines</td>\n",
       "      <td>True</td>\n",
       "    </tr>\n",
       "  </tbody>\n",
       "</table>\n",
       "</div>"
      ],
      "text/plain": [
       "  PassengerId HomePlanet  CryoSleep  Cabin  Destination   Age    VIP  \\\n",
       "0     0001_01     Europa      False  B/0/P  TRAPPIST-1e  39.0  False   \n",
       "1     0002_01      Earth      False  F/0/S  TRAPPIST-1e  24.0  False   \n",
       "2     0003_01     Europa      False  A/0/S  TRAPPIST-1e  58.0   True   \n",
       "3     0003_02     Europa      False  A/0/S  TRAPPIST-1e  33.0  False   \n",
       "4     0004_01      Earth      False  F/1/S  TRAPPIST-1e  16.0  False   \n",
       "\n",
       "   RoomService  FoodCourt  ShoppingMall     Spa  VRDeck               Name  \\\n",
       "0          0.0        0.0           0.0     0.0     0.0    Maham Ofracculy   \n",
       "1        109.0        9.0          25.0   549.0    44.0       Juanna Vines   \n",
       "2         43.0     3576.0           0.0  6715.0    49.0      Altark Susent   \n",
       "3          0.0     1283.0         371.0  3329.0   193.0       Solam Susent   \n",
       "4        303.0       70.0         151.0   565.0     2.0  Willy Santantines   \n",
       "\n",
       "   Transported  \n",
       "0        False  \n",
       "1         True  \n",
       "2        False  \n",
       "3        False  \n",
       "4         True  "
      ]
     },
     "execution_count": 26,
     "metadata": {},
     "output_type": "execute_result"
    }
   ],
   "source": [
    "train_data.head()\n",
    "# train_data['RoomService'].value_counts()"
   ]
  },
  {
   "cell_type": "code",
   "execution_count": 27,
   "id": "e69eff7e",
   "metadata": {
    "execution": {
     "iopub.execute_input": "2023-06-05T23:04:14.434859Z",
     "iopub.status.busy": "2023-06-05T23:04:14.433451Z",
     "iopub.status.idle": "2023-06-05T23:04:14.443070Z",
     "shell.execute_reply": "2023-06-05T23:04:14.442365Z"
    },
    "papermill": {
     "duration": 0.035137,
     "end_time": "2023-06-05T23:04:14.445296",
     "exception": false,
     "start_time": "2023-06-05T23:04:14.410159",
     "status": "completed"
    },
    "tags": []
   },
   "outputs": [
    {
     "data": {
      "text/plain": [
       "0"
      ]
     },
     "execution_count": 27,
     "metadata": {},
     "output_type": "execute_result"
    }
   ],
   "source": [
    "# Fill the empty name cells with 'Unknown' in train_data.csv\n",
    "train_data['Name'].fillna('Unknown',inplace =True)\n",
    "\n",
    "# display empty cells\n",
    "train_data['Name'].isnull().sum()"
   ]
  },
  {
   "cell_type": "code",
   "execution_count": 28,
   "id": "752afd72",
   "metadata": {
    "execution": {
     "iopub.execute_input": "2023-06-05T23:04:14.490537Z",
     "iopub.status.busy": "2023-06-05T23:04:14.489214Z",
     "iopub.status.idle": "2023-06-05T23:04:14.498309Z",
     "shell.execute_reply": "2023-06-05T23:04:14.496583Z"
    },
    "papermill": {
     "duration": 0.034259,
     "end_time": "2023-06-05T23:04:14.501070",
     "exception": false,
     "start_time": "2023-06-05T23:04:14.466811",
     "status": "completed"
    },
    "tags": []
   },
   "outputs": [
    {
     "data": {
      "text/plain": [
       "0"
      ]
     },
     "execution_count": 28,
     "metadata": {},
     "output_type": "execute_result"
    }
   ],
   "source": [
    "# Fill the empty name cells with 'Unknown' in test_data.csv\n",
    "test_data['Name'].fillna('Unknown',inplace =True)\n",
    "\n",
    "# display empty cells\n",
    "test_data['Name'].isnull().sum()"
   ]
  },
  {
   "cell_type": "code",
   "execution_count": 29,
   "id": "edff73bb",
   "metadata": {
    "execution": {
     "iopub.execute_input": "2023-06-05T23:04:14.545204Z",
     "iopub.status.busy": "2023-06-05T23:04:14.544835Z",
     "iopub.status.idle": "2023-06-05T23:04:14.552687Z",
     "shell.execute_reply": "2023-06-05T23:04:14.551197Z"
    },
    "papermill": {
     "duration": 0.033358,
     "end_time": "2023-06-05T23:04:14.555653",
     "exception": false,
     "start_time": "2023-06-05T23:04:14.522295",
     "status": "completed"
    },
    "tags": []
   },
   "outputs": [],
   "source": [
    "# Spa column\n",
    "# Convert to type float since Spa represents currency\n",
    "train_data['Spa']=train_data['Spa'].astype('float')\n",
    "\n",
    "# fill null rows with median\n",
    "median_spa =train_data['Spa'].median()\n",
    "train_data['Spa'].fillna(median_spa,inplace=True)\n"
   ]
  },
  {
   "cell_type": "code",
   "execution_count": 30,
   "id": "a37bfc5c",
   "metadata": {
    "execution": {
     "iopub.execute_input": "2023-06-05T23:04:14.603136Z",
     "iopub.status.busy": "2023-06-05T23:04:14.601804Z",
     "iopub.status.idle": "2023-06-05T23:04:14.610319Z",
     "shell.execute_reply": "2023-06-05T23:04:14.608768Z"
    },
    "papermill": {
     "duration": 0.033749,
     "end_time": "2023-06-05T23:04:14.612803",
     "exception": false,
     "start_time": "2023-06-05T23:04:14.579054",
     "status": "completed"
    },
    "tags": []
   },
   "outputs": [
    {
     "data": {
      "text/plain": [
       "0"
      ]
     },
     "execution_count": 30,
     "metadata": {},
     "output_type": "execute_result"
    }
   ],
   "source": [
    "train_data['Spa'].isnull().sum()"
   ]
  },
  {
   "cell_type": "code",
   "execution_count": 31,
   "id": "35236aba",
   "metadata": {
    "execution": {
     "iopub.execute_input": "2023-06-05T23:04:14.659904Z",
     "iopub.status.busy": "2023-06-05T23:04:14.659079Z",
     "iopub.status.idle": "2023-06-05T23:04:14.664822Z",
     "shell.execute_reply": "2023-06-05T23:04:14.664170Z"
    },
    "papermill": {
     "duration": 0.031769,
     "end_time": "2023-06-05T23:04:14.666747",
     "exception": false,
     "start_time": "2023-06-05T23:04:14.634978",
     "status": "completed"
    },
    "tags": []
   },
   "outputs": [],
   "source": [
    "# Convert to type float since Spa represents currency\n",
    "test_data['Spa']=test_data['Spa'].astype('float')\n",
    "\n",
    "# fill null rows with median\n",
    "median_spa =train_data['Spa'].median()\n",
    "test_data['Spa'].fillna(median_spa,inplace=True)"
   ]
  },
  {
   "cell_type": "code",
   "execution_count": 32,
   "id": "3452f9a1",
   "metadata": {
    "execution": {
     "iopub.execute_input": "2023-06-05T23:04:14.710852Z",
     "iopub.status.busy": "2023-06-05T23:04:14.710339Z",
     "iopub.status.idle": "2023-06-05T23:04:14.716201Z",
     "shell.execute_reply": "2023-06-05T23:04:14.714924Z"
    },
    "papermill": {
     "duration": 0.030457,
     "end_time": "2023-06-05T23:04:14.718511",
     "exception": false,
     "start_time": "2023-06-05T23:04:14.688054",
     "status": "completed"
    },
    "tags": []
   },
   "outputs": [],
   "source": [
    "\n",
    "# RoomService column\n",
    "# Convert to type float since RoomService represents currency\n",
    "train_data['RoomService']=train_data['RoomService'].astype('float')\n",
    "\n",
    "# fill null rows with median\n",
    "median_roomservice =train_data['RoomService'].median()\n",
    "train_data['RoomService'].fillna(median_roomservice,inplace=True)"
   ]
  },
  {
   "cell_type": "code",
   "execution_count": 33,
   "id": "c63b6e14",
   "metadata": {
    "execution": {
     "iopub.execute_input": "2023-06-05T23:04:14.762989Z",
     "iopub.status.busy": "2023-06-05T23:04:14.762451Z",
     "iopub.status.idle": "2023-06-05T23:04:14.768770Z",
     "shell.execute_reply": "2023-06-05T23:04:14.767882Z"
    },
    "papermill": {
     "duration": 0.031266,
     "end_time": "2023-06-05T23:04:14.770947",
     "exception": false,
     "start_time": "2023-06-05T23:04:14.739681",
     "status": "completed"
    },
    "tags": []
   },
   "outputs": [],
   "source": [
    "# Convert to type float since RoomServicerepresents currency in test_data.csv\n",
    "test_data['RoomService']=test_data['RoomService'].astype('float')\n",
    "\n",
    "# fill null rows with median\n",
    "median_roomservice =train_data['RoomService'].median()\n",
    "test_data['RoomService'].fillna(median_roomservice,inplace=True)"
   ]
  },
  {
   "cell_type": "code",
   "execution_count": null,
   "id": "5a3c4a41",
   "metadata": {
    "papermill": {
     "duration": 0.020013,
     "end_time": "2023-06-05T23:04:14.811947",
     "exception": false,
     "start_time": "2023-06-05T23:04:14.791934",
     "status": "completed"
    },
    "tags": []
   },
   "outputs": [],
   "source": []
  },
  {
   "cell_type": "code",
   "execution_count": 34,
   "id": "43115edc",
   "metadata": {
    "execution": {
     "iopub.execute_input": "2023-06-05T23:04:14.856425Z",
     "iopub.status.busy": "2023-06-05T23:04:14.855822Z",
     "iopub.status.idle": "2023-06-05T23:04:14.862697Z",
     "shell.execute_reply": "2023-06-05T23:04:14.861513Z"
    },
    "papermill": {
     "duration": 0.031793,
     "end_time": "2023-06-05T23:04:14.865181",
     "exception": false,
     "start_time": "2023-06-05T23:04:14.833388",
     "status": "completed"
    },
    "tags": []
   },
   "outputs": [],
   "source": [
    "# VRDeck column\n",
    "# Convert to type float since VRDeck represents currency\n",
    "train_data['VRDeck']=train_data['VRDeck'].astype('float')\n",
    "\n",
    "# fill null rows with median\n",
    "median_vrdeck =train_data['VRDeck'].median()\n",
    "train_data['VRDeck'].fillna(median_vrdeck,inplace=True)"
   ]
  },
  {
   "cell_type": "code",
   "execution_count": 35,
   "id": "514ec606",
   "metadata": {
    "execution": {
     "iopub.execute_input": "2023-06-05T23:04:14.911893Z",
     "iopub.status.busy": "2023-06-05T23:04:14.910990Z",
     "iopub.status.idle": "2023-06-05T23:04:14.918105Z",
     "shell.execute_reply": "2023-06-05T23:04:14.916543Z"
    },
    "papermill": {
     "duration": 0.033365,
     "end_time": "2023-06-05T23:04:14.920657",
     "exception": false,
     "start_time": "2023-06-05T23:04:14.887292",
     "status": "completed"
    },
    "tags": []
   },
   "outputs": [],
   "source": [
    "# VRDeck column\n",
    "# Convert to type float since VRDeck represents currency:test_data.csv dataset\n",
    "test_data['VRDeck']=test_data['VRDeck'].astype('float')\n",
    "\n",
    "# fill null rows with median\n",
    "median_vrdeck =test_data['VRDeck'].median()\n",
    "test_data['VRDeck'].fillna(median_vrdeck,inplace=True)"
   ]
  },
  {
   "cell_type": "code",
   "execution_count": 36,
   "id": "a3fa79e0",
   "metadata": {
    "execution": {
     "iopub.execute_input": "2023-06-05T23:04:14.966016Z",
     "iopub.status.busy": "2023-06-05T23:04:14.965654Z",
     "iopub.status.idle": "2023-06-05T23:04:14.973385Z",
     "shell.execute_reply": "2023-06-05T23:04:14.971749Z"
    },
    "papermill": {
     "duration": 0.033747,
     "end_time": "2023-06-05T23:04:14.976222",
     "exception": false,
     "start_time": "2023-06-05T23:04:14.942475",
     "status": "completed"
    },
    "tags": []
   },
   "outputs": [],
   "source": [
    "# FoodCourt column\n",
    "# Convert to type float since FoodCourt represents currency\n",
    "train_data['FoodCourt']=train_data['FoodCourt'].astype('float')\n",
    "\n",
    "# fill null rows with median\n",
    "median_foodcourt =train_data['FoodCourt'].median()\n",
    "train_data['FoodCourt'].fillna(median_foodcourt,inplace=True)"
   ]
  },
  {
   "cell_type": "code",
   "execution_count": 37,
   "id": "9bcbf2cf",
   "metadata": {
    "execution": {
     "iopub.execute_input": "2023-06-05T23:04:15.021919Z",
     "iopub.status.busy": "2023-06-05T23:04:15.021507Z",
     "iopub.status.idle": "2023-06-05T23:04:15.028205Z",
     "shell.execute_reply": "2023-06-05T23:04:15.027285Z"
    },
    "papermill": {
     "duration": 0.032591,
     "end_time": "2023-06-05T23:04:15.030561",
     "exception": false,
     "start_time": "2023-06-05T23:04:14.997970",
     "status": "completed"
    },
    "tags": []
   },
   "outputs": [],
   "source": [
    "# FoodCourt column\n",
    "# Convert to type float since FoodCourt represents currency:test_data.csv\n",
    "test_data['FoodCourt']=test_data['FoodCourt'].astype('float')\n",
    "\n",
    "# fill null rows with median\n",
    "median_foodcourt =test_data['FoodCourt'].median()\n",
    "test_data['FoodCourt'].fillna(median_foodcourt,inplace=True)"
   ]
  },
  {
   "cell_type": "code",
   "execution_count": 38,
   "id": "e0bf8a38",
   "metadata": {
    "execution": {
     "iopub.execute_input": "2023-06-05T23:04:15.075131Z",
     "iopub.status.busy": "2023-06-05T23:04:15.074743Z",
     "iopub.status.idle": "2023-06-05T23:04:15.080871Z",
     "shell.execute_reply": "2023-06-05T23:04:15.079850Z"
    },
    "papermill": {
     "duration": 0.03144,
     "end_time": "2023-06-05T23:04:15.082775",
     "exception": false,
     "start_time": "2023-06-05T23:04:15.051335",
     "status": "completed"
    },
    "tags": []
   },
   "outputs": [],
   "source": [
    "# ShoppingMall column\n",
    "# Convert to type float since ShoppingMall represents currency\n",
    "train_data['ShoppingMall']=train_data['ShoppingMall'].astype('float')\n",
    "\n",
    "# fill null rows with median\n",
    "median_shoppingmall =train_data['ShoppingMall'].median()\n",
    "train_data['ShoppingMall'].fillna(median_shoppingmall,inplace=True)"
   ]
  },
  {
   "cell_type": "code",
   "execution_count": 39,
   "id": "d5496a61",
   "metadata": {
    "execution": {
     "iopub.execute_input": "2023-06-05T23:04:15.126894Z",
     "iopub.status.busy": "2023-06-05T23:04:15.125783Z",
     "iopub.status.idle": "2023-06-05T23:04:15.132200Z",
     "shell.execute_reply": "2023-06-05T23:04:15.131410Z"
    },
    "papermill": {
     "duration": 0.030362,
     "end_time": "2023-06-05T23:04:15.134053",
     "exception": false,
     "start_time": "2023-06-05T23:04:15.103691",
     "status": "completed"
    },
    "tags": []
   },
   "outputs": [],
   "source": [
    "# ShoppingMall column\n",
    "# Convert to type float since ShoppingMall represents currency:test_data.csv\n",
    "test_data['ShoppingMall']=test_data['ShoppingMall'].astype('float')\n",
    "\n",
    "# fill null rows with median\n",
    "median_shoppingmall =test_data['ShoppingMall'].median()\n",
    "test_data['ShoppingMall'].fillna(median_shoppingmall,inplace=True)"
   ]
  },
  {
   "cell_type": "code",
   "execution_count": 40,
   "id": "35ab15a5",
   "metadata": {
    "execution": {
     "iopub.execute_input": "2023-06-05T23:04:15.180715Z",
     "iopub.status.busy": "2023-06-05T23:04:15.179626Z",
     "iopub.status.idle": "2023-06-05T23:04:15.188927Z",
     "shell.execute_reply": "2023-06-05T23:04:15.187313Z"
    },
    "papermill": {
     "duration": 0.035545,
     "end_time": "2023-06-05T23:04:15.191212",
     "exception": false,
     "start_time": "2023-06-05T23:04:15.155667",
     "status": "completed"
    },
    "tags": []
   },
   "outputs": [
    {
     "data": {
      "text/plain": [
       "0"
      ]
     },
     "execution_count": 40,
     "metadata": {},
     "output_type": "execute_result"
    }
   ],
   "source": [
    "train_data['ShoppingMall'].isnull().sum()"
   ]
  },
  {
   "cell_type": "markdown",
   "id": "98f7bf30",
   "metadata": {
    "papermill": {
     "duration": 0.020706,
     "end_time": "2023-06-05T23:04:15.233965",
     "exception": false,
     "start_time": "2023-06-05T23:04:15.213259",
     "status": "completed"
    },
    "tags": []
   },
   "source": [
    "### Cabin Takes the form deck/num/side, where side can be either P for Port or S for Starboard."
   ]
  },
  {
   "cell_type": "code",
   "execution_count": 41,
   "id": "18cf4f4f",
   "metadata": {
    "execution": {
     "iopub.execute_input": "2023-06-05T23:04:15.278574Z",
     "iopub.status.busy": "2023-06-05T23:04:15.277957Z",
     "iopub.status.idle": "2023-06-05T23:04:15.284879Z",
     "shell.execute_reply": "2023-06-05T23:04:15.283579Z"
    },
    "papermill": {
     "duration": 0.031686,
     "end_time": "2023-06-05T23:04:15.286904",
     "exception": false,
     "start_time": "2023-06-05T23:04:15.255218",
     "status": "completed"
    },
    "tags": []
   },
   "outputs": [
    {
     "data": {
      "text/plain": [
       "199"
      ]
     },
     "execution_count": 41,
     "metadata": {},
     "output_type": "execute_result"
    }
   ],
   "source": [
    "\n",
    "# train_data.dropna(subset=['Cabin'],axis=0,inplace=True)\n",
    "train_data['Cabin'].isnull().sum()"
   ]
  },
  {
   "cell_type": "code",
   "execution_count": 42,
   "id": "4b948bcd",
   "metadata": {
    "execution": {
     "iopub.execute_input": "2023-06-05T23:04:15.330810Z",
     "iopub.status.busy": "2023-06-05T23:04:15.330475Z",
     "iopub.status.idle": "2023-06-05T23:04:15.349780Z",
     "shell.execute_reply": "2023-06-05T23:04:15.348929Z"
    },
    "papermill": {
     "duration": 0.043416,
     "end_time": "2023-06-05T23:04:15.351523",
     "exception": false,
     "start_time": "2023-06-05T23:04:15.308107",
     "status": "completed"
    },
    "tags": []
   },
   "outputs": [],
   "source": [
    "# Split the cabin to get the sides: P or S\n",
    "train_data[\"Cabin_side\"] = train_data.Cabin.str.split(\"/\", expand=True)[2]"
   ]
  },
  {
   "cell_type": "code",
   "execution_count": 43,
   "id": "60c365d0",
   "metadata": {
    "execution": {
     "iopub.execute_input": "2023-06-05T23:04:15.396961Z",
     "iopub.status.busy": "2023-06-05T23:04:15.396375Z",
     "iopub.status.idle": "2023-06-05T23:04:15.407214Z",
     "shell.execute_reply": "2023-06-05T23:04:15.406580Z"
    },
    "papermill": {
     "duration": 0.035741,
     "end_time": "2023-06-05T23:04:15.409195",
     "exception": false,
     "start_time": "2023-06-05T23:04:15.373454",
     "status": "completed"
    },
    "tags": []
   },
   "outputs": [],
   "source": [
    "# Sum of null values in Cabin row in test_csv\n",
    "# test_data['Cabin'].isnull().sum()\n",
    "# Split the cabin to get the sides: P or S\n",
    "test_data[\"Cabin_side\"] = test_data.Cabin.str.split(\"/\", expand=True)[2]\n"
   ]
  },
  {
   "cell_type": "code",
   "execution_count": 44,
   "id": "069588bc",
   "metadata": {
    "execution": {
     "iopub.execute_input": "2023-06-05T23:04:15.454022Z",
     "iopub.status.busy": "2023-06-05T23:04:15.453458Z",
     "iopub.status.idle": "2023-06-05T23:04:15.461433Z",
     "shell.execute_reply": "2023-06-05T23:04:15.460099Z"
    },
    "papermill": {
     "duration": 0.033231,
     "end_time": "2023-06-05T23:04:15.463698",
     "exception": false,
     "start_time": "2023-06-05T23:04:15.430467",
     "status": "completed"
    },
    "tags": []
   },
   "outputs": [
    {
     "data": {
      "text/plain": [
       "100"
      ]
     },
     "execution_count": 44,
     "metadata": {},
     "output_type": "execute_result"
    }
   ],
   "source": [
    "# Emppty \n",
    "test_data['Cabin_side'].isnull().sum()"
   ]
  },
  {
   "cell_type": "code",
   "execution_count": 45,
   "id": "aef155dc",
   "metadata": {
    "execution": {
     "iopub.execute_input": "2023-06-05T23:04:15.510029Z",
     "iopub.status.busy": "2023-06-05T23:04:15.509560Z",
     "iopub.status.idle": "2023-06-05T23:04:15.518849Z",
     "shell.execute_reply": "2023-06-05T23:04:15.516878Z"
    },
    "papermill": {
     "duration": 0.035119,
     "end_time": "2023-06-05T23:04:15.521559",
     "exception": false,
     "start_time": "2023-06-05T23:04:15.486440",
     "status": "completed"
    },
    "tags": []
   },
   "outputs": [
    {
     "data": {
      "text/plain": [
       "S    4288\n",
       "P    4206\n",
       "Name: Cabin_side, dtype: int64"
      ]
     },
     "execution_count": 45,
     "metadata": {},
     "output_type": "execute_result"
    }
   ],
   "source": [
    "# display the count of passengers in cabin sides S & P in train_data.csv\n",
    "train_data['Cabin_side'].value_counts()"
   ]
  },
  {
   "cell_type": "code",
   "execution_count": 46,
   "id": "1925c07c",
   "metadata": {
    "execution": {
     "iopub.execute_input": "2023-06-05T23:04:15.567210Z",
     "iopub.status.busy": "2023-06-05T23:04:15.566730Z",
     "iopub.status.idle": "2023-06-05T23:04:15.574161Z",
     "shell.execute_reply": "2023-06-05T23:04:15.572555Z"
    },
    "papermill": {
     "duration": 0.033248,
     "end_time": "2023-06-05T23:04:15.576784",
     "exception": false,
     "start_time": "2023-06-05T23:04:15.543536",
     "status": "completed"
    },
    "tags": []
   },
   "outputs": [],
   "source": [
    "# Convert Cabin side from object to string data type\n",
    "train_data['Cabin_side'] =train_data['Cabin_side'].astype('string')\n"
   ]
  },
  {
   "cell_type": "code",
   "execution_count": 47,
   "id": "293b05f2",
   "metadata": {
    "execution": {
     "iopub.execute_input": "2023-06-05T23:04:15.624819Z",
     "iopub.status.busy": "2023-06-05T23:04:15.624370Z",
     "iopub.status.idle": "2023-06-05T23:04:15.647749Z",
     "shell.execute_reply": "2023-06-05T23:04:15.645847Z"
    },
    "papermill": {
     "duration": 0.050137,
     "end_time": "2023-06-05T23:04:15.650170",
     "exception": false,
     "start_time": "2023-06-05T23:04:15.600033",
     "status": "completed"
    },
    "tags": []
   },
   "outputs": [
    {
     "name": "stdout",
     "output_type": "stream",
     "text": [
      "<class 'pandas.core.frame.DataFrame'>\n",
      "RangeIndex: 8693 entries, 0 to 8692\n",
      "Data columns (total 15 columns):\n",
      " #   Column        Non-Null Count  Dtype  \n",
      "---  ------        --------------  -----  \n",
      " 0   PassengerId   8693 non-null   object \n",
      " 1   HomePlanet    8693 non-null   object \n",
      " 2   CryoSleep     8693 non-null   bool   \n",
      " 3   Cabin         8494 non-null   object \n",
      " 4   Destination   8693 non-null   object \n",
      " 5   Age           8693 non-null   float64\n",
      " 6   VIP           8693 non-null   bool   \n",
      " 7   RoomService   8693 non-null   float64\n",
      " 8   FoodCourt     8693 non-null   float64\n",
      " 9   ShoppingMall  8693 non-null   float64\n",
      " 10  Spa           8693 non-null   float64\n",
      " 11  VRDeck        8693 non-null   float64\n",
      " 12  Name          8693 non-null   object \n",
      " 13  Transported   8693 non-null   bool   \n",
      " 14  Cabin_side    8494 non-null   string \n",
      "dtypes: bool(3), float64(6), object(5), string(1)\n",
      "memory usage: 840.6+ KB\n"
     ]
    }
   ],
   "source": [
    "train_data.info()"
   ]
  },
  {
   "cell_type": "code",
   "execution_count": 48,
   "id": "946089a4",
   "metadata": {
    "execution": {
     "iopub.execute_input": "2023-06-05T23:04:15.698481Z",
     "iopub.status.busy": "2023-06-05T23:04:15.698053Z",
     "iopub.status.idle": "2023-06-05T23:04:15.704652Z",
     "shell.execute_reply": "2023-06-05T23:04:15.703298Z"
    },
    "papermill": {
     "duration": 0.033938,
     "end_time": "2023-06-05T23:04:15.706945",
     "exception": false,
     "start_time": "2023-06-05T23:04:15.673007",
     "status": "completed"
    },
    "tags": []
   },
   "outputs": [],
   "source": [
    "test_data['Cabin_side'] =test_data['Cabin_side'].astype('string')"
   ]
  },
  {
   "cell_type": "code",
   "execution_count": 49,
   "id": "80aeddca",
   "metadata": {
    "execution": {
     "iopub.execute_input": "2023-06-05T23:04:15.755503Z",
     "iopub.status.busy": "2023-06-05T23:04:15.755066Z",
     "iopub.status.idle": "2023-06-05T23:04:15.762306Z",
     "shell.execute_reply": "2023-06-05T23:04:15.760439Z"
    },
    "papermill": {
     "duration": 0.034311,
     "end_time": "2023-06-05T23:04:15.764590",
     "exception": false,
     "start_time": "2023-06-05T23:04:15.730279",
     "status": "completed"
    },
    "tags": []
   },
   "outputs": [],
   "source": [
    "# replaced missing values with 'S' ,using central tendecy,Mode\n",
    "missing_values = 'S'\n",
    "train_data['Cabin_side'].replace(np.nan,missing_values,inplace=True)"
   ]
  },
  {
   "cell_type": "code",
   "execution_count": 50,
   "id": "ae7b40d7",
   "metadata": {
    "execution": {
     "iopub.execute_input": "2023-06-05T23:04:15.813837Z",
     "iopub.status.busy": "2023-06-05T23:04:15.813455Z",
     "iopub.status.idle": "2023-06-05T23:04:15.819063Z",
     "shell.execute_reply": "2023-06-05T23:04:15.817955Z"
    },
    "papermill": {
     "duration": 0.03261,
     "end_time": "2023-06-05T23:04:15.821569",
     "exception": false,
     "start_time": "2023-06-05T23:04:15.788959",
     "status": "completed"
    },
    "tags": []
   },
   "outputs": [],
   "source": [
    "missing_value = 'S'\n",
    "test_data['Cabin_side'].replace(np.nan,missing_value,inplace=True)"
   ]
  },
  {
   "cell_type": "code",
   "execution_count": 51,
   "id": "a84c1036",
   "metadata": {
    "execution": {
     "iopub.execute_input": "2023-06-05T23:04:15.867534Z",
     "iopub.status.busy": "2023-06-05T23:04:15.867110Z",
     "iopub.status.idle": "2023-06-05T23:04:15.887235Z",
     "shell.execute_reply": "2023-06-05T23:04:15.885306Z"
    },
    "papermill": {
     "duration": 0.046354,
     "end_time": "2023-06-05T23:04:15.889890",
     "exception": false,
     "start_time": "2023-06-05T23:04:15.843536",
     "status": "completed"
    },
    "tags": []
   },
   "outputs": [
    {
     "data": {
      "text/html": [
       "<div>\n",
       "<style scoped>\n",
       "    .dataframe tbody tr th:only-of-type {\n",
       "        vertical-align: middle;\n",
       "    }\n",
       "\n",
       "    .dataframe tbody tr th {\n",
       "        vertical-align: top;\n",
       "    }\n",
       "\n",
       "    .dataframe thead th {\n",
       "        text-align: right;\n",
       "    }\n",
       "</style>\n",
       "<table border=\"1\" class=\"dataframe\">\n",
       "  <thead>\n",
       "    <tr style=\"text-align: right;\">\n",
       "      <th></th>\n",
       "      <th>PassengerId</th>\n",
       "      <th>HomePlanet</th>\n",
       "      <th>CryoSleep</th>\n",
       "      <th>Cabin</th>\n",
       "      <th>Destination</th>\n",
       "      <th>Age</th>\n",
       "      <th>VIP</th>\n",
       "      <th>RoomService</th>\n",
       "      <th>FoodCourt</th>\n",
       "      <th>ShoppingMall</th>\n",
       "      <th>Spa</th>\n",
       "      <th>VRDeck</th>\n",
       "      <th>Name</th>\n",
       "      <th>Transported</th>\n",
       "      <th>Cabin_side</th>\n",
       "    </tr>\n",
       "  </thead>\n",
       "  <tbody>\n",
       "    <tr>\n",
       "      <th>0</th>\n",
       "      <td>0001_01</td>\n",
       "      <td>Europa</td>\n",
       "      <td>False</td>\n",
       "      <td>B/0/P</td>\n",
       "      <td>TRAPPIST-1e</td>\n",
       "      <td>39.0</td>\n",
       "      <td>False</td>\n",
       "      <td>0.0</td>\n",
       "      <td>0.0</td>\n",
       "      <td>0.0</td>\n",
       "      <td>0.0</td>\n",
       "      <td>0.0</td>\n",
       "      <td>Maham Ofracculy</td>\n",
       "      <td>False</td>\n",
       "      <td>P</td>\n",
       "    </tr>\n",
       "    <tr>\n",
       "      <th>1</th>\n",
       "      <td>0002_01</td>\n",
       "      <td>Earth</td>\n",
       "      <td>False</td>\n",
       "      <td>F/0/S</td>\n",
       "      <td>TRAPPIST-1e</td>\n",
       "      <td>24.0</td>\n",
       "      <td>False</td>\n",
       "      <td>109.0</td>\n",
       "      <td>9.0</td>\n",
       "      <td>25.0</td>\n",
       "      <td>549.0</td>\n",
       "      <td>44.0</td>\n",
       "      <td>Juanna Vines</td>\n",
       "      <td>True</td>\n",
       "      <td>S</td>\n",
       "    </tr>\n",
       "    <tr>\n",
       "      <th>2</th>\n",
       "      <td>0003_01</td>\n",
       "      <td>Europa</td>\n",
       "      <td>False</td>\n",
       "      <td>A/0/S</td>\n",
       "      <td>TRAPPIST-1e</td>\n",
       "      <td>58.0</td>\n",
       "      <td>True</td>\n",
       "      <td>43.0</td>\n",
       "      <td>3576.0</td>\n",
       "      <td>0.0</td>\n",
       "      <td>6715.0</td>\n",
       "      <td>49.0</td>\n",
       "      <td>Altark Susent</td>\n",
       "      <td>False</td>\n",
       "      <td>S</td>\n",
       "    </tr>\n",
       "    <tr>\n",
       "      <th>3</th>\n",
       "      <td>0003_02</td>\n",
       "      <td>Europa</td>\n",
       "      <td>False</td>\n",
       "      <td>A/0/S</td>\n",
       "      <td>TRAPPIST-1e</td>\n",
       "      <td>33.0</td>\n",
       "      <td>False</td>\n",
       "      <td>0.0</td>\n",
       "      <td>1283.0</td>\n",
       "      <td>371.0</td>\n",
       "      <td>3329.0</td>\n",
       "      <td>193.0</td>\n",
       "      <td>Solam Susent</td>\n",
       "      <td>False</td>\n",
       "      <td>S</td>\n",
       "    </tr>\n",
       "    <tr>\n",
       "      <th>4</th>\n",
       "      <td>0004_01</td>\n",
       "      <td>Earth</td>\n",
       "      <td>False</td>\n",
       "      <td>F/1/S</td>\n",
       "      <td>TRAPPIST-1e</td>\n",
       "      <td>16.0</td>\n",
       "      <td>False</td>\n",
       "      <td>303.0</td>\n",
       "      <td>70.0</td>\n",
       "      <td>151.0</td>\n",
       "      <td>565.0</td>\n",
       "      <td>2.0</td>\n",
       "      <td>Willy Santantines</td>\n",
       "      <td>True</td>\n",
       "      <td>S</td>\n",
       "    </tr>\n",
       "  </tbody>\n",
       "</table>\n",
       "</div>"
      ],
      "text/plain": [
       "  PassengerId HomePlanet  CryoSleep  Cabin  Destination   Age    VIP  \\\n",
       "0     0001_01     Europa      False  B/0/P  TRAPPIST-1e  39.0  False   \n",
       "1     0002_01      Earth      False  F/0/S  TRAPPIST-1e  24.0  False   \n",
       "2     0003_01     Europa      False  A/0/S  TRAPPIST-1e  58.0   True   \n",
       "3     0003_02     Europa      False  A/0/S  TRAPPIST-1e  33.0  False   \n",
       "4     0004_01      Earth      False  F/1/S  TRAPPIST-1e  16.0  False   \n",
       "\n",
       "   RoomService  FoodCourt  ShoppingMall     Spa  VRDeck               Name  \\\n",
       "0          0.0        0.0           0.0     0.0     0.0    Maham Ofracculy   \n",
       "1        109.0        9.0          25.0   549.0    44.0       Juanna Vines   \n",
       "2         43.0     3576.0           0.0  6715.0    49.0      Altark Susent   \n",
       "3          0.0     1283.0         371.0  3329.0   193.0       Solam Susent   \n",
       "4        303.0       70.0         151.0   565.0     2.0  Willy Santantines   \n",
       "\n",
       "   Transported Cabin_side  \n",
       "0        False          P  \n",
       "1         True          S  \n",
       "2        False          S  \n",
       "3        False          S  \n",
       "4         True          S  "
      ]
     },
     "execution_count": 51,
     "metadata": {},
     "output_type": "execute_result"
    }
   ],
   "source": [
    "# train_data.drop(train_data['Cabin'],axis=1,inplace=True)\n",
    "# Dropped the Cabin column from the dataset\n",
    "# train_data.drop(['Cabin'],axis=1 ,inplace=True)\n",
    "\n",
    "train_data.head()"
   ]
  },
  {
   "cell_type": "code",
   "execution_count": 52,
   "id": "19be645b",
   "metadata": {
    "execution": {
     "iopub.execute_input": "2023-06-05T23:04:15.937300Z",
     "iopub.status.busy": "2023-06-05T23:04:15.936869Z",
     "iopub.status.idle": "2023-06-05T23:04:15.947427Z",
     "shell.execute_reply": "2023-06-05T23:04:15.946479Z"
    },
    "papermill": {
     "duration": 0.03643,
     "end_time": "2023-06-05T23:04:15.949202",
     "exception": false,
     "start_time": "2023-06-05T23:04:15.912772",
     "status": "completed"
    },
    "tags": []
   },
   "outputs": [
    {
     "data": {
      "text/plain": [
       "S    2193\n",
       "P    2084\n",
       "Name: Cabin_side, dtype: Int64"
      ]
     },
     "execution_count": 52,
     "metadata": {},
     "output_type": "execute_result"
    }
   ],
   "source": [
    "test_data['Cabin_side'].value_counts()"
   ]
  },
  {
   "cell_type": "code",
   "execution_count": 53,
   "id": "b86868d2",
   "metadata": {
    "execution": {
     "iopub.execute_input": "2023-06-05T23:04:15.998070Z",
     "iopub.status.busy": "2023-06-05T23:04:15.996675Z",
     "iopub.status.idle": "2023-06-05T23:04:16.018478Z",
     "shell.execute_reply": "2023-06-05T23:04:16.016958Z"
    },
    "papermill": {
     "duration": 0.049363,
     "end_time": "2023-06-05T23:04:16.020646",
     "exception": false,
     "start_time": "2023-06-05T23:04:15.971283",
     "status": "completed"
    },
    "tags": []
   },
   "outputs": [
    {
     "data": {
      "text/html": [
       "<div>\n",
       "<style scoped>\n",
       "    .dataframe tbody tr th:only-of-type {\n",
       "        vertical-align: middle;\n",
       "    }\n",
       "\n",
       "    .dataframe tbody tr th {\n",
       "        vertical-align: top;\n",
       "    }\n",
       "\n",
       "    .dataframe thead th {\n",
       "        text-align: right;\n",
       "    }\n",
       "</style>\n",
       "<table border=\"1\" class=\"dataframe\">\n",
       "  <thead>\n",
       "    <tr style=\"text-align: right;\">\n",
       "      <th></th>\n",
       "      <th>PassengerId</th>\n",
       "      <th>HomePlanet</th>\n",
       "      <th>CryoSleep</th>\n",
       "      <th>Cabin</th>\n",
       "      <th>Destination</th>\n",
       "      <th>Age</th>\n",
       "      <th>VIP</th>\n",
       "      <th>RoomService</th>\n",
       "      <th>FoodCourt</th>\n",
       "      <th>ShoppingMall</th>\n",
       "      <th>Spa</th>\n",
       "      <th>VRDeck</th>\n",
       "      <th>Name</th>\n",
       "      <th>Cabin_side</th>\n",
       "    </tr>\n",
       "  </thead>\n",
       "  <tbody>\n",
       "    <tr>\n",
       "      <th>0</th>\n",
       "      <td>0013_01</td>\n",
       "      <td>Earth</td>\n",
       "      <td>True</td>\n",
       "      <td>G/3/S</td>\n",
       "      <td>TRAPPIST-1e</td>\n",
       "      <td>27.0</td>\n",
       "      <td>False</td>\n",
       "      <td>0.0</td>\n",
       "      <td>0.0</td>\n",
       "      <td>0.0</td>\n",
       "      <td>0.0</td>\n",
       "      <td>0.0</td>\n",
       "      <td>Nelly Carsoning</td>\n",
       "      <td>S</td>\n",
       "    </tr>\n",
       "    <tr>\n",
       "      <th>1</th>\n",
       "      <td>0018_01</td>\n",
       "      <td>Earth</td>\n",
       "      <td>False</td>\n",
       "      <td>F/4/S</td>\n",
       "      <td>TRAPPIST-1e</td>\n",
       "      <td>19.0</td>\n",
       "      <td>False</td>\n",
       "      <td>0.0</td>\n",
       "      <td>9.0</td>\n",
       "      <td>0.0</td>\n",
       "      <td>2823.0</td>\n",
       "      <td>0.0</td>\n",
       "      <td>Lerome Peckers</td>\n",
       "      <td>S</td>\n",
       "    </tr>\n",
       "    <tr>\n",
       "      <th>2</th>\n",
       "      <td>0019_01</td>\n",
       "      <td>Europa</td>\n",
       "      <td>True</td>\n",
       "      <td>C/0/S</td>\n",
       "      <td>55 Cancri e</td>\n",
       "      <td>31.0</td>\n",
       "      <td>False</td>\n",
       "      <td>0.0</td>\n",
       "      <td>0.0</td>\n",
       "      <td>0.0</td>\n",
       "      <td>0.0</td>\n",
       "      <td>0.0</td>\n",
       "      <td>Sabih Unhearfus</td>\n",
       "      <td>S</td>\n",
       "    </tr>\n",
       "    <tr>\n",
       "      <th>3</th>\n",
       "      <td>0021_01</td>\n",
       "      <td>Europa</td>\n",
       "      <td>False</td>\n",
       "      <td>C/1/S</td>\n",
       "      <td>TRAPPIST-1e</td>\n",
       "      <td>38.0</td>\n",
       "      <td>False</td>\n",
       "      <td>0.0</td>\n",
       "      <td>6652.0</td>\n",
       "      <td>0.0</td>\n",
       "      <td>181.0</td>\n",
       "      <td>585.0</td>\n",
       "      <td>Meratz Caltilter</td>\n",
       "      <td>S</td>\n",
       "    </tr>\n",
       "    <tr>\n",
       "      <th>4</th>\n",
       "      <td>0023_01</td>\n",
       "      <td>Earth</td>\n",
       "      <td>False</td>\n",
       "      <td>F/5/S</td>\n",
       "      <td>TRAPPIST-1e</td>\n",
       "      <td>20.0</td>\n",
       "      <td>False</td>\n",
       "      <td>10.0</td>\n",
       "      <td>0.0</td>\n",
       "      <td>635.0</td>\n",
       "      <td>0.0</td>\n",
       "      <td>0.0</td>\n",
       "      <td>Brence Harperez</td>\n",
       "      <td>S</td>\n",
       "    </tr>\n",
       "  </tbody>\n",
       "</table>\n",
       "</div>"
      ],
      "text/plain": [
       "  PassengerId HomePlanet CryoSleep  Cabin  Destination   Age    VIP  \\\n",
       "0     0013_01      Earth      True  G/3/S  TRAPPIST-1e  27.0  False   \n",
       "1     0018_01      Earth     False  F/4/S  TRAPPIST-1e  19.0  False   \n",
       "2     0019_01     Europa      True  C/0/S  55 Cancri e  31.0  False   \n",
       "3     0021_01     Europa     False  C/1/S  TRAPPIST-1e  38.0  False   \n",
       "4     0023_01      Earth     False  F/5/S  TRAPPIST-1e  20.0  False   \n",
       "\n",
       "   RoomService  FoodCourt  ShoppingMall     Spa  VRDeck              Name  \\\n",
       "0          0.0        0.0           0.0     0.0     0.0   Nelly Carsoning   \n",
       "1          0.0        9.0           0.0  2823.0     0.0    Lerome Peckers   \n",
       "2          0.0        0.0           0.0     0.0     0.0   Sabih Unhearfus   \n",
       "3          0.0     6652.0           0.0   181.0   585.0  Meratz Caltilter   \n",
       "4         10.0        0.0         635.0     0.0     0.0   Brence Harperez   \n",
       "\n",
       "  Cabin_side  \n",
       "0          S  \n",
       "1          S  \n",
       "2          S  \n",
       "3          S  \n",
       "4          S  "
      ]
     },
     "execution_count": 53,
     "metadata": {},
     "output_type": "execute_result"
    }
   ],
   "source": [
    "# test_data.drop(['Cabin'],axis=1 ,inplace=True)\n",
    "\n",
    "test_data.head()"
   ]
  },
  {
   "cell_type": "code",
   "execution_count": 54,
   "id": "292ee5b4",
   "metadata": {
    "execution": {
     "iopub.execute_input": "2023-06-05T23:04:16.067455Z",
     "iopub.status.busy": "2023-06-05T23:04:16.066400Z",
     "iopub.status.idle": "2023-06-05T23:04:16.080111Z",
     "shell.execute_reply": "2023-06-05T23:04:16.079058Z"
    },
    "papermill": {
     "duration": 0.039193,
     "end_time": "2023-06-05T23:04:16.082282",
     "exception": false,
     "start_time": "2023-06-05T23:04:16.043089",
     "status": "completed"
    },
    "tags": []
   },
   "outputs": [
    {
     "name": "stdout",
     "output_type": "stream",
     "text": [
      "<class 'pandas.core.frame.DataFrame'>\n",
      "RangeIndex: 4277 entries, 0 to 4276\n",
      "Data columns (total 14 columns):\n",
      " #   Column        Non-Null Count  Dtype  \n",
      "---  ------        --------------  -----  \n",
      " 0   PassengerId   4277 non-null   object \n",
      " 1   HomePlanet    4277 non-null   object \n",
      " 2   CryoSleep     4184 non-null   object \n",
      " 3   Cabin         4177 non-null   object \n",
      " 4   Destination   4277 non-null   object \n",
      " 5   Age           4277 non-null   float64\n",
      " 6   VIP           4184 non-null   object \n",
      " 7   RoomService   4277 non-null   float64\n",
      " 8   FoodCourt     4277 non-null   float64\n",
      " 9   ShoppingMall  4277 non-null   float64\n",
      " 10  Spa           4277 non-null   float64\n",
      " 11  VRDeck        4277 non-null   float64\n",
      " 12  Name          4277 non-null   object \n",
      " 13  Cabin_side    4277 non-null   string \n",
      "dtypes: float64(6), object(7), string(1)\n",
      "memory usage: 467.9+ KB\n"
     ]
    }
   ],
   "source": [
    "# Display more verbose information about the test_data .\n",
    "test_data.info()"
   ]
  },
  {
   "cell_type": "code",
   "execution_count": 55,
   "id": "b0ef2019",
   "metadata": {
    "execution": {
     "iopub.execute_input": "2023-06-05T23:04:16.129091Z",
     "iopub.status.busy": "2023-06-05T23:04:16.128484Z",
     "iopub.status.idle": "2023-06-05T23:04:16.134907Z",
     "shell.execute_reply": "2023-06-05T23:04:16.133800Z"
    },
    "papermill": {
     "duration": 0.033177,
     "end_time": "2023-06-05T23:04:16.137632",
     "exception": false,
     "start_time": "2023-06-05T23:04:16.104455",
     "status": "completed"
    },
    "tags": []
   },
   "outputs": [
    {
     "data": {
      "text/plain": [
       "(8693, 15)"
      ]
     },
     "execution_count": 55,
     "metadata": {},
     "output_type": "execute_result"
    }
   ],
   "source": [
    "train_data.shape\n"
   ]
  },
  {
   "cell_type": "code",
   "execution_count": 56,
   "id": "28b2606d",
   "metadata": {
    "execution": {
     "iopub.execute_input": "2023-06-05T23:04:16.187150Z",
     "iopub.status.busy": "2023-06-05T23:04:16.186529Z",
     "iopub.status.idle": "2023-06-05T23:04:16.194153Z",
     "shell.execute_reply": "2023-06-05T23:04:16.192540Z"
    },
    "papermill": {
     "duration": 0.036664,
     "end_time": "2023-06-05T23:04:16.197472",
     "exception": false,
     "start_time": "2023-06-05T23:04:16.160808",
     "status": "completed"
    },
    "tags": []
   },
   "outputs": [
    {
     "data": {
      "text/plain": [
       "False    8291\n",
       "True      402\n",
       "Name: VIP, dtype: int64"
      ]
     },
     "execution_count": 56,
     "metadata": {},
     "output_type": "execute_result"
    }
   ],
   "source": [
    "# find the number of people who paid for VIP :\n",
    "train_data['VIP'].value_counts()"
   ]
  },
  {
   "cell_type": "code",
   "execution_count": 57,
   "id": "48556bb3",
   "metadata": {
    "execution": {
     "iopub.execute_input": "2023-06-05T23:04:16.245687Z",
     "iopub.status.busy": "2023-06-05T23:04:16.245299Z",
     "iopub.status.idle": "2023-06-05T23:04:16.253660Z",
     "shell.execute_reply": "2023-06-05T23:04:16.252685Z"
    },
    "papermill": {
     "duration": 0.034427,
     "end_time": "2023-06-05T23:04:16.255997",
     "exception": false,
     "start_time": "2023-06-05T23:04:16.221570",
     "status": "completed"
    },
    "tags": []
   },
   "outputs": [
    {
     "data": {
      "text/plain": [
       "False    4110\n",
       "True       74\n",
       "Name: VIP, dtype: int64"
      ]
     },
     "execution_count": 57,
     "metadata": {},
     "output_type": "execute_result"
    }
   ],
   "source": [
    "test_data['VIP'].value_counts()"
   ]
  },
  {
   "cell_type": "code",
   "execution_count": 58,
   "id": "08e5c3c4",
   "metadata": {
    "execution": {
     "iopub.execute_input": "2023-06-05T23:04:16.305263Z",
     "iopub.status.busy": "2023-06-05T23:04:16.304711Z",
     "iopub.status.idle": "2023-06-05T23:04:16.311648Z",
     "shell.execute_reply": "2023-06-05T23:04:16.310255Z"
    },
    "papermill": {
     "duration": 0.035369,
     "end_time": "2023-06-05T23:04:16.314299",
     "exception": false,
     "start_time": "2023-06-05T23:04:16.278930",
     "status": "completed"
    },
    "tags": []
   },
   "outputs": [],
   "source": [
    "# replace null values with bool True\n",
    "test_data['VIP'].replace(np.nan,True,inplace=True)"
   ]
  },
  {
   "cell_type": "code",
   "execution_count": 59,
   "id": "6fbb183c",
   "metadata": {
    "execution": {
     "iopub.execute_input": "2023-06-05T23:04:16.361657Z",
     "iopub.status.busy": "2023-06-05T23:04:16.361074Z",
     "iopub.status.idle": "2023-06-05T23:04:16.368401Z",
     "shell.execute_reply": "2023-06-05T23:04:16.367664Z"
    },
    "papermill": {
     "duration": 0.033245,
     "end_time": "2023-06-05T23:04:16.370155",
     "exception": false,
     "start_time": "2023-06-05T23:04:16.336910",
     "status": "completed"
    },
    "tags": []
   },
   "outputs": [
    {
     "data": {
      "text/plain": [
       "False    2640\n",
       "True     1544\n",
       "Name: CryoSleep, dtype: int64"
      ]
     },
     "execution_count": 59,
     "metadata": {},
     "output_type": "execute_result"
    }
   ],
   "source": [
    "\n",
    "test_data['CryoSleep'].value_counts()"
   ]
  },
  {
   "cell_type": "code",
   "execution_count": 60,
   "id": "19e2b25a",
   "metadata": {
    "execution": {
     "iopub.execute_input": "2023-06-05T23:04:16.420713Z",
     "iopub.status.busy": "2023-06-05T23:04:16.419889Z",
     "iopub.status.idle": "2023-06-05T23:04:16.428380Z",
     "shell.execute_reply": "2023-06-05T23:04:16.426586Z"
    },
    "papermill": {
     "duration": 0.037368,
     "end_time": "2023-06-05T23:04:16.431094",
     "exception": false,
     "start_time": "2023-06-05T23:04:16.393726",
     "status": "completed"
    },
    "tags": []
   },
   "outputs": [
    {
     "data": {
      "text/plain": [
       "93"
      ]
     },
     "execution_count": 60,
     "metadata": {},
     "output_type": "execute_result"
    }
   ],
   "source": [
    "# Null values in CryoSleep column\n",
    "test_data['CryoSleep'].isnull().sum()"
   ]
  },
  {
   "cell_type": "code",
   "execution_count": 61,
   "id": "7624e50e",
   "metadata": {
    "execution": {
     "iopub.execute_input": "2023-06-05T23:04:16.481232Z",
     "iopub.status.busy": "2023-06-05T23:04:16.480885Z",
     "iopub.status.idle": "2023-06-05T23:04:16.489386Z",
     "shell.execute_reply": "2023-06-05T23:04:16.487267Z"
    },
    "papermill": {
     "duration": 0.037115,
     "end_time": "2023-06-05T23:04:16.492110",
     "exception": false,
     "start_time": "2023-06-05T23:04:16.454995",
     "status": "completed"
    },
    "tags": []
   },
   "outputs": [],
   "source": [
    "# replace the null values with bool False\n",
    "test_data['CryoSleep'].replace(np.nan,False,inplace=True)"
   ]
  },
  {
   "cell_type": "code",
   "execution_count": 62,
   "id": "f667d796",
   "metadata": {
    "execution": {
     "iopub.execute_input": "2023-06-05T23:04:16.543629Z",
     "iopub.status.busy": "2023-06-05T23:04:16.542066Z",
     "iopub.status.idle": "2023-06-05T23:04:16.556018Z",
     "shell.execute_reply": "2023-06-05T23:04:16.554885Z"
    },
    "papermill": {
     "duration": 0.041614,
     "end_time": "2023-06-05T23:04:16.557926",
     "exception": false,
     "start_time": "2023-06-05T23:04:16.516312",
     "status": "completed"
    },
    "tags": []
   },
   "outputs": [
    {
     "name": "stdout",
     "output_type": "stream",
     "text": [
      "<class 'pandas.core.frame.DataFrame'>\n",
      "RangeIndex: 4277 entries, 0 to 4276\n",
      "Data columns (total 14 columns):\n",
      " #   Column        Non-Null Count  Dtype  \n",
      "---  ------        --------------  -----  \n",
      " 0   PassengerId   4277 non-null   object \n",
      " 1   HomePlanet    4277 non-null   object \n",
      " 2   CryoSleep     4277 non-null   bool   \n",
      " 3   Cabin         4177 non-null   object \n",
      " 4   Destination   4277 non-null   object \n",
      " 5   Age           4277 non-null   float64\n",
      " 6   VIP           4277 non-null   bool   \n",
      " 7   RoomService   4277 non-null   float64\n",
      " 8   FoodCourt     4277 non-null   float64\n",
      " 9   ShoppingMall  4277 non-null   float64\n",
      " 10  Spa           4277 non-null   float64\n",
      " 11  VRDeck        4277 non-null   float64\n",
      " 12  Name          4277 non-null   object \n",
      " 13  Cabin_side    4277 non-null   string \n",
      "dtypes: bool(2), float64(6), object(5), string(1)\n",
      "memory usage: 409.4+ KB\n"
     ]
    }
   ],
   "source": [
    "test_data.info()"
   ]
  },
  {
   "cell_type": "code",
   "execution_count": 63,
   "id": "f1fb96d7",
   "metadata": {
    "execution": {
     "iopub.execute_input": "2023-06-05T23:04:16.608878Z",
     "iopub.status.busy": "2023-06-05T23:04:16.607692Z",
     "iopub.status.idle": "2023-06-05T23:04:16.613672Z",
     "shell.execute_reply": "2023-06-05T23:04:16.612669Z"
    },
    "papermill": {
     "duration": 0.034618,
     "end_time": "2023-06-05T23:04:16.616225",
     "exception": false,
     "start_time": "2023-06-05T23:04:16.581607",
     "status": "completed"
    },
    "tags": []
   },
   "outputs": [],
   "source": [
    "# test_data['HomePlanet'].value_counts()\n",
    "test_data['HomePlanet'].replace(np.nan,'Earth',inplace=True)"
   ]
  },
  {
   "cell_type": "code",
   "execution_count": 64,
   "id": "b33a2188",
   "metadata": {
    "execution": {
     "iopub.execute_input": "2023-06-05T23:04:16.667127Z",
     "iopub.status.busy": "2023-06-05T23:04:16.665682Z",
     "iopub.status.idle": "2023-06-05T23:04:17.907452Z",
     "shell.execute_reply": "2023-06-05T23:04:17.906362Z"
    },
    "papermill": {
     "duration": 1.269945,
     "end_time": "2023-06-05T23:04:17.910063",
     "exception": false,
     "start_time": "2023-06-05T23:04:16.640118",
     "status": "completed"
    },
    "tags": []
   },
   "outputs": [],
   "source": [
    "X = train_data.copy()\n",
    "y = X.pop('Transported')\n",
    "\n",
    "# Label Encoding\n",
    "for colname in X.select_dtypes(\"object\"):\n",
    "    X[colname], _ = X[colname].factorize()\n",
    "    \n",
    "discrete_features = X.dtypes == int\n",
    "\n",
    "\n",
    "from sklearn.feature_selection import mutual_info_regression\n",
    "\n",
    "def make_mi_scores(X, y, discrete_features):\n",
    "    mi_scores = mutual_info_regression(X, y, discrete_features=discrete_features)\n",
    "    mi_scores = pd.Series(mi_scores, name=\"MI Scores\", index=X.columns)\n",
    "    mi_scores = mi_scores.sort_values(ascending=False)\n",
    "    return mi_scores\n",
    "\n",
    "# mi_scores = make_mi_scores(X, y, discrete_features)\n",
    "# mi_scores[:3]  # show a few features with their MI scores"
   ]
  },
  {
   "cell_type": "code",
   "execution_count": 65,
   "id": "2c152532",
   "metadata": {
    "execution": {
     "iopub.execute_input": "2023-06-05T23:04:17.959746Z",
     "iopub.status.busy": "2023-06-05T23:04:17.958601Z",
     "iopub.status.idle": "2023-06-05T23:04:17.969363Z",
     "shell.execute_reply": "2023-06-05T23:04:17.967963Z"
    },
    "papermill": {
     "duration": 0.039158,
     "end_time": "2023-06-05T23:04:17.972116",
     "exception": false,
     "start_time": "2023-06-05T23:04:17.932958",
     "status": "completed"
    },
    "tags": []
   },
   "outputs": [
    {
     "data": {
      "text/plain": [
       "CryoSleep       0.451744\n",
       "Age            -0.074249\n",
       "VIP            -0.024602\n",
       "RoomService    -0.241124\n",
       "FoodCourt       0.045583\n",
       "ShoppingMall    0.009391\n",
       "Spa            -0.218545\n",
       "VRDeck         -0.204874\n",
       "Transported     1.000000\n",
       "Name: Transported, dtype: float64"
      ]
     },
     "execution_count": 65,
     "metadata": {},
     "output_type": "execute_result"
    }
   ],
   "source": [
    "train_data.corr()['Transported']"
   ]
  },
  {
   "cell_type": "code",
   "execution_count": 66,
   "id": "37e2a550",
   "metadata": {
    "execution": {
     "iopub.execute_input": "2023-06-05T23:04:18.020741Z",
     "iopub.status.busy": "2023-06-05T23:04:18.020291Z",
     "iopub.status.idle": "2023-06-05T23:04:18.033782Z",
     "shell.execute_reply": "2023-06-05T23:04:18.032169Z"
    },
    "papermill": {
     "duration": 0.04102,
     "end_time": "2023-06-05T23:04:18.036306",
     "exception": false,
     "start_time": "2023-06-05T23:04:17.995286",
     "status": "completed"
    },
    "tags": []
   },
   "outputs": [
    {
     "data": {
      "text/html": [
       "<div>\n",
       "<style scoped>\n",
       "    .dataframe tbody tr th:only-of-type {\n",
       "        vertical-align: middle;\n",
       "    }\n",
       "\n",
       "    .dataframe tbody tr th {\n",
       "        vertical-align: top;\n",
       "    }\n",
       "\n",
       "    .dataframe thead th {\n",
       "        text-align: right;\n",
       "    }\n",
       "</style>\n",
       "<table border=\"1\" class=\"dataframe\">\n",
       "  <thead>\n",
       "    <tr style=\"text-align: right;\">\n",
       "      <th></th>\n",
       "      <th>Transported</th>\n",
       "    </tr>\n",
       "  </thead>\n",
       "  <tbody>\n",
       "    <tr>\n",
       "      <th>Transported</th>\n",
       "      <td>1.0</td>\n",
       "    </tr>\n",
       "  </tbody>\n",
       "</table>\n",
       "</div>"
      ],
      "text/plain": [
       "             Transported\n",
       "Transported          1.0"
      ]
     },
     "execution_count": 66,
     "metadata": {},
     "output_type": "execute_result"
    }
   ],
   "source": [
    "train_data[['Cabin_side','Transported']].corr()"
   ]
  },
  {
   "cell_type": "code",
   "execution_count": 67,
   "id": "c7175e2a",
   "metadata": {
    "execution": {
     "iopub.execute_input": "2023-06-05T23:04:18.086078Z",
     "iopub.status.busy": "2023-06-05T23:04:18.085018Z",
     "iopub.status.idle": "2023-06-05T23:04:18.099008Z",
     "shell.execute_reply": "2023-06-05T23:04:18.098040Z"
    },
    "papermill": {
     "duration": 0.041052,
     "end_time": "2023-06-05T23:04:18.101602",
     "exception": false,
     "start_time": "2023-06-05T23:04:18.060550",
     "status": "completed"
    },
    "tags": []
   },
   "outputs": [
    {
     "data": {
      "text/html": [
       "<div>\n",
       "<style scoped>\n",
       "    .dataframe tbody tr th:only-of-type {\n",
       "        vertical-align: middle;\n",
       "    }\n",
       "\n",
       "    .dataframe tbody tr th {\n",
       "        vertical-align: top;\n",
       "    }\n",
       "\n",
       "    .dataframe thead th {\n",
       "        text-align: right;\n",
       "    }\n",
       "</style>\n",
       "<table border=\"1\" class=\"dataframe\">\n",
       "  <thead>\n",
       "    <tr style=\"text-align: right;\">\n",
       "      <th></th>\n",
       "      <th>Cabin_side_P</th>\n",
       "      <th>Cabin_side_S</th>\n",
       "    </tr>\n",
       "  </thead>\n",
       "  <tbody>\n",
       "    <tr>\n",
       "      <th>0</th>\n",
       "      <td>1</td>\n",
       "      <td>0</td>\n",
       "    </tr>\n",
       "    <tr>\n",
       "      <th>1</th>\n",
       "      <td>0</td>\n",
       "      <td>1</td>\n",
       "    </tr>\n",
       "    <tr>\n",
       "      <th>2</th>\n",
       "      <td>0</td>\n",
       "      <td>1</td>\n",
       "    </tr>\n",
       "    <tr>\n",
       "      <th>3</th>\n",
       "      <td>0</td>\n",
       "      <td>1</td>\n",
       "    </tr>\n",
       "    <tr>\n",
       "      <th>4</th>\n",
       "      <td>0</td>\n",
       "      <td>1</td>\n",
       "    </tr>\n",
       "  </tbody>\n",
       "</table>\n",
       "</div>"
      ],
      "text/plain": [
       "   Cabin_side_P  Cabin_side_S\n",
       "0             1             0\n",
       "1             0             1\n",
       "2             0             1\n",
       "3             0             1\n",
       "4             0             1"
      ]
     },
     "execution_count": 67,
     "metadata": {},
     "output_type": "execute_result"
    }
   ],
   "source": [
    "dummy_cabin = pd.get_dummies(train_data['Cabin_side'],prefix='Cabin_side')\n",
    "dummy_cabin.head()"
   ]
  },
  {
   "cell_type": "code",
   "execution_count": 68,
   "id": "6885597e",
   "metadata": {
    "execution": {
     "iopub.execute_input": "2023-06-05T23:04:18.150230Z",
     "iopub.status.busy": "2023-06-05T23:04:18.149261Z",
     "iopub.status.idle": "2023-06-05T23:04:18.157689Z",
     "shell.execute_reply": "2023-06-05T23:04:18.156181Z"
    },
    "papermill": {
     "duration": 0.035922,
     "end_time": "2023-06-05T23:04:18.160558",
     "exception": false,
     "start_time": "2023-06-05T23:04:18.124636",
     "status": "completed"
    },
    "tags": []
   },
   "outputs": [],
   "source": [
    "dummy_destination = pd.get_dummies(train_data['Destination'],prefix='destination')"
   ]
  },
  {
   "cell_type": "code",
   "execution_count": 69,
   "id": "c7f95bc4",
   "metadata": {
    "execution": {
     "iopub.execute_input": "2023-06-05T23:04:18.209698Z",
     "iopub.status.busy": "2023-06-05T23:04:18.209053Z",
     "iopub.status.idle": "2023-06-05T23:04:18.229913Z",
     "shell.execute_reply": "2023-06-05T23:04:18.228483Z"
    },
    "papermill": {
     "duration": 0.047912,
     "end_time": "2023-06-05T23:04:18.232496",
     "exception": false,
     "start_time": "2023-06-05T23:04:18.184584",
     "status": "completed"
    },
    "tags": []
   },
   "outputs": [
    {
     "data": {
      "text/html": [
       "<div>\n",
       "<style scoped>\n",
       "    .dataframe tbody tr th:only-of-type {\n",
       "        vertical-align: middle;\n",
       "    }\n",
       "\n",
       "    .dataframe tbody tr th {\n",
       "        vertical-align: top;\n",
       "    }\n",
       "\n",
       "    .dataframe thead th {\n",
       "        text-align: right;\n",
       "    }\n",
       "</style>\n",
       "<table border=\"1\" class=\"dataframe\">\n",
       "  <thead>\n",
       "    <tr style=\"text-align: right;\">\n",
       "      <th></th>\n",
       "      <th>PassengerId</th>\n",
       "      <th>HomePlanet</th>\n",
       "      <th>CryoSleep</th>\n",
       "      <th>Cabin</th>\n",
       "      <th>Destination</th>\n",
       "      <th>Age</th>\n",
       "      <th>VIP</th>\n",
       "      <th>RoomService</th>\n",
       "      <th>FoodCourt</th>\n",
       "      <th>ShoppingMall</th>\n",
       "      <th>Spa</th>\n",
       "      <th>VRDeck</th>\n",
       "      <th>Name</th>\n",
       "      <th>Transported</th>\n",
       "      <th>Cabin_side</th>\n",
       "    </tr>\n",
       "  </thead>\n",
       "  <tbody>\n",
       "    <tr>\n",
       "      <th>0</th>\n",
       "      <td>0001_01</td>\n",
       "      <td>Europa</td>\n",
       "      <td>False</td>\n",
       "      <td>B/0/P</td>\n",
       "      <td>TRAPPIST-1e</td>\n",
       "      <td>39.0</td>\n",
       "      <td>False</td>\n",
       "      <td>0.0</td>\n",
       "      <td>0.0</td>\n",
       "      <td>0.0</td>\n",
       "      <td>0.0</td>\n",
       "      <td>0.0</td>\n",
       "      <td>Maham Ofracculy</td>\n",
       "      <td>False</td>\n",
       "      <td>P</td>\n",
       "    </tr>\n",
       "    <tr>\n",
       "      <th>1</th>\n",
       "      <td>0002_01</td>\n",
       "      <td>Earth</td>\n",
       "      <td>False</td>\n",
       "      <td>F/0/S</td>\n",
       "      <td>TRAPPIST-1e</td>\n",
       "      <td>24.0</td>\n",
       "      <td>False</td>\n",
       "      <td>109.0</td>\n",
       "      <td>9.0</td>\n",
       "      <td>25.0</td>\n",
       "      <td>549.0</td>\n",
       "      <td>44.0</td>\n",
       "      <td>Juanna Vines</td>\n",
       "      <td>True</td>\n",
       "      <td>S</td>\n",
       "    </tr>\n",
       "    <tr>\n",
       "      <th>2</th>\n",
       "      <td>0003_01</td>\n",
       "      <td>Europa</td>\n",
       "      <td>False</td>\n",
       "      <td>A/0/S</td>\n",
       "      <td>TRAPPIST-1e</td>\n",
       "      <td>58.0</td>\n",
       "      <td>True</td>\n",
       "      <td>43.0</td>\n",
       "      <td>3576.0</td>\n",
       "      <td>0.0</td>\n",
       "      <td>6715.0</td>\n",
       "      <td>49.0</td>\n",
       "      <td>Altark Susent</td>\n",
       "      <td>False</td>\n",
       "      <td>S</td>\n",
       "    </tr>\n",
       "    <tr>\n",
       "      <th>3</th>\n",
       "      <td>0003_02</td>\n",
       "      <td>Europa</td>\n",
       "      <td>False</td>\n",
       "      <td>A/0/S</td>\n",
       "      <td>TRAPPIST-1e</td>\n",
       "      <td>33.0</td>\n",
       "      <td>False</td>\n",
       "      <td>0.0</td>\n",
       "      <td>1283.0</td>\n",
       "      <td>371.0</td>\n",
       "      <td>3329.0</td>\n",
       "      <td>193.0</td>\n",
       "      <td>Solam Susent</td>\n",
       "      <td>False</td>\n",
       "      <td>S</td>\n",
       "    </tr>\n",
       "    <tr>\n",
       "      <th>4</th>\n",
       "      <td>0004_01</td>\n",
       "      <td>Earth</td>\n",
       "      <td>False</td>\n",
       "      <td>F/1/S</td>\n",
       "      <td>TRAPPIST-1e</td>\n",
       "      <td>16.0</td>\n",
       "      <td>False</td>\n",
       "      <td>303.0</td>\n",
       "      <td>70.0</td>\n",
       "      <td>151.0</td>\n",
       "      <td>565.0</td>\n",
       "      <td>2.0</td>\n",
       "      <td>Willy Santantines</td>\n",
       "      <td>True</td>\n",
       "      <td>S</td>\n",
       "    </tr>\n",
       "  </tbody>\n",
       "</table>\n",
       "</div>"
      ],
      "text/plain": [
       "  PassengerId HomePlanet  CryoSleep  Cabin  Destination   Age    VIP  \\\n",
       "0     0001_01     Europa      False  B/0/P  TRAPPIST-1e  39.0  False   \n",
       "1     0002_01      Earth      False  F/0/S  TRAPPIST-1e  24.0  False   \n",
       "2     0003_01     Europa      False  A/0/S  TRAPPIST-1e  58.0   True   \n",
       "3     0003_02     Europa      False  A/0/S  TRAPPIST-1e  33.0  False   \n",
       "4     0004_01      Earth      False  F/1/S  TRAPPIST-1e  16.0  False   \n",
       "\n",
       "   RoomService  FoodCourt  ShoppingMall     Spa  VRDeck               Name  \\\n",
       "0          0.0        0.0           0.0     0.0     0.0    Maham Ofracculy   \n",
       "1        109.0        9.0          25.0   549.0    44.0       Juanna Vines   \n",
       "2         43.0     3576.0           0.0  6715.0    49.0      Altark Susent   \n",
       "3          0.0     1283.0         371.0  3329.0   193.0       Solam Susent   \n",
       "4        303.0       70.0         151.0   565.0     2.0  Willy Santantines   \n",
       "\n",
       "   Transported Cabin_side  \n",
       "0        False          P  \n",
       "1         True          S  \n",
       "2        False          S  \n",
       "3        False          S  \n",
       "4         True          S  "
      ]
     },
     "execution_count": 69,
     "metadata": {},
     "output_type": "execute_result"
    }
   ],
   "source": [
    "train_data.head()"
   ]
  },
  {
   "cell_type": "code",
   "execution_count": 70,
   "id": "9ba726f4",
   "metadata": {
    "execution": {
     "iopub.execute_input": "2023-06-05T23:04:18.281997Z",
     "iopub.status.busy": "2023-06-05T23:04:18.281638Z",
     "iopub.status.idle": "2023-06-05T23:04:18.293266Z",
     "shell.execute_reply": "2023-06-05T23:04:18.291810Z"
    },
    "papermill": {
     "duration": 0.039311,
     "end_time": "2023-06-05T23:04:18.295978",
     "exception": false,
     "start_time": "2023-06-05T23:04:18.256667",
     "status": "completed"
    },
    "tags": []
   },
   "outputs": [
    {
     "data": {
      "text/plain": [
       "CryoSleep\n",
       "False    5439\n",
       "True     3254\n",
       "Name: Transported, dtype: int64"
      ]
     },
     "execution_count": 70,
     "metadata": {},
     "output_type": "execute_result"
    }
   ],
   "source": [
    "df_Cryosleep = train_data.groupby(['CryoSleep'])['Transported'].count()\n",
    "df_Cryosleep.head()"
   ]
  },
  {
   "cell_type": "code",
   "execution_count": 71,
   "id": "15bcfdb7",
   "metadata": {
    "execution": {
     "iopub.execute_input": "2023-06-05T23:04:18.345540Z",
     "iopub.status.busy": "2023-06-05T23:04:18.345142Z",
     "iopub.status.idle": "2023-06-05T23:04:18.355438Z",
     "shell.execute_reply": "2023-06-05T23:04:18.354429Z"
    },
    "papermill": {
     "duration": 0.03836,
     "end_time": "2023-06-05T23:04:18.357895",
     "exception": false,
     "start_time": "2023-06-05T23:04:18.319535",
     "status": "completed"
    },
    "tags": []
   },
   "outputs": [
    {
     "data": {
      "text/plain": [
       "Transported     1.000000\n",
       "CryoSleep       0.451744\n",
       "FoodCourt       0.045583\n",
       "ShoppingMall    0.009391\n",
       "VIP            -0.024602\n",
       "Age            -0.074249\n",
       "VRDeck         -0.204874\n",
       "Spa            -0.218545\n",
       "RoomService    -0.241124\n",
       "Name: Transported, dtype: float64"
      ]
     },
     "execution_count": 71,
     "metadata": {},
     "output_type": "execute_result"
    }
   ],
   "source": [
    "train_data.corr()['Transported'].sort_values(ascending=False)"
   ]
  },
  {
   "cell_type": "code",
   "execution_count": 72,
   "id": "c03e71f1",
   "metadata": {
    "execution": {
     "iopub.execute_input": "2023-06-05T23:04:18.409431Z",
     "iopub.status.busy": "2023-06-05T23:04:18.408993Z",
     "iopub.status.idle": "2023-06-05T23:04:18.429154Z",
     "shell.execute_reply": "2023-06-05T23:04:18.428224Z"
    },
    "papermill": {
     "duration": 0.048246,
     "end_time": "2023-06-05T23:04:18.430987",
     "exception": false,
     "start_time": "2023-06-05T23:04:18.382741",
     "status": "completed"
    },
    "tags": []
   },
   "outputs": [
    {
     "data": {
      "text/html": [
       "<div>\n",
       "<style scoped>\n",
       "    .dataframe tbody tr th:only-of-type {\n",
       "        vertical-align: middle;\n",
       "    }\n",
       "\n",
       "    .dataframe tbody tr th {\n",
       "        vertical-align: top;\n",
       "    }\n",
       "\n",
       "    .dataframe thead th {\n",
       "        text-align: right;\n",
       "    }\n",
       "</style>\n",
       "<table border=\"1\" class=\"dataframe\">\n",
       "  <thead>\n",
       "    <tr style=\"text-align: right;\">\n",
       "      <th></th>\n",
       "      <th>PassengerId</th>\n",
       "      <th>HomePlanet</th>\n",
       "      <th>CryoSleep</th>\n",
       "      <th>Cabin</th>\n",
       "      <th>Destination</th>\n",
       "      <th>Age</th>\n",
       "      <th>VIP</th>\n",
       "      <th>RoomService</th>\n",
       "      <th>FoodCourt</th>\n",
       "      <th>ShoppingMall</th>\n",
       "      <th>Spa</th>\n",
       "      <th>VRDeck</th>\n",
       "      <th>Name</th>\n",
       "      <th>Transported</th>\n",
       "      <th>Cabin_side</th>\n",
       "    </tr>\n",
       "  </thead>\n",
       "  <tbody>\n",
       "    <tr>\n",
       "      <th>0</th>\n",
       "      <td>0001_01</td>\n",
       "      <td>Europa</td>\n",
       "      <td>False</td>\n",
       "      <td>B/0/P</td>\n",
       "      <td>TRAPPIST-1e</td>\n",
       "      <td>39.0</td>\n",
       "      <td>False</td>\n",
       "      <td>0.0</td>\n",
       "      <td>0.0</td>\n",
       "      <td>0.0</td>\n",
       "      <td>0.0</td>\n",
       "      <td>0.0</td>\n",
       "      <td>Maham Ofracculy</td>\n",
       "      <td>False</td>\n",
       "      <td>P</td>\n",
       "    </tr>\n",
       "    <tr>\n",
       "      <th>1</th>\n",
       "      <td>0002_01</td>\n",
       "      <td>Earth</td>\n",
       "      <td>False</td>\n",
       "      <td>F/0/S</td>\n",
       "      <td>TRAPPIST-1e</td>\n",
       "      <td>24.0</td>\n",
       "      <td>False</td>\n",
       "      <td>109.0</td>\n",
       "      <td>9.0</td>\n",
       "      <td>25.0</td>\n",
       "      <td>549.0</td>\n",
       "      <td>44.0</td>\n",
       "      <td>Juanna Vines</td>\n",
       "      <td>True</td>\n",
       "      <td>S</td>\n",
       "    </tr>\n",
       "    <tr>\n",
       "      <th>2</th>\n",
       "      <td>0003_01</td>\n",
       "      <td>Europa</td>\n",
       "      <td>False</td>\n",
       "      <td>A/0/S</td>\n",
       "      <td>TRAPPIST-1e</td>\n",
       "      <td>58.0</td>\n",
       "      <td>True</td>\n",
       "      <td>43.0</td>\n",
       "      <td>3576.0</td>\n",
       "      <td>0.0</td>\n",
       "      <td>6715.0</td>\n",
       "      <td>49.0</td>\n",
       "      <td>Altark Susent</td>\n",
       "      <td>False</td>\n",
       "      <td>S</td>\n",
       "    </tr>\n",
       "    <tr>\n",
       "      <th>3</th>\n",
       "      <td>0003_02</td>\n",
       "      <td>Europa</td>\n",
       "      <td>False</td>\n",
       "      <td>A/0/S</td>\n",
       "      <td>TRAPPIST-1e</td>\n",
       "      <td>33.0</td>\n",
       "      <td>False</td>\n",
       "      <td>0.0</td>\n",
       "      <td>1283.0</td>\n",
       "      <td>371.0</td>\n",
       "      <td>3329.0</td>\n",
       "      <td>193.0</td>\n",
       "      <td>Solam Susent</td>\n",
       "      <td>False</td>\n",
       "      <td>S</td>\n",
       "    </tr>\n",
       "    <tr>\n",
       "      <th>4</th>\n",
       "      <td>0004_01</td>\n",
       "      <td>Earth</td>\n",
       "      <td>False</td>\n",
       "      <td>F/1/S</td>\n",
       "      <td>TRAPPIST-1e</td>\n",
       "      <td>16.0</td>\n",
       "      <td>False</td>\n",
       "      <td>303.0</td>\n",
       "      <td>70.0</td>\n",
       "      <td>151.0</td>\n",
       "      <td>565.0</td>\n",
       "      <td>2.0</td>\n",
       "      <td>Willy Santantines</td>\n",
       "      <td>True</td>\n",
       "      <td>S</td>\n",
       "    </tr>\n",
       "  </tbody>\n",
       "</table>\n",
       "</div>"
      ],
      "text/plain": [
       "  PassengerId HomePlanet  CryoSleep  Cabin  Destination   Age    VIP  \\\n",
       "0     0001_01     Europa      False  B/0/P  TRAPPIST-1e  39.0  False   \n",
       "1     0002_01      Earth      False  F/0/S  TRAPPIST-1e  24.0  False   \n",
       "2     0003_01     Europa      False  A/0/S  TRAPPIST-1e  58.0   True   \n",
       "3     0003_02     Europa      False  A/0/S  TRAPPIST-1e  33.0  False   \n",
       "4     0004_01      Earth      False  F/1/S  TRAPPIST-1e  16.0  False   \n",
       "\n",
       "   RoomService  FoodCourt  ShoppingMall     Spa  VRDeck               Name  \\\n",
       "0          0.0        0.0           0.0     0.0     0.0    Maham Ofracculy   \n",
       "1        109.0        9.0          25.0   549.0    44.0       Juanna Vines   \n",
       "2         43.0     3576.0           0.0  6715.0    49.0      Altark Susent   \n",
       "3          0.0     1283.0         371.0  3329.0   193.0       Solam Susent   \n",
       "4        303.0       70.0         151.0   565.0     2.0  Willy Santantines   \n",
       "\n",
       "   Transported Cabin_side  \n",
       "0        False          P  \n",
       "1         True          S  \n",
       "2        False          S  \n",
       "3        False          S  \n",
       "4         True          S  "
      ]
     },
     "execution_count": 72,
     "metadata": {},
     "output_type": "execute_result"
    }
   ],
   "source": [
    "train_data.head()"
   ]
  },
  {
   "cell_type": "code",
   "execution_count": 73,
   "id": "ab219c32",
   "metadata": {
    "execution": {
     "iopub.execute_input": "2023-06-05T23:04:18.480501Z",
     "iopub.status.busy": "2023-06-05T23:04:18.480131Z",
     "iopub.status.idle": "2023-06-05T23:04:18.491224Z",
     "shell.execute_reply": "2023-06-05T23:04:18.489775Z"
    },
    "papermill": {
     "duration": 0.039025,
     "end_time": "2023-06-05T23:04:18.493914",
     "exception": false,
     "start_time": "2023-06-05T23:04:18.454889",
     "status": "completed"
    },
    "tags": []
   },
   "outputs": [],
   "source": [
    "#Drop column Destination Column\n",
    "train_data = pd.concat([train_data,dummy_destination],axis=1)\n",
    "# train_data.drop(\"Destination\",axis=1,inplace=True)"
   ]
  },
  {
   "cell_type": "code",
   "execution_count": 74,
   "id": "93819ff1",
   "metadata": {
    "execution": {
     "iopub.execute_input": "2023-06-05T23:04:18.542857Z",
     "iopub.status.busy": "2023-06-05T23:04:18.542465Z",
     "iopub.status.idle": "2023-06-05T23:04:18.566187Z",
     "shell.execute_reply": "2023-06-05T23:04:18.565173Z"
    },
    "papermill": {
     "duration": 0.05068,
     "end_time": "2023-06-05T23:04:18.568556",
     "exception": false,
     "start_time": "2023-06-05T23:04:18.517876",
     "status": "completed"
    },
    "tags": []
   },
   "outputs": [
    {
     "data": {
      "text/html": [
       "<div>\n",
       "<style scoped>\n",
       "    .dataframe tbody tr th:only-of-type {\n",
       "        vertical-align: middle;\n",
       "    }\n",
       "\n",
       "    .dataframe tbody tr th {\n",
       "        vertical-align: top;\n",
       "    }\n",
       "\n",
       "    .dataframe thead th {\n",
       "        text-align: right;\n",
       "    }\n",
       "</style>\n",
       "<table border=\"1\" class=\"dataframe\">\n",
       "  <thead>\n",
       "    <tr style=\"text-align: right;\">\n",
       "      <th></th>\n",
       "      <th>PassengerId</th>\n",
       "      <th>HomePlanet</th>\n",
       "      <th>CryoSleep</th>\n",
       "      <th>Cabin</th>\n",
       "      <th>Destination</th>\n",
       "      <th>Age</th>\n",
       "      <th>VIP</th>\n",
       "      <th>RoomService</th>\n",
       "      <th>FoodCourt</th>\n",
       "      <th>ShoppingMall</th>\n",
       "      <th>Spa</th>\n",
       "      <th>VRDeck</th>\n",
       "      <th>Name</th>\n",
       "      <th>Transported</th>\n",
       "      <th>Cabin_side</th>\n",
       "      <th>destination_55 Cancri e</th>\n",
       "      <th>destination_PSO J318.5-22</th>\n",
       "      <th>destination_TRAPPIST-1e</th>\n",
       "    </tr>\n",
       "  </thead>\n",
       "  <tbody>\n",
       "    <tr>\n",
       "      <th>0</th>\n",
       "      <td>0001_01</td>\n",
       "      <td>Europa</td>\n",
       "      <td>False</td>\n",
       "      <td>B/0/P</td>\n",
       "      <td>TRAPPIST-1e</td>\n",
       "      <td>39.0</td>\n",
       "      <td>False</td>\n",
       "      <td>0.0</td>\n",
       "      <td>0.0</td>\n",
       "      <td>0.0</td>\n",
       "      <td>0.0</td>\n",
       "      <td>0.0</td>\n",
       "      <td>Maham Ofracculy</td>\n",
       "      <td>False</td>\n",
       "      <td>P</td>\n",
       "      <td>0</td>\n",
       "      <td>0</td>\n",
       "      <td>1</td>\n",
       "    </tr>\n",
       "    <tr>\n",
       "      <th>1</th>\n",
       "      <td>0002_01</td>\n",
       "      <td>Earth</td>\n",
       "      <td>False</td>\n",
       "      <td>F/0/S</td>\n",
       "      <td>TRAPPIST-1e</td>\n",
       "      <td>24.0</td>\n",
       "      <td>False</td>\n",
       "      <td>109.0</td>\n",
       "      <td>9.0</td>\n",
       "      <td>25.0</td>\n",
       "      <td>549.0</td>\n",
       "      <td>44.0</td>\n",
       "      <td>Juanna Vines</td>\n",
       "      <td>True</td>\n",
       "      <td>S</td>\n",
       "      <td>0</td>\n",
       "      <td>0</td>\n",
       "      <td>1</td>\n",
       "    </tr>\n",
       "    <tr>\n",
       "      <th>2</th>\n",
       "      <td>0003_01</td>\n",
       "      <td>Europa</td>\n",
       "      <td>False</td>\n",
       "      <td>A/0/S</td>\n",
       "      <td>TRAPPIST-1e</td>\n",
       "      <td>58.0</td>\n",
       "      <td>True</td>\n",
       "      <td>43.0</td>\n",
       "      <td>3576.0</td>\n",
       "      <td>0.0</td>\n",
       "      <td>6715.0</td>\n",
       "      <td>49.0</td>\n",
       "      <td>Altark Susent</td>\n",
       "      <td>False</td>\n",
       "      <td>S</td>\n",
       "      <td>0</td>\n",
       "      <td>0</td>\n",
       "      <td>1</td>\n",
       "    </tr>\n",
       "    <tr>\n",
       "      <th>3</th>\n",
       "      <td>0003_02</td>\n",
       "      <td>Europa</td>\n",
       "      <td>False</td>\n",
       "      <td>A/0/S</td>\n",
       "      <td>TRAPPIST-1e</td>\n",
       "      <td>33.0</td>\n",
       "      <td>False</td>\n",
       "      <td>0.0</td>\n",
       "      <td>1283.0</td>\n",
       "      <td>371.0</td>\n",
       "      <td>3329.0</td>\n",
       "      <td>193.0</td>\n",
       "      <td>Solam Susent</td>\n",
       "      <td>False</td>\n",
       "      <td>S</td>\n",
       "      <td>0</td>\n",
       "      <td>0</td>\n",
       "      <td>1</td>\n",
       "    </tr>\n",
       "    <tr>\n",
       "      <th>4</th>\n",
       "      <td>0004_01</td>\n",
       "      <td>Earth</td>\n",
       "      <td>False</td>\n",
       "      <td>F/1/S</td>\n",
       "      <td>TRAPPIST-1e</td>\n",
       "      <td>16.0</td>\n",
       "      <td>False</td>\n",
       "      <td>303.0</td>\n",
       "      <td>70.0</td>\n",
       "      <td>151.0</td>\n",
       "      <td>565.0</td>\n",
       "      <td>2.0</td>\n",
       "      <td>Willy Santantines</td>\n",
       "      <td>True</td>\n",
       "      <td>S</td>\n",
       "      <td>0</td>\n",
       "      <td>0</td>\n",
       "      <td>1</td>\n",
       "    </tr>\n",
       "  </tbody>\n",
       "</table>\n",
       "</div>"
      ],
      "text/plain": [
       "  PassengerId HomePlanet  CryoSleep  Cabin  Destination   Age    VIP  \\\n",
       "0     0001_01     Europa      False  B/0/P  TRAPPIST-1e  39.0  False   \n",
       "1     0002_01      Earth      False  F/0/S  TRAPPIST-1e  24.0  False   \n",
       "2     0003_01     Europa      False  A/0/S  TRAPPIST-1e  58.0   True   \n",
       "3     0003_02     Europa      False  A/0/S  TRAPPIST-1e  33.0  False   \n",
       "4     0004_01      Earth      False  F/1/S  TRAPPIST-1e  16.0  False   \n",
       "\n",
       "   RoomService  FoodCourt  ShoppingMall     Spa  VRDeck               Name  \\\n",
       "0          0.0        0.0           0.0     0.0     0.0    Maham Ofracculy   \n",
       "1        109.0        9.0          25.0   549.0    44.0       Juanna Vines   \n",
       "2         43.0     3576.0           0.0  6715.0    49.0      Altark Susent   \n",
       "3          0.0     1283.0         371.0  3329.0   193.0       Solam Susent   \n",
       "4        303.0       70.0         151.0   565.0     2.0  Willy Santantines   \n",
       "\n",
       "   Transported Cabin_side  destination_55 Cancri e  destination_PSO J318.5-22  \\\n",
       "0        False          P                        0                          0   \n",
       "1         True          S                        0                          0   \n",
       "2        False          S                        0                          0   \n",
       "3        False          S                        0                          0   \n",
       "4         True          S                        0                          0   \n",
       "\n",
       "   destination_TRAPPIST-1e  \n",
       "0                        1  \n",
       "1                        1  \n",
       "2                        1  \n",
       "3                        1  \n",
       "4                        1  "
      ]
     },
     "execution_count": 74,
     "metadata": {},
     "output_type": "execute_result"
    }
   ],
   "source": [
    "train_data.head()"
   ]
  },
  {
   "cell_type": "code",
   "execution_count": 75,
   "id": "b2a6dad1",
   "metadata": {
    "execution": {
     "iopub.execute_input": "2023-06-05T23:04:18.618751Z",
     "iopub.status.busy": "2023-06-05T23:04:18.618321Z",
     "iopub.status.idle": "2023-06-05T23:04:19.464983Z",
     "shell.execute_reply": "2023-06-05T23:04:19.463812Z"
    },
    "papermill": {
     "duration": 0.874736,
     "end_time": "2023-06-05T23:04:19.467555",
     "exception": false,
     "start_time": "2023-06-05T23:04:18.592819",
     "status": "completed"
    },
    "tags": []
   },
   "outputs": [
    {
     "data": {
      "text/plain": [
       "<AxesSubplot:xlabel='Age', ylabel='Transported'>"
      ]
     },
     "execution_count": 75,
     "metadata": {},
     "output_type": "execute_result"
    },
    {
     "data": {
      "image/png": "[encoded data removed]",
      "text/plain": [
       "<Figure size 640x480 with 1 Axes>"
      ]
     },
     "metadata": {},
     "output_type": "display_data"
    }
   ],
   "source": [
    "import seaborn as sns\n",
    "sns.regplot(x=\"Age\",y=\"Transported\",data=train_data)"
   ]
  },
  {
   "cell_type": "code",
   "execution_count": 76,
   "id": "d526cbfe",
   "metadata": {
    "execution": {
     "iopub.execute_input": "2023-06-05T23:04:19.520027Z",
     "iopub.status.busy": "2023-06-05T23:04:19.518807Z",
     "iopub.status.idle": "2023-06-05T23:04:20.172959Z",
     "shell.execute_reply": "2023-06-05T23:04:20.171915Z"
    },
    "papermill": {
     "duration": 0.683504,
     "end_time": "2023-06-05T23:04:20.175600",
     "exception": false,
     "start_time": "2023-06-05T23:04:19.492096",
     "status": "completed"
    },
    "tags": []
   },
   "outputs": [
    {
     "data": {
      "text/plain": [
       "<AxesSubplot:xlabel='FoodCourt', ylabel='Transported'>"
      ]
     },
     "execution_count": 76,
     "metadata": {},
     "output_type": "execute_result"
    },
    {
     "data": {
      "image/png": "[encoded data removed]",
      "text/plain": [
       "<Figure size 640x480 with 1 Axes>"
      ]
     },
     "metadata": {},
     "output_type": "display_data"
    }
   ],
   "source": [
    "sns.regplot(x=\"FoodCourt\",y=\"Transported\",data=train_data)"
   ]
  },
  {
   "cell_type": "code",
   "execution_count": 77,
   "id": "159e38bb",
   "metadata": {
    "execution": {
     "iopub.execute_input": "2023-06-05T23:04:20.229472Z",
     "iopub.status.busy": "2023-06-05T23:04:20.229055Z",
     "iopub.status.idle": "2023-06-05T23:04:20.234442Z",
     "shell.execute_reply": "2023-06-05T23:04:20.233728Z"
    },
    "papermill": {
     "duration": 0.03423,
     "end_time": "2023-06-05T23:04:20.236309",
     "exception": false,
     "start_time": "2023-06-05T23:04:20.202079",
     "status": "completed"
    },
    "tags": []
   },
   "outputs": [],
   "source": [
    "# Age normalization\n",
    "train_data['Age'] = train_data['Age']/train_data['Age'].max()"
   ]
  },
  {
   "cell_type": "code",
   "execution_count": 78,
   "id": "0459e4fe",
   "metadata": {
    "execution": {
     "iopub.execute_input": "2023-06-05T23:04:20.288757Z",
     "iopub.status.busy": "2023-06-05T23:04:20.288362Z",
     "iopub.status.idle": "2023-06-05T23:04:20.310041Z",
     "shell.execute_reply": "2023-06-05T23:04:20.308822Z"
    },
    "papermill": {
     "duration": 0.050321,
     "end_time": "2023-06-05T23:04:20.312112",
     "exception": false,
     "start_time": "2023-06-05T23:04:20.261791",
     "status": "completed"
    },
    "tags": []
   },
   "outputs": [
    {
     "data": {
      "text/html": [
       "<div>\n",
       "<style scoped>\n",
       "    .dataframe tbody tr th:only-of-type {\n",
       "        vertical-align: middle;\n",
       "    }\n",
       "\n",
       "    .dataframe tbody tr th {\n",
       "        vertical-align: top;\n",
       "    }\n",
       "\n",
       "    .dataframe thead th {\n",
       "        text-align: right;\n",
       "    }\n",
       "</style>\n",
       "<table border=\"1\" class=\"dataframe\">\n",
       "  <thead>\n",
       "    <tr style=\"text-align: right;\">\n",
       "      <th></th>\n",
       "      <th>PassengerId</th>\n",
       "      <th>HomePlanet</th>\n",
       "      <th>CryoSleep</th>\n",
       "      <th>Cabin</th>\n",
       "      <th>Destination</th>\n",
       "      <th>Age</th>\n",
       "      <th>VIP</th>\n",
       "      <th>RoomService</th>\n",
       "      <th>FoodCourt</th>\n",
       "      <th>ShoppingMall</th>\n",
       "      <th>Spa</th>\n",
       "      <th>VRDeck</th>\n",
       "      <th>Name</th>\n",
       "      <th>Transported</th>\n",
       "      <th>Cabin_side</th>\n",
       "      <th>destination_55 Cancri e</th>\n",
       "      <th>destination_PSO J318.5-22</th>\n",
       "      <th>destination_TRAPPIST-1e</th>\n",
       "    </tr>\n",
       "  </thead>\n",
       "  <tbody>\n",
       "    <tr>\n",
       "      <th>0</th>\n",
       "      <td>0001_01</td>\n",
       "      <td>Europa</td>\n",
       "      <td>False</td>\n",
       "      <td>B/0/P</td>\n",
       "      <td>TRAPPIST-1e</td>\n",
       "      <td>0.493671</td>\n",
       "      <td>False</td>\n",
       "      <td>0.0</td>\n",
       "      <td>0.0</td>\n",
       "      <td>0.0</td>\n",
       "      <td>0.0</td>\n",
       "      <td>0.0</td>\n",
       "      <td>Maham Ofracculy</td>\n",
       "      <td>False</td>\n",
       "      <td>P</td>\n",
       "      <td>0</td>\n",
       "      <td>0</td>\n",
       "      <td>1</td>\n",
       "    </tr>\n",
       "    <tr>\n",
       "      <th>1</th>\n",
       "      <td>0002_01</td>\n",
       "      <td>Earth</td>\n",
       "      <td>False</td>\n",
       "      <td>F/0/S</td>\n",
       "      <td>TRAPPIST-1e</td>\n",
       "      <td>0.303797</td>\n",
       "      <td>False</td>\n",
       "      <td>109.0</td>\n",
       "      <td>9.0</td>\n",
       "      <td>25.0</td>\n",
       "      <td>549.0</td>\n",
       "      <td>44.0</td>\n",
       "      <td>Juanna Vines</td>\n",
       "      <td>True</td>\n",
       "      <td>S</td>\n",
       "      <td>0</td>\n",
       "      <td>0</td>\n",
       "      <td>1</td>\n",
       "    </tr>\n",
       "    <tr>\n",
       "      <th>2</th>\n",
       "      <td>0003_01</td>\n",
       "      <td>Europa</td>\n",
       "      <td>False</td>\n",
       "      <td>A/0/S</td>\n",
       "      <td>TRAPPIST-1e</td>\n",
       "      <td>0.734177</td>\n",
       "      <td>True</td>\n",
       "      <td>43.0</td>\n",
       "      <td>3576.0</td>\n",
       "      <td>0.0</td>\n",
       "      <td>6715.0</td>\n",
       "      <td>49.0</td>\n",
       "      <td>Altark Susent</td>\n",
       "      <td>False</td>\n",
       "      <td>S</td>\n",
       "      <td>0</td>\n",
       "      <td>0</td>\n",
       "      <td>1</td>\n",
       "    </tr>\n",
       "    <tr>\n",
       "      <th>3</th>\n",
       "      <td>0003_02</td>\n",
       "      <td>Europa</td>\n",
       "      <td>False</td>\n",
       "      <td>A/0/S</td>\n",
       "      <td>TRAPPIST-1e</td>\n",
       "      <td>0.417722</td>\n",
       "      <td>False</td>\n",
       "      <td>0.0</td>\n",
       "      <td>1283.0</td>\n",
       "      <td>371.0</td>\n",
       "      <td>3329.0</td>\n",
       "      <td>193.0</td>\n",
       "      <td>Solam Susent</td>\n",
       "      <td>False</td>\n",
       "      <td>S</td>\n",
       "      <td>0</td>\n",
       "      <td>0</td>\n",
       "      <td>1</td>\n",
       "    </tr>\n",
       "    <tr>\n",
       "      <th>4</th>\n",
       "      <td>0004_01</td>\n",
       "      <td>Earth</td>\n",
       "      <td>False</td>\n",
       "      <td>F/1/S</td>\n",
       "      <td>TRAPPIST-1e</td>\n",
       "      <td>0.202532</td>\n",
       "      <td>False</td>\n",
       "      <td>303.0</td>\n",
       "      <td>70.0</td>\n",
       "      <td>151.0</td>\n",
       "      <td>565.0</td>\n",
       "      <td>2.0</td>\n",
       "      <td>Willy Santantines</td>\n",
       "      <td>True</td>\n",
       "      <td>S</td>\n",
       "      <td>0</td>\n",
       "      <td>0</td>\n",
       "      <td>1</td>\n",
       "    </tr>\n",
       "  </tbody>\n",
       "</table>\n",
       "</div>"
      ],
      "text/plain": [
       "  PassengerId HomePlanet  CryoSleep  Cabin  Destination       Age    VIP  \\\n",
       "0     0001_01     Europa      False  B/0/P  TRAPPIST-1e  0.493671  False   \n",
       "1     0002_01      Earth      False  F/0/S  TRAPPIST-1e  0.303797  False   \n",
       "2     0003_01     Europa      False  A/0/S  TRAPPIST-1e  0.734177   True   \n",
       "3     0003_02     Europa      False  A/0/S  TRAPPIST-1e  0.417722  False   \n",
       "4     0004_01      Earth      False  F/1/S  TRAPPIST-1e  0.202532  False   \n",
       "\n",
       "   RoomService  FoodCourt  ShoppingMall     Spa  VRDeck               Name  \\\n",
       "0          0.0        0.0           0.0     0.0     0.0    Maham Ofracculy   \n",
       "1        109.0        9.0          25.0   549.0    44.0       Juanna Vines   \n",
       "2         43.0     3576.0           0.0  6715.0    49.0      Altark Susent   \n",
       "3          0.0     1283.0         371.0  3329.0   193.0       Solam Susent   \n",
       "4        303.0       70.0         151.0   565.0     2.0  Willy Santantines   \n",
       "\n",
       "   Transported Cabin_side  destination_55 Cancri e  destination_PSO J318.5-22  \\\n",
       "0        False          P                        0                          0   \n",
       "1         True          S                        0                          0   \n",
       "2        False          S                        0                          0   \n",
       "3        False          S                        0                          0   \n",
       "4         True          S                        0                          0   \n",
       "\n",
       "   destination_TRAPPIST-1e  \n",
       "0                        1  \n",
       "1                        1  \n",
       "2                        1  \n",
       "3                        1  \n",
       "4                        1  "
      ]
     },
     "execution_count": 78,
     "metadata": {},
     "output_type": "execute_result"
    }
   ],
   "source": [
    "train_data.head()"
   ]
  },
  {
   "cell_type": "code",
   "execution_count": 79,
   "id": "6992f76a",
   "metadata": {
    "execution": {
     "iopub.execute_input": "2023-06-05T23:04:20.364183Z",
     "iopub.status.busy": "2023-06-05T23:04:20.363840Z",
     "iopub.status.idle": "2023-06-05T23:04:20.382598Z",
     "shell.execute_reply": "2023-06-05T23:04:20.381412Z"
    },
    "papermill": {
     "duration": 0.047055,
     "end_time": "2023-06-05T23:04:20.384514",
     "exception": false,
     "start_time": "2023-06-05T23:04:20.337459",
     "status": "completed"
    },
    "tags": []
   },
   "outputs": [
    {
     "data": {
      "text/html": [
       "<div>\n",
       "<style scoped>\n",
       "    .dataframe tbody tr th:only-of-type {\n",
       "        vertical-align: middle;\n",
       "    }\n",
       "\n",
       "    .dataframe tbody tr th {\n",
       "        vertical-align: top;\n",
       "    }\n",
       "\n",
       "    .dataframe thead th {\n",
       "        text-align: right;\n",
       "    }\n",
       "</style>\n",
       "<table border=\"1\" class=\"dataframe\">\n",
       "  <thead>\n",
       "    <tr style=\"text-align: right;\">\n",
       "      <th></th>\n",
       "      <th>PassengerId</th>\n",
       "      <th>HomePlanet</th>\n",
       "      <th>CryoSleep</th>\n",
       "      <th>Cabin</th>\n",
       "      <th>Destination</th>\n",
       "      <th>Age</th>\n",
       "      <th>VIP</th>\n",
       "      <th>RoomService</th>\n",
       "      <th>FoodCourt</th>\n",
       "      <th>ShoppingMall</th>\n",
       "      <th>Spa</th>\n",
       "      <th>VRDeck</th>\n",
       "      <th>Name</th>\n",
       "      <th>Cabin_side</th>\n",
       "    </tr>\n",
       "  </thead>\n",
       "  <tbody>\n",
       "    <tr>\n",
       "      <th>0</th>\n",
       "      <td>0013_01</td>\n",
       "      <td>Earth</td>\n",
       "      <td>True</td>\n",
       "      <td>G/3/S</td>\n",
       "      <td>TRAPPIST-1e</td>\n",
       "      <td>27.0</td>\n",
       "      <td>False</td>\n",
       "      <td>0.0</td>\n",
       "      <td>0.0</td>\n",
       "      <td>0.0</td>\n",
       "      <td>0.0</td>\n",
       "      <td>0.0</td>\n",
       "      <td>Nelly Carsoning</td>\n",
       "      <td>S</td>\n",
       "    </tr>\n",
       "    <tr>\n",
       "      <th>1</th>\n",
       "      <td>0018_01</td>\n",
       "      <td>Earth</td>\n",
       "      <td>False</td>\n",
       "      <td>F/4/S</td>\n",
       "      <td>TRAPPIST-1e</td>\n",
       "      <td>19.0</td>\n",
       "      <td>False</td>\n",
       "      <td>0.0</td>\n",
       "      <td>9.0</td>\n",
       "      <td>0.0</td>\n",
       "      <td>2823.0</td>\n",
       "      <td>0.0</td>\n",
       "      <td>Lerome Peckers</td>\n",
       "      <td>S</td>\n",
       "    </tr>\n",
       "    <tr>\n",
       "      <th>2</th>\n",
       "      <td>0019_01</td>\n",
       "      <td>Europa</td>\n",
       "      <td>True</td>\n",
       "      <td>C/0/S</td>\n",
       "      <td>55 Cancri e</td>\n",
       "      <td>31.0</td>\n",
       "      <td>False</td>\n",
       "      <td>0.0</td>\n",
       "      <td>0.0</td>\n",
       "      <td>0.0</td>\n",
       "      <td>0.0</td>\n",
       "      <td>0.0</td>\n",
       "      <td>Sabih Unhearfus</td>\n",
       "      <td>S</td>\n",
       "    </tr>\n",
       "    <tr>\n",
       "      <th>3</th>\n",
       "      <td>0021_01</td>\n",
       "      <td>Europa</td>\n",
       "      <td>False</td>\n",
       "      <td>C/1/S</td>\n",
       "      <td>TRAPPIST-1e</td>\n",
       "      <td>38.0</td>\n",
       "      <td>False</td>\n",
       "      <td>0.0</td>\n",
       "      <td>6652.0</td>\n",
       "      <td>0.0</td>\n",
       "      <td>181.0</td>\n",
       "      <td>585.0</td>\n",
       "      <td>Meratz Caltilter</td>\n",
       "      <td>S</td>\n",
       "    </tr>\n",
       "    <tr>\n",
       "      <th>4</th>\n",
       "      <td>0023_01</td>\n",
       "      <td>Earth</td>\n",
       "      <td>False</td>\n",
       "      <td>F/5/S</td>\n",
       "      <td>TRAPPIST-1e</td>\n",
       "      <td>20.0</td>\n",
       "      <td>False</td>\n",
       "      <td>10.0</td>\n",
       "      <td>0.0</td>\n",
       "      <td>635.0</td>\n",
       "      <td>0.0</td>\n",
       "      <td>0.0</td>\n",
       "      <td>Brence Harperez</td>\n",
       "      <td>S</td>\n",
       "    </tr>\n",
       "  </tbody>\n",
       "</table>\n",
       "</div>"
      ],
      "text/plain": [
       "  PassengerId HomePlanet  CryoSleep  Cabin  Destination   Age    VIP  \\\n",
       "0     0013_01      Earth       True  G/3/S  TRAPPIST-1e  27.0  False   \n",
       "1     0018_01      Earth      False  F/4/S  TRAPPIST-1e  19.0  False   \n",
       "2     0019_01     Europa       True  C/0/S  55 Cancri e  31.0  False   \n",
       "3     0021_01     Europa      False  C/1/S  TRAPPIST-1e  38.0  False   \n",
       "4     0023_01      Earth      False  F/5/S  TRAPPIST-1e  20.0  False   \n",
       "\n",
       "   RoomService  FoodCourt  ShoppingMall     Spa  VRDeck              Name  \\\n",
       "0          0.0        0.0           0.0     0.0     0.0   Nelly Carsoning   \n",
       "1          0.0        9.0           0.0  2823.0     0.0    Lerome Peckers   \n",
       "2          0.0        0.0           0.0     0.0     0.0   Sabih Unhearfus   \n",
       "3          0.0     6652.0           0.0   181.0   585.0  Meratz Caltilter   \n",
       "4         10.0        0.0         635.0     0.0     0.0   Brence Harperez   \n",
       "\n",
       "  Cabin_side  \n",
       "0          S  \n",
       "1          S  \n",
       "2          S  \n",
       "3          S  \n",
       "4          S  "
      ]
     },
     "execution_count": 79,
     "metadata": {},
     "output_type": "execute_result"
    }
   ],
   "source": [
    "test_data.head()"
   ]
  },
  {
   "cell_type": "code",
   "execution_count": 80,
   "id": "92b66d5d",
   "metadata": {
    "execution": {
     "iopub.execute_input": "2023-06-05T23:04:20.436607Z",
     "iopub.status.busy": "2023-06-05T23:04:20.436229Z",
     "iopub.status.idle": "2023-06-05T23:04:20.442430Z",
     "shell.execute_reply": "2023-06-05T23:04:20.441535Z"
    },
    "papermill": {
     "duration": 0.034698,
     "end_time": "2023-06-05T23:04:20.444312",
     "exception": false,
     "start_time": "2023-06-05T23:04:20.409614",
     "status": "completed"
    },
    "tags": []
   },
   "outputs": [
    {
     "data": {
      "text/plain": [
       "(4277, 14)"
      ]
     },
     "execution_count": 80,
     "metadata": {},
     "output_type": "execute_result"
    }
   ],
   "source": [
    "#Drop all rows with missing values\n",
    "# test_data.dropna(inplace=True)\n",
    "test_data.shape"
   ]
  },
  {
   "cell_type": "code",
   "execution_count": 81,
   "id": "0f0f68dd",
   "metadata": {
    "execution": {
     "iopub.execute_input": "2023-06-05T23:04:20.498289Z",
     "iopub.status.busy": "2023-06-05T23:04:20.497912Z",
     "iopub.status.idle": "2023-06-05T23:04:20.508877Z",
     "shell.execute_reply": "2023-06-05T23:04:20.507742Z"
    },
    "papermill": {
     "duration": 0.040019,
     "end_time": "2023-06-05T23:04:20.510623",
     "exception": false,
     "start_time": "2023-06-05T23:04:20.470604",
     "status": "completed"
    },
    "tags": []
   },
   "outputs": [
    {
     "data": {
      "text/plain": [
       "PassengerId       0\n",
       "HomePlanet        0\n",
       "CryoSleep         0\n",
       "Cabin           100\n",
       "Destination       0\n",
       "Age               0\n",
       "VIP               0\n",
       "RoomService       0\n",
       "FoodCourt         0\n",
       "ShoppingMall      0\n",
       "Spa               0\n",
       "VRDeck            0\n",
       "Name              0\n",
       "Cabin_side        0\n",
       "dtype: int64"
      ]
     },
     "execution_count": 81,
     "metadata": {},
     "output_type": "execute_result"
    }
   ],
   "source": [
    "test_data.isnull().sum()"
   ]
  },
  {
   "cell_type": "code",
   "execution_count": 82,
   "id": "18d22cf4",
   "metadata": {
    "execution": {
     "iopub.execute_input": "2023-06-05T23:04:20.564540Z",
     "iopub.status.busy": "2023-06-05T23:04:20.564096Z",
     "iopub.status.idle": "2023-06-05T23:04:20.570633Z",
     "shell.execute_reply": "2023-06-05T23:04:20.569008Z"
    },
    "papermill": {
     "duration": 0.035921,
     "end_time": "2023-06-05T23:04:20.572508",
     "exception": false,
     "start_time": "2023-06-05T23:04:20.536587",
     "status": "completed"
    },
    "tags": []
   },
   "outputs": [],
   "source": [
    "# Simple feature scaling\n",
    "test_data['Age'] = test_data['Age']/test_data['Age'].max()"
   ]
  },
  {
   "cell_type": "code",
   "execution_count": 83,
   "id": "37e87a86",
   "metadata": {
    "execution": {
     "iopub.execute_input": "2023-06-05T23:04:20.626299Z",
     "iopub.status.busy": "2023-06-05T23:04:20.625933Z",
     "iopub.status.idle": "2023-06-05T23:04:20.636237Z",
     "shell.execute_reply": "2023-06-05T23:04:20.634987Z"
    },
    "papermill": {
     "duration": 0.039786,
     "end_time": "2023-06-05T23:04:20.638533",
     "exception": false,
     "start_time": "2023-06-05T23:04:20.598747",
     "status": "completed"
    },
    "tags": []
   },
   "outputs": [],
   "source": [
    "dummy_destination = pd.get_dummies(test_data['Destination'],prefix='destination')\n",
    "test_data = pd.concat([test_data,dummy_destination],axis=1)\n",
    "# test_data.drop(\"Destination\",axis=1,inplace=True)"
   ]
  },
  {
   "cell_type": "code",
   "execution_count": 84,
   "id": "2ed4c1a7",
   "metadata": {
    "execution": {
     "iopub.execute_input": "2023-06-05T23:04:20.693549Z",
     "iopub.status.busy": "2023-06-05T23:04:20.693178Z",
     "iopub.status.idle": "2023-06-05T23:04:20.714267Z",
     "shell.execute_reply": "2023-06-05T23:04:20.712926Z"
    },
    "papermill": {
     "duration": 0.0519,
     "end_time": "2023-06-05T23:04:20.716496",
     "exception": false,
     "start_time": "2023-06-05T23:04:20.664596",
     "status": "completed"
    },
    "tags": []
   },
   "outputs": [
    {
     "data": {
      "text/html": [
       "<div>\n",
       "<style scoped>\n",
       "    .dataframe tbody tr th:only-of-type {\n",
       "        vertical-align: middle;\n",
       "    }\n",
       "\n",
       "    .dataframe tbody tr th {\n",
       "        vertical-align: top;\n",
       "    }\n",
       "\n",
       "    .dataframe thead th {\n",
       "        text-align: right;\n",
       "    }\n",
       "</style>\n",
       "<table border=\"1\" class=\"dataframe\">\n",
       "  <thead>\n",
       "    <tr style=\"text-align: right;\">\n",
       "      <th></th>\n",
       "      <th>PassengerId</th>\n",
       "      <th>HomePlanet</th>\n",
       "      <th>CryoSleep</th>\n",
       "      <th>Cabin</th>\n",
       "      <th>Destination</th>\n",
       "      <th>Age</th>\n",
       "      <th>VIP</th>\n",
       "      <th>RoomService</th>\n",
       "      <th>FoodCourt</th>\n",
       "      <th>ShoppingMall</th>\n",
       "      <th>Spa</th>\n",
       "      <th>VRDeck</th>\n",
       "      <th>Name</th>\n",
       "      <th>Cabin_side</th>\n",
       "      <th>destination_55 Cancri e</th>\n",
       "      <th>destination_PSO J318.5-22</th>\n",
       "      <th>destination_TRAPPIST-1e</th>\n",
       "    </tr>\n",
       "  </thead>\n",
       "  <tbody>\n",
       "    <tr>\n",
       "      <th>0</th>\n",
       "      <td>0013_01</td>\n",
       "      <td>Earth</td>\n",
       "      <td>True</td>\n",
       "      <td>G/3/S</td>\n",
       "      <td>TRAPPIST-1e</td>\n",
       "      <td>0.341772</td>\n",
       "      <td>False</td>\n",
       "      <td>0.0</td>\n",
       "      <td>0.0</td>\n",
       "      <td>0.0</td>\n",
       "      <td>0.0</td>\n",
       "      <td>0.0</td>\n",
       "      <td>Nelly Carsoning</td>\n",
       "      <td>S</td>\n",
       "      <td>0</td>\n",
       "      <td>0</td>\n",
       "      <td>1</td>\n",
       "    </tr>\n",
       "    <tr>\n",
       "      <th>1</th>\n",
       "      <td>0018_01</td>\n",
       "      <td>Earth</td>\n",
       "      <td>False</td>\n",
       "      <td>F/4/S</td>\n",
       "      <td>TRAPPIST-1e</td>\n",
       "      <td>0.240506</td>\n",
       "      <td>False</td>\n",
       "      <td>0.0</td>\n",
       "      <td>9.0</td>\n",
       "      <td>0.0</td>\n",
       "      <td>2823.0</td>\n",
       "      <td>0.0</td>\n",
       "      <td>Lerome Peckers</td>\n",
       "      <td>S</td>\n",
       "      <td>0</td>\n",
       "      <td>0</td>\n",
       "      <td>1</td>\n",
       "    </tr>\n",
       "    <tr>\n",
       "      <th>2</th>\n",
       "      <td>0019_01</td>\n",
       "      <td>Europa</td>\n",
       "      <td>True</td>\n",
       "      <td>C/0/S</td>\n",
       "      <td>55 Cancri e</td>\n",
       "      <td>0.392405</td>\n",
       "      <td>False</td>\n",
       "      <td>0.0</td>\n",
       "      <td>0.0</td>\n",
       "      <td>0.0</td>\n",
       "      <td>0.0</td>\n",
       "      <td>0.0</td>\n",
       "      <td>Sabih Unhearfus</td>\n",
       "      <td>S</td>\n",
       "      <td>1</td>\n",
       "      <td>0</td>\n",
       "      <td>0</td>\n",
       "    </tr>\n",
       "    <tr>\n",
       "      <th>3</th>\n",
       "      <td>0021_01</td>\n",
       "      <td>Europa</td>\n",
       "      <td>False</td>\n",
       "      <td>C/1/S</td>\n",
       "      <td>TRAPPIST-1e</td>\n",
       "      <td>0.481013</td>\n",
       "      <td>False</td>\n",
       "      <td>0.0</td>\n",
       "      <td>6652.0</td>\n",
       "      <td>0.0</td>\n",
       "      <td>181.0</td>\n",
       "      <td>585.0</td>\n",
       "      <td>Meratz Caltilter</td>\n",
       "      <td>S</td>\n",
       "      <td>0</td>\n",
       "      <td>0</td>\n",
       "      <td>1</td>\n",
       "    </tr>\n",
       "    <tr>\n",
       "      <th>4</th>\n",
       "      <td>0023_01</td>\n",
       "      <td>Earth</td>\n",
       "      <td>False</td>\n",
       "      <td>F/5/S</td>\n",
       "      <td>TRAPPIST-1e</td>\n",
       "      <td>0.253165</td>\n",
       "      <td>False</td>\n",
       "      <td>10.0</td>\n",
       "      <td>0.0</td>\n",
       "      <td>635.0</td>\n",
       "      <td>0.0</td>\n",
       "      <td>0.0</td>\n",
       "      <td>Brence Harperez</td>\n",
       "      <td>S</td>\n",
       "      <td>0</td>\n",
       "      <td>0</td>\n",
       "      <td>1</td>\n",
       "    </tr>\n",
       "  </tbody>\n",
       "</table>\n",
       "</div>"
      ],
      "text/plain": [
       "  PassengerId HomePlanet  CryoSleep  Cabin  Destination       Age    VIP  \\\n",
       "0     0013_01      Earth       True  G/3/S  TRAPPIST-1e  0.341772  False   \n",
       "1     0018_01      Earth      False  F/4/S  TRAPPIST-1e  0.240506  False   \n",
       "2     0019_01     Europa       True  C/0/S  55 Cancri e  0.392405  False   \n",
       "3     0021_01     Europa      False  C/1/S  TRAPPIST-1e  0.481013  False   \n",
       "4     0023_01      Earth      False  F/5/S  TRAPPIST-1e  0.253165  False   \n",
       "\n",
       "   RoomService  FoodCourt  ShoppingMall     Spa  VRDeck              Name  \\\n",
       "0          0.0        0.0           0.0     0.0     0.0   Nelly Carsoning   \n",
       "1          0.0        9.0           0.0  2823.0     0.0    Lerome Peckers   \n",
       "2          0.0        0.0           0.0     0.0     0.0   Sabih Unhearfus   \n",
       "3          0.0     6652.0           0.0   181.0   585.0  Meratz Caltilter   \n",
       "4         10.0        0.0         635.0     0.0     0.0   Brence Harperez   \n",
       "\n",
       "  Cabin_side  destination_55 Cancri e  destination_PSO J318.5-22  \\\n",
       "0          S                        0                          0   \n",
       "1          S                        0                          0   \n",
       "2          S                        1                          0   \n",
       "3          S                        0                          0   \n",
       "4          S                        0                          0   \n",
       "\n",
       "   destination_TRAPPIST-1e  \n",
       "0                        1  \n",
       "1                        1  \n",
       "2                        0  \n",
       "3                        1  \n",
       "4                        1  "
      ]
     },
     "execution_count": 84,
     "metadata": {},
     "output_type": "execute_result"
    }
   ],
   "source": [
    "test_data.head()"
   ]
  },
  {
   "cell_type": "code",
   "execution_count": 85,
   "id": "6299961a",
   "metadata": {
    "execution": {
     "iopub.execute_input": "2023-06-05T23:04:20.772671Z",
     "iopub.status.busy": "2023-06-05T23:04:20.772298Z",
     "iopub.status.idle": "2023-06-05T23:04:20.792273Z",
     "shell.execute_reply": "2023-06-05T23:04:20.790768Z"
    },
    "papermill": {
     "duration": 0.051589,
     "end_time": "2023-06-05T23:04:20.795192",
     "exception": false,
     "start_time": "2023-06-05T23:04:20.743603",
     "status": "completed"
    },
    "tags": []
   },
   "outputs": [
    {
     "data": {
      "text/html": [
       "<div>\n",
       "<style scoped>\n",
       "    .dataframe tbody tr th:only-of-type {\n",
       "        vertical-align: middle;\n",
       "    }\n",
       "\n",
       "    .dataframe tbody tr th {\n",
       "        vertical-align: top;\n",
       "    }\n",
       "\n",
       "    .dataframe thead th {\n",
       "        text-align: right;\n",
       "    }\n",
       "</style>\n",
       "<table border=\"1\" class=\"dataframe\">\n",
       "  <thead>\n",
       "    <tr style=\"text-align: right;\">\n",
       "      <th></th>\n",
       "      <th>Cabin_side_P</th>\n",
       "      <th>Cabin_side_S</th>\n",
       "    </tr>\n",
       "  </thead>\n",
       "  <tbody>\n",
       "    <tr>\n",
       "      <th>0</th>\n",
       "      <td>0</td>\n",
       "      <td>1</td>\n",
       "    </tr>\n",
       "    <tr>\n",
       "      <th>1</th>\n",
       "      <td>0</td>\n",
       "      <td>1</td>\n",
       "    </tr>\n",
       "    <tr>\n",
       "      <th>2</th>\n",
       "      <td>0</td>\n",
       "      <td>1</td>\n",
       "    </tr>\n",
       "    <tr>\n",
       "      <th>3</th>\n",
       "      <td>0</td>\n",
       "      <td>1</td>\n",
       "    </tr>\n",
       "    <tr>\n",
       "      <th>4</th>\n",
       "      <td>0</td>\n",
       "      <td>1</td>\n",
       "    </tr>\n",
       "  </tbody>\n",
       "</table>\n",
       "</div>"
      ],
      "text/plain": [
       "   Cabin_side_P  Cabin_side_S\n",
       "0             0             1\n",
       "1             0             1\n",
       "2             0             1\n",
       "3             0             1\n",
       "4             0             1"
      ]
     },
     "execution_count": 85,
     "metadata": {},
     "output_type": "execute_result"
    }
   ],
   "source": [
    "test_data[\"Cabin_side\"] = test_data.Cabin.str.split(\"/\", expand=True)[2]\n",
    "dummy_cabin01 = pd.get_dummies(test_data['Cabin_side'],prefix='Cabin_side')\n",
    "dummy_cabin01.head()"
   ]
  },
  {
   "cell_type": "code",
   "execution_count": 86,
   "id": "202f0626",
   "metadata": {
    "execution": {
     "iopub.execute_input": "2023-06-05T23:04:20.850935Z",
     "iopub.status.busy": "2023-06-05T23:04:20.850564Z",
     "iopub.status.idle": "2023-06-05T23:04:20.861977Z",
     "shell.execute_reply": "2023-06-05T23:04:20.860650Z"
    },
    "papermill": {
     "duration": 0.042668,
     "end_time": "2023-06-05T23:04:20.864649",
     "exception": false,
     "start_time": "2023-06-05T23:04:20.821981",
     "status": "completed"
    },
    "tags": []
   },
   "outputs": [
    {
     "data": {
      "text/plain": [
       "Transported                  1.000000\n",
       "CryoSleep                    0.451744\n",
       "destination_55 Cancri e      0.108722\n",
       "FoodCourt                    0.045583\n",
       "ShoppingMall                 0.009391\n",
       "destination_PSO J318.5-22    0.000092\n",
       "VIP                         -0.024602\n",
       "Age                         -0.074249\n",
       "destination_TRAPPIST-1e     -0.096319\n",
       "VRDeck                      -0.204874\n",
       "Spa                         -0.218545\n",
       "RoomService                 -0.241124\n",
       "Name: Transported, dtype: float64"
      ]
     },
     "execution_count": 86,
     "metadata": {},
     "output_type": "execute_result"
    }
   ],
   "source": [
    "train_data.corr()['Transported'].sort_values(ascending=False)"
   ]
  },
  {
   "cell_type": "code",
   "execution_count": 87,
   "id": "3b5a4636",
   "metadata": {
    "execution": {
     "iopub.execute_input": "2023-06-05T23:04:20.920871Z",
     "iopub.status.busy": "2023-06-05T23:04:20.920459Z",
     "iopub.status.idle": "2023-06-05T23:04:20.940699Z",
     "shell.execute_reply": "2023-06-05T23:04:20.939508Z"
    },
    "papermill": {
     "duration": 0.051702,
     "end_time": "2023-06-05T23:04:20.942754",
     "exception": false,
     "start_time": "2023-06-05T23:04:20.891052",
     "status": "completed"
    },
    "tags": []
   },
   "outputs": [
    {
     "data": {
      "text/html": [
       "<div>\n",
       "<style scoped>\n",
       "    .dataframe tbody tr th:only-of-type {\n",
       "        vertical-align: middle;\n",
       "    }\n",
       "\n",
       "    .dataframe tbody tr th {\n",
       "        vertical-align: top;\n",
       "    }\n",
       "\n",
       "    .dataframe thead th {\n",
       "        text-align: right;\n",
       "    }\n",
       "</style>\n",
       "<table border=\"1\" class=\"dataframe\">\n",
       "  <thead>\n",
       "    <tr style=\"text-align: right;\">\n",
       "      <th></th>\n",
       "      <th>PassengerId</th>\n",
       "      <th>HomePlanet</th>\n",
       "      <th>CryoSleep</th>\n",
       "      <th>Cabin</th>\n",
       "      <th>Destination</th>\n",
       "      <th>Age</th>\n",
       "      <th>VIP</th>\n",
       "      <th>RoomService</th>\n",
       "      <th>FoodCourt</th>\n",
       "      <th>ShoppingMall</th>\n",
       "      <th>Spa</th>\n",
       "      <th>VRDeck</th>\n",
       "      <th>Name</th>\n",
       "      <th>Cabin_side</th>\n",
       "      <th>destination_55 Cancri e</th>\n",
       "      <th>destination_PSO J318.5-22</th>\n",
       "      <th>destination_TRAPPIST-1e</th>\n",
       "    </tr>\n",
       "  </thead>\n",
       "  <tbody>\n",
       "    <tr>\n",
       "      <th>0</th>\n",
       "      <td>0013_01</td>\n",
       "      <td>Earth</td>\n",
       "      <td>True</td>\n",
       "      <td>G/3/S</td>\n",
       "      <td>TRAPPIST-1e</td>\n",
       "      <td>0.341772</td>\n",
       "      <td>False</td>\n",
       "      <td>0.0</td>\n",
       "      <td>0.0</td>\n",
       "      <td>0.0</td>\n",
       "      <td>0.0</td>\n",
       "      <td>0.0</td>\n",
       "      <td>Nelly Carsoning</td>\n",
       "      <td>S</td>\n",
       "      <td>0</td>\n",
       "      <td>0</td>\n",
       "      <td>1</td>\n",
       "    </tr>\n",
       "    <tr>\n",
       "      <th>1</th>\n",
       "      <td>0018_01</td>\n",
       "      <td>Earth</td>\n",
       "      <td>False</td>\n",
       "      <td>F/4/S</td>\n",
       "      <td>TRAPPIST-1e</td>\n",
       "      <td>0.240506</td>\n",
       "      <td>False</td>\n",
       "      <td>0.0</td>\n",
       "      <td>9.0</td>\n",
       "      <td>0.0</td>\n",
       "      <td>2823.0</td>\n",
       "      <td>0.0</td>\n",
       "      <td>Lerome Peckers</td>\n",
       "      <td>S</td>\n",
       "      <td>0</td>\n",
       "      <td>0</td>\n",
       "      <td>1</td>\n",
       "    </tr>\n",
       "    <tr>\n",
       "      <th>2</th>\n",
       "      <td>0019_01</td>\n",
       "      <td>Europa</td>\n",
       "      <td>True</td>\n",
       "      <td>C/0/S</td>\n",
       "      <td>55 Cancri e</td>\n",
       "      <td>0.392405</td>\n",
       "      <td>False</td>\n",
       "      <td>0.0</td>\n",
       "      <td>0.0</td>\n",
       "      <td>0.0</td>\n",
       "      <td>0.0</td>\n",
       "      <td>0.0</td>\n",
       "      <td>Sabih Unhearfus</td>\n",
       "      <td>S</td>\n",
       "      <td>1</td>\n",
       "      <td>0</td>\n",
       "      <td>0</td>\n",
       "    </tr>\n",
       "    <tr>\n",
       "      <th>3</th>\n",
       "      <td>0021_01</td>\n",
       "      <td>Europa</td>\n",
       "      <td>False</td>\n",
       "      <td>C/1/S</td>\n",
       "      <td>TRAPPIST-1e</td>\n",
       "      <td>0.481013</td>\n",
       "      <td>False</td>\n",
       "      <td>0.0</td>\n",
       "      <td>6652.0</td>\n",
       "      <td>0.0</td>\n",
       "      <td>181.0</td>\n",
       "      <td>585.0</td>\n",
       "      <td>Meratz Caltilter</td>\n",
       "      <td>S</td>\n",
       "      <td>0</td>\n",
       "      <td>0</td>\n",
       "      <td>1</td>\n",
       "    </tr>\n",
       "    <tr>\n",
       "      <th>4</th>\n",
       "      <td>0023_01</td>\n",
       "      <td>Earth</td>\n",
       "      <td>False</td>\n",
       "      <td>F/5/S</td>\n",
       "      <td>TRAPPIST-1e</td>\n",
       "      <td>0.253165</td>\n",
       "      <td>False</td>\n",
       "      <td>10.0</td>\n",
       "      <td>0.0</td>\n",
       "      <td>635.0</td>\n",
       "      <td>0.0</td>\n",
       "      <td>0.0</td>\n",
       "      <td>Brence Harperez</td>\n",
       "      <td>S</td>\n",
       "      <td>0</td>\n",
       "      <td>0</td>\n",
       "      <td>1</td>\n",
       "    </tr>\n",
       "  </tbody>\n",
       "</table>\n",
       "</div>"
      ],
      "text/plain": [
       "  PassengerId HomePlanet  CryoSleep  Cabin  Destination       Age    VIP  \\\n",
       "0     0013_01      Earth       True  G/3/S  TRAPPIST-1e  0.341772  False   \n",
       "1     0018_01      Earth      False  F/4/S  TRAPPIST-1e  0.240506  False   \n",
       "2     0019_01     Europa       True  C/0/S  55 Cancri e  0.392405  False   \n",
       "3     0021_01     Europa      False  C/1/S  TRAPPIST-1e  0.481013  False   \n",
       "4     0023_01      Earth      False  F/5/S  TRAPPIST-1e  0.253165  False   \n",
       "\n",
       "   RoomService  FoodCourt  ShoppingMall     Spa  VRDeck              Name  \\\n",
       "0          0.0        0.0           0.0     0.0     0.0   Nelly Carsoning   \n",
       "1          0.0        9.0           0.0  2823.0     0.0    Lerome Peckers   \n",
       "2          0.0        0.0           0.0     0.0     0.0   Sabih Unhearfus   \n",
       "3          0.0     6652.0           0.0   181.0   585.0  Meratz Caltilter   \n",
       "4         10.0        0.0         635.0     0.0     0.0   Brence Harperez   \n",
       "\n",
       "  Cabin_side  destination_55 Cancri e  destination_PSO J318.5-22  \\\n",
       "0          S                        0                          0   \n",
       "1          S                        0                          0   \n",
       "2          S                        1                          0   \n",
       "3          S                        0                          0   \n",
       "4          S                        0                          0   \n",
       "\n",
       "   destination_TRAPPIST-1e  \n",
       "0                        1  \n",
       "1                        1  \n",
       "2                        0  \n",
       "3                        1  \n",
       "4                        1  "
      ]
     },
     "execution_count": 87,
     "metadata": {},
     "output_type": "execute_result"
    }
   ],
   "source": [
    "test_data.head()"
   ]
  },
  {
   "cell_type": "markdown",
   "id": "b11de93c",
   "metadata": {
    "papermill": {
     "duration": 0.026709,
     "end_time": "2023-06-05T23:04:20.996474",
     "exception": false,
     "start_time": "2023-06-05T23:04:20.969765",
     "status": "completed"
    },
    "tags": []
   },
   "source": []
  },
  {
   "cell_type": "code",
   "execution_count": 88,
   "id": "a56ea7b7",
   "metadata": {
    "execution": {
     "iopub.execute_input": "2023-06-05T23:04:21.054490Z",
     "iopub.status.busy": "2023-06-05T23:04:21.053839Z",
     "iopub.status.idle": "2023-06-05T23:04:21.060108Z",
     "shell.execute_reply": "2023-06-05T23:04:21.059171Z"
    },
    "papermill": {
     "duration": 0.036557,
     "end_time": "2023-06-05T23:04:21.061957",
     "exception": false,
     "start_time": "2023-06-05T23:04:21.025400",
     "status": "completed"
    },
    "tags": []
   },
   "outputs": [
    {
     "data": {
      "text/plain": [
       "(4277, 17)"
      ]
     },
     "execution_count": 88,
     "metadata": {},
     "output_type": "execute_result"
    }
   ],
   "source": [
    "test_data.shape"
   ]
  },
  {
   "cell_type": "code",
   "execution_count": 89,
   "id": "0ad35f2e",
   "metadata": {
    "execution": {
     "iopub.execute_input": "2023-06-05T23:04:21.116704Z",
     "iopub.status.busy": "2023-06-05T23:04:21.116252Z",
     "iopub.status.idle": "2023-06-05T23:04:21.123097Z",
     "shell.execute_reply": "2023-06-05T23:04:21.122394Z"
    },
    "papermill": {
     "duration": 0.037206,
     "end_time": "2023-06-05T23:04:21.125740",
     "exception": false,
     "start_time": "2023-06-05T23:04:21.088534",
     "status": "completed"
    },
    "tags": []
   },
   "outputs": [],
   "source": [
    "dummy_destination = pd.get_dummies(train_data['Destination'],prefix='destination')"
   ]
  },
  {
   "cell_type": "code",
   "execution_count": 90,
   "id": "06fcfea2",
   "metadata": {
    "execution": {
     "iopub.execute_input": "2023-06-05T23:04:21.186045Z",
     "iopub.status.busy": "2023-06-05T23:04:21.184673Z",
     "iopub.status.idle": "2023-06-05T23:04:21.200229Z",
     "shell.execute_reply": "2023-06-05T23:04:21.198524Z"
    },
    "papermill": {
     "duration": 0.049534,
     "end_time": "2023-06-05T23:04:21.202981",
     "exception": false,
     "start_time": "2023-06-05T23:04:21.153447",
     "status": "completed"
    },
    "tags": []
   },
   "outputs": [],
   "source": [
    "#Drop column Destination Column\n",
    "train_data = pd.concat([train_data,dummy_destination],axis=1)\n",
    "train_data.drop(\"Destination\",axis=1,inplace=True)"
   ]
  },
  {
   "cell_type": "code",
   "execution_count": 91,
   "id": "6bf5b3ab",
   "metadata": {
    "execution": {
     "iopub.execute_input": "2023-06-05T23:04:21.259296Z",
     "iopub.status.busy": "2023-06-05T23:04:21.258380Z",
     "iopub.status.idle": "2023-06-05T23:04:21.265402Z",
     "shell.execute_reply": "2023-06-05T23:04:21.264409Z"
    },
    "papermill": {
     "duration": 0.036502,
     "end_time": "2023-06-05T23:04:21.267162",
     "exception": false,
     "start_time": "2023-06-05T23:04:21.230660",
     "status": "completed"
    },
    "tags": []
   },
   "outputs": [
    {
     "data": {
      "text/plain": [
       "Index(['PassengerId', 'HomePlanet', 'CryoSleep', 'Cabin', 'Destination', 'Age',\n",
       "       'VIP', 'RoomService', 'FoodCourt', 'ShoppingMall', 'Spa', 'VRDeck',\n",
       "       'Name', 'Cabin_side', 'destination_55 Cancri e',\n",
       "       'destination_PSO J318.5-22', 'destination_TRAPPIST-1e'],\n",
       "      dtype='object')"
      ]
     },
     "execution_count": 91,
     "metadata": {},
     "output_type": "execute_result"
    }
   ],
   "source": [
    "test_data.columns"
   ]
  },
  {
   "cell_type": "code",
   "execution_count": 92,
   "id": "32986f35",
   "metadata": {
    "execution": {
     "iopub.execute_input": "2023-06-05T23:04:21.322791Z",
     "iopub.status.busy": "2023-06-05T23:04:21.322395Z",
     "iopub.status.idle": "2023-06-05T23:04:21.330434Z",
     "shell.execute_reply": "2023-06-05T23:04:21.329564Z"
    },
    "papermill": {
     "duration": 0.038139,
     "end_time": "2023-06-05T23:04:21.332297",
     "exception": false,
     "start_time": "2023-06-05T23:04:21.294158",
     "status": "completed"
    },
    "tags": []
   },
   "outputs": [],
   "source": [
    "dum_destination = pd.get_dummies(test_data['Destination'],prefix='destination')\n",
    "#Drop column Destination Column\n",
    "test_data = pd.concat([test_data,dum_destination],axis=1)\n",
    "# test_data.drop(\"Destination\",axis=1,inplace=True)"
   ]
  },
  {
   "cell_type": "code",
   "execution_count": null,
   "id": "9d0d8cec",
   "metadata": {
    "papermill": {
     "duration": 0.027214,
     "end_time": "2023-06-05T23:04:21.387267",
     "exception": false,
     "start_time": "2023-06-05T23:04:21.360053",
     "status": "completed"
    },
    "tags": []
   },
   "outputs": [],
   "source": []
  },
  {
   "cell_type": "code",
   "execution_count": 93,
   "id": "79bbaf78",
   "metadata": {
    "execution": {
     "iopub.execute_input": "2023-06-05T23:04:21.442169Z",
     "iopub.status.busy": "2023-06-05T23:04:21.441515Z",
     "iopub.status.idle": "2023-06-05T23:04:21.995310Z",
     "shell.execute_reply": "2023-06-05T23:04:21.993395Z"
    },
    "papermill": {
     "duration": 0.584702,
     "end_time": "2023-06-05T23:04:21.998323",
     "exception": false,
     "start_time": "2023-06-05T23:04:21.413621",
     "status": "completed"
    },
    "tags": []
   },
   "outputs": [
    {
     "name": "stdout",
     "output_type": "stream",
     "text": [
      "Your submission was successfully saved!\n"
     ]
    }
   ],
   "source": [
    "from sklearn.ensemble import RandomForestClassifier\n",
    "\n",
    "y = train_data[\"Transported\"]\n",
    "\n",
    "features = [\"CryoSleep\", \"FoodCourt\", \"Age\"]\n",
    "X = train_data[features]\n",
    "X_test = test_data[features]\n",
    "\n",
    "model = RandomForestClassifier(n_estimators=100, max_depth=5, random_state=1)\n",
    "model.fit(X, y)\n",
    "predictions = model.predict(X_test)\n",
    "predictions\n",
    "\n",
    "output = pd.DataFrame({'PassengerId': test_data.PassengerId, 'Transported': predictions})\n",
    "output.to_csv('submission.csv', index=False)\n",
    "print(\"Your submission was successfully saved!\")"
   ]
  },
  {
   "cell_type": "code",
   "execution_count": null,
   "id": "52d6e388",
   "metadata": {
    "papermill": {
     "duration": 0.026343,
     "end_time": "2023-06-05T23:04:22.053285",
     "exception": false,
     "start_time": "2023-06-05T23:04:22.026942",
     "status": "completed"
    },
    "tags": []
   },
   "outputs": [],
   "source": []
  }
 ],
 "metadata": {
  "kernelspec": {
   "display_name": "Python 3",
   "language": "python",
   "name": "python3"
  },
  "language_info": {
   "codemirror_mode": {
    "name": "ipython",
    "version": 3
   },
   "file_extension": ".py",
   "mimetype": "text/x-python",
   "name": "python",
   "nbconvert_exporter": "python",
   "pygments_lexer": "ipython3",
   "version": "3.7.12"
  },
  "papermill": {
   "default_parameters": {},
   "duration": 19.505972,
   "end_time": "2023-06-05T23:04:22.901953",
   "environment_variables": {},
   "exception": null,
   "input_path": "__notebook__.ipynb",
   "output_path": "__notebook__.ipynb",
   "parameters": {},
   "start_time": "2023-06-05T23:04:03.395981",
   "version": "2.3.4"
  }
 },
 "nbformat": 4,
 "nbformat_minor": 5
}
