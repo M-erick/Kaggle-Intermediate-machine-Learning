{
 "cells": [
  {
   "cell_type": "code",
   "execution_count": null,
   "id": "4403792a",
   "metadata": {
    "papermill": {
     "duration": 0.023222,
     "end_time": "2023-04-06T09:28:35.881947",
     "exception": false,
     "start_time": "2023-04-06T09:28:35.858725",
     "status": "completed"
    },
    "tags": []
   },
   "outputs": [],
   "source": []
  },
  {
   "cell_type": "code",
   "execution_count": 1,
   "id": "c676f21c",
   "metadata": {
    "_cell_guid": "b1076dfc-b9ad-4769-8c92-a6c4dae69d19",
    "_uuid": "8f2839f25d086af736a60e9eeb907d3b93b6e0e5",
    "execution": {
     "iopub.execute_input": "2023-04-06T09:28:35.929072Z",
     "iopub.status.busy": "2023-04-06T09:28:35.928038Z",
     "iopub.status.idle": "2023-04-06T09:28:35.944191Z",
     "shell.execute_reply": "2023-04-06T09:28:35.943306Z"
    },
    "papermill": {
     "duration": 0.04185,
     "end_time": "2023-04-06T09:28:35.946882",
     "exception": false,
     "start_time": "2023-04-06T09:28:35.905032",
     "status": "completed"
    },
    "tags": []
   },
   "outputs": [
    {
     "name": "stdout",
     "output_type": "stream",
     "text": [
      "/kaggle/input/spaceship-titanic/sample_submission.csv\n",
      "/kaggle/input/spaceship-titanic/train.csv\n",
      "/kaggle/input/spaceship-titanic/test.csv\n"
     ]
    }
   ],
   "source": [
    "# This Python 3 environment comes with many helpful analytics libraries installed\n",
    "# It is defined by the kaggle/python Docker image: https://github.com/kaggle/docker-python\n",
    "# For example, here's several helpful packages to load\n",
    "\n",
    "import numpy as np # linear algebra\n",
    "import pandas as pd # data processing, CSV file I/O (e.g. pd.read_csv)\n",
    "\n",
    "# Input data files are available in the read-only \"../input/\" directory\n",
    "# For example, running this (by clicking run or pressing Shift+Enter) will list all files under the input directory\n",
    "\n",
    "import os\n",
    "for dirname, _, filenames in os.walk('/kaggle/input'):\n",
    "    for filename in filenames:\n",
    "        print(os.path.join(dirname, filename))\n",
    "\n",
    "# You can write up to 20GB to the current directory (/kaggle/working/) that gets preserved as output when you create a version using \"Save & Run All\" \n",
    "# You can also write temporary files to /kaggle/temp/, but they won't be saved outside of the current session"
   ]
  },
  {
   "cell_type": "code",
   "execution_count": 2,
   "id": "569e1488",
   "metadata": {
    "execution": {
     "iopub.execute_input": "2023-04-06T09:28:35.991479Z",
     "iopub.status.busy": "2023-04-06T09:28:35.991091Z",
     "iopub.status.idle": "2023-04-06T09:28:36.084072Z",
     "shell.execute_reply": "2023-04-06T09:28:36.082883Z"
    },
    "papermill": {
     "duration": 0.118655,
     "end_time": "2023-04-06T09:28:36.086957",
     "exception": false,
     "start_time": "2023-04-06T09:28:35.968302",
     "status": "completed"
    },
    "tags": []
   },
   "outputs": [],
   "source": [
    "train_data =pd.read_csv('/kaggle/input/spaceship-titanic/train.csv')\n",
    "test_data =pd.read_csv('/kaggle/input/spaceship-titanic/test.csv')\n",
    "submission_data =pd.read_csv('/kaggle/input/spaceship-titanic/sample_submission.csv')"
   ]
  },
  {
   "cell_type": "code",
   "execution_count": 3,
   "id": "f98bca0a",
   "metadata": {
    "execution": {
     "iopub.execute_input": "2023-04-06T09:28:36.132809Z",
     "iopub.status.busy": "2023-04-06T09:28:36.132114Z",
     "iopub.status.idle": "2023-04-06T09:28:36.163670Z",
     "shell.execute_reply": "2023-04-06T09:28:36.162467Z"
    },
    "papermill": {
     "duration": 0.056716,
     "end_time": "2023-04-06T09:28:36.166070",
     "exception": false,
     "start_time": "2023-04-06T09:28:36.109354",
     "status": "completed"
    },
    "tags": []
   },
   "outputs": [
    {
     "data": {
      "text/html": [
       "<div>\n",
       "<style scoped>\n",
       "    .dataframe tbody tr th:only-of-type {\n",
       "        vertical-align: middle;\n",
       "    }\n",
       "\n",
       "    .dataframe tbody tr th {\n",
       "        vertical-align: top;\n",
       "    }\n",
       "\n",
       "    .dataframe thead th {\n",
       "        text-align: right;\n",
       "    }\n",
       "</style>\n",
       "<table border=\"1\" class=\"dataframe\">\n",
       "  <thead>\n",
       "    <tr style=\"text-align: right;\">\n",
       "      <th></th>\n",
       "      <th>PassengerId</th>\n",
       "      <th>HomePlanet</th>\n",
       "      <th>CryoSleep</th>\n",
       "      <th>Cabin</th>\n",
       "      <th>Destination</th>\n",
       "      <th>Age</th>\n",
       "      <th>VIP</th>\n",
       "      <th>RoomService</th>\n",
       "      <th>FoodCourt</th>\n",
       "      <th>ShoppingMall</th>\n",
       "      <th>Spa</th>\n",
       "      <th>VRDeck</th>\n",
       "      <th>Name</th>\n",
       "      <th>Transported</th>\n",
       "    </tr>\n",
       "  </thead>\n",
       "  <tbody>\n",
       "    <tr>\n",
       "      <th>0</th>\n",
       "      <td>0001_01</td>\n",
       "      <td>Europa</td>\n",
       "      <td>False</td>\n",
       "      <td>B/0/P</td>\n",
       "      <td>TRAPPIST-1e</td>\n",
       "      <td>39.0</td>\n",
       "      <td>False</td>\n",
       "      <td>0.0</td>\n",
       "      <td>0.0</td>\n",
       "      <td>0.0</td>\n",
       "      <td>0.0</td>\n",
       "      <td>0.0</td>\n",
       "      <td>Maham Ofracculy</td>\n",
       "      <td>False</td>\n",
       "    </tr>\n",
       "    <tr>\n",
       "      <th>1</th>\n",
       "      <td>0002_01</td>\n",
       "      <td>Earth</td>\n",
       "      <td>False</td>\n",
       "      <td>F/0/S</td>\n",
       "      <td>TRAPPIST-1e</td>\n",
       "      <td>24.0</td>\n",
       "      <td>False</td>\n",
       "      <td>109.0</td>\n",
       "      <td>9.0</td>\n",
       "      <td>25.0</td>\n",
       "      <td>549.0</td>\n",
       "      <td>44.0</td>\n",
       "      <td>Juanna Vines</td>\n",
       "      <td>True</td>\n",
       "    </tr>\n",
       "    <tr>\n",
       "      <th>2</th>\n",
       "      <td>0003_01</td>\n",
       "      <td>Europa</td>\n",
       "      <td>False</td>\n",
       "      <td>A/0/S</td>\n",
       "      <td>TRAPPIST-1e</td>\n",
       "      <td>58.0</td>\n",
       "      <td>True</td>\n",
       "      <td>43.0</td>\n",
       "      <td>3576.0</td>\n",
       "      <td>0.0</td>\n",
       "      <td>6715.0</td>\n",
       "      <td>49.0</td>\n",
       "      <td>Altark Susent</td>\n",
       "      <td>False</td>\n",
       "    </tr>\n",
       "    <tr>\n",
       "      <th>3</th>\n",
       "      <td>0003_02</td>\n",
       "      <td>Europa</td>\n",
       "      <td>False</td>\n",
       "      <td>A/0/S</td>\n",
       "      <td>TRAPPIST-1e</td>\n",
       "      <td>33.0</td>\n",
       "      <td>False</td>\n",
       "      <td>0.0</td>\n",
       "      <td>1283.0</td>\n",
       "      <td>371.0</td>\n",
       "      <td>3329.0</td>\n",
       "      <td>193.0</td>\n",
       "      <td>Solam Susent</td>\n",
       "      <td>False</td>\n",
       "    </tr>\n",
       "    <tr>\n",
       "      <th>4</th>\n",
       "      <td>0004_01</td>\n",
       "      <td>Earth</td>\n",
       "      <td>False</td>\n",
       "      <td>F/1/S</td>\n",
       "      <td>TRAPPIST-1e</td>\n",
       "      <td>16.0</td>\n",
       "      <td>False</td>\n",
       "      <td>303.0</td>\n",
       "      <td>70.0</td>\n",
       "      <td>151.0</td>\n",
       "      <td>565.0</td>\n",
       "      <td>2.0</td>\n",
       "      <td>Willy Santantines</td>\n",
       "      <td>True</td>\n",
       "    </tr>\n",
       "  </tbody>\n",
       "</table>\n",
       "</div>"
      ],
      "text/plain": [
       "  PassengerId HomePlanet CryoSleep  Cabin  Destination   Age    VIP  \\\n",
       "0     0001_01     Europa     False  B/0/P  TRAPPIST-1e  39.0  False   \n",
       "1     0002_01      Earth     False  F/0/S  TRAPPIST-1e  24.0  False   \n",
       "2     0003_01     Europa     False  A/0/S  TRAPPIST-1e  58.0   True   \n",
       "3     0003_02     Europa     False  A/0/S  TRAPPIST-1e  33.0  False   \n",
       "4     0004_01      Earth     False  F/1/S  TRAPPIST-1e  16.0  False   \n",
       "\n",
       "   RoomService  FoodCourt  ShoppingMall     Spa  VRDeck               Name  \\\n",
       "0          0.0        0.0           0.0     0.0     0.0    Maham Ofracculy   \n",
       "1        109.0        9.0          25.0   549.0    44.0       Juanna Vines   \n",
       "2         43.0     3576.0           0.0  6715.0    49.0      Altark Susent   \n",
       "3          0.0     1283.0         371.0  3329.0   193.0       Solam Susent   \n",
       "4        303.0       70.0         151.0   565.0     2.0  Willy Santantines   \n",
       "\n",
       "   Transported  \n",
       "0        False  \n",
       "1         True  \n",
       "2        False  \n",
       "3        False  \n",
       "4         True  "
      ]
     },
     "execution_count": 3,
     "metadata": {},
     "output_type": "execute_result"
    }
   ],
   "source": [
    "train_data.head()"
   ]
  },
  {
   "cell_type": "code",
   "execution_count": 4,
   "id": "66bd6055",
   "metadata": {
    "execution": {
     "iopub.execute_input": "2023-04-06T09:28:36.211451Z",
     "iopub.status.busy": "2023-04-06T09:28:36.210780Z",
     "iopub.status.idle": "2023-04-06T09:28:36.219513Z",
     "shell.execute_reply": "2023-04-06T09:28:36.218482Z"
    },
    "papermill": {
     "duration": 0.034209,
     "end_time": "2023-04-06T09:28:36.221777",
     "exception": false,
     "start_time": "2023-04-06T09:28:36.187568",
     "status": "completed"
    },
    "tags": []
   },
   "outputs": [
    {
     "data": {
      "text/plain": [
       "PassengerId      object\n",
       "HomePlanet       object\n",
       "CryoSleep        object\n",
       "Cabin            object\n",
       "Destination      object\n",
       "Age             float64\n",
       "VIP              object\n",
       "RoomService     float64\n",
       "FoodCourt       float64\n",
       "ShoppingMall    float64\n",
       "Spa             float64\n",
       "VRDeck          float64\n",
       "Name             object\n",
       "Transported        bool\n",
       "dtype: object"
      ]
     },
     "execution_count": 4,
     "metadata": {},
     "output_type": "execute_result"
    }
   ],
   "source": [
    "# data types\n",
    "train_data.dtypes"
   ]
  },
  {
   "cell_type": "code",
   "execution_count": 5,
   "id": "69184643",
   "metadata": {
    "execution": {
     "iopub.execute_input": "2023-04-06T09:28:36.268461Z",
     "iopub.status.busy": "2023-04-06T09:28:36.267791Z",
     "iopub.status.idle": "2023-04-06T09:28:36.277912Z",
     "shell.execute_reply": "2023-04-06T09:28:36.276712Z"
    },
    "papermill": {
     "duration": 0.036468,
     "end_time": "2023-04-06T09:28:36.280590",
     "exception": false,
     "start_time": "2023-04-06T09:28:36.244122",
     "status": "completed"
    },
    "tags": []
   },
   "outputs": [],
   "source": [
    "# Convert CryoSleep data type to boolean fro Object\n",
    "train_data['CryoSleep']=train_data['CryoSleep'].astype('bool')"
   ]
  },
  {
   "cell_type": "code",
   "execution_count": 6,
   "id": "80e3d97d",
   "metadata": {
    "execution": {
     "iopub.execute_input": "2023-04-06T09:28:36.326843Z",
     "iopub.status.busy": "2023-04-06T09:28:36.326407Z",
     "iopub.status.idle": "2023-04-06T09:28:36.333698Z",
     "shell.execute_reply": "2023-04-06T09:28:36.332842Z"
    },
    "papermill": {
     "duration": 0.033719,
     "end_time": "2023-04-06T09:28:36.336043",
     "exception": false,
     "start_time": "2023-04-06T09:28:36.302324",
     "status": "completed"
    },
    "tags": []
   },
   "outputs": [],
   "source": [
    "# Convert VIP data type to boolean fro Object\n",
    "train_data['VIP']=train_data['VIP'].astype('bool')"
   ]
  },
  {
   "cell_type": "code",
   "execution_count": 7,
   "id": "a75e4550",
   "metadata": {
    "execution": {
     "iopub.execute_input": "2023-04-06T09:28:36.382385Z",
     "iopub.status.busy": "2023-04-06T09:28:36.381267Z",
     "iopub.status.idle": "2023-04-06T09:28:36.389476Z",
     "shell.execute_reply": "2023-04-06T09:28:36.388545Z"
    },
    "papermill": {
     "duration": 0.034262,
     "end_time": "2023-04-06T09:28:36.391868",
     "exception": false,
     "start_time": "2023-04-06T09:28:36.357606",
     "status": "completed"
    },
    "tags": []
   },
   "outputs": [
    {
     "data": {
      "text/plain": [
       "PassengerId      object\n",
       "HomePlanet       object\n",
       "CryoSleep          bool\n",
       "Cabin            object\n",
       "Destination      object\n",
       "Age             float64\n",
       "VIP                bool\n",
       "RoomService     float64\n",
       "FoodCourt       float64\n",
       "ShoppingMall    float64\n",
       "Spa             float64\n",
       "VRDeck          float64\n",
       "Name             object\n",
       "Transported        bool\n",
       "dtype: object"
      ]
     },
     "execution_count": 7,
     "metadata": {},
     "output_type": "execute_result"
    }
   ],
   "source": [
    "train_data.dtypes"
   ]
  },
  {
   "cell_type": "code",
   "execution_count": 8,
   "id": "a998ec30",
   "metadata": {
    "execution": {
     "iopub.execute_input": "2023-04-06T09:28:36.437054Z",
     "iopub.status.busy": "2023-04-06T09:28:36.436614Z",
     "iopub.status.idle": "2023-04-06T09:28:36.460909Z",
     "shell.execute_reply": "2023-04-06T09:28:36.460068Z"
    },
    "papermill": {
     "duration": 0.050239,
     "end_time": "2023-04-06T09:28:36.463745",
     "exception": false,
     "start_time": "2023-04-06T09:28:36.413506",
     "status": "completed"
    },
    "tags": []
   },
   "outputs": [
    {
     "name": "stdout",
     "output_type": "stream",
     "text": [
      "PassengerId\n",
      "False    8693\n",
      "Name: PassengerId, dtype: int64\n",
      "\n",
      "HomePlanet\n",
      "False    8492\n",
      "True      201\n",
      "Name: HomePlanet, dtype: int64\n",
      "\n",
      "CryoSleep\n",
      "False    8693\n",
      "Name: CryoSleep, dtype: int64\n",
      "\n",
      "Cabin\n",
      "False    8494\n",
      "True      199\n",
      "Name: Cabin, dtype: int64\n",
      "\n",
      "Destination\n",
      "False    8511\n",
      "True      182\n",
      "Name: Destination, dtype: int64\n",
      "\n",
      "Age\n",
      "False    8514\n",
      "True      179\n",
      "Name: Age, dtype: int64\n",
      "\n",
      "VIP\n",
      "False    8693\n",
      "Name: VIP, dtype: int64\n",
      "\n",
      "RoomService\n",
      "False    8512\n",
      "True      181\n",
      "Name: RoomService, dtype: int64\n",
      "\n",
      "FoodCourt\n",
      "False    8510\n",
      "True      183\n",
      "Name: FoodCourt, dtype: int64\n",
      "\n",
      "ShoppingMall\n",
      "False    8485\n",
      "True      208\n",
      "Name: ShoppingMall, dtype: int64\n",
      "\n",
      "Spa\n",
      "False    8510\n",
      "True      183\n",
      "Name: Spa, dtype: int64\n",
      "\n",
      "VRDeck\n",
      "False    8505\n",
      "True      188\n",
      "Name: VRDeck, dtype: int64\n",
      "\n",
      "Name\n",
      "False    8493\n",
      "True      200\n",
      "Name: Name, dtype: int64\n",
      "\n",
      "Transported\n",
      "False    8693\n",
      "Name: Transported, dtype: int64\n",
      "\n"
     ]
    }
   ],
   "source": [
    "# Count missing values  in each column\n",
    "missing_data = train_data.isnull()\n",
    "# missing_data.head(5)\n",
    "\n",
    "for column in missing_data.columns.values.tolist():\n",
    "    print(column)\n",
    "    print(missing_data[column].value_counts())\n",
    "    print('')"
   ]
  },
  {
   "cell_type": "code",
   "execution_count": 9,
   "id": "ba070ae1",
   "metadata": {
    "execution": {
     "iopub.execute_input": "2023-04-06T09:28:36.509909Z",
     "iopub.status.busy": "2023-04-06T09:28:36.509426Z",
     "iopub.status.idle": "2023-04-06T09:28:36.530544Z",
     "shell.execute_reply": "2023-04-06T09:28:36.529728Z"
    },
    "papermill": {
     "duration": 0.047887,
     "end_time": "2023-04-06T09:28:36.533442",
     "exception": false,
     "start_time": "2023-04-06T09:28:36.485555",
     "status": "completed"
    },
    "tags": []
   },
   "outputs": [
    {
     "name": "stdout",
     "output_type": "stream",
     "text": [
      "PassengerId\n",
      "False    4277\n",
      "Name: PassengerId, dtype: int64\n",
      "\n",
      "HomePlanet\n",
      "False    4190\n",
      "True       87\n",
      "Name: HomePlanet, dtype: int64\n",
      "\n",
      "CryoSleep\n",
      "False    4184\n",
      "True       93\n",
      "Name: CryoSleep, dtype: int64\n",
      "\n",
      "Cabin\n",
      "False    4177\n",
      "True      100\n",
      "Name: Cabin, dtype: int64\n",
      "\n",
      "Destination\n",
      "False    4185\n",
      "True       92\n",
      "Name: Destination, dtype: int64\n",
      "\n",
      "Age\n",
      "False    4186\n",
      "True       91\n",
      "Name: Age, dtype: int64\n",
      "\n",
      "VIP\n",
      "False    4184\n",
      "True       93\n",
      "Name: VIP, dtype: int64\n",
      "\n",
      "RoomService\n",
      "False    4195\n",
      "True       82\n",
      "Name: RoomService, dtype: int64\n",
      "\n",
      "FoodCourt\n",
      "False    4171\n",
      "True      106\n",
      "Name: FoodCourt, dtype: int64\n",
      "\n",
      "ShoppingMall\n",
      "False    4179\n",
      "True       98\n",
      "Name: ShoppingMall, dtype: int64\n",
      "\n",
      "Spa\n",
      "False    4176\n",
      "True      101\n",
      "Name: Spa, dtype: int64\n",
      "\n",
      "VRDeck\n",
      "False    4197\n",
      "True       80\n",
      "Name: VRDeck, dtype: int64\n",
      "\n",
      "Name\n",
      "False    4183\n",
      "True       94\n",
      "Name: Name, dtype: int64\n",
      "\n"
     ]
    }
   ],
   "source": [
    "# Count missing values  in each column\n",
    "missing_data = test_data.isnull()\n",
    "# missing_data.head(5)\n",
    "\n",
    "for column in missing_data.columns.values.tolist():\n",
    "    print(column)\n",
    "    print(missing_data[column].value_counts())\n",
    "    print('')"
   ]
  },
  {
   "cell_type": "code",
   "execution_count": 10,
   "id": "74e262d1",
   "metadata": {
    "execution": {
     "iopub.execute_input": "2023-04-06T09:28:36.580089Z",
     "iopub.status.busy": "2023-04-06T09:28:36.579325Z",
     "iopub.status.idle": "2023-04-06T09:28:36.596786Z",
     "shell.execute_reply": "2023-04-06T09:28:36.595671Z"
    },
    "papermill": {
     "duration": 0.04367,
     "end_time": "2023-04-06T09:28:36.599332",
     "exception": false,
     "start_time": "2023-04-06T09:28:36.555662",
     "status": "completed"
    },
    "tags": []
   },
   "outputs": [
    {
     "data": {
      "text/plain": [
       "RoomService    -0.244611\n",
       "Spa            -0.221131\n",
       "VRDeck         -0.207075\n",
       "Age            -0.075026\n",
       "VIP            -0.024602\n",
       "ShoppingMall    0.010141\n",
       "FoodCourt       0.046566\n",
       "CryoSleep       0.451744\n",
       "Transported     1.000000\n",
       "Name: Transported, dtype: float64"
      ]
     },
     "execution_count": 10,
     "metadata": {},
     "output_type": "execute_result"
    }
   ],
   "source": [
    "# Correlation between the target;transported and other variables\n",
    "train_data.corr()['Transported'].sort_values()"
   ]
  },
  {
   "cell_type": "code",
   "execution_count": 11,
   "id": "4683756a",
   "metadata": {
    "execution": {
     "iopub.execute_input": "2023-04-06T09:28:36.646279Z",
     "iopub.status.busy": "2023-04-06T09:28:36.645559Z",
     "iopub.status.idle": "2023-04-06T09:28:36.655831Z",
     "shell.execute_reply": "2023-04-06T09:28:36.654792Z"
    },
    "papermill": {
     "duration": 0.035707,
     "end_time": "2023-04-06T09:28:36.657936",
     "exception": false,
     "start_time": "2023-04-06T09:28:36.622229",
     "status": "completed"
    },
    "tags": []
   },
   "outputs": [
    {
     "data": {
      "text/plain": [
       "Earth     4602\n",
       "Europa    2131\n",
       "Mars      1759\n",
       "Name: HomePlanet, dtype: int64"
      ]
     },
     "execution_count": 11,
     "metadata": {},
     "output_type": "execute_result"
    }
   ],
   "source": [
    "# Total count per HomePlanet in train_data\n",
    "train_data['HomePlanet'].value_counts()\n",
    "\n"
   ]
  },
  {
   "cell_type": "code",
   "execution_count": 12,
   "id": "1407990a",
   "metadata": {
    "execution": {
     "iopub.execute_input": "2023-04-06T09:28:36.704523Z",
     "iopub.status.busy": "2023-04-06T09:28:36.703420Z",
     "iopub.status.idle": "2023-04-06T09:28:36.713038Z",
     "shell.execute_reply": "2023-04-06T09:28:36.711709Z"
    },
    "papermill": {
     "duration": 0.035341,
     "end_time": "2023-04-06T09:28:36.715244",
     "exception": false,
     "start_time": "2023-04-06T09:28:36.679903",
     "status": "completed"
    },
    "tags": []
   },
   "outputs": [
    {
     "data": {
      "text/plain": [
       "Earth     2263\n",
       "Europa    1002\n",
       "Mars       925\n",
       "Name: HomePlanet, dtype: int64"
      ]
     },
     "execution_count": 12,
     "metadata": {},
     "output_type": "execute_result"
    }
   ],
   "source": [
    "test_data['HomePlanet'].value_counts()"
   ]
  },
  {
   "cell_type": "code",
   "execution_count": 13,
   "id": "eed0091e",
   "metadata": {
    "execution": {
     "iopub.execute_input": "2023-04-06T09:28:36.763427Z",
     "iopub.status.busy": "2023-04-06T09:28:36.762292Z",
     "iopub.status.idle": "2023-04-06T09:28:36.769977Z",
     "shell.execute_reply": "2023-04-06T09:28:36.768818Z"
    },
    "papermill": {
     "duration": 0.035667,
     "end_time": "2023-04-06T09:28:36.772981",
     "exception": false,
     "start_time": "2023-04-06T09:28:36.737314",
     "status": "completed"
    },
    "tags": []
   },
   "outputs": [],
   "source": [
    "# Replacing null values with Earth,word with most frequency in data set \n",
    "train_data['HomePlanet'].replace(np.nan,'Earth',inplace=True)"
   ]
  },
  {
   "cell_type": "code",
   "execution_count": 14,
   "id": "4cb4d465",
   "metadata": {
    "execution": {
     "iopub.execute_input": "2023-04-06T09:28:36.819775Z",
     "iopub.status.busy": "2023-04-06T09:28:36.818986Z",
     "iopub.status.idle": "2023-04-06T09:28:36.825335Z",
     "shell.execute_reply": "2023-04-06T09:28:36.824405Z"
    },
    "papermill": {
     "duration": 0.032626,
     "end_time": "2023-04-06T09:28:36.827735",
     "exception": false,
     "start_time": "2023-04-06T09:28:36.795109",
     "status": "completed"
    },
    "tags": []
   },
   "outputs": [],
   "source": [
    "test_data['HomePlanet'].replace(np.nan,'Earth',inplace=True)"
   ]
  },
  {
   "cell_type": "code",
   "execution_count": 15,
   "id": "84e1364a",
   "metadata": {
    "execution": {
     "iopub.execute_input": "2023-04-06T09:28:36.873566Z",
     "iopub.status.busy": "2023-04-06T09:28:36.873130Z",
     "iopub.status.idle": "2023-04-06T09:28:36.881737Z",
     "shell.execute_reply": "2023-04-06T09:28:36.880449Z"
    },
    "papermill": {
     "duration": 0.034268,
     "end_time": "2023-04-06T09:28:36.884074",
     "exception": false,
     "start_time": "2023-04-06T09:28:36.849806",
     "status": "completed"
    },
    "tags": []
   },
   "outputs": [
    {
     "data": {
      "text/plain": [
       "0"
      ]
     },
     "execution_count": 15,
     "metadata": {},
     "output_type": "execute_result"
    }
   ],
   "source": [
    "train_data['HomePlanet'].isnull().sum()"
   ]
  },
  {
   "cell_type": "code",
   "execution_count": 16,
   "id": "39fc0fd9",
   "metadata": {
    "execution": {
     "iopub.execute_input": "2023-04-06T09:28:36.931210Z",
     "iopub.status.busy": "2023-04-06T09:28:36.930789Z",
     "iopub.status.idle": "2023-04-06T09:28:36.939601Z",
     "shell.execute_reply": "2023-04-06T09:28:36.938409Z"
    },
    "papermill": {
     "duration": 0.035374,
     "end_time": "2023-04-06T09:28:36.941983",
     "exception": false,
     "start_time": "2023-04-06T09:28:36.906609",
     "status": "completed"
    },
    "tags": []
   },
   "outputs": [
    {
     "data": {
      "text/plain": [
       "199"
      ]
     },
     "execution_count": 16,
     "metadata": {},
     "output_type": "execute_result"
    }
   ],
   "source": [
    "train_data['Cabin'].isnull().sum()"
   ]
  },
  {
   "cell_type": "code",
   "execution_count": 17,
   "id": "f5062005",
   "metadata": {
    "execution": {
     "iopub.execute_input": "2023-04-06T09:28:36.988418Z",
     "iopub.status.busy": "2023-04-06T09:28:36.988020Z",
     "iopub.status.idle": "2023-04-06T09:28:36.996651Z",
     "shell.execute_reply": "2023-04-06T09:28:36.995565Z"
    },
    "papermill": {
     "duration": 0.034513,
     "end_time": "2023-04-06T09:28:36.998875",
     "exception": false,
     "start_time": "2023-04-06T09:28:36.964362",
     "status": "completed"
    },
    "tags": []
   },
   "outputs": [
    {
     "data": {
      "text/plain": [
       "182"
      ]
     },
     "execution_count": 17,
     "metadata": {},
     "output_type": "execute_result"
    }
   ],
   "source": [
    "train_data['Destination'].isnull().sum()"
   ]
  },
  {
   "cell_type": "code",
   "execution_count": 18,
   "id": "1de171f5",
   "metadata": {
    "execution": {
     "iopub.execute_input": "2023-04-06T09:28:37.045655Z",
     "iopub.status.busy": "2023-04-06T09:28:37.045254Z",
     "iopub.status.idle": "2023-04-06T09:28:37.054790Z",
     "shell.execute_reply": "2023-04-06T09:28:37.053504Z"
    },
    "papermill": {
     "duration": 0.035788,
     "end_time": "2023-04-06T09:28:37.057093",
     "exception": false,
     "start_time": "2023-04-06T09:28:37.021305",
     "status": "completed"
    },
    "tags": []
   },
   "outputs": [
    {
     "data": {
      "text/plain": [
       "TRAPPIST-1e      5915\n",
       "55 Cancri e      1800\n",
       "PSO J318.5-22     796\n",
       "Name: Destination, dtype: int64"
      ]
     },
     "execution_count": 18,
     "metadata": {},
     "output_type": "execute_result"
    }
   ],
   "source": [
    "train_data['Destination'].value_counts()"
   ]
  },
  {
   "cell_type": "code",
   "execution_count": 19,
   "id": "67eb54ed",
   "metadata": {
    "execution": {
     "iopub.execute_input": "2023-04-06T09:28:37.103909Z",
     "iopub.status.busy": "2023-04-06T09:28:37.103486Z",
     "iopub.status.idle": "2023-04-06T09:28:37.113326Z",
     "shell.execute_reply": "2023-04-06T09:28:37.112139Z"
    },
    "papermill": {
     "duration": 0.036452,
     "end_time": "2023-04-06T09:28:37.115920",
     "exception": false,
     "start_time": "2023-04-06T09:28:37.079468",
     "status": "completed"
    },
    "tags": []
   },
   "outputs": [
    {
     "data": {
      "text/plain": [
       "TRAPPIST-1e      2956\n",
       "55 Cancri e       841\n",
       "PSO J318.5-22     388\n",
       "Name: Destination, dtype: int64"
      ]
     },
     "execution_count": 19,
     "metadata": {},
     "output_type": "execute_result"
    }
   ],
   "source": [
    "test_data['Destination'].value_counts()"
   ]
  },
  {
   "cell_type": "code",
   "execution_count": 20,
   "id": "0ee750f7",
   "metadata": {
    "execution": {
     "iopub.execute_input": "2023-04-06T09:28:37.163675Z",
     "iopub.status.busy": "2023-04-06T09:28:37.163251Z",
     "iopub.status.idle": "2023-04-06T09:28:37.170222Z",
     "shell.execute_reply": "2023-04-06T09:28:37.169138Z"
    },
    "papermill": {
     "duration": 0.033592,
     "end_time": "2023-04-06T09:28:37.172444",
     "exception": false,
     "start_time": "2023-04-06T09:28:37.138852",
     "status": "completed"
    },
    "tags": []
   },
   "outputs": [],
   "source": [
    "# Replace nan cell with max value(TRAPPIST-1e)\n",
    "train_data['Destination'].replace(np.nan,'TRAPPIST-1e',inplace=True)"
   ]
  },
  {
   "cell_type": "code",
   "execution_count": 21,
   "id": "e7250b06",
   "metadata": {
    "execution": {
     "iopub.execute_input": "2023-04-06T09:28:37.220054Z",
     "iopub.status.busy": "2023-04-06T09:28:37.219633Z",
     "iopub.status.idle": "2023-04-06T09:28:37.226217Z",
     "shell.execute_reply": "2023-04-06T09:28:37.225057Z"
    },
    "papermill": {
     "duration": 0.033404,
     "end_time": "2023-04-06T09:28:37.228520",
     "exception": false,
     "start_time": "2023-04-06T09:28:37.195116",
     "status": "completed"
    },
    "tags": []
   },
   "outputs": [],
   "source": [
    "test_data['Destination'].replace(np.nan,'TRAPPIST-1e',inplace=True)"
   ]
  },
  {
   "cell_type": "code",
   "execution_count": 22,
   "id": "34fcd698",
   "metadata": {
    "execution": {
     "iopub.execute_input": "2023-04-06T09:28:37.275247Z",
     "iopub.status.busy": "2023-04-06T09:28:37.274832Z",
     "iopub.status.idle": "2023-04-06T09:28:37.282755Z",
     "shell.execute_reply": "2023-04-06T09:28:37.281793Z"
    },
    "papermill": {
     "duration": 0.033634,
     "end_time": "2023-04-06T09:28:37.284891",
     "exception": false,
     "start_time": "2023-04-06T09:28:37.251257",
     "status": "completed"
    },
    "tags": []
   },
   "outputs": [
    {
     "data": {
      "text/plain": [
       "0"
      ]
     },
     "execution_count": 22,
     "metadata": {},
     "output_type": "execute_result"
    }
   ],
   "source": [
    "train_data['Destination'].isnull().sum()"
   ]
  },
  {
   "cell_type": "code",
   "execution_count": 23,
   "id": "eae08f4c",
   "metadata": {
    "execution": {
     "iopub.execute_input": "2023-04-06T09:28:37.333020Z",
     "iopub.status.busy": "2023-04-06T09:28:37.332604Z",
     "iopub.status.idle": "2023-04-06T09:28:37.340724Z",
     "shell.execute_reply": "2023-04-06T09:28:37.339561Z"
    },
    "papermill": {
     "duration": 0.035141,
     "end_time": "2023-04-06T09:28:37.343192",
     "exception": false,
     "start_time": "2023-04-06T09:28:37.308051",
     "status": "completed"
    },
    "tags": []
   },
   "outputs": [
    {
     "data": {
      "text/plain": [
       "200"
      ]
     },
     "execution_count": 23,
     "metadata": {},
     "output_type": "execute_result"
    }
   ],
   "source": [
    "train_data['Name'].isnull().sum()"
   ]
  },
  {
   "cell_type": "code",
   "execution_count": 24,
   "id": "14346b41",
   "metadata": {
    "execution": {
     "iopub.execute_input": "2023-04-06T09:28:37.393102Z",
     "iopub.status.busy": "2023-04-06T09:28:37.392679Z",
     "iopub.status.idle": "2023-04-06T09:28:37.399071Z",
     "shell.execute_reply": "2023-04-06T09:28:37.397865Z"
    },
    "papermill": {
     "duration": 0.034816,
     "end_time": "2023-04-06T09:28:37.401393",
     "exception": false,
     "start_time": "2023-04-06T09:28:37.366577",
     "status": "completed"
    },
    "tags": []
   },
   "outputs": [],
   "source": [
    "# Replacing missing age value with mean in train_data.csv\n",
    "mean =train_data['Age'].mean()\n",
    "\n",
    "train_data['Age'].replace(np.nan,mean,inplace=True)"
   ]
  },
  {
   "cell_type": "code",
   "execution_count": 25,
   "id": "89160207",
   "metadata": {
    "execution": {
     "iopub.execute_input": "2023-04-06T09:28:37.449204Z",
     "iopub.status.busy": "2023-04-06T09:28:37.448829Z",
     "iopub.status.idle": "2023-04-06T09:28:37.455215Z",
     "shell.execute_reply": "2023-04-06T09:28:37.454035Z"
    },
    "papermill": {
     "duration": 0.033374,
     "end_time": "2023-04-06T09:28:37.457654",
     "exception": false,
     "start_time": "2023-04-06T09:28:37.424280",
     "status": "completed"
    },
    "tags": []
   },
   "outputs": [],
   "source": [
    "mean =test_data['Age'].mean()\n",
    "test_data['Age'].replace(np.nan,mean,inplace=True)"
   ]
  },
  {
   "cell_type": "code",
   "execution_count": 26,
   "id": "6895be66",
   "metadata": {
    "execution": {
     "iopub.execute_input": "2023-04-06T09:28:37.505790Z",
     "iopub.status.busy": "2023-04-06T09:28:37.505388Z",
     "iopub.status.idle": "2023-04-06T09:28:37.525221Z",
     "shell.execute_reply": "2023-04-06T09:28:37.524420Z"
    },
    "papermill": {
     "duration": 0.046247,
     "end_time": "2023-04-06T09:28:37.527281",
     "exception": false,
     "start_time": "2023-04-06T09:28:37.481034",
     "status": "completed"
    },
    "tags": []
   },
   "outputs": [
    {
     "data": {
      "text/html": [
       "<div>\n",
       "<style scoped>\n",
       "    .dataframe tbody tr th:only-of-type {\n",
       "        vertical-align: middle;\n",
       "    }\n",
       "\n",
       "    .dataframe tbody tr th {\n",
       "        vertical-align: top;\n",
       "    }\n",
       "\n",
       "    .dataframe thead th {\n",
       "        text-align: right;\n",
       "    }\n",
       "</style>\n",
       "<table border=\"1\" class=\"dataframe\">\n",
       "  <thead>\n",
       "    <tr style=\"text-align: right;\">\n",
       "      <th></th>\n",
       "      <th>PassengerId</th>\n",
       "      <th>HomePlanet</th>\n",
       "      <th>CryoSleep</th>\n",
       "      <th>Cabin</th>\n",
       "      <th>Destination</th>\n",
       "      <th>Age</th>\n",
       "      <th>VIP</th>\n",
       "      <th>RoomService</th>\n",
       "      <th>FoodCourt</th>\n",
       "      <th>ShoppingMall</th>\n",
       "      <th>Spa</th>\n",
       "      <th>VRDeck</th>\n",
       "      <th>Name</th>\n",
       "      <th>Transported</th>\n",
       "    </tr>\n",
       "  </thead>\n",
       "  <tbody>\n",
       "    <tr>\n",
       "      <th>0</th>\n",
       "      <td>0001_01</td>\n",
       "      <td>Europa</td>\n",
       "      <td>False</td>\n",
       "      <td>B/0/P</td>\n",
       "      <td>TRAPPIST-1e</td>\n",
       "      <td>39.0</td>\n",
       "      <td>False</td>\n",
       "      <td>0.0</td>\n",
       "      <td>0.0</td>\n",
       "      <td>0.0</td>\n",
       "      <td>0.0</td>\n",
       "      <td>0.0</td>\n",
       "      <td>Maham Ofracculy</td>\n",
       "      <td>False</td>\n",
       "    </tr>\n",
       "    <tr>\n",
       "      <th>1</th>\n",
       "      <td>0002_01</td>\n",
       "      <td>Earth</td>\n",
       "      <td>False</td>\n",
       "      <td>F/0/S</td>\n",
       "      <td>TRAPPIST-1e</td>\n",
       "      <td>24.0</td>\n",
       "      <td>False</td>\n",
       "      <td>109.0</td>\n",
       "      <td>9.0</td>\n",
       "      <td>25.0</td>\n",
       "      <td>549.0</td>\n",
       "      <td>44.0</td>\n",
       "      <td>Juanna Vines</td>\n",
       "      <td>True</td>\n",
       "    </tr>\n",
       "    <tr>\n",
       "      <th>2</th>\n",
       "      <td>0003_01</td>\n",
       "      <td>Europa</td>\n",
       "      <td>False</td>\n",
       "      <td>A/0/S</td>\n",
       "      <td>TRAPPIST-1e</td>\n",
       "      <td>58.0</td>\n",
       "      <td>True</td>\n",
       "      <td>43.0</td>\n",
       "      <td>3576.0</td>\n",
       "      <td>0.0</td>\n",
       "      <td>6715.0</td>\n",
       "      <td>49.0</td>\n",
       "      <td>Altark Susent</td>\n",
       "      <td>False</td>\n",
       "    </tr>\n",
       "    <tr>\n",
       "      <th>3</th>\n",
       "      <td>0003_02</td>\n",
       "      <td>Europa</td>\n",
       "      <td>False</td>\n",
       "      <td>A/0/S</td>\n",
       "      <td>TRAPPIST-1e</td>\n",
       "      <td>33.0</td>\n",
       "      <td>False</td>\n",
       "      <td>0.0</td>\n",
       "      <td>1283.0</td>\n",
       "      <td>371.0</td>\n",
       "      <td>3329.0</td>\n",
       "      <td>193.0</td>\n",
       "      <td>Solam Susent</td>\n",
       "      <td>False</td>\n",
       "    </tr>\n",
       "    <tr>\n",
       "      <th>4</th>\n",
       "      <td>0004_01</td>\n",
       "      <td>Earth</td>\n",
       "      <td>False</td>\n",
       "      <td>F/1/S</td>\n",
       "      <td>TRAPPIST-1e</td>\n",
       "      <td>16.0</td>\n",
       "      <td>False</td>\n",
       "      <td>303.0</td>\n",
       "      <td>70.0</td>\n",
       "      <td>151.0</td>\n",
       "      <td>565.0</td>\n",
       "      <td>2.0</td>\n",
       "      <td>Willy Santantines</td>\n",
       "      <td>True</td>\n",
       "    </tr>\n",
       "  </tbody>\n",
       "</table>\n",
       "</div>"
      ],
      "text/plain": [
       "  PassengerId HomePlanet  CryoSleep  Cabin  Destination   Age    VIP  \\\n",
       "0     0001_01     Europa      False  B/0/P  TRAPPIST-1e  39.0  False   \n",
       "1     0002_01      Earth      False  F/0/S  TRAPPIST-1e  24.0  False   \n",
       "2     0003_01     Europa      False  A/0/S  TRAPPIST-1e  58.0   True   \n",
       "3     0003_02     Europa      False  A/0/S  TRAPPIST-1e  33.0  False   \n",
       "4     0004_01      Earth      False  F/1/S  TRAPPIST-1e  16.0  False   \n",
       "\n",
       "   RoomService  FoodCourt  ShoppingMall     Spa  VRDeck               Name  \\\n",
       "0          0.0        0.0           0.0     0.0     0.0    Maham Ofracculy   \n",
       "1        109.0        9.0          25.0   549.0    44.0       Juanna Vines   \n",
       "2         43.0     3576.0           0.0  6715.0    49.0      Altark Susent   \n",
       "3          0.0     1283.0         371.0  3329.0   193.0       Solam Susent   \n",
       "4        303.0       70.0         151.0   565.0     2.0  Willy Santantines   \n",
       "\n",
       "   Transported  \n",
       "0        False  \n",
       "1         True  \n",
       "2        False  \n",
       "3        False  \n",
       "4         True  "
      ]
     },
     "execution_count": 26,
     "metadata": {},
     "output_type": "execute_result"
    }
   ],
   "source": [
    "train_data.head()\n",
    "# train_data['RoomService'].value_counts()"
   ]
  },
  {
   "cell_type": "code",
   "execution_count": 27,
   "id": "4902d37e",
   "metadata": {
    "execution": {
     "iopub.execute_input": "2023-04-06T09:28:37.575725Z",
     "iopub.status.busy": "2023-04-06T09:28:37.575298Z",
     "iopub.status.idle": "2023-04-06T09:28:37.586588Z",
     "shell.execute_reply": "2023-04-06T09:28:37.585791Z"
    },
    "papermill": {
     "duration": 0.038496,
     "end_time": "2023-04-06T09:28:37.588723",
     "exception": false,
     "start_time": "2023-04-06T09:28:37.550227",
     "status": "completed"
    },
    "tags": []
   },
   "outputs": [
    {
     "data": {
      "text/plain": [
       "0"
      ]
     },
     "execution_count": 27,
     "metadata": {},
     "output_type": "execute_result"
    }
   ],
   "source": [
    "# Fill the empty name cells with 'Unknown' in train_data.csv\n",
    "train_data['Name'].fillna('Unknown',inplace =True)\n",
    "\n",
    "# display empty cells\n",
    "train_data['Name'].isnull().sum()"
   ]
  },
  {
   "cell_type": "code",
   "execution_count": 28,
   "id": "41080a57",
   "metadata": {
    "execution": {
     "iopub.execute_input": "2023-04-06T09:28:37.638101Z",
     "iopub.status.busy": "2023-04-06T09:28:37.637703Z",
     "iopub.status.idle": "2023-04-06T09:28:37.645585Z",
     "shell.execute_reply": "2023-04-06T09:28:37.644834Z"
    },
    "papermill": {
     "duration": 0.035771,
     "end_time": "2023-04-06T09:28:37.647580",
     "exception": false,
     "start_time": "2023-04-06T09:28:37.611809",
     "status": "completed"
    },
    "tags": []
   },
   "outputs": [
    {
     "data": {
      "text/plain": [
       "0"
      ]
     },
     "execution_count": 28,
     "metadata": {},
     "output_type": "execute_result"
    }
   ],
   "source": [
    "# Fill the empty name cells with 'Unknown' in test_data.csv\n",
    "test_data['Name'].fillna('Unknown',inplace =True)\n",
    "\n",
    "# display empty cells\n",
    "test_data['Name'].isnull().sum()"
   ]
  },
  {
   "cell_type": "code",
   "execution_count": 29,
   "id": "527c0ba2",
   "metadata": {
    "execution": {
     "iopub.execute_input": "2023-04-06T09:28:37.695959Z",
     "iopub.status.busy": "2023-04-06T09:28:37.695187Z",
     "iopub.status.idle": "2023-04-06T09:28:37.702092Z",
     "shell.execute_reply": "2023-04-06T09:28:37.701100Z"
    },
    "papermill": {
     "duration": 0.0339,
     "end_time": "2023-04-06T09:28:37.704484",
     "exception": false,
     "start_time": "2023-04-06T09:28:37.670584",
     "status": "completed"
    },
    "tags": []
   },
   "outputs": [],
   "source": [
    "# Spa column\n",
    "# Convert to type float since Spa represents currency\n",
    "train_data['Spa']=train_data['Spa'].astype('float')\n",
    "\n",
    "# fill null rows with median\n",
    "median_spa =train_data['Spa'].median()\n",
    "train_data['Spa'].fillna(median_spa,inplace=True)\n"
   ]
  },
  {
   "cell_type": "code",
   "execution_count": 30,
   "id": "24a0db29",
   "metadata": {
    "execution": {
     "iopub.execute_input": "2023-04-06T09:28:37.752737Z",
     "iopub.status.busy": "2023-04-06T09:28:37.752026Z",
     "iopub.status.idle": "2023-04-06T09:28:37.759133Z",
     "shell.execute_reply": "2023-04-06T09:28:37.758144Z"
    },
    "papermill": {
     "duration": 0.033686,
     "end_time": "2023-04-06T09:28:37.761267",
     "exception": false,
     "start_time": "2023-04-06T09:28:37.727581",
     "status": "completed"
    },
    "tags": []
   },
   "outputs": [
    {
     "data": {
      "text/plain": [
       "0"
      ]
     },
     "execution_count": 30,
     "metadata": {},
     "output_type": "execute_result"
    }
   ],
   "source": [
    "train_data['Spa'].isnull().sum()"
   ]
  },
  {
   "cell_type": "code",
   "execution_count": 31,
   "id": "77c654c0",
   "metadata": {
    "execution": {
     "iopub.execute_input": "2023-04-06T09:28:37.809799Z",
     "iopub.status.busy": "2023-04-06T09:28:37.809074Z",
     "iopub.status.idle": "2023-04-06T09:28:37.816520Z",
     "shell.execute_reply": "2023-04-06T09:28:37.815199Z"
    },
    "papermill": {
     "duration": 0.034466,
     "end_time": "2023-04-06T09:28:37.818971",
     "exception": false,
     "start_time": "2023-04-06T09:28:37.784505",
     "status": "completed"
    },
    "tags": []
   },
   "outputs": [],
   "source": [
    "# Convert to type float since Spa represents currency\n",
    "test_data['Spa']=test_data['Spa'].astype('float')\n",
    "\n",
    "# fill null rows with median\n",
    "median_spa =train_data['Spa'].median()\n",
    "test_data['Spa'].fillna(median_spa,inplace=True)"
   ]
  },
  {
   "cell_type": "code",
   "execution_count": 32,
   "id": "b09bf27a",
   "metadata": {
    "execution": {
     "iopub.execute_input": "2023-04-06T09:28:37.867166Z",
     "iopub.status.busy": "2023-04-06T09:28:37.866713Z",
     "iopub.status.idle": "2023-04-06T09:28:37.874850Z",
     "shell.execute_reply": "2023-04-06T09:28:37.873744Z"
    },
    "papermill": {
     "duration": 0.034852,
     "end_time": "2023-04-06T09:28:37.877108",
     "exception": false,
     "start_time": "2023-04-06T09:28:37.842256",
     "status": "completed"
    },
    "tags": []
   },
   "outputs": [],
   "source": [
    "\n",
    "# RoomService column\n",
    "# Convert to type float since RoomService represents currency\n",
    "train_data['RoomService']=train_data['RoomService'].astype('float')\n",
    "\n",
    "# fill null rows with median\n",
    "median_roomservice =train_data['RoomService'].median()\n",
    "train_data['RoomService'].fillna(median_roomservice,inplace=True)"
   ]
  },
  {
   "cell_type": "code",
   "execution_count": 33,
   "id": "9a654c4e",
   "metadata": {
    "execution": {
     "iopub.execute_input": "2023-04-06T09:28:37.925315Z",
     "iopub.status.busy": "2023-04-06T09:28:37.924892Z",
     "iopub.status.idle": "2023-04-06T09:28:37.932058Z",
     "shell.execute_reply": "2023-04-06T09:28:37.931188Z"
    },
    "papermill": {
     "duration": 0.034121,
     "end_time": "2023-04-06T09:28:37.934431",
     "exception": false,
     "start_time": "2023-04-06T09:28:37.900310",
     "status": "completed"
    },
    "tags": []
   },
   "outputs": [],
   "source": [
    "# Convert to type float since RoomServicerepresents currency in test_data.csv\n",
    "test_data['RoomService']=test_data['RoomService'].astype('float')\n",
    "\n",
    "# fill null rows with median\n",
    "median_roomservice =train_data['RoomService'].median()\n",
    "test_data['RoomService'].fillna(median_roomservice,inplace=True)"
   ]
  },
  {
   "cell_type": "code",
   "execution_count": null,
   "id": "13a87649",
   "metadata": {
    "papermill": {
     "duration": 0.022894,
     "end_time": "2023-04-06T09:28:37.980593",
     "exception": false,
     "start_time": "2023-04-06T09:28:37.957699",
     "status": "completed"
    },
    "tags": []
   },
   "outputs": [],
   "source": []
  },
  {
   "cell_type": "code",
   "execution_count": 34,
   "id": "2f3fe459",
   "metadata": {
    "execution": {
     "iopub.execute_input": "2023-04-06T09:28:38.029613Z",
     "iopub.status.busy": "2023-04-06T09:28:38.028685Z",
     "iopub.status.idle": "2023-04-06T09:28:38.037033Z",
     "shell.execute_reply": "2023-04-06T09:28:38.035860Z"
    },
    "papermill": {
     "duration": 0.035634,
     "end_time": "2023-04-06T09:28:38.039512",
     "exception": false,
     "start_time": "2023-04-06T09:28:38.003878",
     "status": "completed"
    },
    "tags": []
   },
   "outputs": [],
   "source": [
    "# VRDeck column\n",
    "# Convert to type float since VRDeck represents currency\n",
    "train_data['VRDeck']=train_data['VRDeck'].astype('float')\n",
    "\n",
    "# fill null rows with median\n",
    "median_vrdeck =train_data['VRDeck'].median()\n",
    "train_data['VRDeck'].fillna(median_vrdeck,inplace=True)"
   ]
  },
  {
   "cell_type": "code",
   "execution_count": 35,
   "id": "b9907f6c",
   "metadata": {
    "execution": {
     "iopub.execute_input": "2023-04-06T09:28:38.087648Z",
     "iopub.status.busy": "2023-04-06T09:28:38.087236Z",
     "iopub.status.idle": "2023-04-06T09:28:38.094617Z",
     "shell.execute_reply": "2023-04-06T09:28:38.093456Z"
    },
    "papermill": {
     "duration": 0.034639,
     "end_time": "2023-04-06T09:28:38.097254",
     "exception": false,
     "start_time": "2023-04-06T09:28:38.062615",
     "status": "completed"
    },
    "tags": []
   },
   "outputs": [],
   "source": [
    "# VRDeck column\n",
    "# Convert to type float since VRDeck represents currency:test_data.csv dataset\n",
    "test_data['VRDeck']=test_data['VRDeck'].astype('float')\n",
    "\n",
    "# fill null rows with median\n",
    "median_vrdeck =test_data['VRDeck'].median()\n",
    "test_data['VRDeck'].fillna(median_vrdeck,inplace=True)"
   ]
  },
  {
   "cell_type": "code",
   "execution_count": 36,
   "id": "43faef30",
   "metadata": {
    "execution": {
     "iopub.execute_input": "2023-04-06T09:28:38.146276Z",
     "iopub.status.busy": "2023-04-06T09:28:38.145855Z",
     "iopub.status.idle": "2023-04-06T09:28:38.153667Z",
     "shell.execute_reply": "2023-04-06T09:28:38.152515Z"
    },
    "papermill": {
     "duration": 0.034815,
     "end_time": "2023-04-06T09:28:38.155965",
     "exception": false,
     "start_time": "2023-04-06T09:28:38.121150",
     "status": "completed"
    },
    "tags": []
   },
   "outputs": [],
   "source": [
    "# FoodCourt column\n",
    "# Convert to type float since FoodCourt represents currency\n",
    "train_data['FoodCourt']=train_data['FoodCourt'].astype('float')\n",
    "\n",
    "# fill null rows with median\n",
    "median_foodcourt =train_data['FoodCourt'].median()\n",
    "train_data['FoodCourt'].fillna(median_foodcourt,inplace=True)"
   ]
  },
  {
   "cell_type": "code",
   "execution_count": 37,
   "id": "da1ecfdf",
   "metadata": {
    "execution": {
     "iopub.execute_input": "2023-04-06T09:28:38.204492Z",
     "iopub.status.busy": "2023-04-06T09:28:38.204093Z",
     "iopub.status.idle": "2023-04-06T09:28:38.211979Z",
     "shell.execute_reply": "2023-04-06T09:28:38.210815Z"
    },
    "papermill": {
     "duration": 0.03484,
     "end_time": "2023-04-06T09:28:38.214231",
     "exception": false,
     "start_time": "2023-04-06T09:28:38.179391",
     "status": "completed"
    },
    "tags": []
   },
   "outputs": [],
   "source": [
    "# FoodCourt column\n",
    "# Convert to type float since FoodCourt represents currency:test_data.csv\n",
    "test_data['FoodCourt']=test_data['FoodCourt'].astype('float')\n",
    "\n",
    "# fill null rows with median\n",
    "median_foodcourt =test_data['FoodCourt'].median()\n",
    "test_data['FoodCourt'].fillna(median_foodcourt,inplace=True)"
   ]
  },
  {
   "cell_type": "code",
   "execution_count": 38,
   "id": "f39ec6a6",
   "metadata": {
    "execution": {
     "iopub.execute_input": "2023-04-06T09:28:38.262852Z",
     "iopub.status.busy": "2023-04-06T09:28:38.262412Z",
     "iopub.status.idle": "2023-04-06T09:28:38.270127Z",
     "shell.execute_reply": "2023-04-06T09:28:38.269255Z"
    },
    "papermill": {
     "duration": 0.034852,
     "end_time": "2023-04-06T09:28:38.272424",
     "exception": false,
     "start_time": "2023-04-06T09:28:38.237572",
     "status": "completed"
    },
    "tags": []
   },
   "outputs": [],
   "source": [
    "# ShoppingMall column\n",
    "# Convert to type float since ShoppingMall represents currency\n",
    "train_data['ShoppingMall']=train_data['ShoppingMall'].astype('float')\n",
    "\n",
    "# fill null rows with median\n",
    "median_shoppingmall =train_data['ShoppingMall'].median()\n",
    "train_data['ShoppingMall'].fillna(median_shoppingmall,inplace=True)"
   ]
  },
  {
   "cell_type": "code",
   "execution_count": 39,
   "id": "63fc4e72",
   "metadata": {
    "execution": {
     "iopub.execute_input": "2023-04-06T09:28:38.322123Z",
     "iopub.status.busy": "2023-04-06T09:28:38.321680Z",
     "iopub.status.idle": "2023-04-06T09:28:38.330414Z",
     "shell.execute_reply": "2023-04-06T09:28:38.329500Z"
    },
    "papermill": {
     "duration": 0.036993,
     "end_time": "2023-04-06T09:28:38.332859",
     "exception": false,
     "start_time": "2023-04-06T09:28:38.295866",
     "status": "completed"
    },
    "tags": []
   },
   "outputs": [],
   "source": [
    "# ShoppingMall column\n",
    "# Convert to type float since ShoppingMall represents currency:test_data.csv\n",
    "test_data['ShoppingMall']=test_data['ShoppingMall'].astype('float')\n",
    "\n",
    "# fill null rows with median\n",
    "median_shoppingmall =test_data['ShoppingMall'].median()\n",
    "test_data['ShoppingMall'].fillna(median_shoppingmall,inplace=True)"
   ]
  },
  {
   "cell_type": "code",
   "execution_count": 40,
   "id": "dff491c8",
   "metadata": {
    "execution": {
     "iopub.execute_input": "2023-04-06T09:28:38.382117Z",
     "iopub.status.busy": "2023-04-06T09:28:38.380856Z",
     "iopub.status.idle": "2023-04-06T09:28:38.389295Z",
     "shell.execute_reply": "2023-04-06T09:28:38.388376Z"
    },
    "papermill": {
     "duration": 0.035557,
     "end_time": "2023-04-06T09:28:38.391596",
     "exception": false,
     "start_time": "2023-04-06T09:28:38.356039",
     "status": "completed"
    },
    "tags": []
   },
   "outputs": [
    {
     "data": {
      "text/plain": [
       "0"
      ]
     },
     "execution_count": 40,
     "metadata": {},
     "output_type": "execute_result"
    }
   ],
   "source": [
    "train_data['ShoppingMall'].isnull().sum()"
   ]
  },
  {
   "cell_type": "markdown",
   "id": "dd9e4bd6",
   "metadata": {
    "papermill": {
     "duration": 0.023085,
     "end_time": "2023-04-06T09:28:38.438187",
     "exception": false,
     "start_time": "2023-04-06T09:28:38.415102",
     "status": "completed"
    },
    "tags": []
   },
   "source": [
    "### Cabin Takes the form deck/num/side, where side can be either P for Port or S for Starboard."
   ]
  },
  {
   "cell_type": "code",
   "execution_count": 41,
   "id": "8e597fc3",
   "metadata": {
    "execution": {
     "iopub.execute_input": "2023-04-06T09:28:38.487415Z",
     "iopub.status.busy": "2023-04-06T09:28:38.486250Z",
     "iopub.status.idle": "2023-04-06T09:28:38.494973Z",
     "shell.execute_reply": "2023-04-06T09:28:38.493922Z"
    },
    "papermill": {
     "duration": 0.035581,
     "end_time": "2023-04-06T09:28:38.497140",
     "exception": false,
     "start_time": "2023-04-06T09:28:38.461559",
     "status": "completed"
    },
    "tags": []
   },
   "outputs": [
    {
     "data": {
      "text/plain": [
       "199"
      ]
     },
     "execution_count": 41,
     "metadata": {},
     "output_type": "execute_result"
    }
   ],
   "source": [
    "\n",
    "# train_data.dropna(subset=['Cabin'],axis=0,inplace=True)\n",
    "train_data['Cabin'].isnull().sum()"
   ]
  },
  {
   "cell_type": "code",
   "execution_count": 42,
   "id": "105d35eb",
   "metadata": {
    "execution": {
     "iopub.execute_input": "2023-04-06T09:28:38.546457Z",
     "iopub.status.busy": "2023-04-06T09:28:38.545670Z",
     "iopub.status.idle": "2023-04-06T09:28:38.567359Z",
     "shell.execute_reply": "2023-04-06T09:28:38.566152Z"
    },
    "papermill": {
     "duration": 0.049551,
     "end_time": "2023-04-06T09:28:38.570107",
     "exception": false,
     "start_time": "2023-04-06T09:28:38.520556",
     "status": "completed"
    },
    "tags": []
   },
   "outputs": [],
   "source": [
    "# Split the cabin to get the sides: P or S\n",
    "train_data[\"Cabin_side\"] = train_data.Cabin.str.split(\"/\", expand=True)[2]"
   ]
  },
  {
   "cell_type": "code",
   "execution_count": 43,
   "id": "4f3c7b5e",
   "metadata": {
    "execution": {
     "iopub.execute_input": "2023-04-06T09:28:38.619602Z",
     "iopub.status.busy": "2023-04-06T09:28:38.619179Z",
     "iopub.status.idle": "2023-04-06T09:28:38.634996Z",
     "shell.execute_reply": "2023-04-06T09:28:38.633844Z"
    },
    "papermill": {
     "duration": 0.043179,
     "end_time": "2023-04-06T09:28:38.637386",
     "exception": false,
     "start_time": "2023-04-06T09:28:38.594207",
     "status": "completed"
    },
    "tags": []
   },
   "outputs": [],
   "source": [
    "# Sum of null values in Cabin row in test_csv\n",
    "# test_data['Cabin'].isnull().sum()\n",
    "# Split the cabin to get the sides: P or S\n",
    "test_data[\"Cabin_side\"] = test_data.Cabin.str.split(\"/\", expand=True)[2]\n"
   ]
  },
  {
   "cell_type": "code",
   "execution_count": 44,
   "id": "5d80cb19",
   "metadata": {
    "execution": {
     "iopub.execute_input": "2023-04-06T09:28:38.686745Z",
     "iopub.status.busy": "2023-04-06T09:28:38.686339Z",
     "iopub.status.idle": "2023-04-06T09:28:38.694167Z",
     "shell.execute_reply": "2023-04-06T09:28:38.693108Z"
    },
    "papermill": {
     "duration": 0.035149,
     "end_time": "2023-04-06T09:28:38.696463",
     "exception": false,
     "start_time": "2023-04-06T09:28:38.661314",
     "status": "completed"
    },
    "tags": []
   },
   "outputs": [
    {
     "data": {
      "text/plain": [
       "100"
      ]
     },
     "execution_count": 44,
     "metadata": {},
     "output_type": "execute_result"
    }
   ],
   "source": [
    "# Emppty \n",
    "test_data['Cabin_side'].isnull().sum()"
   ]
  },
  {
   "cell_type": "code",
   "execution_count": 45,
   "id": "6ffa0f7e",
   "metadata": {
    "execution": {
     "iopub.execute_input": "2023-04-06T09:28:38.745351Z",
     "iopub.status.busy": "2023-04-06T09:28:38.744943Z",
     "iopub.status.idle": "2023-04-06T09:28:38.753698Z",
     "shell.execute_reply": "2023-04-06T09:28:38.752859Z"
    },
    "papermill": {
     "duration": 0.035628,
     "end_time": "2023-04-06T09:28:38.755714",
     "exception": false,
     "start_time": "2023-04-06T09:28:38.720086",
     "status": "completed"
    },
    "tags": []
   },
   "outputs": [
    {
     "data": {
      "text/plain": [
       "S    4288\n",
       "P    4206\n",
       "Name: Cabin_side, dtype: int64"
      ]
     },
     "execution_count": 45,
     "metadata": {},
     "output_type": "execute_result"
    }
   ],
   "source": [
    "# display the count of passengers in cabin sides S & P in train_data.csv\n",
    "train_data['Cabin_side'].value_counts()"
   ]
  },
  {
   "cell_type": "code",
   "execution_count": 46,
   "id": "d93f8a03",
   "metadata": {
    "execution": {
     "iopub.execute_input": "2023-04-06T09:28:38.804750Z",
     "iopub.status.busy": "2023-04-06T09:28:38.804341Z",
     "iopub.status.idle": "2023-04-06T09:28:38.810905Z",
     "shell.execute_reply": "2023-04-06T09:28:38.809810Z"
    },
    "papermill": {
     "duration": 0.03391,
     "end_time": "2023-04-06T09:28:38.813284",
     "exception": false,
     "start_time": "2023-04-06T09:28:38.779374",
     "status": "completed"
    },
    "tags": []
   },
   "outputs": [],
   "source": [
    "# Convert Cabin side from object to string data type\n",
    "train_data['Cabin_side'] =train_data['Cabin_side'].astype('string')\n"
   ]
  },
  {
   "cell_type": "code",
   "execution_count": 47,
   "id": "516cb70c",
   "metadata": {
    "execution": {
     "iopub.execute_input": "2023-04-06T09:28:38.862193Z",
     "iopub.status.busy": "2023-04-06T09:28:38.861779Z",
     "iopub.status.idle": "2023-04-06T09:28:38.883166Z",
     "shell.execute_reply": "2023-04-06T09:28:38.881869Z"
    },
    "papermill": {
     "duration": 0.048691,
     "end_time": "2023-04-06T09:28:38.885567",
     "exception": false,
     "start_time": "2023-04-06T09:28:38.836876",
     "status": "completed"
    },
    "tags": []
   },
   "outputs": [
    {
     "name": "stdout",
     "output_type": "stream",
     "text": [
      "<class 'pandas.core.frame.DataFrame'>\n",
      "RangeIndex: 8693 entries, 0 to 8692\n",
      "Data columns (total 15 columns):\n",
      " #   Column        Non-Null Count  Dtype  \n",
      "---  ------        --------------  -----  \n",
      " 0   PassengerId   8693 non-null   object \n",
      " 1   HomePlanet    8693 non-null   object \n",
      " 2   CryoSleep     8693 non-null   bool   \n",
      " 3   Cabin         8494 non-null   object \n",
      " 4   Destination   8693 non-null   object \n",
      " 5   Age           8693 non-null   float64\n",
      " 6   VIP           8693 non-null   bool   \n",
      " 7   RoomService   8693 non-null   float64\n",
      " 8   FoodCourt     8693 non-null   float64\n",
      " 9   ShoppingMall  8693 non-null   float64\n",
      " 10  Spa           8693 non-null   float64\n",
      " 11  VRDeck        8693 non-null   float64\n",
      " 12  Name          8693 non-null   object \n",
      " 13  Transported   8693 non-null   bool   \n",
      " 14  Cabin_side    8494 non-null   string \n",
      "dtypes: bool(3), float64(6), object(5), string(1)\n",
      "memory usage: 840.6+ KB\n"
     ]
    }
   ],
   "source": [
    "train_data.info()"
   ]
  },
  {
   "cell_type": "code",
   "execution_count": 48,
   "id": "8eb02235",
   "metadata": {
    "execution": {
     "iopub.execute_input": "2023-04-06T09:28:38.935484Z",
     "iopub.status.busy": "2023-04-06T09:28:38.935056Z",
     "iopub.status.idle": "2023-04-06T09:28:38.941485Z",
     "shell.execute_reply": "2023-04-06T09:28:38.940458Z"
    },
    "papermill": {
     "duration": 0.033525,
     "end_time": "2023-04-06T09:28:38.943568",
     "exception": false,
     "start_time": "2023-04-06T09:28:38.910043",
     "status": "completed"
    },
    "tags": []
   },
   "outputs": [],
   "source": [
    "test_data['Cabin_side'] =test_data['Cabin_side'].astype('string')"
   ]
  },
  {
   "cell_type": "code",
   "execution_count": 49,
   "id": "41016251",
   "metadata": {
    "execution": {
     "iopub.execute_input": "2023-04-06T09:28:38.992987Z",
     "iopub.status.busy": "2023-04-06T09:28:38.992561Z",
     "iopub.status.idle": "2023-04-06T09:28:38.999335Z",
     "shell.execute_reply": "2023-04-06T09:28:38.998182Z"
    },
    "papermill": {
     "duration": 0.034175,
     "end_time": "2023-04-06T09:28:39.001701",
     "exception": false,
     "start_time": "2023-04-06T09:28:38.967526",
     "status": "completed"
    },
    "tags": []
   },
   "outputs": [],
   "source": [
    "# replaced missing values with 'S' ,using central tendecy,Mode\n",
    "missing_values = 'S'\n",
    "train_data['Cabin_side'].replace(np.nan,missing_values,inplace=True)"
   ]
  },
  {
   "cell_type": "code",
   "execution_count": 50,
   "id": "4eff735a",
   "metadata": {
    "execution": {
     "iopub.execute_input": "2023-04-06T09:28:39.051074Z",
     "iopub.status.busy": "2023-04-06T09:28:39.050632Z",
     "iopub.status.idle": "2023-04-06T09:28:39.057734Z",
     "shell.execute_reply": "2023-04-06T09:28:39.056469Z"
    },
    "papermill": {
     "duration": 0.034497,
     "end_time": "2023-04-06T09:28:39.059923",
     "exception": false,
     "start_time": "2023-04-06T09:28:39.025426",
     "status": "completed"
    },
    "tags": []
   },
   "outputs": [],
   "source": [
    "missing_value = 'S'\n",
    "test_data['Cabin_side'].replace(np.nan,missing_value,inplace=True)"
   ]
  },
  {
   "cell_type": "code",
   "execution_count": 51,
   "id": "c3208f64",
   "metadata": {
    "execution": {
     "iopub.execute_input": "2023-04-06T09:28:39.109377Z",
     "iopub.status.busy": "2023-04-06T09:28:39.108951Z",
     "iopub.status.idle": "2023-04-06T09:28:39.134071Z",
     "shell.execute_reply": "2023-04-06T09:28:39.132872Z"
    },
    "papermill": {
     "duration": 0.052825,
     "end_time": "2023-04-06T09:28:39.136455",
     "exception": false,
     "start_time": "2023-04-06T09:28:39.083630",
     "status": "completed"
    },
    "tags": []
   },
   "outputs": [
    {
     "data": {
      "text/html": [
       "<div>\n",
       "<style scoped>\n",
       "    .dataframe tbody tr th:only-of-type {\n",
       "        vertical-align: middle;\n",
       "    }\n",
       "\n",
       "    .dataframe tbody tr th {\n",
       "        vertical-align: top;\n",
       "    }\n",
       "\n",
       "    .dataframe thead th {\n",
       "        text-align: right;\n",
       "    }\n",
       "</style>\n",
       "<table border=\"1\" class=\"dataframe\">\n",
       "  <thead>\n",
       "    <tr style=\"text-align: right;\">\n",
       "      <th></th>\n",
       "      <th>PassengerId</th>\n",
       "      <th>HomePlanet</th>\n",
       "      <th>CryoSleep</th>\n",
       "      <th>Destination</th>\n",
       "      <th>Age</th>\n",
       "      <th>VIP</th>\n",
       "      <th>RoomService</th>\n",
       "      <th>FoodCourt</th>\n",
       "      <th>ShoppingMall</th>\n",
       "      <th>Spa</th>\n",
       "      <th>VRDeck</th>\n",
       "      <th>Name</th>\n",
       "      <th>Transported</th>\n",
       "      <th>Cabin_side</th>\n",
       "    </tr>\n",
       "  </thead>\n",
       "  <tbody>\n",
       "    <tr>\n",
       "      <th>0</th>\n",
       "      <td>0001_01</td>\n",
       "      <td>Europa</td>\n",
       "      <td>False</td>\n",
       "      <td>TRAPPIST-1e</td>\n",
       "      <td>39.0</td>\n",
       "      <td>False</td>\n",
       "      <td>0.0</td>\n",
       "      <td>0.0</td>\n",
       "      <td>0.0</td>\n",
       "      <td>0.0</td>\n",
       "      <td>0.0</td>\n",
       "      <td>Maham Ofracculy</td>\n",
       "      <td>False</td>\n",
       "      <td>P</td>\n",
       "    </tr>\n",
       "    <tr>\n",
       "      <th>1</th>\n",
       "      <td>0002_01</td>\n",
       "      <td>Earth</td>\n",
       "      <td>False</td>\n",
       "      <td>TRAPPIST-1e</td>\n",
       "      <td>24.0</td>\n",
       "      <td>False</td>\n",
       "      <td>109.0</td>\n",
       "      <td>9.0</td>\n",
       "      <td>25.0</td>\n",
       "      <td>549.0</td>\n",
       "      <td>44.0</td>\n",
       "      <td>Juanna Vines</td>\n",
       "      <td>True</td>\n",
       "      <td>S</td>\n",
       "    </tr>\n",
       "    <tr>\n",
       "      <th>2</th>\n",
       "      <td>0003_01</td>\n",
       "      <td>Europa</td>\n",
       "      <td>False</td>\n",
       "      <td>TRAPPIST-1e</td>\n",
       "      <td>58.0</td>\n",
       "      <td>True</td>\n",
       "      <td>43.0</td>\n",
       "      <td>3576.0</td>\n",
       "      <td>0.0</td>\n",
       "      <td>6715.0</td>\n",
       "      <td>49.0</td>\n",
       "      <td>Altark Susent</td>\n",
       "      <td>False</td>\n",
       "      <td>S</td>\n",
       "    </tr>\n",
       "    <tr>\n",
       "      <th>3</th>\n",
       "      <td>0003_02</td>\n",
       "      <td>Europa</td>\n",
       "      <td>False</td>\n",
       "      <td>TRAPPIST-1e</td>\n",
       "      <td>33.0</td>\n",
       "      <td>False</td>\n",
       "      <td>0.0</td>\n",
       "      <td>1283.0</td>\n",
       "      <td>371.0</td>\n",
       "      <td>3329.0</td>\n",
       "      <td>193.0</td>\n",
       "      <td>Solam Susent</td>\n",
       "      <td>False</td>\n",
       "      <td>S</td>\n",
       "    </tr>\n",
       "    <tr>\n",
       "      <th>4</th>\n",
       "      <td>0004_01</td>\n",
       "      <td>Earth</td>\n",
       "      <td>False</td>\n",
       "      <td>TRAPPIST-1e</td>\n",
       "      <td>16.0</td>\n",
       "      <td>False</td>\n",
       "      <td>303.0</td>\n",
       "      <td>70.0</td>\n",
       "      <td>151.0</td>\n",
       "      <td>565.0</td>\n",
       "      <td>2.0</td>\n",
       "      <td>Willy Santantines</td>\n",
       "      <td>True</td>\n",
       "      <td>S</td>\n",
       "    </tr>\n",
       "  </tbody>\n",
       "</table>\n",
       "</div>"
      ],
      "text/plain": [
       "  PassengerId HomePlanet  CryoSleep  Destination   Age    VIP  RoomService  \\\n",
       "0     0001_01     Europa      False  TRAPPIST-1e  39.0  False          0.0   \n",
       "1     0002_01      Earth      False  TRAPPIST-1e  24.0  False        109.0   \n",
       "2     0003_01     Europa      False  TRAPPIST-1e  58.0   True         43.0   \n",
       "3     0003_02     Europa      False  TRAPPIST-1e  33.0  False          0.0   \n",
       "4     0004_01      Earth      False  TRAPPIST-1e  16.0  False        303.0   \n",
       "\n",
       "   FoodCourt  ShoppingMall     Spa  VRDeck               Name  Transported  \\\n",
       "0        0.0           0.0     0.0     0.0    Maham Ofracculy        False   \n",
       "1        9.0          25.0   549.0    44.0       Juanna Vines         True   \n",
       "2     3576.0           0.0  6715.0    49.0      Altark Susent        False   \n",
       "3     1283.0         371.0  3329.0   193.0       Solam Susent        False   \n",
       "4       70.0         151.0   565.0     2.0  Willy Santantines         True   \n",
       "\n",
       "  Cabin_side  \n",
       "0          P  \n",
       "1          S  \n",
       "2          S  \n",
       "3          S  \n",
       "4          S  "
      ]
     },
     "execution_count": 51,
     "metadata": {},
     "output_type": "execute_result"
    }
   ],
   "source": [
    "# train_data.drop(train_data['Cabin'],axis=1,inplace=True)\n",
    "# Dropped the Cabin column from the dataset\n",
    "train_data.drop(['Cabin'],axis=1 ,inplace=True)\n",
    "\n",
    "train_data.head()"
   ]
  },
  {
   "cell_type": "code",
   "execution_count": 52,
   "id": "29bc20a2",
   "metadata": {
    "execution": {
     "iopub.execute_input": "2023-04-06T09:28:39.186935Z",
     "iopub.status.busy": "2023-04-06T09:28:39.186494Z",
     "iopub.status.idle": "2023-04-06T09:28:39.196212Z",
     "shell.execute_reply": "2023-04-06T09:28:39.195265Z"
    },
    "papermill": {
     "duration": 0.037742,
     "end_time": "2023-04-06T09:28:39.198354",
     "exception": false,
     "start_time": "2023-04-06T09:28:39.160612",
     "status": "completed"
    },
    "tags": []
   },
   "outputs": [
    {
     "data": {
      "text/plain": [
       "S    2193\n",
       "P    2084\n",
       "Name: Cabin_side, dtype: Int64"
      ]
     },
     "execution_count": 52,
     "metadata": {},
     "output_type": "execute_result"
    }
   ],
   "source": [
    "test_data['Cabin_side'].value_counts()"
   ]
  },
  {
   "cell_type": "code",
   "execution_count": 53,
   "id": "33ebc703",
   "metadata": {
    "execution": {
     "iopub.execute_input": "2023-04-06T09:28:39.248568Z",
     "iopub.status.busy": "2023-04-06T09:28:39.248193Z",
     "iopub.status.idle": "2023-04-06T09:28:39.270743Z",
     "shell.execute_reply": "2023-04-06T09:28:39.269576Z"
    },
    "papermill": {
     "duration": 0.050496,
     "end_time": "2023-04-06T09:28:39.273015",
     "exception": false,
     "start_time": "2023-04-06T09:28:39.222519",
     "status": "completed"
    },
    "tags": []
   },
   "outputs": [
    {
     "data": {
      "text/html": [
       "<div>\n",
       "<style scoped>\n",
       "    .dataframe tbody tr th:only-of-type {\n",
       "        vertical-align: middle;\n",
       "    }\n",
       "\n",
       "    .dataframe tbody tr th {\n",
       "        vertical-align: top;\n",
       "    }\n",
       "\n",
       "    .dataframe thead th {\n",
       "        text-align: right;\n",
       "    }\n",
       "</style>\n",
       "<table border=\"1\" class=\"dataframe\">\n",
       "  <thead>\n",
       "    <tr style=\"text-align: right;\">\n",
       "      <th></th>\n",
       "      <th>PassengerId</th>\n",
       "      <th>HomePlanet</th>\n",
       "      <th>CryoSleep</th>\n",
       "      <th>Destination</th>\n",
       "      <th>Age</th>\n",
       "      <th>VIP</th>\n",
       "      <th>RoomService</th>\n",
       "      <th>FoodCourt</th>\n",
       "      <th>ShoppingMall</th>\n",
       "      <th>Spa</th>\n",
       "      <th>VRDeck</th>\n",
       "      <th>Name</th>\n",
       "      <th>Cabin_side</th>\n",
       "    </tr>\n",
       "  </thead>\n",
       "  <tbody>\n",
       "    <tr>\n",
       "      <th>0</th>\n",
       "      <td>0013_01</td>\n",
       "      <td>Earth</td>\n",
       "      <td>True</td>\n",
       "      <td>TRAPPIST-1e</td>\n",
       "      <td>27.0</td>\n",
       "      <td>False</td>\n",
       "      <td>0.0</td>\n",
       "      <td>0.0</td>\n",
       "      <td>0.0</td>\n",
       "      <td>0.0</td>\n",
       "      <td>0.0</td>\n",
       "      <td>Nelly Carsoning</td>\n",
       "      <td>S</td>\n",
       "    </tr>\n",
       "    <tr>\n",
       "      <th>1</th>\n",
       "      <td>0018_01</td>\n",
       "      <td>Earth</td>\n",
       "      <td>False</td>\n",
       "      <td>TRAPPIST-1e</td>\n",
       "      <td>19.0</td>\n",
       "      <td>False</td>\n",
       "      <td>0.0</td>\n",
       "      <td>9.0</td>\n",
       "      <td>0.0</td>\n",
       "      <td>2823.0</td>\n",
       "      <td>0.0</td>\n",
       "      <td>Lerome Peckers</td>\n",
       "      <td>S</td>\n",
       "    </tr>\n",
       "    <tr>\n",
       "      <th>2</th>\n",
       "      <td>0019_01</td>\n",
       "      <td>Europa</td>\n",
       "      <td>True</td>\n",
       "      <td>55 Cancri e</td>\n",
       "      <td>31.0</td>\n",
       "      <td>False</td>\n",
       "      <td>0.0</td>\n",
       "      <td>0.0</td>\n",
       "      <td>0.0</td>\n",
       "      <td>0.0</td>\n",
       "      <td>0.0</td>\n",
       "      <td>Sabih Unhearfus</td>\n",
       "      <td>S</td>\n",
       "    </tr>\n",
       "    <tr>\n",
       "      <th>3</th>\n",
       "      <td>0021_01</td>\n",
       "      <td>Europa</td>\n",
       "      <td>False</td>\n",
       "      <td>TRAPPIST-1e</td>\n",
       "      <td>38.0</td>\n",
       "      <td>False</td>\n",
       "      <td>0.0</td>\n",
       "      <td>6652.0</td>\n",
       "      <td>0.0</td>\n",
       "      <td>181.0</td>\n",
       "      <td>585.0</td>\n",
       "      <td>Meratz Caltilter</td>\n",
       "      <td>S</td>\n",
       "    </tr>\n",
       "    <tr>\n",
       "      <th>4</th>\n",
       "      <td>0023_01</td>\n",
       "      <td>Earth</td>\n",
       "      <td>False</td>\n",
       "      <td>TRAPPIST-1e</td>\n",
       "      <td>20.0</td>\n",
       "      <td>False</td>\n",
       "      <td>10.0</td>\n",
       "      <td>0.0</td>\n",
       "      <td>635.0</td>\n",
       "      <td>0.0</td>\n",
       "      <td>0.0</td>\n",
       "      <td>Brence Harperez</td>\n",
       "      <td>S</td>\n",
       "    </tr>\n",
       "  </tbody>\n",
       "</table>\n",
       "</div>"
      ],
      "text/plain": [
       "  PassengerId HomePlanet CryoSleep  Destination   Age    VIP  RoomService  \\\n",
       "0     0013_01      Earth      True  TRAPPIST-1e  27.0  False          0.0   \n",
       "1     0018_01      Earth     False  TRAPPIST-1e  19.0  False          0.0   \n",
       "2     0019_01     Europa      True  55 Cancri e  31.0  False          0.0   \n",
       "3     0021_01     Europa     False  TRAPPIST-1e  38.0  False          0.0   \n",
       "4     0023_01      Earth     False  TRAPPIST-1e  20.0  False         10.0   \n",
       "\n",
       "   FoodCourt  ShoppingMall     Spa  VRDeck              Name Cabin_side  \n",
       "0        0.0           0.0     0.0     0.0   Nelly Carsoning          S  \n",
       "1        9.0           0.0  2823.0     0.0    Lerome Peckers          S  \n",
       "2        0.0           0.0     0.0     0.0   Sabih Unhearfus          S  \n",
       "3     6652.0           0.0   181.0   585.0  Meratz Caltilter          S  \n",
       "4        0.0         635.0     0.0     0.0   Brence Harperez          S  "
      ]
     },
     "execution_count": 53,
     "metadata": {},
     "output_type": "execute_result"
    }
   ],
   "source": [
    "test_data.drop(['Cabin'],axis=1 ,inplace=True)\n",
    "\n",
    "test_data.head()"
   ]
  },
  {
   "cell_type": "code",
   "execution_count": 54,
   "id": "a250ec94",
   "metadata": {
    "execution": {
     "iopub.execute_input": "2023-04-06T09:28:39.324964Z",
     "iopub.status.busy": "2023-04-06T09:28:39.324397Z",
     "iopub.status.idle": "2023-04-06T09:28:39.340499Z",
     "shell.execute_reply": "2023-04-06T09:28:39.338329Z"
    },
    "papermill": {
     "duration": 0.045264,
     "end_time": "2023-04-06T09:28:39.342837",
     "exception": false,
     "start_time": "2023-04-06T09:28:39.297573",
     "status": "completed"
    },
    "tags": []
   },
   "outputs": [
    {
     "name": "stdout",
     "output_type": "stream",
     "text": [
      "<class 'pandas.core.frame.DataFrame'>\n",
      "RangeIndex: 4277 entries, 0 to 4276\n",
      "Data columns (total 13 columns):\n",
      " #   Column        Non-Null Count  Dtype  \n",
      "---  ------        --------------  -----  \n",
      " 0   PassengerId   4277 non-null   object \n",
      " 1   HomePlanet    4277 non-null   object \n",
      " 2   CryoSleep     4184 non-null   object \n",
      " 3   Destination   4277 non-null   object \n",
      " 4   Age           4277 non-null   float64\n",
      " 5   VIP           4184 non-null   object \n",
      " 6   RoomService   4277 non-null   float64\n",
      " 7   FoodCourt     4277 non-null   float64\n",
      " 8   ShoppingMall  4277 non-null   float64\n",
      " 9   Spa           4277 non-null   float64\n",
      " 10  VRDeck        4277 non-null   float64\n",
      " 11  Name          4277 non-null   object \n",
      " 12  Cabin_side    4277 non-null   string \n",
      "dtypes: float64(6), object(6), string(1)\n",
      "memory usage: 434.5+ KB\n"
     ]
    }
   ],
   "source": [
    "# Display more verbose information about the test_data .\n",
    "test_data.info()"
   ]
  },
  {
   "cell_type": "code",
   "execution_count": 55,
   "id": "d27a0ba8",
   "metadata": {
    "execution": {
     "iopub.execute_input": "2023-04-06T09:28:39.394247Z",
     "iopub.status.busy": "2023-04-06T09:28:39.393450Z",
     "iopub.status.idle": "2023-04-06T09:28:39.400813Z",
     "shell.execute_reply": "2023-04-06T09:28:39.399715Z"
    },
    "papermill": {
     "duration": 0.035814,
     "end_time": "2023-04-06T09:28:39.403144",
     "exception": false,
     "start_time": "2023-04-06T09:28:39.367330",
     "status": "completed"
    },
    "tags": []
   },
   "outputs": [
    {
     "data": {
      "text/plain": [
       "(8693, 14)"
      ]
     },
     "execution_count": 55,
     "metadata": {},
     "output_type": "execute_result"
    }
   ],
   "source": [
    "train_data.shape\n"
   ]
  },
  {
   "cell_type": "code",
   "execution_count": 56,
   "id": "fe3a0099",
   "metadata": {
    "execution": {
     "iopub.execute_input": "2023-04-06T09:28:39.455122Z",
     "iopub.status.busy": "2023-04-06T09:28:39.454534Z",
     "iopub.status.idle": "2023-04-06T09:28:39.464298Z",
     "shell.execute_reply": "2023-04-06T09:28:39.463212Z"
    },
    "papermill": {
     "duration": 0.038704,
     "end_time": "2023-04-06T09:28:39.466721",
     "exception": false,
     "start_time": "2023-04-06T09:28:39.428017",
     "status": "completed"
    },
    "tags": []
   },
   "outputs": [
    {
     "data": {
      "text/plain": [
       "False    8291\n",
       "True      402\n",
       "Name: VIP, dtype: int64"
      ]
     },
     "execution_count": 56,
     "metadata": {},
     "output_type": "execute_result"
    }
   ],
   "source": [
    "# find the number of people who paid for VIP :\n",
    "train_data['VIP'].value_counts()"
   ]
  },
  {
   "cell_type": "code",
   "execution_count": 57,
   "id": "3e18118f",
   "metadata": {
    "execution": {
     "iopub.execute_input": "2023-04-06T09:28:39.518522Z",
     "iopub.status.busy": "2023-04-06T09:28:39.518094Z",
     "iopub.status.idle": "2023-04-06T09:28:39.527357Z",
     "shell.execute_reply": "2023-04-06T09:28:39.526317Z"
    },
    "papermill": {
     "duration": 0.038006,
     "end_time": "2023-04-06T09:28:39.529708",
     "exception": false,
     "start_time": "2023-04-06T09:28:39.491702",
     "status": "completed"
    },
    "tags": []
   },
   "outputs": [
    {
     "data": {
      "text/plain": [
       "False    4110\n",
       "True       74\n",
       "Name: VIP, dtype: int64"
      ]
     },
     "execution_count": 57,
     "metadata": {},
     "output_type": "execute_result"
    }
   ],
   "source": [
    "test_data['VIP'].value_counts()"
   ]
  },
  {
   "cell_type": "code",
   "execution_count": 58,
   "id": "17147926",
   "metadata": {
    "execution": {
     "iopub.execute_input": "2023-04-06T09:28:39.582216Z",
     "iopub.status.busy": "2023-04-06T09:28:39.581376Z",
     "iopub.status.idle": "2023-04-06T09:28:39.588982Z",
     "shell.execute_reply": "2023-04-06T09:28:39.587810Z"
    },
    "papermill": {
     "duration": 0.036512,
     "end_time": "2023-04-06T09:28:39.591486",
     "exception": false,
     "start_time": "2023-04-06T09:28:39.554974",
     "status": "completed"
    },
    "tags": []
   },
   "outputs": [],
   "source": [
    "# replace null values with bool True\n",
    "test_data['VIP'].replace(np.nan,True,inplace=True)"
   ]
  },
  {
   "cell_type": "code",
   "execution_count": 59,
   "id": "f0ae3a0c",
   "metadata": {
    "execution": {
     "iopub.execute_input": "2023-04-06T09:28:39.644358Z",
     "iopub.status.busy": "2023-04-06T09:28:39.643972Z",
     "iopub.status.idle": "2023-04-06T09:28:39.652748Z",
     "shell.execute_reply": "2023-04-06T09:28:39.651564Z"
    },
    "papermill": {
     "duration": 0.038132,
     "end_time": "2023-04-06T09:28:39.655004",
     "exception": false,
     "start_time": "2023-04-06T09:28:39.616872",
     "status": "completed"
    },
    "tags": []
   },
   "outputs": [
    {
     "data": {
      "text/plain": [
       "False    2640\n",
       "True     1544\n",
       "Name: CryoSleep, dtype: int64"
      ]
     },
     "execution_count": 59,
     "metadata": {},
     "output_type": "execute_result"
    }
   ],
   "source": [
    "\n",
    "test_data['CryoSleep'].value_counts()"
   ]
  },
  {
   "cell_type": "code",
   "execution_count": 60,
   "id": "9a55fbb7",
   "metadata": {
    "execution": {
     "iopub.execute_input": "2023-04-06T09:28:39.707074Z",
     "iopub.status.busy": "2023-04-06T09:28:39.706670Z",
     "iopub.status.idle": "2023-04-06T09:28:39.714626Z",
     "shell.execute_reply": "2023-04-06T09:28:39.713301Z"
    },
    "papermill": {
     "duration": 0.036599,
     "end_time": "2023-04-06T09:28:39.716862",
     "exception": false,
     "start_time": "2023-04-06T09:28:39.680263",
     "status": "completed"
    },
    "tags": []
   },
   "outputs": [
    {
     "data": {
      "text/plain": [
       "93"
      ]
     },
     "execution_count": 60,
     "metadata": {},
     "output_type": "execute_result"
    }
   ],
   "source": [
    "# Null values in CryoSleep column\n",
    "test_data['CryoSleep'].isnull().sum()"
   ]
  },
  {
   "cell_type": "code",
   "execution_count": 61,
   "id": "ad48979e",
   "metadata": {
    "execution": {
     "iopub.execute_input": "2023-04-06T09:28:39.768604Z",
     "iopub.status.busy": "2023-04-06T09:28:39.768229Z",
     "iopub.status.idle": "2023-04-06T09:28:39.773997Z",
     "shell.execute_reply": "2023-04-06T09:28:39.773164Z"
    },
    "papermill": {
     "duration": 0.034116,
     "end_time": "2023-04-06T09:28:39.776075",
     "exception": false,
     "start_time": "2023-04-06T09:28:39.741959",
     "status": "completed"
    },
    "tags": []
   },
   "outputs": [],
   "source": [
    "# replace the null values with bool False\n",
    "test_data['CryoSleep'].replace(np.nan,False,inplace=True)"
   ]
  },
  {
   "cell_type": "code",
   "execution_count": 62,
   "id": "6eb496ef",
   "metadata": {
    "execution": {
     "iopub.execute_input": "2023-04-06T09:28:39.829458Z",
     "iopub.status.busy": "2023-04-06T09:28:39.828711Z",
     "iopub.status.idle": "2023-04-06T09:28:39.843007Z",
     "shell.execute_reply": "2023-04-06T09:28:39.841544Z"
    },
    "papermill": {
     "duration": 0.043301,
     "end_time": "2023-04-06T09:28:39.845414",
     "exception": false,
     "start_time": "2023-04-06T09:28:39.802113",
     "status": "completed"
    },
    "tags": []
   },
   "outputs": [
    {
     "name": "stdout",
     "output_type": "stream",
     "text": [
      "<class 'pandas.core.frame.DataFrame'>\n",
      "RangeIndex: 4277 entries, 0 to 4276\n",
      "Data columns (total 13 columns):\n",
      " #   Column        Non-Null Count  Dtype  \n",
      "---  ------        --------------  -----  \n",
      " 0   PassengerId   4277 non-null   object \n",
      " 1   HomePlanet    4277 non-null   object \n",
      " 2   CryoSleep     4277 non-null   bool   \n",
      " 3   Destination   4277 non-null   object \n",
      " 4   Age           4277 non-null   float64\n",
      " 5   VIP           4277 non-null   bool   \n",
      " 6   RoomService   4277 non-null   float64\n",
      " 7   FoodCourt     4277 non-null   float64\n",
      " 8   ShoppingMall  4277 non-null   float64\n",
      " 9   Spa           4277 non-null   float64\n",
      " 10  VRDeck        4277 non-null   float64\n",
      " 11  Name          4277 non-null   object \n",
      " 12  Cabin_side    4277 non-null   string \n",
      "dtypes: bool(2), float64(6), object(4), string(1)\n",
      "memory usage: 376.0+ KB\n"
     ]
    }
   ],
   "source": [
    "test_data.info()"
   ]
  },
  {
   "cell_type": "code",
   "execution_count": 63,
   "id": "6839c7d4",
   "metadata": {
    "execution": {
     "iopub.execute_input": "2023-04-06T09:28:39.897636Z",
     "iopub.status.busy": "2023-04-06T09:28:39.897214Z",
     "iopub.status.idle": "2023-04-06T09:28:39.903124Z",
     "shell.execute_reply": "2023-04-06T09:28:39.901982Z"
    },
    "papermill": {
     "duration": 0.035139,
     "end_time": "2023-04-06T09:28:39.905743",
     "exception": false,
     "start_time": "2023-04-06T09:28:39.870604",
     "status": "completed"
    },
    "tags": []
   },
   "outputs": [],
   "source": [
    "# test_data['HomePlanet'].value_counts()\n",
    "test_data['HomePlanet'].replace(np.nan,'Earth',inplace=True)"
   ]
  },
  {
   "cell_type": "code",
   "execution_count": 64,
   "id": "70a2129f",
   "metadata": {
    "execution": {
     "iopub.execute_input": "2023-04-06T09:28:39.958715Z",
     "iopub.status.busy": "2023-04-06T09:28:39.958246Z",
     "iopub.status.idle": "2023-04-06T09:28:41.201498Z",
     "shell.execute_reply": "2023-04-06T09:28:41.200423Z"
    },
    "papermill": {
     "duration": 1.272628,
     "end_time": "2023-04-06T09:28:41.204163",
     "exception": false,
     "start_time": "2023-04-06T09:28:39.931535",
     "status": "completed"
    },
    "tags": []
   },
   "outputs": [],
   "source": [
    "X = train_data.copy()\n",
    "y = X.pop('Transported')\n",
    "\n",
    "# Label Encoding\n",
    "for colname in X.select_dtypes(\"object\"):\n",
    "    X[colname], _ = X[colname].factorize()\n",
    "    \n",
    "discrete_features = X.dtypes == int\n",
    "\n",
    "\n",
    "from sklearn.feature_selection import mutual_info_regression\n",
    "\n",
    "def make_mi_scores(X, y, discrete_features):\n",
    "    mi_scores = mutual_info_regression(X, y, discrete_features=discrete_features)\n",
    "    mi_scores = pd.Series(mi_scores, name=\"MI Scores\", index=X.columns)\n",
    "    mi_scores = mi_scores.sort_values(ascending=False)\n",
    "    return mi_scores\n",
    "\n",
    "# mi_scores = make_mi_scores(X, y, discrete_features)\n",
    "# mi_scores[:3]  # show a few features with their MI scores"
   ]
  },
  {
   "cell_type": "code",
   "execution_count": 65,
   "id": "5dde30e0",
   "metadata": {
    "execution": {
     "iopub.execute_input": "2023-04-06T09:28:41.258377Z",
     "iopub.status.busy": "2023-04-06T09:28:41.257892Z",
     "iopub.status.idle": "2023-04-06T09:28:41.271434Z",
     "shell.execute_reply": "2023-04-06T09:28:41.270298Z"
    },
    "papermill": {
     "duration": 0.044487,
     "end_time": "2023-04-06T09:28:41.273881",
     "exception": false,
     "start_time": "2023-04-06T09:28:41.229394",
     "status": "completed"
    },
    "tags": []
   },
   "outputs": [
    {
     "data": {
      "text/plain": [
       "CryoSleep       0.451744\n",
       "Age            -0.074249\n",
       "VIP            -0.024602\n",
       "RoomService    -0.241124\n",
       "FoodCourt       0.045583\n",
       "ShoppingMall    0.009391\n",
       "Spa            -0.218545\n",
       "VRDeck         -0.204874\n",
       "Transported     1.000000\n",
       "Name: Transported, dtype: float64"
      ]
     },
     "execution_count": 65,
     "metadata": {},
     "output_type": "execute_result"
    }
   ],
   "source": [
    "train_data.corr()['Transported']"
   ]
  },
  {
   "cell_type": "code",
   "execution_count": 66,
   "id": "57dc895a",
   "metadata": {
    "execution": {
     "iopub.execute_input": "2023-04-06T09:28:41.327061Z",
     "iopub.status.busy": "2023-04-06T09:28:41.326639Z",
     "iopub.status.idle": "2023-04-06T09:28:41.337258Z",
     "shell.execute_reply": "2023-04-06T09:28:41.336461Z"
    },
    "papermill": {
     "duration": 0.039704,
     "end_time": "2023-04-06T09:28:41.339303",
     "exception": false,
     "start_time": "2023-04-06T09:28:41.299599",
     "status": "completed"
    },
    "tags": []
   },
   "outputs": [
    {
     "data": {
      "text/html": [
       "<div>\n",
       "<style scoped>\n",
       "    .dataframe tbody tr th:only-of-type {\n",
       "        vertical-align: middle;\n",
       "    }\n",
       "\n",
       "    .dataframe tbody tr th {\n",
       "        vertical-align: top;\n",
       "    }\n",
       "\n",
       "    .dataframe thead th {\n",
       "        text-align: right;\n",
       "    }\n",
       "</style>\n",
       "<table border=\"1\" class=\"dataframe\">\n",
       "  <thead>\n",
       "    <tr style=\"text-align: right;\">\n",
       "      <th></th>\n",
       "      <th>Transported</th>\n",
       "    </tr>\n",
       "  </thead>\n",
       "  <tbody>\n",
       "    <tr>\n",
       "      <th>Transported</th>\n",
       "      <td>1.0</td>\n",
       "    </tr>\n",
       "  </tbody>\n",
       "</table>\n",
       "</div>"
      ],
      "text/plain": [
       "             Transported\n",
       "Transported          1.0"
      ]
     },
     "execution_count": 66,
     "metadata": {},
     "output_type": "execute_result"
    }
   ],
   "source": [
    "train_data[['Cabin_side','Transported']].corr()"
   ]
  },
  {
   "cell_type": "code",
   "execution_count": 67,
   "id": "e94369e4",
   "metadata": {
    "execution": {
     "iopub.execute_input": "2023-04-06T09:28:41.393449Z",
     "iopub.status.busy": "2023-04-06T09:28:41.393023Z",
     "iopub.status.idle": "2023-04-06T09:28:41.408187Z",
     "shell.execute_reply": "2023-04-06T09:28:41.406988Z"
    },
    "papermill": {
     "duration": 0.04536,
     "end_time": "2023-04-06T09:28:41.410429",
     "exception": false,
     "start_time": "2023-04-06T09:28:41.365069",
     "status": "completed"
    },
    "tags": []
   },
   "outputs": [
    {
     "data": {
      "text/html": [
       "<div>\n",
       "<style scoped>\n",
       "    .dataframe tbody tr th:only-of-type {\n",
       "        vertical-align: middle;\n",
       "    }\n",
       "\n",
       "    .dataframe tbody tr th {\n",
       "        vertical-align: top;\n",
       "    }\n",
       "\n",
       "    .dataframe thead th {\n",
       "        text-align: right;\n",
       "    }\n",
       "</style>\n",
       "<table border=\"1\" class=\"dataframe\">\n",
       "  <thead>\n",
       "    <tr style=\"text-align: right;\">\n",
       "      <th></th>\n",
       "      <th>Cabin_side_P</th>\n",
       "      <th>Cabin_side_S</th>\n",
       "    </tr>\n",
       "  </thead>\n",
       "  <tbody>\n",
       "    <tr>\n",
       "      <th>0</th>\n",
       "      <td>1</td>\n",
       "      <td>0</td>\n",
       "    </tr>\n",
       "    <tr>\n",
       "      <th>1</th>\n",
       "      <td>0</td>\n",
       "      <td>1</td>\n",
       "    </tr>\n",
       "    <tr>\n",
       "      <th>2</th>\n",
       "      <td>0</td>\n",
       "      <td>1</td>\n",
       "    </tr>\n",
       "    <tr>\n",
       "      <th>3</th>\n",
       "      <td>0</td>\n",
       "      <td>1</td>\n",
       "    </tr>\n",
       "    <tr>\n",
       "      <th>4</th>\n",
       "      <td>0</td>\n",
       "      <td>1</td>\n",
       "    </tr>\n",
       "  </tbody>\n",
       "</table>\n",
       "</div>"
      ],
      "text/plain": [
       "   Cabin_side_P  Cabin_side_S\n",
       "0             1             0\n",
       "1             0             1\n",
       "2             0             1\n",
       "3             0             1\n",
       "4             0             1"
      ]
     },
     "execution_count": 67,
     "metadata": {},
     "output_type": "execute_result"
    }
   ],
   "source": [
    "dummy_cabin = pd.get_dummies(train_data['Cabin_side'],prefix='Cabin_side')\n",
    "dummy_cabin.head()"
   ]
  },
  {
   "cell_type": "code",
   "execution_count": 68,
   "id": "697f0e0b",
   "metadata": {
    "execution": {
     "iopub.execute_input": "2023-04-06T09:28:41.463517Z",
     "iopub.status.busy": "2023-04-06T09:28:41.463139Z",
     "iopub.status.idle": "2023-04-06T09:28:41.470616Z",
     "shell.execute_reply": "2023-04-06T09:28:41.469185Z"
    },
    "papermill": {
     "duration": 0.036856,
     "end_time": "2023-04-06T09:28:41.472944",
     "exception": false,
     "start_time": "2023-04-06T09:28:41.436088",
     "status": "completed"
    },
    "tags": []
   },
   "outputs": [],
   "source": [
    "dummy_destination = pd.get_dummies(train_data['Destination'],prefix='destination')"
   ]
  },
  {
   "cell_type": "code",
   "execution_count": 69,
   "id": "1ee844e6",
   "metadata": {
    "execution": {
     "iopub.execute_input": "2023-04-06T09:28:41.525418Z",
     "iopub.status.busy": "2023-04-06T09:28:41.525001Z",
     "iopub.status.idle": "2023-04-06T09:28:41.547019Z",
     "shell.execute_reply": "2023-04-06T09:28:41.545696Z"
    },
    "papermill": {
     "duration": 0.051165,
     "end_time": "2023-04-06T09:28:41.549526",
     "exception": false,
     "start_time": "2023-04-06T09:28:41.498361",
     "status": "completed"
    },
    "tags": []
   },
   "outputs": [
    {
     "data": {
      "text/html": [
       "<div>\n",
       "<style scoped>\n",
       "    .dataframe tbody tr th:only-of-type {\n",
       "        vertical-align: middle;\n",
       "    }\n",
       "\n",
       "    .dataframe tbody tr th {\n",
       "        vertical-align: top;\n",
       "    }\n",
       "\n",
       "    .dataframe thead th {\n",
       "        text-align: right;\n",
       "    }\n",
       "</style>\n",
       "<table border=\"1\" class=\"dataframe\">\n",
       "  <thead>\n",
       "    <tr style=\"text-align: right;\">\n",
       "      <th></th>\n",
       "      <th>PassengerId</th>\n",
       "      <th>HomePlanet</th>\n",
       "      <th>CryoSleep</th>\n",
       "      <th>Destination</th>\n",
       "      <th>Age</th>\n",
       "      <th>VIP</th>\n",
       "      <th>RoomService</th>\n",
       "      <th>FoodCourt</th>\n",
       "      <th>ShoppingMall</th>\n",
       "      <th>Spa</th>\n",
       "      <th>VRDeck</th>\n",
       "      <th>Name</th>\n",
       "      <th>Transported</th>\n",
       "      <th>Cabin_side</th>\n",
       "    </tr>\n",
       "  </thead>\n",
       "  <tbody>\n",
       "    <tr>\n",
       "      <th>0</th>\n",
       "      <td>0001_01</td>\n",
       "      <td>Europa</td>\n",
       "      <td>False</td>\n",
       "      <td>TRAPPIST-1e</td>\n",
       "      <td>39.0</td>\n",
       "      <td>False</td>\n",
       "      <td>0.0</td>\n",
       "      <td>0.0</td>\n",
       "      <td>0.0</td>\n",
       "      <td>0.0</td>\n",
       "      <td>0.0</td>\n",
       "      <td>Maham Ofracculy</td>\n",
       "      <td>False</td>\n",
       "      <td>P</td>\n",
       "    </tr>\n",
       "    <tr>\n",
       "      <th>1</th>\n",
       "      <td>0002_01</td>\n",
       "      <td>Earth</td>\n",
       "      <td>False</td>\n",
       "      <td>TRAPPIST-1e</td>\n",
       "      <td>24.0</td>\n",
       "      <td>False</td>\n",
       "      <td>109.0</td>\n",
       "      <td>9.0</td>\n",
       "      <td>25.0</td>\n",
       "      <td>549.0</td>\n",
       "      <td>44.0</td>\n",
       "      <td>Juanna Vines</td>\n",
       "      <td>True</td>\n",
       "      <td>S</td>\n",
       "    </tr>\n",
       "    <tr>\n",
       "      <th>2</th>\n",
       "      <td>0003_01</td>\n",
       "      <td>Europa</td>\n",
       "      <td>False</td>\n",
       "      <td>TRAPPIST-1e</td>\n",
       "      <td>58.0</td>\n",
       "      <td>True</td>\n",
       "      <td>43.0</td>\n",
       "      <td>3576.0</td>\n",
       "      <td>0.0</td>\n",
       "      <td>6715.0</td>\n",
       "      <td>49.0</td>\n",
       "      <td>Altark Susent</td>\n",
       "      <td>False</td>\n",
       "      <td>S</td>\n",
       "    </tr>\n",
       "    <tr>\n",
       "      <th>3</th>\n",
       "      <td>0003_02</td>\n",
       "      <td>Europa</td>\n",
       "      <td>False</td>\n",
       "      <td>TRAPPIST-1e</td>\n",
       "      <td>33.0</td>\n",
       "      <td>False</td>\n",
       "      <td>0.0</td>\n",
       "      <td>1283.0</td>\n",
       "      <td>371.0</td>\n",
       "      <td>3329.0</td>\n",
       "      <td>193.0</td>\n",
       "      <td>Solam Susent</td>\n",
       "      <td>False</td>\n",
       "      <td>S</td>\n",
       "    </tr>\n",
       "    <tr>\n",
       "      <th>4</th>\n",
       "      <td>0004_01</td>\n",
       "      <td>Earth</td>\n",
       "      <td>False</td>\n",
       "      <td>TRAPPIST-1e</td>\n",
       "      <td>16.0</td>\n",
       "      <td>False</td>\n",
       "      <td>303.0</td>\n",
       "      <td>70.0</td>\n",
       "      <td>151.0</td>\n",
       "      <td>565.0</td>\n",
       "      <td>2.0</td>\n",
       "      <td>Willy Santantines</td>\n",
       "      <td>True</td>\n",
       "      <td>S</td>\n",
       "    </tr>\n",
       "  </tbody>\n",
       "</table>\n",
       "</div>"
      ],
      "text/plain": [
       "  PassengerId HomePlanet  CryoSleep  Destination   Age    VIP  RoomService  \\\n",
       "0     0001_01     Europa      False  TRAPPIST-1e  39.0  False          0.0   \n",
       "1     0002_01      Earth      False  TRAPPIST-1e  24.0  False        109.0   \n",
       "2     0003_01     Europa      False  TRAPPIST-1e  58.0   True         43.0   \n",
       "3     0003_02     Europa      False  TRAPPIST-1e  33.0  False          0.0   \n",
       "4     0004_01      Earth      False  TRAPPIST-1e  16.0  False        303.0   \n",
       "\n",
       "   FoodCourt  ShoppingMall     Spa  VRDeck               Name  Transported  \\\n",
       "0        0.0           0.0     0.0     0.0    Maham Ofracculy        False   \n",
       "1        9.0          25.0   549.0    44.0       Juanna Vines         True   \n",
       "2     3576.0           0.0  6715.0    49.0      Altark Susent        False   \n",
       "3     1283.0         371.0  3329.0   193.0       Solam Susent        False   \n",
       "4       70.0         151.0   565.0     2.0  Willy Santantines         True   \n",
       "\n",
       "  Cabin_side  \n",
       "0          P  \n",
       "1          S  \n",
       "2          S  \n",
       "3          S  \n",
       "4          S  "
      ]
     },
     "execution_count": 69,
     "metadata": {},
     "output_type": "execute_result"
    }
   ],
   "source": [
    "train_data.head()"
   ]
  },
  {
   "cell_type": "code",
   "execution_count": 70,
   "id": "ae9a2366",
   "metadata": {
    "execution": {
     "iopub.execute_input": "2023-04-06T09:28:41.603407Z",
     "iopub.status.busy": "2023-04-06T09:28:41.602577Z",
     "iopub.status.idle": "2023-04-06T09:28:41.614360Z",
     "shell.execute_reply": "2023-04-06T09:28:41.613082Z"
    },
    "papermill": {
     "duration": 0.041672,
     "end_time": "2023-04-06T09:28:41.616870",
     "exception": false,
     "start_time": "2023-04-06T09:28:41.575198",
     "status": "completed"
    },
    "tags": []
   },
   "outputs": [
    {
     "data": {
      "text/plain": [
       "CryoSleep\n",
       "False    5439\n",
       "True     3254\n",
       "Name: Transported, dtype: int64"
      ]
     },
     "execution_count": 70,
     "metadata": {},
     "output_type": "execute_result"
    }
   ],
   "source": [
    "df_Cryosleep = train_data.groupby(['CryoSleep'])['Transported'].count()\n",
    "df_Cryosleep.head()"
   ]
  },
  {
   "cell_type": "code",
   "execution_count": 71,
   "id": "1e41ffda",
   "metadata": {
    "execution": {
     "iopub.execute_input": "2023-04-06T09:28:41.671364Z",
     "iopub.status.busy": "2023-04-06T09:28:41.670945Z",
     "iopub.status.idle": "2023-04-06T09:28:41.682541Z",
     "shell.execute_reply": "2023-04-06T09:28:41.681686Z"
    },
    "papermill": {
     "duration": 0.042123,
     "end_time": "2023-04-06T09:28:41.685454",
     "exception": false,
     "start_time": "2023-04-06T09:28:41.643331",
     "status": "completed"
    },
    "tags": []
   },
   "outputs": [
    {
     "data": {
      "text/plain": [
       "Transported     1.000000\n",
       "CryoSleep       0.451744\n",
       "FoodCourt       0.045583\n",
       "ShoppingMall    0.009391\n",
       "VIP            -0.024602\n",
       "Age            -0.074249\n",
       "VRDeck         -0.204874\n",
       "Spa            -0.218545\n",
       "RoomService    -0.241124\n",
       "Name: Transported, dtype: float64"
      ]
     },
     "execution_count": 71,
     "metadata": {},
     "output_type": "execute_result"
    }
   ],
   "source": [
    "train_data.corr()['Transported'].sort_values(ascending=False)"
   ]
  },
  {
   "cell_type": "code",
   "execution_count": 72,
   "id": "8a8e6f1e",
   "metadata": {
    "execution": {
     "iopub.execute_input": "2023-04-06T09:28:41.741490Z",
     "iopub.status.busy": "2023-04-06T09:28:41.741090Z",
     "iopub.status.idle": "2023-04-06T09:28:41.762137Z",
     "shell.execute_reply": "2023-04-06T09:28:41.761289Z"
    },
    "papermill": {
     "duration": 0.051654,
     "end_time": "2023-04-06T09:28:41.764244",
     "exception": false,
     "start_time": "2023-04-06T09:28:41.712590",
     "status": "completed"
    },
    "tags": []
   },
   "outputs": [
    {
     "data": {
      "text/html": [
       "<div>\n",
       "<style scoped>\n",
       "    .dataframe tbody tr th:only-of-type {\n",
       "        vertical-align: middle;\n",
       "    }\n",
       "\n",
       "    .dataframe tbody tr th {\n",
       "        vertical-align: top;\n",
       "    }\n",
       "\n",
       "    .dataframe thead th {\n",
       "        text-align: right;\n",
       "    }\n",
       "</style>\n",
       "<table border=\"1\" class=\"dataframe\">\n",
       "  <thead>\n",
       "    <tr style=\"text-align: right;\">\n",
       "      <th></th>\n",
       "      <th>PassengerId</th>\n",
       "      <th>HomePlanet</th>\n",
       "      <th>CryoSleep</th>\n",
       "      <th>Destination</th>\n",
       "      <th>Age</th>\n",
       "      <th>VIP</th>\n",
       "      <th>RoomService</th>\n",
       "      <th>FoodCourt</th>\n",
       "      <th>ShoppingMall</th>\n",
       "      <th>Spa</th>\n",
       "      <th>VRDeck</th>\n",
       "      <th>Name</th>\n",
       "      <th>Transported</th>\n",
       "      <th>Cabin_side</th>\n",
       "    </tr>\n",
       "  </thead>\n",
       "  <tbody>\n",
       "    <tr>\n",
       "      <th>0</th>\n",
       "      <td>0001_01</td>\n",
       "      <td>Europa</td>\n",
       "      <td>False</td>\n",
       "      <td>TRAPPIST-1e</td>\n",
       "      <td>39.0</td>\n",
       "      <td>False</td>\n",
       "      <td>0.0</td>\n",
       "      <td>0.0</td>\n",
       "      <td>0.0</td>\n",
       "      <td>0.0</td>\n",
       "      <td>0.0</td>\n",
       "      <td>Maham Ofracculy</td>\n",
       "      <td>False</td>\n",
       "      <td>P</td>\n",
       "    </tr>\n",
       "    <tr>\n",
       "      <th>1</th>\n",
       "      <td>0002_01</td>\n",
       "      <td>Earth</td>\n",
       "      <td>False</td>\n",
       "      <td>TRAPPIST-1e</td>\n",
       "      <td>24.0</td>\n",
       "      <td>False</td>\n",
       "      <td>109.0</td>\n",
       "      <td>9.0</td>\n",
       "      <td>25.0</td>\n",
       "      <td>549.0</td>\n",
       "      <td>44.0</td>\n",
       "      <td>Juanna Vines</td>\n",
       "      <td>True</td>\n",
       "      <td>S</td>\n",
       "    </tr>\n",
       "    <tr>\n",
       "      <th>2</th>\n",
       "      <td>0003_01</td>\n",
       "      <td>Europa</td>\n",
       "      <td>False</td>\n",
       "      <td>TRAPPIST-1e</td>\n",
       "      <td>58.0</td>\n",
       "      <td>True</td>\n",
       "      <td>43.0</td>\n",
       "      <td>3576.0</td>\n",
       "      <td>0.0</td>\n",
       "      <td>6715.0</td>\n",
       "      <td>49.0</td>\n",
       "      <td>Altark Susent</td>\n",
       "      <td>False</td>\n",
       "      <td>S</td>\n",
       "    </tr>\n",
       "    <tr>\n",
       "      <th>3</th>\n",
       "      <td>0003_02</td>\n",
       "      <td>Europa</td>\n",
       "      <td>False</td>\n",
       "      <td>TRAPPIST-1e</td>\n",
       "      <td>33.0</td>\n",
       "      <td>False</td>\n",
       "      <td>0.0</td>\n",
       "      <td>1283.0</td>\n",
       "      <td>371.0</td>\n",
       "      <td>3329.0</td>\n",
       "      <td>193.0</td>\n",
       "      <td>Solam Susent</td>\n",
       "      <td>False</td>\n",
       "      <td>S</td>\n",
       "    </tr>\n",
       "    <tr>\n",
       "      <th>4</th>\n",
       "      <td>0004_01</td>\n",
       "      <td>Earth</td>\n",
       "      <td>False</td>\n",
       "      <td>TRAPPIST-1e</td>\n",
       "      <td>16.0</td>\n",
       "      <td>False</td>\n",
       "      <td>303.0</td>\n",
       "      <td>70.0</td>\n",
       "      <td>151.0</td>\n",
       "      <td>565.0</td>\n",
       "      <td>2.0</td>\n",
       "      <td>Willy Santantines</td>\n",
       "      <td>True</td>\n",
       "      <td>S</td>\n",
       "    </tr>\n",
       "  </tbody>\n",
       "</table>\n",
       "</div>"
      ],
      "text/plain": [
       "  PassengerId HomePlanet  CryoSleep  Destination   Age    VIP  RoomService  \\\n",
       "0     0001_01     Europa      False  TRAPPIST-1e  39.0  False          0.0   \n",
       "1     0002_01      Earth      False  TRAPPIST-1e  24.0  False        109.0   \n",
       "2     0003_01     Europa      False  TRAPPIST-1e  58.0   True         43.0   \n",
       "3     0003_02     Europa      False  TRAPPIST-1e  33.0  False          0.0   \n",
       "4     0004_01      Earth      False  TRAPPIST-1e  16.0  False        303.0   \n",
       "\n",
       "   FoodCourt  ShoppingMall     Spa  VRDeck               Name  Transported  \\\n",
       "0        0.0           0.0     0.0     0.0    Maham Ofracculy        False   \n",
       "1        9.0          25.0   549.0    44.0       Juanna Vines         True   \n",
       "2     3576.0           0.0  6715.0    49.0      Altark Susent        False   \n",
       "3     1283.0         371.0  3329.0   193.0       Solam Susent        False   \n",
       "4       70.0         151.0   565.0     2.0  Willy Santantines         True   \n",
       "\n",
       "  Cabin_side  \n",
       "0          P  \n",
       "1          S  \n",
       "2          S  \n",
       "3          S  \n",
       "4          S  "
      ]
     },
     "execution_count": 72,
     "metadata": {},
     "output_type": "execute_result"
    }
   ],
   "source": [
    "train_data.head()"
   ]
  },
  {
   "cell_type": "code",
   "execution_count": 73,
   "id": "6c33e095",
   "metadata": {
    "execution": {
     "iopub.execute_input": "2023-04-06T09:28:41.819045Z",
     "iopub.status.busy": "2023-04-06T09:28:41.818609Z",
     "iopub.status.idle": "2023-04-06T09:28:41.831034Z",
     "shell.execute_reply": "2023-04-06T09:28:41.829807Z"
    },
    "papermill": {
     "duration": 0.043134,
     "end_time": "2023-04-06T09:28:41.833651",
     "exception": false,
     "start_time": "2023-04-06T09:28:41.790517",
     "status": "completed"
    },
    "tags": []
   },
   "outputs": [],
   "source": [
    "#Drop column Destination Column\n",
    "train_data = pd.concat([train_data,dummy_destination],axis=1)\n",
    "train_data.drop(\"Destination\",axis=1,inplace=True)"
   ]
  },
  {
   "cell_type": "code",
   "execution_count": 74,
   "id": "c78ccd71",
   "metadata": {
    "execution": {
     "iopub.execute_input": "2023-04-06T09:28:41.890206Z",
     "iopub.status.busy": "2023-04-06T09:28:41.889421Z",
     "iopub.status.idle": "2023-04-06T09:28:41.912732Z",
     "shell.execute_reply": "2023-04-06T09:28:41.911540Z"
    },
    "papermill": {
     "duration": 0.054814,
     "end_time": "2023-04-06T09:28:41.915179",
     "exception": false,
     "start_time": "2023-04-06T09:28:41.860365",
     "status": "completed"
    },
    "tags": []
   },
   "outputs": [
    {
     "data": {
      "text/html": [
       "<div>\n",
       "<style scoped>\n",
       "    .dataframe tbody tr th:only-of-type {\n",
       "        vertical-align: middle;\n",
       "    }\n",
       "\n",
       "    .dataframe tbody tr th {\n",
       "        vertical-align: top;\n",
       "    }\n",
       "\n",
       "    .dataframe thead th {\n",
       "        text-align: right;\n",
       "    }\n",
       "</style>\n",
       "<table border=\"1\" class=\"dataframe\">\n",
       "  <thead>\n",
       "    <tr style=\"text-align: right;\">\n",
       "      <th></th>\n",
       "      <th>PassengerId</th>\n",
       "      <th>HomePlanet</th>\n",
       "      <th>CryoSleep</th>\n",
       "      <th>Age</th>\n",
       "      <th>VIP</th>\n",
       "      <th>RoomService</th>\n",
       "      <th>FoodCourt</th>\n",
       "      <th>ShoppingMall</th>\n",
       "      <th>Spa</th>\n",
       "      <th>VRDeck</th>\n",
       "      <th>Name</th>\n",
       "      <th>Transported</th>\n",
       "      <th>Cabin_side</th>\n",
       "      <th>destination_55 Cancri e</th>\n",
       "      <th>destination_PSO J318.5-22</th>\n",
       "      <th>destination_TRAPPIST-1e</th>\n",
       "    </tr>\n",
       "  </thead>\n",
       "  <tbody>\n",
       "    <tr>\n",
       "      <th>0</th>\n",
       "      <td>0001_01</td>\n",
       "      <td>Europa</td>\n",
       "      <td>False</td>\n",
       "      <td>39.0</td>\n",
       "      <td>False</td>\n",
       "      <td>0.0</td>\n",
       "      <td>0.0</td>\n",
       "      <td>0.0</td>\n",
       "      <td>0.0</td>\n",
       "      <td>0.0</td>\n",
       "      <td>Maham Ofracculy</td>\n",
       "      <td>False</td>\n",
       "      <td>P</td>\n",
       "      <td>0</td>\n",
       "      <td>0</td>\n",
       "      <td>1</td>\n",
       "    </tr>\n",
       "    <tr>\n",
       "      <th>1</th>\n",
       "      <td>0002_01</td>\n",
       "      <td>Earth</td>\n",
       "      <td>False</td>\n",
       "      <td>24.0</td>\n",
       "      <td>False</td>\n",
       "      <td>109.0</td>\n",
       "      <td>9.0</td>\n",
       "      <td>25.0</td>\n",
       "      <td>549.0</td>\n",
       "      <td>44.0</td>\n",
       "      <td>Juanna Vines</td>\n",
       "      <td>True</td>\n",
       "      <td>S</td>\n",
       "      <td>0</td>\n",
       "      <td>0</td>\n",
       "      <td>1</td>\n",
       "    </tr>\n",
       "    <tr>\n",
       "      <th>2</th>\n",
       "      <td>0003_01</td>\n",
       "      <td>Europa</td>\n",
       "      <td>False</td>\n",
       "      <td>58.0</td>\n",
       "      <td>True</td>\n",
       "      <td>43.0</td>\n",
       "      <td>3576.0</td>\n",
       "      <td>0.0</td>\n",
       "      <td>6715.0</td>\n",
       "      <td>49.0</td>\n",
       "      <td>Altark Susent</td>\n",
       "      <td>False</td>\n",
       "      <td>S</td>\n",
       "      <td>0</td>\n",
       "      <td>0</td>\n",
       "      <td>1</td>\n",
       "    </tr>\n",
       "    <tr>\n",
       "      <th>3</th>\n",
       "      <td>0003_02</td>\n",
       "      <td>Europa</td>\n",
       "      <td>False</td>\n",
       "      <td>33.0</td>\n",
       "      <td>False</td>\n",
       "      <td>0.0</td>\n",
       "      <td>1283.0</td>\n",
       "      <td>371.0</td>\n",
       "      <td>3329.0</td>\n",
       "      <td>193.0</td>\n",
       "      <td>Solam Susent</td>\n",
       "      <td>False</td>\n",
       "      <td>S</td>\n",
       "      <td>0</td>\n",
       "      <td>0</td>\n",
       "      <td>1</td>\n",
       "    </tr>\n",
       "    <tr>\n",
       "      <th>4</th>\n",
       "      <td>0004_01</td>\n",
       "      <td>Earth</td>\n",
       "      <td>False</td>\n",
       "      <td>16.0</td>\n",
       "      <td>False</td>\n",
       "      <td>303.0</td>\n",
       "      <td>70.0</td>\n",
       "      <td>151.0</td>\n",
       "      <td>565.0</td>\n",
       "      <td>2.0</td>\n",
       "      <td>Willy Santantines</td>\n",
       "      <td>True</td>\n",
       "      <td>S</td>\n",
       "      <td>0</td>\n",
       "      <td>0</td>\n",
       "      <td>1</td>\n",
       "    </tr>\n",
       "  </tbody>\n",
       "</table>\n",
       "</div>"
      ],
      "text/plain": [
       "  PassengerId HomePlanet  CryoSleep   Age    VIP  RoomService  FoodCourt  \\\n",
       "0     0001_01     Europa      False  39.0  False          0.0        0.0   \n",
       "1     0002_01      Earth      False  24.0  False        109.0        9.0   \n",
       "2     0003_01     Europa      False  58.0   True         43.0     3576.0   \n",
       "3     0003_02     Europa      False  33.0  False          0.0     1283.0   \n",
       "4     0004_01      Earth      False  16.0  False        303.0       70.0   \n",
       "\n",
       "   ShoppingMall     Spa  VRDeck               Name  Transported Cabin_side  \\\n",
       "0           0.0     0.0     0.0    Maham Ofracculy        False          P   \n",
       "1          25.0   549.0    44.0       Juanna Vines         True          S   \n",
       "2           0.0  6715.0    49.0      Altark Susent        False          S   \n",
       "3         371.0  3329.0   193.0       Solam Susent        False          S   \n",
       "4         151.0   565.0     2.0  Willy Santantines         True          S   \n",
       "\n",
       "   destination_55 Cancri e  destination_PSO J318.5-22  destination_TRAPPIST-1e  \n",
       "0                        0                          0                        1  \n",
       "1                        0                          0                        1  \n",
       "2                        0                          0                        1  \n",
       "3                        0                          0                        1  \n",
       "4                        0                          0                        1  "
      ]
     },
     "execution_count": 74,
     "metadata": {},
     "output_type": "execute_result"
    }
   ],
   "source": [
    "train_data.head()"
   ]
  },
  {
   "cell_type": "code",
   "execution_count": 75,
   "id": "47ecb02b",
   "metadata": {
    "execution": {
     "iopub.execute_input": "2023-04-06T09:28:41.971942Z",
     "iopub.status.busy": "2023-04-06T09:28:41.971521Z",
     "iopub.status.idle": "2023-04-06T09:28:43.051620Z",
     "shell.execute_reply": "2023-04-06T09:28:43.050324Z"
    },
    "papermill": {
     "duration": 1.112132,
     "end_time": "2023-04-06T09:28:43.054169",
     "exception": false,
     "start_time": "2023-04-06T09:28:41.942037",
     "status": "completed"
    },
    "tags": []
   },
   "outputs": [
    {
     "data": {
      "text/plain": [
       "<AxesSubplot:xlabel='Age', ylabel='Transported'>"
      ]
     },
     "execution_count": 75,
     "metadata": {},
     "output_type": "execute_result"
    },
    {
     "data": {
      "image/png": "[encoded data removed]",
      "text/plain": [
       "<Figure size 640x480 with 1 Axes>"
      ]
     },
     "metadata": {},
     "output_type": "display_data"
    }
   ],
   "source": [
    "import seaborn as sns\n",
    "sns.regplot(x=\"Age\",y=\"Transported\",data=train_data)"
   ]
  },
  {
   "cell_type": "code",
   "execution_count": 76,
   "id": "9b384e5d",
   "metadata": {
    "execution": {
     "iopub.execute_input": "2023-04-06T09:28:43.111809Z",
     "iopub.status.busy": "2023-04-06T09:28:43.111168Z",
     "iopub.status.idle": "2023-04-06T09:28:43.964851Z",
     "shell.execute_reply": "2023-04-06T09:28:43.963673Z"
    },
    "papermill": {
     "duration": 0.885611,
     "end_time": "2023-04-06T09:28:43.967737",
     "exception": false,
     "start_time": "2023-04-06T09:28:43.082126",
     "status": "completed"
    },
    "tags": []
   },
   "outputs": [
    {
     "data": {
      "text/plain": [
       "<AxesSubplot:xlabel='FoodCourt', ylabel='Transported'>"
      ]
     },
     "execution_count": 76,
     "metadata": {},
     "output_type": "execute_result"
    },
    {
     "data": {
      "image/png": "[encoded data removed]",
      "text/plain": [
       "<Figure size 640x480 with 1 Axes>"
      ]
     },
     "metadata": {},
     "output_type": "display_data"
    }
   ],
   "source": [
    "sns.regplot(x=\"FoodCourt\",y=\"Transported\",data=train_data)"
   ]
  },
  {
   "cell_type": "code",
   "execution_count": 77,
   "id": "f3ad245c",
   "metadata": {
    "execution": {
     "iopub.execute_input": "2023-04-06T09:28:44.026901Z",
     "iopub.status.busy": "2023-04-06T09:28:44.025841Z",
     "iopub.status.idle": "2023-04-06T09:28:44.031948Z",
     "shell.execute_reply": "2023-04-06T09:28:44.030844Z"
    },
    "papermill": {
     "duration": 0.038026,
     "end_time": "2023-04-06T09:28:44.034467",
     "exception": false,
     "start_time": "2023-04-06T09:28:43.996441",
     "status": "completed"
    },
    "tags": []
   },
   "outputs": [],
   "source": [
    "# Age normalization\n",
    "train_data['Age'] = train_data['Age']/train_data['Age'].max()"
   ]
  },
  {
   "cell_type": "code",
   "execution_count": 78,
   "id": "77bdf354",
   "metadata": {
    "execution": {
     "iopub.execute_input": "2023-04-06T09:28:44.094885Z",
     "iopub.status.busy": "2023-04-06T09:28:44.094408Z",
     "iopub.status.idle": "2023-04-06T09:28:44.118334Z",
     "shell.execute_reply": "2023-04-06T09:28:44.117455Z"
    },
    "papermill": {
     "duration": 0.057923,
     "end_time": "2023-04-06T09:28:44.120702",
     "exception": false,
     "start_time": "2023-04-06T09:28:44.062779",
     "status": "completed"
    },
    "tags": []
   },
   "outputs": [
    {
     "data": {
      "text/html": [
       "<div>\n",
       "<style scoped>\n",
       "    .dataframe tbody tr th:only-of-type {\n",
       "        vertical-align: middle;\n",
       "    }\n",
       "\n",
       "    .dataframe tbody tr th {\n",
       "        vertical-align: top;\n",
       "    }\n",
       "\n",
       "    .dataframe thead th {\n",
       "        text-align: right;\n",
       "    }\n",
       "</style>\n",
       "<table border=\"1\" class=\"dataframe\">\n",
       "  <thead>\n",
       "    <tr style=\"text-align: right;\">\n",
       "      <th></th>\n",
       "      <th>PassengerId</th>\n",
       "      <th>HomePlanet</th>\n",
       "      <th>CryoSleep</th>\n",
       "      <th>Age</th>\n",
       "      <th>VIP</th>\n",
       "      <th>RoomService</th>\n",
       "      <th>FoodCourt</th>\n",
       "      <th>ShoppingMall</th>\n",
       "      <th>Spa</th>\n",
       "      <th>VRDeck</th>\n",
       "      <th>Name</th>\n",
       "      <th>Transported</th>\n",
       "      <th>Cabin_side</th>\n",
       "      <th>destination_55 Cancri e</th>\n",
       "      <th>destination_PSO J318.5-22</th>\n",
       "      <th>destination_TRAPPIST-1e</th>\n",
       "    </tr>\n",
       "  </thead>\n",
       "  <tbody>\n",
       "    <tr>\n",
       "      <th>0</th>\n",
       "      <td>0001_01</td>\n",
       "      <td>Europa</td>\n",
       "      <td>False</td>\n",
       "      <td>0.493671</td>\n",
       "      <td>False</td>\n",
       "      <td>0.0</td>\n",
       "      <td>0.0</td>\n",
       "      <td>0.0</td>\n",
       "      <td>0.0</td>\n",
       "      <td>0.0</td>\n",
       "      <td>Maham Ofracculy</td>\n",
       "      <td>False</td>\n",
       "      <td>P</td>\n",
       "      <td>0</td>\n",
       "      <td>0</td>\n",
       "      <td>1</td>\n",
       "    </tr>\n",
       "    <tr>\n",
       "      <th>1</th>\n",
       "      <td>0002_01</td>\n",
       "      <td>Earth</td>\n",
       "      <td>False</td>\n",
       "      <td>0.303797</td>\n",
       "      <td>False</td>\n",
       "      <td>109.0</td>\n",
       "      <td>9.0</td>\n",
       "      <td>25.0</td>\n",
       "      <td>549.0</td>\n",
       "      <td>44.0</td>\n",
       "      <td>Juanna Vines</td>\n",
       "      <td>True</td>\n",
       "      <td>S</td>\n",
       "      <td>0</td>\n",
       "      <td>0</td>\n",
       "      <td>1</td>\n",
       "    </tr>\n",
       "    <tr>\n",
       "      <th>2</th>\n",
       "      <td>0003_01</td>\n",
       "      <td>Europa</td>\n",
       "      <td>False</td>\n",
       "      <td>0.734177</td>\n",
       "      <td>True</td>\n",
       "      <td>43.0</td>\n",
       "      <td>3576.0</td>\n",
       "      <td>0.0</td>\n",
       "      <td>6715.0</td>\n",
       "      <td>49.0</td>\n",
       "      <td>Altark Susent</td>\n",
       "      <td>False</td>\n",
       "      <td>S</td>\n",
       "      <td>0</td>\n",
       "      <td>0</td>\n",
       "      <td>1</td>\n",
       "    </tr>\n",
       "    <tr>\n",
       "      <th>3</th>\n",
       "      <td>0003_02</td>\n",
       "      <td>Europa</td>\n",
       "      <td>False</td>\n",
       "      <td>0.417722</td>\n",
       "      <td>False</td>\n",
       "      <td>0.0</td>\n",
       "      <td>1283.0</td>\n",
       "      <td>371.0</td>\n",
       "      <td>3329.0</td>\n",
       "      <td>193.0</td>\n",
       "      <td>Solam Susent</td>\n",
       "      <td>False</td>\n",
       "      <td>S</td>\n",
       "      <td>0</td>\n",
       "      <td>0</td>\n",
       "      <td>1</td>\n",
       "    </tr>\n",
       "    <tr>\n",
       "      <th>4</th>\n",
       "      <td>0004_01</td>\n",
       "      <td>Earth</td>\n",
       "      <td>False</td>\n",
       "      <td>0.202532</td>\n",
       "      <td>False</td>\n",
       "      <td>303.0</td>\n",
       "      <td>70.0</td>\n",
       "      <td>151.0</td>\n",
       "      <td>565.0</td>\n",
       "      <td>2.0</td>\n",
       "      <td>Willy Santantines</td>\n",
       "      <td>True</td>\n",
       "      <td>S</td>\n",
       "      <td>0</td>\n",
       "      <td>0</td>\n",
       "      <td>1</td>\n",
       "    </tr>\n",
       "  </tbody>\n",
       "</table>\n",
       "</div>"
      ],
      "text/plain": [
       "  PassengerId HomePlanet  CryoSleep       Age    VIP  RoomService  FoodCourt  \\\n",
       "0     0001_01     Europa      False  0.493671  False          0.0        0.0   \n",
       "1     0002_01      Earth      False  0.303797  False        109.0        9.0   \n",
       "2     0003_01     Europa      False  0.734177   True         43.0     3576.0   \n",
       "3     0003_02     Europa      False  0.417722  False          0.0     1283.0   \n",
       "4     0004_01      Earth      False  0.202532  False        303.0       70.0   \n",
       "\n",
       "   ShoppingMall     Spa  VRDeck               Name  Transported Cabin_side  \\\n",
       "0           0.0     0.0     0.0    Maham Ofracculy        False          P   \n",
       "1          25.0   549.0    44.0       Juanna Vines         True          S   \n",
       "2           0.0  6715.0    49.0      Altark Susent        False          S   \n",
       "3         371.0  3329.0   193.0       Solam Susent        False          S   \n",
       "4         151.0   565.0     2.0  Willy Santantines         True          S   \n",
       "\n",
       "   destination_55 Cancri e  destination_PSO J318.5-22  destination_TRAPPIST-1e  \n",
       "0                        0                          0                        1  \n",
       "1                        0                          0                        1  \n",
       "2                        0                          0                        1  \n",
       "3                        0                          0                        1  \n",
       "4                        0                          0                        1  "
      ]
     },
     "execution_count": 78,
     "metadata": {},
     "output_type": "execute_result"
    }
   ],
   "source": [
    "train_data.head()"
   ]
  },
  {
   "cell_type": "code",
   "execution_count": 79,
   "id": "3525db6d",
   "metadata": {
    "execution": {
     "iopub.execute_input": "2023-04-06T09:28:44.181472Z",
     "iopub.status.busy": "2023-04-06T09:28:44.180738Z",
     "iopub.status.idle": "2023-04-06T09:28:44.202294Z",
     "shell.execute_reply": "2023-04-06T09:28:44.201088Z"
    },
    "papermill": {
     "duration": 0.055172,
     "end_time": "2023-04-06T09:28:44.204878",
     "exception": false,
     "start_time": "2023-04-06T09:28:44.149706",
     "status": "completed"
    },
    "tags": []
   },
   "outputs": [
    {
     "data": {
      "text/html": [
       "<div>\n",
       "<style scoped>\n",
       "    .dataframe tbody tr th:only-of-type {\n",
       "        vertical-align: middle;\n",
       "    }\n",
       "\n",
       "    .dataframe tbody tr th {\n",
       "        vertical-align: top;\n",
       "    }\n",
       "\n",
       "    .dataframe thead th {\n",
       "        text-align: right;\n",
       "    }\n",
       "</style>\n",
       "<table border=\"1\" class=\"dataframe\">\n",
       "  <thead>\n",
       "    <tr style=\"text-align: right;\">\n",
       "      <th></th>\n",
       "      <th>PassengerId</th>\n",
       "      <th>HomePlanet</th>\n",
       "      <th>CryoSleep</th>\n",
       "      <th>Destination</th>\n",
       "      <th>Age</th>\n",
       "      <th>VIP</th>\n",
       "      <th>RoomService</th>\n",
       "      <th>FoodCourt</th>\n",
       "      <th>ShoppingMall</th>\n",
       "      <th>Spa</th>\n",
       "      <th>VRDeck</th>\n",
       "      <th>Name</th>\n",
       "      <th>Cabin_side</th>\n",
       "    </tr>\n",
       "  </thead>\n",
       "  <tbody>\n",
       "    <tr>\n",
       "      <th>0</th>\n",
       "      <td>0013_01</td>\n",
       "      <td>Earth</td>\n",
       "      <td>True</td>\n",
       "      <td>TRAPPIST-1e</td>\n",
       "      <td>27.0</td>\n",
       "      <td>False</td>\n",
       "      <td>0.0</td>\n",
       "      <td>0.0</td>\n",
       "      <td>0.0</td>\n",
       "      <td>0.0</td>\n",
       "      <td>0.0</td>\n",
       "      <td>Nelly Carsoning</td>\n",
       "      <td>S</td>\n",
       "    </tr>\n",
       "    <tr>\n",
       "      <th>1</th>\n",
       "      <td>0018_01</td>\n",
       "      <td>Earth</td>\n",
       "      <td>False</td>\n",
       "      <td>TRAPPIST-1e</td>\n",
       "      <td>19.0</td>\n",
       "      <td>False</td>\n",
       "      <td>0.0</td>\n",
       "      <td>9.0</td>\n",
       "      <td>0.0</td>\n",
       "      <td>2823.0</td>\n",
       "      <td>0.0</td>\n",
       "      <td>Lerome Peckers</td>\n",
       "      <td>S</td>\n",
       "    </tr>\n",
       "    <tr>\n",
       "      <th>2</th>\n",
       "      <td>0019_01</td>\n",
       "      <td>Europa</td>\n",
       "      <td>True</td>\n",
       "      <td>55 Cancri e</td>\n",
       "      <td>31.0</td>\n",
       "      <td>False</td>\n",
       "      <td>0.0</td>\n",
       "      <td>0.0</td>\n",
       "      <td>0.0</td>\n",
       "      <td>0.0</td>\n",
       "      <td>0.0</td>\n",
       "      <td>Sabih Unhearfus</td>\n",
       "      <td>S</td>\n",
       "    </tr>\n",
       "    <tr>\n",
       "      <th>3</th>\n",
       "      <td>0021_01</td>\n",
       "      <td>Europa</td>\n",
       "      <td>False</td>\n",
       "      <td>TRAPPIST-1e</td>\n",
       "      <td>38.0</td>\n",
       "      <td>False</td>\n",
       "      <td>0.0</td>\n",
       "      <td>6652.0</td>\n",
       "      <td>0.0</td>\n",
       "      <td>181.0</td>\n",
       "      <td>585.0</td>\n",
       "      <td>Meratz Caltilter</td>\n",
       "      <td>S</td>\n",
       "    </tr>\n",
       "    <tr>\n",
       "      <th>4</th>\n",
       "      <td>0023_01</td>\n",
       "      <td>Earth</td>\n",
       "      <td>False</td>\n",
       "      <td>TRAPPIST-1e</td>\n",
       "      <td>20.0</td>\n",
       "      <td>False</td>\n",
       "      <td>10.0</td>\n",
       "      <td>0.0</td>\n",
       "      <td>635.0</td>\n",
       "      <td>0.0</td>\n",
       "      <td>0.0</td>\n",
       "      <td>Brence Harperez</td>\n",
       "      <td>S</td>\n",
       "    </tr>\n",
       "  </tbody>\n",
       "</table>\n",
       "</div>"
      ],
      "text/plain": [
       "  PassengerId HomePlanet  CryoSleep  Destination   Age    VIP  RoomService  \\\n",
       "0     0013_01      Earth       True  TRAPPIST-1e  27.0  False          0.0   \n",
       "1     0018_01      Earth      False  TRAPPIST-1e  19.0  False          0.0   \n",
       "2     0019_01     Europa       True  55 Cancri e  31.0  False          0.0   \n",
       "3     0021_01     Europa      False  TRAPPIST-1e  38.0  False          0.0   \n",
       "4     0023_01      Earth      False  TRAPPIST-1e  20.0  False         10.0   \n",
       "\n",
       "   FoodCourt  ShoppingMall     Spa  VRDeck              Name Cabin_side  \n",
       "0        0.0           0.0     0.0     0.0   Nelly Carsoning          S  \n",
       "1        9.0           0.0  2823.0     0.0    Lerome Peckers          S  \n",
       "2        0.0           0.0     0.0     0.0   Sabih Unhearfus          S  \n",
       "3     6652.0           0.0   181.0   585.0  Meratz Caltilter          S  \n",
       "4        0.0         635.0     0.0     0.0   Brence Harperez          S  "
      ]
     },
     "execution_count": 79,
     "metadata": {},
     "output_type": "execute_result"
    }
   ],
   "source": [
    "test_data.head()"
   ]
  },
  {
   "cell_type": "code",
   "execution_count": 80,
   "id": "a708e3d1",
   "metadata": {
    "execution": {
     "iopub.execute_input": "2023-04-06T09:28:44.264963Z",
     "iopub.status.busy": "2023-04-06T09:28:44.264483Z",
     "iopub.status.idle": "2023-04-06T09:28:44.271628Z",
     "shell.execute_reply": "2023-04-06T09:28:44.270484Z"
    },
    "papermill": {
     "duration": 0.039788,
     "end_time": "2023-04-06T09:28:44.273949",
     "exception": false,
     "start_time": "2023-04-06T09:28:44.234161",
     "status": "completed"
    },
    "tags": []
   },
   "outputs": [
    {
     "data": {
      "text/plain": [
       "(4277, 13)"
      ]
     },
     "execution_count": 80,
     "metadata": {},
     "output_type": "execute_result"
    }
   ],
   "source": [
    "#Drop all rows with missing values\n",
    "# test_data.dropna(inplace=True)\n",
    "test_data.shape"
   ]
  },
  {
   "cell_type": "code",
   "execution_count": 81,
   "id": "83cc414d",
   "metadata": {
    "execution": {
     "iopub.execute_input": "2023-04-06T09:28:44.338583Z",
     "iopub.status.busy": "2023-04-06T09:28:44.337832Z",
     "iopub.status.idle": "2023-04-06T09:28:44.348918Z",
     "shell.execute_reply": "2023-04-06T09:28:44.347727Z"
    },
    "papermill": {
     "duration": 0.04491,
     "end_time": "2023-04-06T09:28:44.351518",
     "exception": false,
     "start_time": "2023-04-06T09:28:44.306608",
     "status": "completed"
    },
    "tags": []
   },
   "outputs": [
    {
     "data": {
      "text/plain": [
       "PassengerId     0\n",
       "HomePlanet      0\n",
       "CryoSleep       0\n",
       "Destination     0\n",
       "Age             0\n",
       "VIP             0\n",
       "RoomService     0\n",
       "FoodCourt       0\n",
       "ShoppingMall    0\n",
       "Spa             0\n",
       "VRDeck          0\n",
       "Name            0\n",
       "Cabin_side      0\n",
       "dtype: int64"
      ]
     },
     "execution_count": 81,
     "metadata": {},
     "output_type": "execute_result"
    }
   ],
   "source": [
    "test_data.isnull().sum()"
   ]
  },
  {
   "cell_type": "code",
   "execution_count": 82,
   "id": "98b0c48a",
   "metadata": {
    "execution": {
     "iopub.execute_input": "2023-04-06T09:28:44.414187Z",
     "iopub.status.busy": "2023-04-06T09:28:44.412947Z",
     "iopub.status.idle": "2023-04-06T09:28:44.420056Z",
     "shell.execute_reply": "2023-04-06T09:28:44.418679Z"
    },
    "papermill": {
     "duration": 0.04001,
     "end_time": "2023-04-06T09:28:44.422555",
     "exception": false,
     "start_time": "2023-04-06T09:28:44.382545",
     "status": "completed"
    },
    "tags": []
   },
   "outputs": [],
   "source": [
    "# Simple feature scaling\n",
    "test_data['Age'] = test_data['Age']/test_data['Age'].max()"
   ]
  },
  {
   "cell_type": "code",
   "execution_count": 83,
   "id": "90c2b093",
   "metadata": {
    "execution": {
     "iopub.execute_input": "2023-04-06T09:28:44.483444Z",
     "iopub.status.busy": "2023-04-06T09:28:44.483044Z",
     "iopub.status.idle": "2023-04-06T09:28:44.495952Z",
     "shell.execute_reply": "2023-04-06T09:28:44.494789Z"
    },
    "papermill": {
     "duration": 0.046019,
     "end_time": "2023-04-06T09:28:44.498635",
     "exception": false,
     "start_time": "2023-04-06T09:28:44.452616",
     "status": "completed"
    },
    "tags": []
   },
   "outputs": [],
   "source": [
    "dummy_destination = pd.get_dummies(test_data['Destination'],prefix='destination')\n",
    "test_data = pd.concat([test_data,dummy_destination],axis=1)\n",
    "test_data.drop(\"Destination\",axis=1,inplace=True)"
   ]
  },
  {
   "cell_type": "code",
   "execution_count": 84,
   "id": "1b1a1e6a",
   "metadata": {
    "execution": {
     "iopub.execute_input": "2023-04-06T09:28:44.559134Z",
     "iopub.status.busy": "2023-04-06T09:28:44.558677Z",
     "iopub.status.idle": "2023-04-06T09:28:44.581072Z",
     "shell.execute_reply": "2023-04-06T09:28:44.579748Z"
    },
    "papermill": {
     "duration": 0.05498,
     "end_time": "2023-04-06T09:28:44.583563",
     "exception": false,
     "start_time": "2023-04-06T09:28:44.528583",
     "status": "completed"
    },
    "tags": []
   },
   "outputs": [
    {
     "data": {
      "text/html": [
       "<div>\n",
       "<style scoped>\n",
       "    .dataframe tbody tr th:only-of-type {\n",
       "        vertical-align: middle;\n",
       "    }\n",
       "\n",
       "    .dataframe tbody tr th {\n",
       "        vertical-align: top;\n",
       "    }\n",
       "\n",
       "    .dataframe thead th {\n",
       "        text-align: right;\n",
       "    }\n",
       "</style>\n",
       "<table border=\"1\" class=\"dataframe\">\n",
       "  <thead>\n",
       "    <tr style=\"text-align: right;\">\n",
       "      <th></th>\n",
       "      <th>PassengerId</th>\n",
       "      <th>HomePlanet</th>\n",
       "      <th>CryoSleep</th>\n",
       "      <th>Age</th>\n",
       "      <th>VIP</th>\n",
       "      <th>RoomService</th>\n",
       "      <th>FoodCourt</th>\n",
       "      <th>ShoppingMall</th>\n",
       "      <th>Spa</th>\n",
       "      <th>VRDeck</th>\n",
       "      <th>Name</th>\n",
       "      <th>Cabin_side</th>\n",
       "      <th>destination_55 Cancri e</th>\n",
       "      <th>destination_PSO J318.5-22</th>\n",
       "      <th>destination_TRAPPIST-1e</th>\n",
       "    </tr>\n",
       "  </thead>\n",
       "  <tbody>\n",
       "    <tr>\n",
       "      <th>0</th>\n",
       "      <td>0013_01</td>\n",
       "      <td>Earth</td>\n",
       "      <td>True</td>\n",
       "      <td>0.341772</td>\n",
       "      <td>False</td>\n",
       "      <td>0.0</td>\n",
       "      <td>0.0</td>\n",
       "      <td>0.0</td>\n",
       "      <td>0.0</td>\n",
       "      <td>0.0</td>\n",
       "      <td>Nelly Carsoning</td>\n",
       "      <td>S</td>\n",
       "      <td>0</td>\n",
       "      <td>0</td>\n",
       "      <td>1</td>\n",
       "    </tr>\n",
       "    <tr>\n",
       "      <th>1</th>\n",
       "      <td>0018_01</td>\n",
       "      <td>Earth</td>\n",
       "      <td>False</td>\n",
       "      <td>0.240506</td>\n",
       "      <td>False</td>\n",
       "      <td>0.0</td>\n",
       "      <td>9.0</td>\n",
       "      <td>0.0</td>\n",
       "      <td>2823.0</td>\n",
       "      <td>0.0</td>\n",
       "      <td>Lerome Peckers</td>\n",
       "      <td>S</td>\n",
       "      <td>0</td>\n",
       "      <td>0</td>\n",
       "      <td>1</td>\n",
       "    </tr>\n",
       "    <tr>\n",
       "      <th>2</th>\n",
       "      <td>0019_01</td>\n",
       "      <td>Europa</td>\n",
       "      <td>True</td>\n",
       "      <td>0.392405</td>\n",
       "      <td>False</td>\n",
       "      <td>0.0</td>\n",
       "      <td>0.0</td>\n",
       "      <td>0.0</td>\n",
       "      <td>0.0</td>\n",
       "      <td>0.0</td>\n",
       "      <td>Sabih Unhearfus</td>\n",
       "      <td>S</td>\n",
       "      <td>1</td>\n",
       "      <td>0</td>\n",
       "      <td>0</td>\n",
       "    </tr>\n",
       "    <tr>\n",
       "      <th>3</th>\n",
       "      <td>0021_01</td>\n",
       "      <td>Europa</td>\n",
       "      <td>False</td>\n",
       "      <td>0.481013</td>\n",
       "      <td>False</td>\n",
       "      <td>0.0</td>\n",
       "      <td>6652.0</td>\n",
       "      <td>0.0</td>\n",
       "      <td>181.0</td>\n",
       "      <td>585.0</td>\n",
       "      <td>Meratz Caltilter</td>\n",
       "      <td>S</td>\n",
       "      <td>0</td>\n",
       "      <td>0</td>\n",
       "      <td>1</td>\n",
       "    </tr>\n",
       "    <tr>\n",
       "      <th>4</th>\n",
       "      <td>0023_01</td>\n",
       "      <td>Earth</td>\n",
       "      <td>False</td>\n",
       "      <td>0.253165</td>\n",
       "      <td>False</td>\n",
       "      <td>10.0</td>\n",
       "      <td>0.0</td>\n",
       "      <td>635.0</td>\n",
       "      <td>0.0</td>\n",
       "      <td>0.0</td>\n",
       "      <td>Brence Harperez</td>\n",
       "      <td>S</td>\n",
       "      <td>0</td>\n",
       "      <td>0</td>\n",
       "      <td>1</td>\n",
       "    </tr>\n",
       "  </tbody>\n",
       "</table>\n",
       "</div>"
      ],
      "text/plain": [
       "  PassengerId HomePlanet  CryoSleep       Age    VIP  RoomService  FoodCourt  \\\n",
       "0     0013_01      Earth       True  0.341772  False          0.0        0.0   \n",
       "1     0018_01      Earth      False  0.240506  False          0.0        9.0   \n",
       "2     0019_01     Europa       True  0.392405  False          0.0        0.0   \n",
       "3     0021_01     Europa      False  0.481013  False          0.0     6652.0   \n",
       "4     0023_01      Earth      False  0.253165  False         10.0        0.0   \n",
       "\n",
       "   ShoppingMall     Spa  VRDeck              Name Cabin_side  \\\n",
       "0           0.0     0.0     0.0   Nelly Carsoning          S   \n",
       "1           0.0  2823.0     0.0    Lerome Peckers          S   \n",
       "2           0.0     0.0     0.0   Sabih Unhearfus          S   \n",
       "3           0.0   181.0   585.0  Meratz Caltilter          S   \n",
       "4         635.0     0.0     0.0   Brence Harperez          S   \n",
       "\n",
       "   destination_55 Cancri e  destination_PSO J318.5-22  destination_TRAPPIST-1e  \n",
       "0                        0                          0                        1  \n",
       "1                        0                          0                        1  \n",
       "2                        1                          0                        0  \n",
       "3                        0                          0                        1  \n",
       "4                        0                          0                        1  "
      ]
     },
     "execution_count": 84,
     "metadata": {},
     "output_type": "execute_result"
    }
   ],
   "source": [
    "test_data.head()"
   ]
  },
  {
   "cell_type": "code",
   "execution_count": 85,
   "id": "c80a1e8e",
   "metadata": {
    "execution": {
     "iopub.execute_input": "2023-04-06T09:28:44.644852Z",
     "iopub.status.busy": "2023-04-06T09:28:44.644335Z",
     "iopub.status.idle": "2023-04-06T09:28:44.769928Z",
     "shell.execute_reply": "2023-04-06T09:28:44.767982Z"
    },
    "papermill": {
     "duration": 0.158537,
     "end_time": "2023-04-06T09:28:44.772078",
     "exception": true,
     "start_time": "2023-04-06T09:28:44.613541",
     "status": "failed"
    },
    "tags": []
   },
   "outputs": [
    {
     "ename": "AttributeError",
     "evalue": "'DataFrame' object has no attribute 'Cabin'",
     "output_type": "error",
     "traceback": [
      "\u001b[0;31m---------------------------------------------------------------------------\u001b[0m",
      "\u001b[0;31mAttributeError\u001b[0m                            Traceback (most recent call last)",
      "\u001b[0;32m/tmp/ipykernel_22/3929246442.py\u001b[0m in \u001b[0;36m<module>\u001b[0;34m\u001b[0m\n\u001b[0;32m----> 1\u001b[0;31m \u001b[0mtest_data\u001b[0m\u001b[0;34m[\u001b[0m\u001b[0;34m\"Cabin_side\"\u001b[0m\u001b[0;34m]\u001b[0m \u001b[0;34m=\u001b[0m \u001b[0mtest_data\u001b[0m\u001b[0;34m.\u001b[0m\u001b[0mCabin\u001b[0m\u001b[0;34m.\u001b[0m\u001b[0mstr\u001b[0m\u001b[0;34m.\u001b[0m\u001b[0msplit\u001b[0m\u001b[0;34m(\u001b[0m\u001b[0;34m\"/\"\u001b[0m\u001b[0;34m,\u001b[0m \u001b[0mexpand\u001b[0m\u001b[0;34m=\u001b[0m\u001b[0;32mTrue\u001b[0m\u001b[0;34m)\u001b[0m\u001b[0;34m[\u001b[0m\u001b[0;36m2\u001b[0m\u001b[0;34m]\u001b[0m\u001b[0;34m\u001b[0m\u001b[0;34m\u001b[0m\u001b[0m\n\u001b[0m\u001b[1;32m      2\u001b[0m \u001b[0mdummy_cabin01\u001b[0m \u001b[0;34m=\u001b[0m \u001b[0mpd\u001b[0m\u001b[0;34m.\u001b[0m\u001b[0mget_dummies\u001b[0m\u001b[0;34m(\u001b[0m\u001b[0mtest_data\u001b[0m\u001b[0;34m[\u001b[0m\u001b[0;34m'Cabin_side'\u001b[0m\u001b[0;34m]\u001b[0m\u001b[0;34m,\u001b[0m\u001b[0mprefix\u001b[0m\u001b[0;34m=\u001b[0m\u001b[0;34m'Cabin_side'\u001b[0m\u001b[0;34m)\u001b[0m\u001b[0;34m\u001b[0m\u001b[0;34m\u001b[0m\u001b[0m\n\u001b[1;32m      3\u001b[0m \u001b[0mdummy_cabin01\u001b[0m\u001b[0;34m.\u001b[0m\u001b[0mhead\u001b[0m\u001b[0;34m(\u001b[0m\u001b[0;34m)\u001b[0m\u001b[0;34m\u001b[0m\u001b[0;34m\u001b[0m\u001b[0m\n",
      "\u001b[0;32m/opt/conda/lib/python3.7/site-packages/pandas/core/generic.py\u001b[0m in \u001b[0;36m__getattr__\u001b[0;34m(self, name)\u001b[0m\n\u001b[1;32m   5485\u001b[0m         ):\n\u001b[1;32m   5486\u001b[0m             \u001b[0;32mreturn\u001b[0m \u001b[0mself\u001b[0m\u001b[0;34m[\u001b[0m\u001b[0mname\u001b[0m\u001b[0;34m]\u001b[0m\u001b[0;34m\u001b[0m\u001b[0;34m\u001b[0m\u001b[0m\n\u001b[0;32m-> 5487\u001b[0;31m         \u001b[0;32mreturn\u001b[0m \u001b[0mobject\u001b[0m\u001b[0;34m.\u001b[0m\u001b[0m__getattribute__\u001b[0m\u001b[0;34m(\u001b[0m\u001b[0mself\u001b[0m\u001b[0;34m,\u001b[0m \u001b[0mname\u001b[0m\u001b[0;34m)\u001b[0m\u001b[0;34m\u001b[0m\u001b[0;34m\u001b[0m\u001b[0m\n\u001b[0m\u001b[1;32m   5488\u001b[0m \u001b[0;34m\u001b[0m\u001b[0m\n\u001b[1;32m   5489\u001b[0m     \u001b[0;32mdef\u001b[0m \u001b[0m__setattr__\u001b[0m\u001b[0;34m(\u001b[0m\u001b[0mself\u001b[0m\u001b[0;34m,\u001b[0m \u001b[0mname\u001b[0m\u001b[0;34m:\u001b[0m \u001b[0mstr\u001b[0m\u001b[0;34m,\u001b[0m \u001b[0mvalue\u001b[0m\u001b[0;34m)\u001b[0m \u001b[0;34m->\u001b[0m \u001b[0;32mNone\u001b[0m\u001b[0;34m:\u001b[0m\u001b[0;34m\u001b[0m\u001b[0;34m\u001b[0m\u001b[0m\n",
      "\u001b[0;31mAttributeError\u001b[0m: 'DataFrame' object has no attribute 'Cabin'"
     ]
    }
   ],
   "source": [
    "test_data[\"Cabin_side\"] = test_data.Cabin.str.split(\"/\", expand=True)[2]\n",
    "dummy_cabin01 = pd.get_dummies(test_data['Cabin_side'],prefix='Cabin_side')\n",
    "dummy_cabin01.head()"
   ]
  },
  {
   "cell_type": "code",
   "execution_count": null,
   "id": "4eb22874",
   "metadata": {
    "execution": {
     "iopub.status.busy": "2023-04-06T09:19:47.659338Z",
     "iopub.status.idle": "2023-04-06T09:19:47.659796Z",
     "shell.execute_reply": "2023-04-06T09:19:47.659604Z",
     "shell.execute_reply.started": "2023-04-06T09:19:47.659583Z"
    },
    "papermill": {
     "duration": null,
     "end_time": null,
     "exception": null,
     "start_time": null,
     "status": "pending"
    },
    "tags": []
   },
   "outputs": [],
   "source": [
    "train_data.corr()['Transported'].sort_values(ascending=False)"
   ]
  },
  {
   "cell_type": "code",
   "execution_count": null,
   "id": "e0e0dd77",
   "metadata": {
    "execution": {
     "iopub.status.busy": "2023-04-06T09:19:47.661710Z",
     "iopub.status.idle": "2023-04-06T09:19:47.662175Z",
     "shell.execute_reply": "2023-04-06T09:19:47.661966Z",
     "shell.execute_reply.started": "2023-04-06T09:19:47.661943Z"
    },
    "papermill": {
     "duration": null,
     "end_time": null,
     "exception": null,
     "start_time": null,
     "status": "pending"
    },
    "tags": []
   },
   "outputs": [],
   "source": [
    "test_data.head()"
   ]
  },
  {
   "cell_type": "markdown",
   "id": "877d4cf5",
   "metadata": {
    "papermill": {
     "duration": null,
     "end_time": null,
     "exception": null,
     "start_time": null,
     "status": "pending"
    },
    "tags": []
   },
   "source": []
  },
  {
   "cell_type": "code",
   "execution_count": null,
   "id": "7c3434f0",
   "metadata": {
    "execution": {
     "iopub.status.busy": "2023-04-06T09:19:47.663410Z",
     "iopub.status.idle": "2023-04-06T09:19:47.663879Z",
     "shell.execute_reply": "2023-04-06T09:19:47.663677Z",
     "shell.execute_reply.started": "2023-04-06T09:19:47.663656Z"
    },
    "papermill": {
     "duration": null,
     "end_time": null,
     "exception": null,
     "start_time": null,
     "status": "pending"
    },
    "tags": []
   },
   "outputs": [],
   "source": [
    "test_data.shape"
   ]
  },
  {
   "cell_type": "code",
   "execution_count": null,
   "id": "9200241e",
   "metadata": {
    "execution": {
     "iopub.status.busy": "2023-04-06T09:19:47.665037Z",
     "iopub.status.idle": "2023-04-06T09:19:47.665464Z",
     "shell.execute_reply": "2023-04-06T09:19:47.665260Z",
     "shell.execute_reply.started": "2023-04-06T09:19:47.665240Z"
    },
    "papermill": {
     "duration": null,
     "end_time": null,
     "exception": null,
     "start_time": null,
     "status": "pending"
    },
    "tags": []
   },
   "outputs": [],
   "source": [
    "dummy_destination = pd.get_dummies(train_data['Destination'],prefix='destination')"
   ]
  },
  {
   "cell_type": "code",
   "execution_count": null,
   "id": "696e72ed",
   "metadata": {
    "execution": {
     "iopub.status.busy": "2023-04-06T09:19:47.669232Z",
     "iopub.status.idle": "2023-04-06T09:19:47.669664Z",
     "shell.execute_reply": "2023-04-06T09:19:47.669464Z",
     "shell.execute_reply.started": "2023-04-06T09:19:47.669448Z"
    },
    "papermill": {
     "duration": null,
     "end_time": null,
     "exception": null,
     "start_time": null,
     "status": "pending"
    },
    "tags": []
   },
   "outputs": [],
   "source": [
    "#Drop column Destination Column\n",
    "train_data = pd.concat([train_data,dummy_destination],axis=1)\n",
    "train_data.drop(\"Destination\",axis=1,inplace=True)"
   ]
  },
  {
   "cell_type": "code",
   "execution_count": null,
   "id": "bae4a369",
   "metadata": {
    "execution": {
     "iopub.status.busy": "2023-04-06T09:19:47.670628Z",
     "iopub.status.idle": "2023-04-06T09:19:47.670952Z",
     "shell.execute_reply": "2023-04-06T09:19:47.670813Z",
     "shell.execute_reply.started": "2023-04-06T09:19:47.670797Z"
    },
    "papermill": {
     "duration": null,
     "end_time": null,
     "exception": null,
     "start_time": null,
     "status": "pending"
    },
    "tags": []
   },
   "outputs": [],
   "source": [
    "dum_destination = pd.get_dummies(test_data['Destination'],prefix='destination')\n",
    "#Drop column Destination Column\n",
    "test_data = pd.concat([test_data,dum_destination],axis=1)\n",
    "test_data.drop(\"Destination\",axis=1,inplace=True)"
   ]
  },
  {
   "cell_type": "code",
   "execution_count": null,
   "id": "a452e029",
   "metadata": {
    "papermill": {
     "duration": null,
     "end_time": null,
     "exception": null,
     "start_time": null,
     "status": "pending"
    },
    "tags": []
   },
   "outputs": [],
   "source": []
  },
  {
   "cell_type": "code",
   "execution_count": null,
   "id": "01e7b432",
   "metadata": {
    "execution": {
     "iopub.execute_input": "2023-04-06T09:26:59.661039Z",
     "iopub.status.busy": "2023-04-06T09:26:59.660685Z",
     "iopub.status.idle": "2023-04-06T09:27:00.128938Z",
     "shell.execute_reply": "2023-04-06T09:27:00.127572Z",
     "shell.execute_reply.started": "2023-04-06T09:26:59.661013Z"
    },
    "papermill": {
     "duration": null,
     "end_time": null,
     "exception": null,
     "start_time": null,
     "status": "pending"
    },
    "tags": []
   },
   "outputs": [],
   "source": [
    "from sklearn.ensemble import RandomForestClassifier\n",
    "\n",
    "y = train_data[\"Transported\"]\n",
    "\n",
    "features = [\"CryoSleep\", \"FoodCourt\", \"Age\"]\n",
    "X = train_data[features]\n",
    "X_test = test_data[features]\n",
    "\n",
    "model = RandomForestClassifier(n_estimators=100, max_depth=5, random_state=1)\n",
    "model.fit(X, y)\n",
    "predictions = model.predict(X_test)\n",
    "predictions\n",
    "\n",
    "output = pd.DataFrame({'PassengerId': test_data.PassengerId, 'Transported': predictions})\n",
    "output.to_csv('submission.csv', index=False)\n",
    "print(\"Your submission was successfully saved!\")"
   ]
  },
  {
   "cell_type": "code",
   "execution_count": null,
   "id": "d687566d",
   "metadata": {
    "papermill": {
     "duration": null,
     "end_time": null,
     "exception": null,
     "start_time": null,
     "status": "pending"
    },
    "tags": []
   },
   "outputs": [],
   "source": []
  }
 ],
 "metadata": {
  "kernelspec": {
   "display_name": "Python 3",
   "language": "python",
   "name": "python3"
  },
  "language_info": {
   "codemirror_mode": {
    "name": "ipython",
    "version": 3
   },
   "file_extension": ".py",
   "mimetype": "text/x-python",
   "name": "python",
   "nbconvert_exporter": "python",
   "pygments_lexer": "ipython3",
   "version": "3.7.12"
  },
  "papermill": {
   "default_parameters": {},
   "duration": 19.707661,
   "end_time": "2023-04-06T09:28:45.624210",
   "environment_variables": {},
   "exception": true,
   "input_path": "__notebook__.ipynb",
   "output_path": "__notebook__.ipynb",
   "parameters": {},
   "start_time": "2023-04-06T09:28:25.916549",
   "version": "2.3.4"
  }
 },
 "nbformat": 4,
 "nbformat_minor": 5
}
