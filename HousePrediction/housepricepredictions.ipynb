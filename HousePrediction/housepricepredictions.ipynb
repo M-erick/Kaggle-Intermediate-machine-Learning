{
 "cells": [
  {
   "cell_type": "code",
   "execution_count": 1,
   "id": "52854173",
   "metadata": {
    "_cell_guid": "b1076dfc-b9ad-4769-8c92-a6c4dae69d19",
    "_uuid": "8f2839f25d086af736a60e9eeb907d3b93b6e0e5",
    "execution": {
     "iopub.execute_input": "2023-04-11T12:29:24.050630Z",
     "iopub.status.busy": "2023-04-11T12:29:24.050229Z",
     "iopub.status.idle": "2023-04-11T12:29:24.064467Z",
     "shell.execute_reply": "2023-04-11T12:29:24.063469Z"
    },
    "papermill": {
     "duration": 0.032886,
     "end_time": "2023-04-11T12:29:24.067075",
     "exception": false,
     "start_time": "2023-04-11T12:29:24.034189",
     "status": "completed"
    },
    "tags": []
   },
   "outputs": [
    {
     "name": "stdout",
     "output_type": "stream",
     "text": [
      "/kaggle/input/house-prices-advanced-regression-techniques/sample_submission.csv\n",
      "/kaggle/input/house-prices-advanced-regression-techniques/data_description.txt\n",
      "/kaggle/input/house-prices-advanced-regression-techniques/train.csv\n",
      "/kaggle/input/house-prices-advanced-regression-techniques/test.csv\n"
     ]
    }
   ],
   "source": [
    "# This Python 3 environment comes with many helpful analytics libraries installed\n",
    "# It is defined by the kaggle/python Docker image: https://github.com/kaggle/docker-python\n",
    "# For example, here's several helpful packages to load\n",
    "\n",
    "import numpy as np # linear algebra\n",
    "import pandas as pd # data processing, CSV file I/O (e.g. pd.read_csv)\n",
    "\n",
    "# Input data files are available in the read-only \"../input/\" directory\n",
    "# For example, running this (by clicking run or pressing Shift+Enter) will list all files under the input directory\n",
    "\n",
    "import os\n",
    "for dirname, _, filenames in os.walk('/kaggle/input'):\n",
    "    for filename in filenames:\n",
    "        print(os.path.join(dirname, filename))\n",
    "\n",
    "# You can write up to 20GB to the current directory (/kaggle/working/) that gets preserved as output when you create a version using \"Save & Run All\" \n",
    "# You can also write temporary files to /kaggle/temp/, but they won't be saved outside of the current session"
   ]
  },
  {
   "cell_type": "code",
   "execution_count": 2,
   "id": "6a58906e",
   "metadata": {
    "execution": {
     "iopub.execute_input": "2023-04-11T12:29:24.095875Z",
     "iopub.status.busy": "2023-04-11T12:29:24.095077Z",
     "iopub.status.idle": "2023-04-11T12:29:24.186646Z",
     "shell.execute_reply": "2023-04-11T12:29:24.185290Z"
    },
    "papermill": {
     "duration": 0.109069,
     "end_time": "2023-04-11T12:29:24.189531",
     "exception": false,
     "start_time": "2023-04-11T12:29:24.080462",
     "status": "completed"
    },
    "tags": []
   },
   "outputs": [],
   "source": [
    "train_data =pd.read_csv('/kaggle/input/house-prices-advanced-regression-techniques/train.csv')\n",
    "test_data =pd.read_csv('/kaggle/input/house-prices-advanced-regression-techniques/test.csv')\n",
    "submission_data =pd.read_csv('/kaggle/input/house-prices-advanced-regression-techniques/sample_submission.csv')"
   ]
  },
  {
   "cell_type": "code",
   "execution_count": 3,
   "id": "06844822",
   "metadata": {
    "execution": {
     "iopub.execute_input": "2023-04-11T12:29:24.218621Z",
     "iopub.status.busy": "2023-04-11T12:29:24.217759Z",
     "iopub.status.idle": "2023-04-11T12:29:24.261017Z",
     "shell.execute_reply": "2023-04-11T12:29:24.259570Z"
    },
    "papermill": {
     "duration": 0.060688,
     "end_time": "2023-04-11T12:29:24.263793",
     "exception": false,
     "start_time": "2023-04-11T12:29:24.203105",
     "status": "completed"
    },
    "tags": []
   },
   "outputs": [
    {
     "data": {
      "text/html": [
       "<div>\n",
       "<style scoped>\n",
       "    .dataframe tbody tr th:only-of-type {\n",
       "        vertical-align: middle;\n",
       "    }\n",
       "\n",
       "    .dataframe tbody tr th {\n",
       "        vertical-align: top;\n",
       "    }\n",
       "\n",
       "    .dataframe thead th {\n",
       "        text-align: right;\n",
       "    }\n",
       "</style>\n",
       "<table border=\"1\" class=\"dataframe\">\n",
       "  <thead>\n",
       "    <tr style=\"text-align: right;\">\n",
       "      <th></th>\n",
       "      <th>Id</th>\n",
       "      <th>MSSubClass</th>\n",
       "      <th>MSZoning</th>\n",
       "      <th>LotFrontage</th>\n",
       "      <th>LotArea</th>\n",
       "      <th>Street</th>\n",
       "      <th>Alley</th>\n",
       "      <th>LotShape</th>\n",
       "      <th>LandContour</th>\n",
       "      <th>Utilities</th>\n",
       "      <th>...</th>\n",
       "      <th>PoolArea</th>\n",
       "      <th>PoolQC</th>\n",
       "      <th>Fence</th>\n",
       "      <th>MiscFeature</th>\n",
       "      <th>MiscVal</th>\n",
       "      <th>MoSold</th>\n",
       "      <th>YrSold</th>\n",
       "      <th>SaleType</th>\n",
       "      <th>SaleCondition</th>\n",
       "      <th>SalePrice</th>\n",
       "    </tr>\n",
       "  </thead>\n",
       "  <tbody>\n",
       "    <tr>\n",
       "      <th>0</th>\n",
       "      <td>1</td>\n",
       "      <td>60</td>\n",
       "      <td>RL</td>\n",
       "      <td>65.0</td>\n",
       "      <td>8450</td>\n",
       "      <td>Pave</td>\n",
       "      <td>NaN</td>\n",
       "      <td>Reg</td>\n",
       "      <td>Lvl</td>\n",
       "      <td>AllPub</td>\n",
       "      <td>...</td>\n",
       "      <td>0</td>\n",
       "      <td>NaN</td>\n",
       "      <td>NaN</td>\n",
       "      <td>NaN</td>\n",
       "      <td>0</td>\n",
       "      <td>2</td>\n",
       "      <td>2008</td>\n",
       "      <td>WD</td>\n",
       "      <td>Normal</td>\n",
       "      <td>208500</td>\n",
       "    </tr>\n",
       "    <tr>\n",
       "      <th>1</th>\n",
       "      <td>2</td>\n",
       "      <td>20</td>\n",
       "      <td>RL</td>\n",
       "      <td>80.0</td>\n",
       "      <td>9600</td>\n",
       "      <td>Pave</td>\n",
       "      <td>NaN</td>\n",
       "      <td>Reg</td>\n",
       "      <td>Lvl</td>\n",
       "      <td>AllPub</td>\n",
       "      <td>...</td>\n",
       "      <td>0</td>\n",
       "      <td>NaN</td>\n",
       "      <td>NaN</td>\n",
       "      <td>NaN</td>\n",
       "      <td>0</td>\n",
       "      <td>5</td>\n",
       "      <td>2007</td>\n",
       "      <td>WD</td>\n",
       "      <td>Normal</td>\n",
       "      <td>181500</td>\n",
       "    </tr>\n",
       "    <tr>\n",
       "      <th>2</th>\n",
       "      <td>3</td>\n",
       "      <td>60</td>\n",
       "      <td>RL</td>\n",
       "      <td>68.0</td>\n",
       "      <td>11250</td>\n",
       "      <td>Pave</td>\n",
       "      <td>NaN</td>\n",
       "      <td>IR1</td>\n",
       "      <td>Lvl</td>\n",
       "      <td>AllPub</td>\n",
       "      <td>...</td>\n",
       "      <td>0</td>\n",
       "      <td>NaN</td>\n",
       "      <td>NaN</td>\n",
       "      <td>NaN</td>\n",
       "      <td>0</td>\n",
       "      <td>9</td>\n",
       "      <td>2008</td>\n",
       "      <td>WD</td>\n",
       "      <td>Normal</td>\n",
       "      <td>223500</td>\n",
       "    </tr>\n",
       "    <tr>\n",
       "      <th>3</th>\n",
       "      <td>4</td>\n",
       "      <td>70</td>\n",
       "      <td>RL</td>\n",
       "      <td>60.0</td>\n",
       "      <td>9550</td>\n",
       "      <td>Pave</td>\n",
       "      <td>NaN</td>\n",
       "      <td>IR1</td>\n",
       "      <td>Lvl</td>\n",
       "      <td>AllPub</td>\n",
       "      <td>...</td>\n",
       "      <td>0</td>\n",
       "      <td>NaN</td>\n",
       "      <td>NaN</td>\n",
       "      <td>NaN</td>\n",
       "      <td>0</td>\n",
       "      <td>2</td>\n",
       "      <td>2006</td>\n",
       "      <td>WD</td>\n",
       "      <td>Abnorml</td>\n",
       "      <td>140000</td>\n",
       "    </tr>\n",
       "    <tr>\n",
       "      <th>4</th>\n",
       "      <td>5</td>\n",
       "      <td>60</td>\n",
       "      <td>RL</td>\n",
       "      <td>84.0</td>\n",
       "      <td>14260</td>\n",
       "      <td>Pave</td>\n",
       "      <td>NaN</td>\n",
       "      <td>IR1</td>\n",
       "      <td>Lvl</td>\n",
       "      <td>AllPub</td>\n",
       "      <td>...</td>\n",
       "      <td>0</td>\n",
       "      <td>NaN</td>\n",
       "      <td>NaN</td>\n",
       "      <td>NaN</td>\n",
       "      <td>0</td>\n",
       "      <td>12</td>\n",
       "      <td>2008</td>\n",
       "      <td>WD</td>\n",
       "      <td>Normal</td>\n",
       "      <td>250000</td>\n",
       "    </tr>\n",
       "  </tbody>\n",
       "</table>\n",
       "<p>5 rows × 81 columns</p>\n",
       "</div>"
      ],
      "text/plain": [
       "   Id  MSSubClass MSZoning  LotFrontage  LotArea Street Alley LotShape  \\\n",
       "0   1          60       RL         65.0     8450   Pave   NaN      Reg   \n",
       "1   2          20       RL         80.0     9600   Pave   NaN      Reg   \n",
       "2   3          60       RL         68.0    11250   Pave   NaN      IR1   \n",
       "3   4          70       RL         60.0     9550   Pave   NaN      IR1   \n",
       "4   5          60       RL         84.0    14260   Pave   NaN      IR1   \n",
       "\n",
       "  LandContour Utilities  ... PoolArea PoolQC Fence MiscFeature MiscVal MoSold  \\\n",
       "0         Lvl    AllPub  ...        0    NaN   NaN         NaN       0      2   \n",
       "1         Lvl    AllPub  ...        0    NaN   NaN         NaN       0      5   \n",
       "2         Lvl    AllPub  ...        0    NaN   NaN         NaN       0      9   \n",
       "3         Lvl    AllPub  ...        0    NaN   NaN         NaN       0      2   \n",
       "4         Lvl    AllPub  ...        0    NaN   NaN         NaN       0     12   \n",
       "\n",
       "  YrSold  SaleType  SaleCondition  SalePrice  \n",
       "0   2008        WD         Normal     208500  \n",
       "1   2007        WD         Normal     181500  \n",
       "2   2008        WD         Normal     223500  \n",
       "3   2006        WD        Abnorml     140000  \n",
       "4   2008        WD         Normal     250000  \n",
       "\n",
       "[5 rows x 81 columns]"
      ]
     },
     "execution_count": 3,
     "metadata": {},
     "output_type": "execute_result"
    }
   ],
   "source": [
    "train_data.head()"
   ]
  },
  {
   "cell_type": "code",
   "execution_count": 4,
   "id": "e7d81e23",
   "metadata": {
    "execution": {
     "iopub.execute_input": "2023-04-11T12:29:24.294868Z",
     "iopub.status.busy": "2023-04-11T12:29:24.294054Z",
     "iopub.status.idle": "2023-04-11T12:29:24.301376Z",
     "shell.execute_reply": "2023-04-11T12:29:24.300117Z"
    },
    "papermill": {
     "duration": 0.025042,
     "end_time": "2023-04-11T12:29:24.304058",
     "exception": false,
     "start_time": "2023-04-11T12:29:24.279016",
     "status": "completed"
    },
    "tags": []
   },
   "outputs": [
    {
     "data": {
      "text/plain": [
       "(1460, 81)"
      ]
     },
     "execution_count": 4,
     "metadata": {},
     "output_type": "execute_result"
    }
   ],
   "source": [
    "train_data.shape\n"
   ]
  },
  {
   "cell_type": "code",
   "execution_count": 5,
   "id": "83cbcf9c",
   "metadata": {
    "execution": {
     "iopub.execute_input": "2023-04-11T12:29:24.333021Z",
     "iopub.status.busy": "2023-04-11T12:29:24.332631Z",
     "iopub.status.idle": "2023-04-11T12:29:24.340661Z",
     "shell.execute_reply": "2023-04-11T12:29:24.339250Z"
    },
    "papermill": {
     "duration": 0.025336,
     "end_time": "2023-04-11T12:29:24.343094",
     "exception": false,
     "start_time": "2023-04-11T12:29:24.317758",
     "status": "completed"
    },
    "tags": []
   },
   "outputs": [
    {
     "data": {
      "text/plain": [
       "(1459, 80)"
      ]
     },
     "execution_count": 5,
     "metadata": {},
     "output_type": "execute_result"
    }
   ],
   "source": [
    "\n",
    "test_data.shape"
   ]
  },
  {
   "cell_type": "code",
   "execution_count": null,
   "id": "9a60cc88",
   "metadata": {
    "papermill": {
     "duration": 0.013927,
     "end_time": "2023-04-11T12:29:24.371084",
     "exception": false,
     "start_time": "2023-04-11T12:29:24.357157",
     "status": "completed"
    },
    "tags": []
   },
   "outputs": [],
   "source": []
  },
  {
   "cell_type": "markdown",
   "id": "3d1233d8",
   "metadata": {
    "papermill": {
     "duration": 0.013601,
     "end_time": "2023-04-11T12:29:24.398537",
     "exception": false,
     "start_time": "2023-04-11T12:29:24.384936",
     "status": "completed"
    },
    "tags": []
   },
   "source": [
    "## Data Cleaning\n"
   ]
  },
  {
   "cell_type": "code",
   "execution_count": 6,
   "id": "4ac1686f",
   "metadata": {
    "execution": {
     "iopub.execute_input": "2023-04-11T12:29:24.427411Z",
     "iopub.status.busy": "2023-04-11T12:29:24.426962Z",
     "iopub.status.idle": "2023-04-11T12:29:24.458962Z",
     "shell.execute_reply": "2023-04-11T12:29:24.457460Z"
    },
    "papermill": {
     "duration": 0.049671,
     "end_time": "2023-04-11T12:29:24.461742",
     "exception": false,
     "start_time": "2023-04-11T12:29:24.412071",
     "status": "completed"
    },
    "tags": []
   },
   "outputs": [
    {
     "name": "stdout",
     "output_type": "stream",
     "text": [
      "<class 'pandas.core.frame.DataFrame'>\n",
      "RangeIndex: 1460 entries, 0 to 1459\n",
      "Data columns (total 81 columns):\n",
      " #   Column         Non-Null Count  Dtype  \n",
      "---  ------         --------------  -----  \n",
      " 0   Id             1460 non-null   int64  \n",
      " 1   MSSubClass     1460 non-null   int64  \n",
      " 2   MSZoning       1460 non-null   object \n",
      " 3   LotFrontage    1201 non-null   float64\n",
      " 4   LotArea        1460 non-null   int64  \n",
      " 5   Street         1460 non-null   object \n",
      " 6   Alley          91 non-null     object \n",
      " 7   LotShape       1460 non-null   object \n",
      " 8   LandContour    1460 non-null   object \n",
      " 9   Utilities      1460 non-null   object \n",
      " 10  LotConfig      1460 non-null   object \n",
      " 11  LandSlope      1460 non-null   object \n",
      " 12  Neighborhood   1460 non-null   object \n",
      " 13  Condition1     1460 non-null   object \n",
      " 14  Condition2     1460 non-null   object \n",
      " 15  BldgType       1460 non-null   object \n",
      " 16  HouseStyle     1460 non-null   object \n",
      " 17  OverallQual    1460 non-null   int64  \n",
      " 18  OverallCond    1460 non-null   int64  \n",
      " 19  YearBuilt      1460 non-null   int64  \n",
      " 20  YearRemodAdd   1460 non-null   int64  \n",
      " 21  RoofStyle      1460 non-null   object \n",
      " 22  RoofMatl       1460 non-null   object \n",
      " 23  Exterior1st    1460 non-null   object \n",
      " 24  Exterior2nd    1460 non-null   object \n",
      " 25  MasVnrType     1452 non-null   object \n",
      " 26  MasVnrArea     1452 non-null   float64\n",
      " 27  ExterQual      1460 non-null   object \n",
      " 28  ExterCond      1460 non-null   object \n",
      " 29  Foundation     1460 non-null   object \n",
      " 30  BsmtQual       1423 non-null   object \n",
      " 31  BsmtCond       1423 non-null   object \n",
      " 32  BsmtExposure   1422 non-null   object \n",
      " 33  BsmtFinType1   1423 non-null   object \n",
      " 34  BsmtFinSF1     1460 non-null   int64  \n",
      " 35  BsmtFinType2   1422 non-null   object \n",
      " 36  BsmtFinSF2     1460 non-null   int64  \n",
      " 37  BsmtUnfSF      1460 non-null   int64  \n",
      " 38  TotalBsmtSF    1460 non-null   int64  \n",
      " 39  Heating        1460 non-null   object \n",
      " 40  HeatingQC      1460 non-null   object \n",
      " 41  CentralAir     1460 non-null   object \n",
      " 42  Electrical     1459 non-null   object \n",
      " 43  1stFlrSF       1460 non-null   int64  \n",
      " 44  2ndFlrSF       1460 non-null   int64  \n",
      " 45  LowQualFinSF   1460 non-null   int64  \n",
      " 46  GrLivArea      1460 non-null   int64  \n",
      " 47  BsmtFullBath   1460 non-null   int64  \n",
      " 48  BsmtHalfBath   1460 non-null   int64  \n",
      " 49  FullBath       1460 non-null   int64  \n",
      " 50  HalfBath       1460 non-null   int64  \n",
      " 51  BedroomAbvGr   1460 non-null   int64  \n",
      " 52  KitchenAbvGr   1460 non-null   int64  \n",
      " 53  KitchenQual    1460 non-null   object \n",
      " 54  TotRmsAbvGrd   1460 non-null   int64  \n",
      " 55  Functional     1460 non-null   object \n",
      " 56  Fireplaces     1460 non-null   int64  \n",
      " 57  FireplaceQu    770 non-null    object \n",
      " 58  GarageType     1379 non-null   object \n",
      " 59  GarageYrBlt    1379 non-null   float64\n",
      " 60  GarageFinish   1379 non-null   object \n",
      " 61  GarageCars     1460 non-null   int64  \n",
      " 62  GarageArea     1460 non-null   int64  \n",
      " 63  GarageQual     1379 non-null   object \n",
      " 64  GarageCond     1379 non-null   object \n",
      " 65  PavedDrive     1460 non-null   object \n",
      " 66  WoodDeckSF     1460 non-null   int64  \n",
      " 67  OpenPorchSF    1460 non-null   int64  \n",
      " 68  EnclosedPorch  1460 non-null   int64  \n",
      " 69  3SsnPorch      1460 non-null   int64  \n",
      " 70  ScreenPorch    1460 non-null   int64  \n",
      " 71  PoolArea       1460 non-null   int64  \n",
      " 72  PoolQC         7 non-null      object \n",
      " 73  Fence          281 non-null    object \n",
      " 74  MiscFeature    54 non-null     object \n",
      " 75  MiscVal        1460 non-null   int64  \n",
      " 76  MoSold         1460 non-null   int64  \n",
      " 77  YrSold         1460 non-null   int64  \n",
      " 78  SaleType       1460 non-null   object \n",
      " 79  SaleCondition  1460 non-null   object \n",
      " 80  SalePrice      1460 non-null   int64  \n",
      "dtypes: float64(3), int64(35), object(43)\n",
      "memory usage: 924.0+ KB\n"
     ]
    }
   ],
   "source": [
    "train_data.info()"
   ]
  },
  {
   "cell_type": "code",
   "execution_count": 7,
   "id": "46e45581",
   "metadata": {
    "execution": {
     "iopub.execute_input": "2023-04-11T12:29:24.492176Z",
     "iopub.status.busy": "2023-04-11T12:29:24.491028Z",
     "iopub.status.idle": "2023-04-11T12:29:24.499385Z",
     "shell.execute_reply": "2023-04-11T12:29:24.498484Z"
    },
    "papermill": {
     "duration": 0.026551,
     "end_time": "2023-04-11T12:29:24.502165",
     "exception": false,
     "start_time": "2023-04-11T12:29:24.475614",
     "status": "completed"
    },
    "tags": []
   },
   "outputs": [
    {
     "data": {
      "text/plain": [
       "Grvl    50\n",
       "Pave    41\n",
       "Name: Alley, dtype: int64"
      ]
     },
     "execution_count": 7,
     "metadata": {},
     "output_type": "execute_result"
    }
   ],
   "source": [
    "# Alley\n",
    "# Grvl\tGravel\n",
    "#        Pave\tPaved\n",
    "#        NA \tNo alley access\n",
    "train_data['Alley'].value_counts()\n",
    "# Replace NA with No_Alley\n"
   ]
  },
  {
   "cell_type": "code",
   "execution_count": 8,
   "id": "c5282a01",
   "metadata": {
    "execution": {
     "iopub.execute_input": "2023-04-11T12:29:24.533407Z",
     "iopub.status.busy": "2023-04-11T12:29:24.532513Z",
     "iopub.status.idle": "2023-04-11T12:29:24.538589Z",
     "shell.execute_reply": "2023-04-11T12:29:24.537473Z"
    },
    "papermill": {
     "duration": 0.024449,
     "end_time": "2023-04-11T12:29:24.541056",
     "exception": false,
     "start_time": "2023-04-11T12:29:24.516607",
     "status": "completed"
    },
    "tags": []
   },
   "outputs": [],
   "source": [
    "train_data['Alley'] =  train_data['Alley'].replace(np.nan,'No_Alley')"
   ]
  },
  {
   "cell_type": "code",
   "execution_count": 9,
   "id": "ab12c402",
   "metadata": {
    "execution": {
     "iopub.execute_input": "2023-04-11T12:29:24.572038Z",
     "iopub.status.busy": "2023-04-11T12:29:24.571092Z",
     "iopub.status.idle": "2023-04-11T12:29:24.577926Z",
     "shell.execute_reply": "2023-04-11T12:29:24.576686Z"
    },
    "papermill": {
     "duration": 0.02527,
     "end_time": "2023-04-11T12:29:24.580458",
     "exception": false,
     "start_time": "2023-04-11T12:29:24.555188",
     "status": "completed"
    },
    "tags": []
   },
   "outputs": [],
   "source": [
    "# test_data['Alley'].value_counts()\n",
    "test_data['Alley'] =  test_data['Alley'].replace(np.nan,'No_Alley')"
   ]
  },
  {
   "cell_type": "code",
   "execution_count": 10,
   "id": "37d5ca5f",
   "metadata": {
    "execution": {
     "iopub.execute_input": "2023-04-11T12:29:24.610671Z",
     "iopub.status.busy": "2023-04-11T12:29:24.610208Z",
     "iopub.status.idle": "2023-04-11T12:29:24.620177Z",
     "shell.execute_reply": "2023-04-11T12:29:24.618806Z"
    },
    "papermill": {
     "duration": 0.028428,
     "end_time": "2023-04-11T12:29:24.622756",
     "exception": false,
     "start_time": "2023-04-11T12:29:24.594328",
     "status": "completed"
    },
    "tags": []
   },
   "outputs": [
    {
     "data": {
      "text/plain": [
       "None       864\n",
       "BrkFace    445\n",
       "Stone      128\n",
       "BrkCmn      15\n",
       "Name: MasVnrType, dtype: int64"
      ]
     },
     "execution_count": 10,
     "metadata": {},
     "output_type": "execute_result"
    }
   ],
   "source": [
    "# MasVnrType\n",
    "# BrkCmn\tBrick Common\n",
    "#        BrkFace\tBrick Face\n",
    "#        CBlock\tCinder Block\n",
    "#        None\tNone\n",
    "#        Stone\tStone\n",
    "train_data['MasVnrType'].value_counts()"
   ]
  },
  {
   "cell_type": "code",
   "execution_count": 11,
   "id": "762153bc",
   "metadata": {
    "execution": {
     "iopub.execute_input": "2023-04-11T12:29:24.652972Z",
     "iopub.status.busy": "2023-04-11T12:29:24.652556Z",
     "iopub.status.idle": "2023-04-11T12:29:24.658741Z",
     "shell.execute_reply": "2023-04-11T12:29:24.657585Z"
    },
    "papermill": {
     "duration": 0.024127,
     "end_time": "2023-04-11T12:29:24.661101",
     "exception": false,
     "start_time": "2023-04-11T12:29:24.636974",
     "status": "completed"
    },
    "tags": []
   },
   "outputs": [],
   "source": [
    "# Replace 'NULL' with BrFace;mode\n",
    "train_data['MasVnrType'] =  train_data['MasVnrType'].replace(np.nan,'None')"
   ]
  },
  {
   "cell_type": "code",
   "execution_count": 12,
   "id": "b3585af6",
   "metadata": {
    "execution": {
     "iopub.execute_input": "2023-04-11T12:29:24.690852Z",
     "iopub.status.busy": "2023-04-11T12:29:24.690425Z",
     "iopub.status.idle": "2023-04-11T12:29:24.697855Z",
     "shell.execute_reply": "2023-04-11T12:29:24.696978Z"
    },
    "papermill": {
     "duration": 0.02552,
     "end_time": "2023-04-11T12:29:24.700512",
     "exception": false,
     "start_time": "2023-04-11T12:29:24.674992",
     "status": "completed"
    },
    "tags": []
   },
   "outputs": [
    {
     "data": {
      "text/plain": [
       "0"
      ]
     },
     "execution_count": 12,
     "metadata": {},
     "output_type": "execute_result"
    }
   ],
   "source": [
    "train_data['MasVnrType'].isnull().sum()"
   ]
  },
  {
   "cell_type": "code",
   "execution_count": 13,
   "id": "bc0889df",
   "metadata": {
    "execution": {
     "iopub.execute_input": "2023-04-11T12:29:24.732284Z",
     "iopub.status.busy": "2023-04-11T12:29:24.731434Z",
     "iopub.status.idle": "2023-04-11T12:29:24.741115Z",
     "shell.execute_reply": "2023-04-11T12:29:24.739825Z"
    },
    "papermill": {
     "duration": 0.027856,
     "end_time": "2023-04-11T12:29:24.743483",
     "exception": false,
     "start_time": "2023-04-11T12:29:24.715627",
     "status": "completed"
    },
    "tags": []
   },
   "outputs": [
    {
     "data": {
      "text/plain": [
       "None       878\n",
       "BrkFace    434\n",
       "Stone      121\n",
       "BrkCmn      10\n",
       "Name: MasVnrType, dtype: int64"
      ]
     },
     "execution_count": 13,
     "metadata": {},
     "output_type": "execute_result"
    }
   ],
   "source": [
    "test_data['MasVnrType'].value_counts()"
   ]
  },
  {
   "cell_type": "code",
   "execution_count": 14,
   "id": "e4a5aac6",
   "metadata": {
    "execution": {
     "iopub.execute_input": "2023-04-11T12:29:24.774822Z",
     "iopub.status.busy": "2023-04-11T12:29:24.773585Z",
     "iopub.status.idle": "2023-04-11T12:29:24.782705Z",
     "shell.execute_reply": "2023-04-11T12:29:24.781389Z"
    },
    "papermill": {
     "duration": 0.027844,
     "end_time": "2023-04-11T12:29:24.785418",
     "exception": false,
     "start_time": "2023-04-11T12:29:24.757574",
     "status": "completed"
    },
    "tags": []
   },
   "outputs": [
    {
     "data": {
      "text/plain": [
       "16"
      ]
     },
     "execution_count": 14,
     "metadata": {},
     "output_type": "execute_result"
    }
   ],
   "source": [
    "test_data['MasVnrType'].isnull().sum()"
   ]
  },
  {
   "cell_type": "code",
   "execution_count": 15,
   "id": "ef691c7f",
   "metadata": {
    "execution": {
     "iopub.execute_input": "2023-04-11T12:29:24.816633Z",
     "iopub.status.busy": "2023-04-11T12:29:24.816228Z",
     "iopub.status.idle": "2023-04-11T12:29:24.822400Z",
     "shell.execute_reply": "2023-04-11T12:29:24.821109Z"
    },
    "papermill": {
     "duration": 0.02454,
     "end_time": "2023-04-11T12:29:24.824987",
     "exception": false,
     "start_time": "2023-04-11T12:29:24.800447",
     "status": "completed"
    },
    "tags": []
   },
   "outputs": [],
   "source": [
    "test_data['MasVnrType'] =  test_data['MasVnrType'].replace(np.nan,'None')"
   ]
  },
  {
   "cell_type": "code",
   "execution_count": 16,
   "id": "a7388070",
   "metadata": {
    "execution": {
     "iopub.execute_input": "2023-04-11T12:29:24.855796Z",
     "iopub.status.busy": "2023-04-11T12:29:24.855041Z",
     "iopub.status.idle": "2023-04-11T12:29:24.863510Z",
     "shell.execute_reply": "2023-04-11T12:29:24.862201Z"
    },
    "papermill": {
     "duration": 0.026419,
     "end_time": "2023-04-11T12:29:24.865908",
     "exception": false,
     "start_time": "2023-04-11T12:29:24.839489",
     "status": "completed"
    },
    "tags": []
   },
   "outputs": [
    {
     "data": {
      "text/plain": [
       "8"
      ]
     },
     "execution_count": 16,
     "metadata": {},
     "output_type": "execute_result"
    }
   ],
   "source": [
    "# MasVnrArea\n",
    "# No of row with Null values\n",
    "train_data['MasVnrArea'].isnull().sum()"
   ]
  },
  {
   "cell_type": "code",
   "execution_count": 17,
   "id": "e345c9a2",
   "metadata": {
    "execution": {
     "iopub.execute_input": "2023-04-11T12:29:24.897503Z",
     "iopub.status.busy": "2023-04-11T12:29:24.896394Z",
     "iopub.status.idle": "2023-04-11T12:29:24.903439Z",
     "shell.execute_reply": "2023-04-11T12:29:24.902426Z"
    },
    "papermill": {
     "duration": 0.025542,
     "end_time": "2023-04-11T12:29:24.906005",
     "exception": false,
     "start_time": "2023-04-11T12:29:24.880463",
     "status": "completed"
    },
    "tags": []
   },
   "outputs": [],
   "source": [
    "# Find the mean of  MasVnrArea in train_data set\n",
    "MasVnrArea_mean = train_data['MasVnrArea'].mean()\n",
    "\n",
    "# Replace empty cells with 'MasVnrArea_mean'\n",
    "train_data['MasVnrArea'] =  train_data['MasVnrArea'].replace(np.nan,MasVnrArea_mean)\n"
   ]
  },
  {
   "cell_type": "code",
   "execution_count": 18,
   "id": "1fa27193",
   "metadata": {
    "execution": {
     "iopub.execute_input": "2023-04-11T12:29:24.936693Z",
     "iopub.status.busy": "2023-04-11T12:29:24.936260Z",
     "iopub.status.idle": "2023-04-11T12:29:24.944301Z",
     "shell.execute_reply": "2023-04-11T12:29:24.943029Z"
    },
    "papermill": {
     "duration": 0.026146,
     "end_time": "2023-04-11T12:29:24.946793",
     "exception": false,
     "start_time": "2023-04-11T12:29:24.920647",
     "status": "completed"
    },
    "tags": []
   },
   "outputs": [
    {
     "data": {
      "text/plain": [
       "15"
      ]
     },
     "execution_count": 18,
     "metadata": {},
     "output_type": "execute_result"
    }
   ],
   "source": [
    "# Find the mean of  MasVnrArea in test_data set\n",
    "test_data['MasVnrArea'].isnull().sum()"
   ]
  },
  {
   "cell_type": "code",
   "execution_count": 19,
   "id": "72aa1cf5",
   "metadata": {
    "execution": {
     "iopub.execute_input": "2023-04-11T12:29:24.977735Z",
     "iopub.status.busy": "2023-04-11T12:29:24.977325Z",
     "iopub.status.idle": "2023-04-11T12:29:24.983920Z",
     "shell.execute_reply": "2023-04-11T12:29:24.982641Z"
    },
    "papermill": {
     "duration": 0.024999,
     "end_time": "2023-04-11T12:29:24.986293",
     "exception": false,
     "start_time": "2023-04-11T12:29:24.961294",
     "status": "completed"
    },
    "tags": []
   },
   "outputs": [],
   "source": [
    "MasVnrArea_meant = test_data['MasVnrArea'].mean()\n",
    "# Replace empty cells with 'MasVnrArea_mean'\n",
    "test_data['MasVnrArea'] =  test_data['MasVnrArea'].replace(np.nan,MasVnrArea_meant)"
   ]
  },
  {
   "cell_type": "code",
   "execution_count": 20,
   "id": "cdb38090",
   "metadata": {
    "execution": {
     "iopub.execute_input": "2023-04-11T12:29:25.017540Z",
     "iopub.status.busy": "2023-04-11T12:29:25.017118Z",
     "iopub.status.idle": "2023-04-11T12:29:25.024741Z",
     "shell.execute_reply": "2023-04-11T12:29:25.023574Z"
    },
    "papermill": {
     "duration": 0.026695,
     "end_time": "2023-04-11T12:29:25.027366",
     "exception": false,
     "start_time": "2023-04-11T12:29:25.000671",
     "status": "completed"
    },
    "tags": []
   },
   "outputs": [
    {
     "data": {
      "text/plain": [
       "37"
      ]
     },
     "execution_count": 20,
     "metadata": {},
     "output_type": "execute_result"
    }
   ],
   "source": [
    "# BsmtQual\n",
    "# Ex\tExcellent (100+ inches)\t\n",
    "#        Gd\tGood (90-99 inches)\n",
    "#        TA\tTypical (80-89 inches)\n",
    "#        Fa\tFair (70-79 inches)\n",
    "#        Po\tPoor (<70 inches\n",
    "#        NA\tNo Basement\n",
    "train_data['BsmtQual'].isnull().sum()"
   ]
  },
  {
   "cell_type": "code",
   "execution_count": 21,
   "id": "654782bc",
   "metadata": {
    "execution": {
     "iopub.execute_input": "2023-04-11T12:29:25.059615Z",
     "iopub.status.busy": "2023-04-11T12:29:25.058891Z",
     "iopub.status.idle": "2023-04-11T12:29:25.066978Z",
     "shell.execute_reply": "2023-04-11T12:29:25.066153Z"
    },
    "papermill": {
     "duration": 0.027232,
     "end_time": "2023-04-11T12:29:25.069361",
     "exception": false,
     "start_time": "2023-04-11T12:29:25.042129",
     "status": "completed"
    },
    "tags": []
   },
   "outputs": [
    {
     "data": {
      "text/plain": [
       "TA    649\n",
       "Gd    618\n",
       "Ex    121\n",
       "Fa     35\n",
       "Name: BsmtQual, dtype: int64"
      ]
     },
     "execution_count": 21,
     "metadata": {},
     "output_type": "execute_result"
    }
   ],
   "source": [
    "# 37 null cells\n",
    "train_data['BsmtQual'].value_counts()"
   ]
  },
  {
   "cell_type": "code",
   "execution_count": 22,
   "id": "03912f08",
   "metadata": {
    "execution": {
     "iopub.execute_input": "2023-04-11T12:29:25.101543Z",
     "iopub.status.busy": "2023-04-11T12:29:25.101119Z",
     "iopub.status.idle": "2023-04-11T12:29:25.106959Z",
     "shell.execute_reply": "2023-04-11T12:29:25.106024Z"
    },
    "papermill": {
     "duration": 0.025508,
     "end_time": "2023-04-11T12:29:25.109698",
     "exception": false,
     "start_time": "2023-04-11T12:29:25.084190",
     "status": "completed"
    },
    "tags": []
   },
   "outputs": [],
   "source": [
    "# Replace 37 null cells with TA:\n",
    "train_data['BsmtQual'] = train_data['BsmtQual'].replace(np.nan,'TA')"
   ]
  },
  {
   "cell_type": "code",
   "execution_count": 23,
   "id": "f2e63486",
   "metadata": {
    "execution": {
     "iopub.execute_input": "2023-04-11T12:29:25.141104Z",
     "iopub.status.busy": "2023-04-11T12:29:25.140643Z",
     "iopub.status.idle": "2023-04-11T12:29:25.149474Z",
     "shell.execute_reply": "2023-04-11T12:29:25.148170Z"
    },
    "papermill": {
     "duration": 0.027759,
     "end_time": "2023-04-11T12:29:25.152018",
     "exception": false,
     "start_time": "2023-04-11T12:29:25.124259",
     "status": "completed"
    },
    "tags": []
   },
   "outputs": [
    {
     "data": {
      "text/plain": [
       "TA    634\n",
       "Gd    591\n",
       "Ex    137\n",
       "Fa     53\n",
       "Name: BsmtQual, dtype: int64"
      ]
     },
     "execution_count": 23,
     "metadata": {},
     "output_type": "execute_result"
    }
   ],
   "source": [
    "# test_data['BsmtQual'].isnull().sum()\n",
    "# 44 null cells\n",
    "test_data['BsmtQual'].value_counts()"
   ]
  },
  {
   "cell_type": "code",
   "execution_count": 24,
   "id": "08ab5788",
   "metadata": {
    "execution": {
     "iopub.execute_input": "2023-04-11T12:29:25.183954Z",
     "iopub.status.busy": "2023-04-11T12:29:25.183559Z",
     "iopub.status.idle": "2023-04-11T12:29:25.189565Z",
     "shell.execute_reply": "2023-04-11T12:29:25.188255Z"
    },
    "papermill": {
     "duration": 0.025187,
     "end_time": "2023-04-11T12:29:25.191914",
     "exception": false,
     "start_time": "2023-04-11T12:29:25.166727",
     "status": "completed"
    },
    "tags": []
   },
   "outputs": [],
   "source": [
    "train_data['BsmtQual'] = train_data['BsmtQual'].replace(np.nan,'TA')"
   ]
  },
  {
   "cell_type": "code",
   "execution_count": 25,
   "id": "20dd33dd",
   "metadata": {
    "execution": {
     "iopub.execute_input": "2023-04-11T12:29:25.223607Z",
     "iopub.status.busy": "2023-04-11T12:29:25.222855Z",
     "iopub.status.idle": "2023-04-11T12:29:25.227969Z",
     "shell.execute_reply": "2023-04-11T12:29:25.226653Z"
    },
    "papermill": {
     "duration": 0.02377,
     "end_time": "2023-04-11T12:29:25.230619",
     "exception": false,
     "start_time": "2023-04-11T12:29:25.206849",
     "status": "completed"
    },
    "tags": []
   },
   "outputs": [],
   "source": [
    "# no missing value in train_data dataset"
   ]
  },
  {
   "cell_type": "code",
   "execution_count": 26,
   "id": "5d0b8ef9",
   "metadata": {
    "execution": {
     "iopub.execute_input": "2023-04-11T12:29:25.262423Z",
     "iopub.status.busy": "2023-04-11T12:29:25.261975Z",
     "iopub.status.idle": "2023-04-11T12:29:25.269619Z",
     "shell.execute_reply": "2023-04-11T12:29:25.268299Z"
    },
    "papermill": {
     "duration": 0.026355,
     "end_time": "2023-04-11T12:29:25.271999",
     "exception": false,
     "start_time": "2023-04-11T12:29:25.245644",
     "status": "completed"
    },
    "tags": []
   },
   "outputs": [
    {
     "data": {
      "text/plain": [
       "(1459, 80)"
      ]
     },
     "execution_count": 26,
     "metadata": {},
     "output_type": "execute_result"
    }
   ],
   "source": [
    "test_data.shape"
   ]
  },
  {
   "cell_type": "code",
   "execution_count": 27,
   "id": "0c25a99b",
   "metadata": {
    "execution": {
     "iopub.execute_input": "2023-04-11T12:29:25.304610Z",
     "iopub.status.busy": "2023-04-11T12:29:25.303818Z",
     "iopub.status.idle": "2023-04-11T12:29:25.311163Z",
     "shell.execute_reply": "2023-04-11T12:29:25.309766Z"
    },
    "papermill": {
     "duration": 0.02667,
     "end_time": "2023-04-11T12:29:25.313583",
     "exception": false,
     "start_time": "2023-04-11T12:29:25.286913",
     "status": "completed"
    },
    "tags": []
   },
   "outputs": [
    {
     "data": {
      "text/plain": [
       "(1460, 81)"
      ]
     },
     "execution_count": 27,
     "metadata": {},
     "output_type": "execute_result"
    }
   ],
   "source": [
    "train_data.shape"
   ]
  },
  {
   "cell_type": "code",
   "execution_count": 28,
   "id": "32e8fd21",
   "metadata": {
    "execution": {
     "iopub.execute_input": "2023-04-11T12:29:25.345664Z",
     "iopub.status.busy": "2023-04-11T12:29:25.345235Z",
     "iopub.status.idle": "2023-04-11T12:29:25.369204Z",
     "shell.execute_reply": "2023-04-11T12:29:25.367049Z"
    },
    "papermill": {
     "duration": 0.043444,
     "end_time": "2023-04-11T12:29:25.371949",
     "exception": false,
     "start_time": "2023-04-11T12:29:25.328505",
     "status": "completed"
    },
    "tags": []
   },
   "outputs": [
    {
     "name": "stdout",
     "output_type": "stream",
     "text": [
      "<class 'pandas.core.frame.DataFrame'>\n",
      "RangeIndex: 1459 entries, 0 to 1458\n",
      "Data columns (total 80 columns):\n",
      " #   Column         Non-Null Count  Dtype  \n",
      "---  ------         --------------  -----  \n",
      " 0   Id             1459 non-null   int64  \n",
      " 1   MSSubClass     1459 non-null   int64  \n",
      " 2   MSZoning       1455 non-null   object \n",
      " 3   LotFrontage    1232 non-null   float64\n",
      " 4   LotArea        1459 non-null   int64  \n",
      " 5   Street         1459 non-null   object \n",
      " 6   Alley          1459 non-null   object \n",
      " 7   LotShape       1459 non-null   object \n",
      " 8   LandContour    1459 non-null   object \n",
      " 9   Utilities      1457 non-null   object \n",
      " 10  LotConfig      1459 non-null   object \n",
      " 11  LandSlope      1459 non-null   object \n",
      " 12  Neighborhood   1459 non-null   object \n",
      " 13  Condition1     1459 non-null   object \n",
      " 14  Condition2     1459 non-null   object \n",
      " 15  BldgType       1459 non-null   object \n",
      " 16  HouseStyle     1459 non-null   object \n",
      " 17  OverallQual    1459 non-null   int64  \n",
      " 18  OverallCond    1459 non-null   int64  \n",
      " 19  YearBuilt      1459 non-null   int64  \n",
      " 20  YearRemodAdd   1459 non-null   int64  \n",
      " 21  RoofStyle      1459 non-null   object \n",
      " 22  RoofMatl       1459 non-null   object \n",
      " 23  Exterior1st    1458 non-null   object \n",
      " 24  Exterior2nd    1458 non-null   object \n",
      " 25  MasVnrType     1459 non-null   object \n",
      " 26  MasVnrArea     1459 non-null   float64\n",
      " 27  ExterQual      1459 non-null   object \n",
      " 28  ExterCond      1459 non-null   object \n",
      " 29  Foundation     1459 non-null   object \n",
      " 30  BsmtQual       1415 non-null   object \n",
      " 31  BsmtCond       1414 non-null   object \n",
      " 32  BsmtExposure   1415 non-null   object \n",
      " 33  BsmtFinType1   1417 non-null   object \n",
      " 34  BsmtFinSF1     1458 non-null   float64\n",
      " 35  BsmtFinType2   1417 non-null   object \n",
      " 36  BsmtFinSF2     1458 non-null   float64\n",
      " 37  BsmtUnfSF      1458 non-null   float64\n",
      " 38  TotalBsmtSF    1458 non-null   float64\n",
      " 39  Heating        1459 non-null   object \n",
      " 40  HeatingQC      1459 non-null   object \n",
      " 41  CentralAir     1459 non-null   object \n",
      " 42  Electrical     1459 non-null   object \n",
      " 43  1stFlrSF       1459 non-null   int64  \n",
      " 44  2ndFlrSF       1459 non-null   int64  \n",
      " 45  LowQualFinSF   1459 non-null   int64  \n",
      " 46  GrLivArea      1459 non-null   int64  \n",
      " 47  BsmtFullBath   1457 non-null   float64\n",
      " 48  BsmtHalfBath   1457 non-null   float64\n",
      " 49  FullBath       1459 non-null   int64  \n",
      " 50  HalfBath       1459 non-null   int64  \n",
      " 51  BedroomAbvGr   1459 non-null   int64  \n",
      " 52  KitchenAbvGr   1459 non-null   int64  \n",
      " 53  KitchenQual    1458 non-null   object \n",
      " 54  TotRmsAbvGrd   1459 non-null   int64  \n",
      " 55  Functional     1457 non-null   object \n",
      " 56  Fireplaces     1459 non-null   int64  \n",
      " 57  FireplaceQu    729 non-null    object \n",
      " 58  GarageType     1383 non-null   object \n",
      " 59  GarageYrBlt    1381 non-null   float64\n",
      " 60  GarageFinish   1381 non-null   object \n",
      " 61  GarageCars     1458 non-null   float64\n",
      " 62  GarageArea     1458 non-null   float64\n",
      " 63  GarageQual     1381 non-null   object \n",
      " 64  GarageCond     1381 non-null   object \n",
      " 65  PavedDrive     1459 non-null   object \n",
      " 66  WoodDeckSF     1459 non-null   int64  \n",
      " 67  OpenPorchSF    1459 non-null   int64  \n",
      " 68  EnclosedPorch  1459 non-null   int64  \n",
      " 69  3SsnPorch      1459 non-null   int64  \n",
      " 70  ScreenPorch    1459 non-null   int64  \n",
      " 71  PoolArea       1459 non-null   int64  \n",
      " 72  PoolQC         3 non-null      object \n",
      " 73  Fence          290 non-null    object \n",
      " 74  MiscFeature    51 non-null     object \n",
      " 75  MiscVal        1459 non-null   int64  \n",
      " 76  MoSold         1459 non-null   int64  \n",
      " 77  YrSold         1459 non-null   int64  \n",
      " 78  SaleType       1458 non-null   object \n",
      " 79  SaleCondition  1459 non-null   object \n",
      "dtypes: float64(11), int64(26), object(43)\n",
      "memory usage: 912.0+ KB\n"
     ]
    }
   ],
   "source": [
    "test_data.info()"
   ]
  },
  {
   "cell_type": "code",
   "execution_count": 29,
   "id": "21119d10",
   "metadata": {
    "execution": {
     "iopub.execute_input": "2023-04-11T12:29:25.404044Z",
     "iopub.status.busy": "2023-04-11T12:29:25.403597Z",
     "iopub.status.idle": "2023-04-11T12:29:25.428056Z",
     "shell.execute_reply": "2023-04-11T12:29:25.425962Z"
    },
    "papermill": {
     "duration": 0.043728,
     "end_time": "2023-04-11T12:29:25.430817",
     "exception": false,
     "start_time": "2023-04-11T12:29:25.387089",
     "status": "completed"
    },
    "tags": []
   },
   "outputs": [
    {
     "name": "stdout",
     "output_type": "stream",
     "text": [
      "<class 'pandas.core.frame.DataFrame'>\n",
      "RangeIndex: 1460 entries, 0 to 1459\n",
      "Data columns (total 81 columns):\n",
      " #   Column         Non-Null Count  Dtype  \n",
      "---  ------         --------------  -----  \n",
      " 0   Id             1460 non-null   int64  \n",
      " 1   MSSubClass     1460 non-null   int64  \n",
      " 2   MSZoning       1460 non-null   object \n",
      " 3   LotFrontage    1201 non-null   float64\n",
      " 4   LotArea        1460 non-null   int64  \n",
      " 5   Street         1460 non-null   object \n",
      " 6   Alley          1460 non-null   object \n",
      " 7   LotShape       1460 non-null   object \n",
      " 8   LandContour    1460 non-null   object \n",
      " 9   Utilities      1460 non-null   object \n",
      " 10  LotConfig      1460 non-null   object \n",
      " 11  LandSlope      1460 non-null   object \n",
      " 12  Neighborhood   1460 non-null   object \n",
      " 13  Condition1     1460 non-null   object \n",
      " 14  Condition2     1460 non-null   object \n",
      " 15  BldgType       1460 non-null   object \n",
      " 16  HouseStyle     1460 non-null   object \n",
      " 17  OverallQual    1460 non-null   int64  \n",
      " 18  OverallCond    1460 non-null   int64  \n",
      " 19  YearBuilt      1460 non-null   int64  \n",
      " 20  YearRemodAdd   1460 non-null   int64  \n",
      " 21  RoofStyle      1460 non-null   object \n",
      " 22  RoofMatl       1460 non-null   object \n",
      " 23  Exterior1st    1460 non-null   object \n",
      " 24  Exterior2nd    1460 non-null   object \n",
      " 25  MasVnrType     1460 non-null   object \n",
      " 26  MasVnrArea     1460 non-null   float64\n",
      " 27  ExterQual      1460 non-null   object \n",
      " 28  ExterCond      1460 non-null   object \n",
      " 29  Foundation     1460 non-null   object \n",
      " 30  BsmtQual       1460 non-null   object \n",
      " 31  BsmtCond       1423 non-null   object \n",
      " 32  BsmtExposure   1422 non-null   object \n",
      " 33  BsmtFinType1   1423 non-null   object \n",
      " 34  BsmtFinSF1     1460 non-null   int64  \n",
      " 35  BsmtFinType2   1422 non-null   object \n",
      " 36  BsmtFinSF2     1460 non-null   int64  \n",
      " 37  BsmtUnfSF      1460 non-null   int64  \n",
      " 38  TotalBsmtSF    1460 non-null   int64  \n",
      " 39  Heating        1460 non-null   object \n",
      " 40  HeatingQC      1460 non-null   object \n",
      " 41  CentralAir     1460 non-null   object \n",
      " 42  Electrical     1459 non-null   object \n",
      " 43  1stFlrSF       1460 non-null   int64  \n",
      " 44  2ndFlrSF       1460 non-null   int64  \n",
      " 45  LowQualFinSF   1460 non-null   int64  \n",
      " 46  GrLivArea      1460 non-null   int64  \n",
      " 47  BsmtFullBath   1460 non-null   int64  \n",
      " 48  BsmtHalfBath   1460 non-null   int64  \n",
      " 49  FullBath       1460 non-null   int64  \n",
      " 50  HalfBath       1460 non-null   int64  \n",
      " 51  BedroomAbvGr   1460 non-null   int64  \n",
      " 52  KitchenAbvGr   1460 non-null   int64  \n",
      " 53  KitchenQual    1460 non-null   object \n",
      " 54  TotRmsAbvGrd   1460 non-null   int64  \n",
      " 55  Functional     1460 non-null   object \n",
      " 56  Fireplaces     1460 non-null   int64  \n",
      " 57  FireplaceQu    770 non-null    object \n",
      " 58  GarageType     1379 non-null   object \n",
      " 59  GarageYrBlt    1379 non-null   float64\n",
      " 60  GarageFinish   1379 non-null   object \n",
      " 61  GarageCars     1460 non-null   int64  \n",
      " 62  GarageArea     1460 non-null   int64  \n",
      " 63  GarageQual     1379 non-null   object \n",
      " 64  GarageCond     1379 non-null   object \n",
      " 65  PavedDrive     1460 non-null   object \n",
      " 66  WoodDeckSF     1460 non-null   int64  \n",
      " 67  OpenPorchSF    1460 non-null   int64  \n",
      " 68  EnclosedPorch  1460 non-null   int64  \n",
      " 69  3SsnPorch      1460 non-null   int64  \n",
      " 70  ScreenPorch    1460 non-null   int64  \n",
      " 71  PoolArea       1460 non-null   int64  \n",
      " 72  PoolQC         7 non-null      object \n",
      " 73  Fence          281 non-null    object \n",
      " 74  MiscFeature    54 non-null     object \n",
      " 75  MiscVal        1460 non-null   int64  \n",
      " 76  MoSold         1460 non-null   int64  \n",
      " 77  YrSold         1460 non-null   int64  \n",
      " 78  SaleType       1460 non-null   object \n",
      " 79  SaleCondition  1460 non-null   object \n",
      " 80  SalePrice      1460 non-null   int64  \n",
      "dtypes: float64(3), int64(35), object(43)\n",
      "memory usage: 924.0+ KB\n"
     ]
    }
   ],
   "source": [
    "train_data.info()"
   ]
  },
  {
   "cell_type": "code",
   "execution_count": 30,
   "id": "e84d5d35",
   "metadata": {
    "execution": {
     "iopub.execute_input": "2023-04-11T12:29:25.463242Z",
     "iopub.status.busy": "2023-04-11T12:29:25.462788Z",
     "iopub.status.idle": "2023-04-11T12:29:25.472346Z",
     "shell.execute_reply": "2023-04-11T12:29:25.470912Z"
    },
    "papermill": {
     "duration": 0.028623,
     "end_time": "2023-04-11T12:29:25.474897",
     "exception": false,
     "start_time": "2023-04-11T12:29:25.446274",
     "status": "completed"
    },
    "tags": []
   },
   "outputs": [
    {
     "data": {
      "text/plain": [
       "81"
      ]
     },
     "execution_count": 30,
     "metadata": {},
     "output_type": "execute_result"
    }
   ],
   "source": [
    "# GarageType\n",
    "# GarageType: Garage location\n",
    "\t\t\n",
    "#        2Types\tMore than one type of garage\n",
    "#        Attchd\tAttached to home\n",
    "#        Basment\tBasement Garage\n",
    "#        BuiltIn\tBuilt-In (Garage part of house - typically has room above garage)\n",
    "#        CarPort\tCar Port\n",
    "#        Detchd\tDetached from home\n",
    "#        NA\tNo Garage\n",
    "# 76 empty in test set\n",
    "# 81 empty in train set\n",
    "train_data['GarageType'].isnull().sum()"
   ]
  },
  {
   "cell_type": "code",
   "execution_count": 31,
   "id": "da132015",
   "metadata": {
    "execution": {
     "iopub.execute_input": "2023-04-11T12:29:25.508328Z",
     "iopub.status.busy": "2023-04-11T12:29:25.507472Z",
     "iopub.status.idle": "2023-04-11T12:29:25.517182Z",
     "shell.execute_reply": "2023-04-11T12:29:25.515947Z"
    },
    "papermill": {
     "duration": 0.029158,
     "end_time": "2023-04-11T12:29:25.519902",
     "exception": false,
     "start_time": "2023-04-11T12:29:25.490744",
     "status": "completed"
    },
    "tags": []
   },
   "outputs": [
    {
     "data": {
      "text/plain": [
       "Attchd     853\n",
       "Detchd     392\n",
       "BuiltIn     98\n",
       "Basment     17\n",
       "2Types      17\n",
       "CarPort      6\n",
       "Name: GarageType, dtype: int64"
      ]
     },
     "execution_count": 31,
     "metadata": {},
     "output_type": "execute_result"
    }
   ],
   "source": [
    "test_data['GarageType'].value_counts()"
   ]
  },
  {
   "cell_type": "code",
   "execution_count": 32,
   "id": "4f8171e5",
   "metadata": {
    "execution": {
     "iopub.execute_input": "2023-04-11T12:29:25.552806Z",
     "iopub.status.busy": "2023-04-11T12:29:25.552401Z",
     "iopub.status.idle": "2023-04-11T12:29:25.559227Z",
     "shell.execute_reply": "2023-04-11T12:29:25.558283Z"
    },
    "papermill": {
     "duration": 0.026235,
     "end_time": "2023-04-11T12:29:25.561626",
     "exception": false,
     "start_time": "2023-04-11T12:29:25.535391",
     "status": "completed"
    },
    "tags": []
   },
   "outputs": [],
   "source": [
    "train_data['GarageType'] = train_data['GarageType'].replace(np.nan,'Attchd')\n",
    "test_data['GarageType'] = test_data['GarageType'].replace(np.nan,'Attchd')"
   ]
  },
  {
   "cell_type": "code",
   "execution_count": 33,
   "id": "2717ac7b",
   "metadata": {
    "execution": {
     "iopub.execute_input": "2023-04-11T12:29:25.594224Z",
     "iopub.status.busy": "2023-04-11T12:29:25.593777Z",
     "iopub.status.idle": "2023-04-11T12:29:25.601666Z",
     "shell.execute_reply": "2023-04-11T12:29:25.600075Z"
    },
    "papermill": {
     "duration": 0.027024,
     "end_time": "2023-04-11T12:29:25.603991",
     "exception": false,
     "start_time": "2023-04-11T12:29:25.576967",
     "status": "completed"
    },
    "tags": []
   },
   "outputs": [],
   "source": [
    "import pandas as pd\n",
    "\n",
    "# function that replace empty cells with mode of the column value\n",
    "def replace_empty(df):\n",
    "    for column in df.columns:\n",
    "        if df[column].dtype == 'object':\n",
    "            mode = df[column].mode()[0]\n",
    "            df[column].fillna(mode, inplace=True)\n",
    "        else:\n",
    "            df[column] = pd.to_numeric(df[column], errors='coerce')\n",
    "            mode = df[column].mode()[0]\n",
    "            df[column].fillna(mode, inplace=True)\n",
    "    return df"
   ]
  },
  {
   "cell_type": "code",
   "execution_count": 34,
   "id": "dc00e5d4",
   "metadata": {
    "execution": {
     "iopub.execute_input": "2023-04-11T12:29:25.636702Z",
     "iopub.status.busy": "2023-04-11T12:29:25.636259Z",
     "iopub.status.idle": "2023-04-11T12:29:25.700888Z",
     "shell.execute_reply": "2023-04-11T12:29:25.699320Z"
    },
    "papermill": {
     "duration": 0.084383,
     "end_time": "2023-04-11T12:29:25.703683",
     "exception": false,
     "start_time": "2023-04-11T12:29:25.619300",
     "status": "completed"
    },
    "tags": []
   },
   "outputs": [],
   "source": [
    "train_data =replace_empty(train_data)"
   ]
  },
  {
   "cell_type": "code",
   "execution_count": 35,
   "id": "27a31069",
   "metadata": {
    "execution": {
     "iopub.execute_input": "2023-04-11T12:29:25.737236Z",
     "iopub.status.busy": "2023-04-11T12:29:25.736797Z",
     "iopub.status.idle": "2023-04-11T12:29:25.796018Z",
     "shell.execute_reply": "2023-04-11T12:29:25.794706Z"
    },
    "papermill": {
     "duration": 0.079045,
     "end_time": "2023-04-11T12:29:25.799028",
     "exception": false,
     "start_time": "2023-04-11T12:29:25.719983",
     "status": "completed"
    },
    "tags": []
   },
   "outputs": [],
   "source": [
    "test_data= replace_empty(test_data)"
   ]
  },
  {
   "cell_type": "code",
   "execution_count": 36,
   "id": "2e9bdeed",
   "metadata": {
    "execution": {
     "iopub.execute_input": "2023-04-11T12:29:25.831635Z",
     "iopub.status.busy": "2023-04-11T12:29:25.831200Z",
     "iopub.status.idle": "2023-04-11T12:29:25.855523Z",
     "shell.execute_reply": "2023-04-11T12:29:25.854233Z"
    },
    "papermill": {
     "duration": 0.043972,
     "end_time": "2023-04-11T12:29:25.858536",
     "exception": false,
     "start_time": "2023-04-11T12:29:25.814564",
     "status": "completed"
    },
    "tags": []
   },
   "outputs": [
    {
     "name": "stdout",
     "output_type": "stream",
     "text": [
      "<class 'pandas.core.frame.DataFrame'>\n",
      "RangeIndex: 1459 entries, 0 to 1458\n",
      "Data columns (total 80 columns):\n",
      " #   Column         Non-Null Count  Dtype  \n",
      "---  ------         --------------  -----  \n",
      " 0   Id             1459 non-null   int64  \n",
      " 1   MSSubClass     1459 non-null   int64  \n",
      " 2   MSZoning       1459 non-null   object \n",
      " 3   LotFrontage    1459 non-null   float64\n",
      " 4   LotArea        1459 non-null   int64  \n",
      " 5   Street         1459 non-null   object \n",
      " 6   Alley          1459 non-null   object \n",
      " 7   LotShape       1459 non-null   object \n",
      " 8   LandContour    1459 non-null   object \n",
      " 9   Utilities      1459 non-null   object \n",
      " 10  LotConfig      1459 non-null   object \n",
      " 11  LandSlope      1459 non-null   object \n",
      " 12  Neighborhood   1459 non-null   object \n",
      " 13  Condition1     1459 non-null   object \n",
      " 14  Condition2     1459 non-null   object \n",
      " 15  BldgType       1459 non-null   object \n",
      " 16  HouseStyle     1459 non-null   object \n",
      " 17  OverallQual    1459 non-null   int64  \n",
      " 18  OverallCond    1459 non-null   int64  \n",
      " 19  YearBuilt      1459 non-null   int64  \n",
      " 20  YearRemodAdd   1459 non-null   int64  \n",
      " 21  RoofStyle      1459 non-null   object \n",
      " 22  RoofMatl       1459 non-null   object \n",
      " 23  Exterior1st    1459 non-null   object \n",
      " 24  Exterior2nd    1459 non-null   object \n",
      " 25  MasVnrType     1459 non-null   object \n",
      " 26  MasVnrArea     1459 non-null   float64\n",
      " 27  ExterQual      1459 non-null   object \n",
      " 28  ExterCond      1459 non-null   object \n",
      " 29  Foundation     1459 non-null   object \n",
      " 30  BsmtQual       1459 non-null   object \n",
      " 31  BsmtCond       1459 non-null   object \n",
      " 32  BsmtExposure   1459 non-null   object \n",
      " 33  BsmtFinType1   1459 non-null   object \n",
      " 34  BsmtFinSF1     1459 non-null   float64\n",
      " 35  BsmtFinType2   1459 non-null   object \n",
      " 36  BsmtFinSF2     1459 non-null   float64\n",
      " 37  BsmtUnfSF      1459 non-null   float64\n",
      " 38  TotalBsmtSF    1459 non-null   float64\n",
      " 39  Heating        1459 non-null   object \n",
      " 40  HeatingQC      1459 non-null   object \n",
      " 41  CentralAir     1459 non-null   object \n",
      " 42  Electrical     1459 non-null   object \n",
      " 43  1stFlrSF       1459 non-null   int64  \n",
      " 44  2ndFlrSF       1459 non-null   int64  \n",
      " 45  LowQualFinSF   1459 non-null   int64  \n",
      " 46  GrLivArea      1459 non-null   int64  \n",
      " 47  BsmtFullBath   1459 non-null   float64\n",
      " 48  BsmtHalfBath   1459 non-null   float64\n",
      " 49  FullBath       1459 non-null   int64  \n",
      " 50  HalfBath       1459 non-null   int64  \n",
      " 51  BedroomAbvGr   1459 non-null   int64  \n",
      " 52  KitchenAbvGr   1459 non-null   int64  \n",
      " 53  KitchenQual    1459 non-null   object \n",
      " 54  TotRmsAbvGrd   1459 non-null   int64  \n",
      " 55  Functional     1459 non-null   object \n",
      " 56  Fireplaces     1459 non-null   int64  \n",
      " 57  FireplaceQu    1459 non-null   object \n",
      " 58  GarageType     1459 non-null   object \n",
      " 59  GarageYrBlt    1459 non-null   float64\n",
      " 60  GarageFinish   1459 non-null   object \n",
      " 61  GarageCars     1459 non-null   float64\n",
      " 62  GarageArea     1459 non-null   float64\n",
      " 63  GarageQual     1459 non-null   object \n",
      " 64  GarageCond     1459 non-null   object \n",
      " 65  PavedDrive     1459 non-null   object \n",
      " 66  WoodDeckSF     1459 non-null   int64  \n",
      " 67  OpenPorchSF    1459 non-null   int64  \n",
      " 68  EnclosedPorch  1459 non-null   int64  \n",
      " 69  3SsnPorch      1459 non-null   int64  \n",
      " 70  ScreenPorch    1459 non-null   int64  \n",
      " 71  PoolArea       1459 non-null   int64  \n",
      " 72  PoolQC         1459 non-null   object \n",
      " 73  Fence          1459 non-null   object \n",
      " 74  MiscFeature    1459 non-null   object \n",
      " 75  MiscVal        1459 non-null   int64  \n",
      " 76  MoSold         1459 non-null   int64  \n",
      " 77  YrSold         1459 non-null   int64  \n",
      " 78  SaleType       1459 non-null   object \n",
      " 79  SaleCondition  1459 non-null   object \n",
      "dtypes: float64(11), int64(26), object(43)\n",
      "memory usage: 912.0+ KB\n"
     ]
    }
   ],
   "source": [
    "test_data.info()"
   ]
  },
  {
   "cell_type": "code",
   "execution_count": 37,
   "id": "460efafa",
   "metadata": {
    "execution": {
     "iopub.execute_input": "2023-04-11T12:29:25.891676Z",
     "iopub.status.busy": "2023-04-11T12:29:25.891245Z",
     "iopub.status.idle": "2023-04-11T12:29:27.445163Z",
     "shell.execute_reply": "2023-04-11T12:29:27.443140Z"
    },
    "papermill": {
     "duration": 1.573753,
     "end_time": "2023-04-11T12:29:27.447909",
     "exception": true,
     "start_time": "2023-04-11T12:29:25.874156",
     "status": "failed"
    },
    "tags": []
   },
   "outputs": [
    {
     "ename": "ValueError",
     "evalue": "Found array with 0 sample(s) (shape=(0, 1)) while a minimum of 1 is required.",
     "output_type": "error",
     "traceback": [
      "\u001b[0;31m---------------------------------------------------------------------------\u001b[0m",
      "\u001b[0;31mValueError\u001b[0m                                Traceback (most recent call last)",
      "\u001b[0;32m/tmp/ipykernel_19/4287198616.py\u001b[0m in \u001b[0;36m<module>\u001b[0;34m\u001b[0m\n\u001b[1;32m     17\u001b[0m     \u001b[0;32mreturn\u001b[0m \u001b[0mmi_scores\u001b[0m\u001b[0;34m\u001b[0m\u001b[0;34m\u001b[0m\u001b[0m\n\u001b[1;32m     18\u001b[0m \u001b[0;34m\u001b[0m\u001b[0m\n\u001b[0;32m---> 19\u001b[0;31m \u001b[0mmi_scores\u001b[0m \u001b[0;34m=\u001b[0m \u001b[0mmake_mi_scores\u001b[0m\u001b[0;34m(\u001b[0m\u001b[0mX\u001b[0m\u001b[0;34m,\u001b[0m \u001b[0my\u001b[0m\u001b[0;34m,\u001b[0m \u001b[0mdiscrete_features\u001b[0m\u001b[0;34m)\u001b[0m\u001b[0;34m\u001b[0m\u001b[0;34m\u001b[0m\u001b[0m\n\u001b[0m\u001b[1;32m     20\u001b[0m \u001b[0mmi_scores\u001b[0m\u001b[0;34m[\u001b[0m\u001b[0;34m:\u001b[0m\u001b[0;34m:\u001b[0m\u001b[0;36m3\u001b[0m\u001b[0;34m]\u001b[0m  \u001b[0;31m# show a few features with their MI scores\u001b[0m\u001b[0;34m\u001b[0m\u001b[0;34m\u001b[0m\u001b[0m\n",
      "\u001b[0;32m/tmp/ipykernel_19/4287198616.py\u001b[0m in \u001b[0;36mmake_mi_scores\u001b[0;34m(X, y, discrete_features)\u001b[0m\n\u001b[1;32m     12\u001b[0m \u001b[0;34m\u001b[0m\u001b[0m\n\u001b[1;32m     13\u001b[0m \u001b[0;32mdef\u001b[0m \u001b[0mmake_mi_scores\u001b[0m\u001b[0;34m(\u001b[0m\u001b[0mX\u001b[0m\u001b[0;34m,\u001b[0m \u001b[0my\u001b[0m\u001b[0;34m,\u001b[0m \u001b[0mdiscrete_features\u001b[0m\u001b[0;34m)\u001b[0m\u001b[0;34m:\u001b[0m\u001b[0;34m\u001b[0m\u001b[0;34m\u001b[0m\u001b[0m\n\u001b[0;32m---> 14\u001b[0;31m     \u001b[0mmi_scores\u001b[0m \u001b[0;34m=\u001b[0m \u001b[0mmutual_info_regression\u001b[0m\u001b[0;34m(\u001b[0m\u001b[0mX\u001b[0m\u001b[0;34m,\u001b[0m \u001b[0my\u001b[0m\u001b[0;34m,\u001b[0m \u001b[0mdiscrete_features\u001b[0m\u001b[0;34m=\u001b[0m\u001b[0mdiscrete_features\u001b[0m\u001b[0;34m)\u001b[0m\u001b[0;34m\u001b[0m\u001b[0;34m\u001b[0m\u001b[0m\n\u001b[0m\u001b[1;32m     15\u001b[0m     \u001b[0mmi_scores\u001b[0m \u001b[0;34m=\u001b[0m \u001b[0mpd\u001b[0m\u001b[0;34m.\u001b[0m\u001b[0mSeries\u001b[0m\u001b[0;34m(\u001b[0m\u001b[0mmi_scores\u001b[0m\u001b[0;34m,\u001b[0m \u001b[0mname\u001b[0m\u001b[0;34m=\u001b[0m\u001b[0;34m\"MI Scores\"\u001b[0m\u001b[0;34m,\u001b[0m \u001b[0mindex\u001b[0m\u001b[0;34m=\u001b[0m\u001b[0mX\u001b[0m\u001b[0;34m.\u001b[0m\u001b[0mcolumns\u001b[0m\u001b[0;34m)\u001b[0m\u001b[0;34m\u001b[0m\u001b[0;34m\u001b[0m\u001b[0m\n\u001b[1;32m     16\u001b[0m     \u001b[0mmi_scores\u001b[0m \u001b[0;34m=\u001b[0m \u001b[0mmi_scores\u001b[0m\u001b[0;34m.\u001b[0m\u001b[0msort_values\u001b[0m\u001b[0;34m(\u001b[0m\u001b[0mascending\u001b[0m\u001b[0;34m=\u001b[0m\u001b[0;32mFalse\u001b[0m\u001b[0;34m)\u001b[0m\u001b[0;34m\u001b[0m\u001b[0;34m\u001b[0m\u001b[0m\n",
      "\u001b[0;32m/opt/conda/lib/python3.7/site-packages/sklearn/feature_selection/_mutual_info.py\u001b[0m in \u001b[0;36mmutual_info_regression\u001b[0;34m(X, y, discrete_features, n_neighbors, copy, random_state)\u001b[0m\n\u001b[1;32m    382\u001b[0m            \u001b[0mof\u001b[0m \u001b[0ma\u001b[0m \u001b[0mRandom\u001b[0m \u001b[0mVector\u001b[0m\u001b[0;31m\"\u001b[0m\u001b[0;34m,\u001b[0m \u001b[0mProbl\u001b[0m\u001b[0;34m.\u001b[0m \u001b[0mPeredachi\u001b[0m \u001b[0mInf\u001b[0m\u001b[0;34m.\u001b[0m\u001b[0;34m,\u001b[0m \u001b[0;36m23\u001b[0m\u001b[0;34m:\u001b[0m\u001b[0;36m2\u001b[0m \u001b[0;34m(\u001b[0m\u001b[0;36m1987\u001b[0m\u001b[0;34m)\u001b[0m\u001b[0;34m,\u001b[0m \u001b[0;36m9\u001b[0m\u001b[0;34m-\u001b[0m\u001b[0;36m16\u001b[0m\u001b[0;34m\u001b[0m\u001b[0;34m\u001b[0m\u001b[0m\n\u001b[1;32m    383\u001b[0m     \"\"\"\n\u001b[0;32m--> 384\u001b[0;31m     \u001b[0;32mreturn\u001b[0m \u001b[0m_estimate_mi\u001b[0m\u001b[0;34m(\u001b[0m\u001b[0mX\u001b[0m\u001b[0;34m,\u001b[0m \u001b[0my\u001b[0m\u001b[0;34m,\u001b[0m \u001b[0mdiscrete_features\u001b[0m\u001b[0;34m,\u001b[0m \u001b[0;32mFalse\u001b[0m\u001b[0;34m,\u001b[0m \u001b[0mn_neighbors\u001b[0m\u001b[0;34m,\u001b[0m \u001b[0mcopy\u001b[0m\u001b[0;34m,\u001b[0m \u001b[0mrandom_state\u001b[0m\u001b[0;34m)\u001b[0m\u001b[0;34m\u001b[0m\u001b[0;34m\u001b[0m\u001b[0m\n\u001b[0m\u001b[1;32m    385\u001b[0m \u001b[0;34m\u001b[0m\u001b[0m\n\u001b[1;32m    386\u001b[0m \u001b[0;34m\u001b[0m\u001b[0m\n",
      "\u001b[0;32m/opt/conda/lib/python3.7/site-packages/sklearn/feature_selection/_mutual_info.py\u001b[0m in \u001b[0;36m_estimate_mi\u001b[0;34m(X, y, discrete_features, discrete_target, n_neighbors, copy, random_state)\u001b[0m\n\u001b[1;32m    300\u001b[0m     mi = [\n\u001b[1;32m    301\u001b[0m         \u001b[0m_compute_mi\u001b[0m\u001b[0;34m(\u001b[0m\u001b[0mx\u001b[0m\u001b[0;34m,\u001b[0m \u001b[0my\u001b[0m\u001b[0;34m,\u001b[0m \u001b[0mdiscrete_feature\u001b[0m\u001b[0;34m,\u001b[0m \u001b[0mdiscrete_target\u001b[0m\u001b[0;34m,\u001b[0m \u001b[0mn_neighbors\u001b[0m\u001b[0;34m)\u001b[0m\u001b[0;34m\u001b[0m\u001b[0;34m\u001b[0m\u001b[0m\n\u001b[0;32m--> 302\u001b[0;31m         \u001b[0;32mfor\u001b[0m \u001b[0mx\u001b[0m\u001b[0;34m,\u001b[0m \u001b[0mdiscrete_feature\u001b[0m \u001b[0;32min\u001b[0m \u001b[0mzip\u001b[0m\u001b[0;34m(\u001b[0m\u001b[0m_iterate_columns\u001b[0m\u001b[0;34m(\u001b[0m\u001b[0mX\u001b[0m\u001b[0;34m)\u001b[0m\u001b[0;34m,\u001b[0m \u001b[0mdiscrete_mask\u001b[0m\u001b[0;34m)\u001b[0m\u001b[0;34m\u001b[0m\u001b[0;34m\u001b[0m\u001b[0m\n\u001b[0m\u001b[1;32m    303\u001b[0m     ]\n\u001b[1;32m    304\u001b[0m \u001b[0;34m\u001b[0m\u001b[0m\n",
      "\u001b[0;32m/opt/conda/lib/python3.7/site-packages/sklearn/feature_selection/_mutual_info.py\u001b[0m in \u001b[0;36m<listcomp>\u001b[0;34m(.0)\u001b[0m\n\u001b[1;32m    300\u001b[0m     mi = [\n\u001b[1;32m    301\u001b[0m         \u001b[0m_compute_mi\u001b[0m\u001b[0;34m(\u001b[0m\u001b[0mx\u001b[0m\u001b[0;34m,\u001b[0m \u001b[0my\u001b[0m\u001b[0;34m,\u001b[0m \u001b[0mdiscrete_feature\u001b[0m\u001b[0;34m,\u001b[0m \u001b[0mdiscrete_target\u001b[0m\u001b[0;34m,\u001b[0m \u001b[0mn_neighbors\u001b[0m\u001b[0;34m)\u001b[0m\u001b[0;34m\u001b[0m\u001b[0;34m\u001b[0m\u001b[0m\n\u001b[0;32m--> 302\u001b[0;31m         \u001b[0;32mfor\u001b[0m \u001b[0mx\u001b[0m\u001b[0;34m,\u001b[0m \u001b[0mdiscrete_feature\u001b[0m \u001b[0;32min\u001b[0m \u001b[0mzip\u001b[0m\u001b[0;34m(\u001b[0m\u001b[0m_iterate_columns\u001b[0m\u001b[0;34m(\u001b[0m\u001b[0mX\u001b[0m\u001b[0;34m)\u001b[0m\u001b[0;34m,\u001b[0m \u001b[0mdiscrete_mask\u001b[0m\u001b[0;34m)\u001b[0m\u001b[0;34m\u001b[0m\u001b[0;34m\u001b[0m\u001b[0m\n\u001b[0m\u001b[1;32m    303\u001b[0m     ]\n\u001b[1;32m    304\u001b[0m \u001b[0;34m\u001b[0m\u001b[0m\n",
      "\u001b[0;32m/opt/conda/lib/python3.7/site-packages/sklearn/feature_selection/_mutual_info.py\u001b[0m in \u001b[0;36m_compute_mi\u001b[0;34m(x, y, x_discrete, y_discrete, n_neighbors)\u001b[0m\n\u001b[1;32m    160\u001b[0m         \u001b[0;32mreturn\u001b[0m \u001b[0mmutual_info_score\u001b[0m\u001b[0;34m(\u001b[0m\u001b[0mx\u001b[0m\u001b[0;34m,\u001b[0m \u001b[0my\u001b[0m\u001b[0;34m)\u001b[0m\u001b[0;34m\u001b[0m\u001b[0;34m\u001b[0m\u001b[0m\n\u001b[1;32m    161\u001b[0m     \u001b[0;32melif\u001b[0m \u001b[0mx_discrete\u001b[0m \u001b[0;32mand\u001b[0m \u001b[0;32mnot\u001b[0m \u001b[0my_discrete\u001b[0m\u001b[0;34m:\u001b[0m\u001b[0;34m\u001b[0m\u001b[0;34m\u001b[0m\u001b[0m\n\u001b[0;32m--> 162\u001b[0;31m         \u001b[0;32mreturn\u001b[0m \u001b[0m_compute_mi_cd\u001b[0m\u001b[0;34m(\u001b[0m\u001b[0my\u001b[0m\u001b[0;34m,\u001b[0m \u001b[0mx\u001b[0m\u001b[0;34m,\u001b[0m \u001b[0mn_neighbors\u001b[0m\u001b[0;34m)\u001b[0m\u001b[0;34m\u001b[0m\u001b[0;34m\u001b[0m\u001b[0m\n\u001b[0m\u001b[1;32m    163\u001b[0m     \u001b[0;32melif\u001b[0m \u001b[0;32mnot\u001b[0m \u001b[0mx_discrete\u001b[0m \u001b[0;32mand\u001b[0m \u001b[0my_discrete\u001b[0m\u001b[0;34m:\u001b[0m\u001b[0;34m\u001b[0m\u001b[0;34m\u001b[0m\u001b[0m\n\u001b[1;32m    164\u001b[0m         \u001b[0;32mreturn\u001b[0m \u001b[0m_compute_mi_cd\u001b[0m\u001b[0;34m(\u001b[0m\u001b[0mx\u001b[0m\u001b[0;34m,\u001b[0m \u001b[0my\u001b[0m\u001b[0;34m,\u001b[0m \u001b[0mn_neighbors\u001b[0m\u001b[0;34m)\u001b[0m\u001b[0;34m\u001b[0m\u001b[0;34m\u001b[0m\u001b[0m\n",
      "\u001b[0;32m/opt/conda/lib/python3.7/site-packages/sklearn/feature_selection/_mutual_info.py\u001b[0m in \u001b[0;36m_compute_mi_cd\u001b[0;34m(c, d, n_neighbors)\u001b[0m\n\u001b[1;32m    137\u001b[0m     \u001b[0mradius\u001b[0m \u001b[0;34m=\u001b[0m \u001b[0mradius\u001b[0m\u001b[0;34m[\u001b[0m\u001b[0mmask\u001b[0m\u001b[0;34m]\u001b[0m\u001b[0;34m\u001b[0m\u001b[0;34m\u001b[0m\u001b[0m\n\u001b[1;32m    138\u001b[0m \u001b[0;34m\u001b[0m\u001b[0m\n\u001b[0;32m--> 139\u001b[0;31m     \u001b[0mkd\u001b[0m \u001b[0;34m=\u001b[0m \u001b[0mKDTree\u001b[0m\u001b[0;34m(\u001b[0m\u001b[0mc\u001b[0m\u001b[0;34m)\u001b[0m\u001b[0;34m\u001b[0m\u001b[0;34m\u001b[0m\u001b[0m\n\u001b[0m\u001b[1;32m    140\u001b[0m     \u001b[0mm_all\u001b[0m \u001b[0;34m=\u001b[0m \u001b[0mkd\u001b[0m\u001b[0;34m.\u001b[0m\u001b[0mquery_radius\u001b[0m\u001b[0;34m(\u001b[0m\u001b[0mc\u001b[0m\u001b[0;34m,\u001b[0m \u001b[0mradius\u001b[0m\u001b[0;34m,\u001b[0m \u001b[0mcount_only\u001b[0m\u001b[0;34m=\u001b[0m\u001b[0;32mTrue\u001b[0m\u001b[0;34m,\u001b[0m \u001b[0mreturn_distance\u001b[0m\u001b[0;34m=\u001b[0m\u001b[0;32mFalse\u001b[0m\u001b[0;34m)\u001b[0m\u001b[0;34m\u001b[0m\u001b[0;34m\u001b[0m\u001b[0m\n\u001b[1;32m    141\u001b[0m     \u001b[0mm_all\u001b[0m \u001b[0;34m=\u001b[0m \u001b[0mnp\u001b[0m\u001b[0;34m.\u001b[0m\u001b[0marray\u001b[0m\u001b[0;34m(\u001b[0m\u001b[0mm_all\u001b[0m\u001b[0;34m)\u001b[0m \u001b[0;34m-\u001b[0m \u001b[0;36m1.0\u001b[0m\u001b[0;34m\u001b[0m\u001b[0;34m\u001b[0m\u001b[0m\n",
      "\u001b[0;32msklearn/neighbors/_binary_tree.pxi\u001b[0m in \u001b[0;36msklearn.neighbors._kd_tree.BinaryTree.__init__\u001b[0;34m()\u001b[0m\n",
      "\u001b[0;32m/opt/conda/lib/python3.7/site-packages/sklearn/utils/validation.py\u001b[0m in \u001b[0;36mcheck_array\u001b[0;34m(array, accept_sparse, accept_large_sparse, dtype, order, copy, force_all_finite, ensure_2d, allow_nd, ensure_min_samples, ensure_min_features, estimator)\u001b[0m\n\u001b[1;32m    806\u001b[0m                 \u001b[0;34m\"Found array with %d sample(s) (shape=%s) while a\"\u001b[0m\u001b[0;34m\u001b[0m\u001b[0;34m\u001b[0m\u001b[0m\n\u001b[1;32m    807\u001b[0m                 \u001b[0;34m\" minimum of %d is required%s.\"\u001b[0m\u001b[0;34m\u001b[0m\u001b[0;34m\u001b[0m\u001b[0m\n\u001b[0;32m--> 808\u001b[0;31m                 \u001b[0;34m%\u001b[0m \u001b[0;34m(\u001b[0m\u001b[0mn_samples\u001b[0m\u001b[0;34m,\u001b[0m \u001b[0marray\u001b[0m\u001b[0;34m.\u001b[0m\u001b[0mshape\u001b[0m\u001b[0;34m,\u001b[0m \u001b[0mensure_min_samples\u001b[0m\u001b[0;34m,\u001b[0m \u001b[0mcontext\u001b[0m\u001b[0;34m)\u001b[0m\u001b[0;34m\u001b[0m\u001b[0;34m\u001b[0m\u001b[0m\n\u001b[0m\u001b[1;32m    809\u001b[0m             )\n\u001b[1;32m    810\u001b[0m \u001b[0;34m\u001b[0m\u001b[0m\n",
      "\u001b[0;31mValueError\u001b[0m: Found array with 0 sample(s) (shape=(0, 1)) while a minimum of 1 is required."
     ]
    }
   ],
   "source": [
    "X = train_data.copy()\n",
    "y = X.pop(\"SalePrice\")\n",
    "\n",
    "# Label encoding for categoricals\n",
    "for colname in X.select_dtypes(\"object\"):\n",
    "    X[colname], _ = X[colname].factorize()\n",
    "\n",
    "# All discrete features should now have integer dtypes (double-check this before using MI!)\n",
    "discrete_features = X.dtypes == int\n",
    "\n",
    "from sklearn.feature_selection import mutual_info_regression\n",
    "\n",
    "def make_mi_scores(X, y, discrete_features):\n",
    "    mi_scores = mutual_info_regression(X, y, discrete_features=discrete_features)\n",
    "    mi_scores = pd.Series(mi_scores, name=\"MI Scores\", index=X.columns)\n",
    "    mi_scores = mi_scores.sort_values(ascending=False)\n",
    "    return mi_scores\n",
    "\n",
    "mi_scores = make_mi_scores(X, y, discrete_features)\n",
    "mi_scores[::3]  # show a few features with their MI scores"
   ]
  },
  {
   "cell_type": "code",
   "execution_count": null,
   "id": "b88d18f7",
   "metadata": {
    "execution": {
     "iopub.execute_input": "2023-04-11T11:48:00.845375Z",
     "iopub.status.busy": "2023-04-11T11:48:00.844976Z",
     "iopub.status.idle": "2023-04-11T11:48:00.854652Z",
     "shell.execute_reply": "2023-04-11T11:48:00.853395Z",
     "shell.execute_reply.started": "2023-04-11T11:48:00.845341Z"
    },
    "papermill": {
     "duration": null,
     "end_time": null,
     "exception": null,
     "start_time": null,
     "status": "pending"
    },
    "tags": []
   },
   "outputs": [],
   "source": [
    "# FireplaceQu\n",
    "# FireplaceQu: Fireplace quality\n",
    "\n",
    "#        Ex\tExcellent - Exceptional Masonry Fireplace\n",
    "#        Gd\tGood - Masonry Fireplace in main level\n",
    "#        TA\tAverage - Prefabricated Fireplace in main living area or Masonry Fireplace in basement\n",
    "#        Fa\tFair - Prefabricated Fireplace in basement\n",
    "#        Po\tPoor - Ben Franklin Stove\n",
    "#        NA\tNo Fireplace\n",
    "\n",
    "#690 empty in train_data set\n",
    "# 730 empty in test_data set\n",
    "test_data['FireplaceQu'].isnull().sum()"
   ]
  },
  {
   "cell_type": "code",
   "execution_count": null,
   "id": "cd717ffc",
   "metadata": {
    "execution": {
     "iopub.execute_input": "2023-04-11T11:49:22.678284Z",
     "iopub.status.busy": "2023-04-11T11:49:22.677262Z",
     "iopub.status.idle": "2023-04-11T11:49:22.686866Z",
     "shell.execute_reply": "2023-04-11T11:49:22.685380Z",
     "shell.execute_reply.started": "2023-04-11T11:49:22.678227Z"
    },
    "papermill": {
     "duration": null,
     "end_time": null,
     "exception": null,
     "start_time": null,
     "status": "pending"
    },
    "tags": []
   },
   "outputs": [],
   "source": [
    "# train_data['FireplaceQu'].value_counts()\n",
    "train_data['FireplaceQu'] = train_data['FireplaceQu'].replace(np.nan,'Gd')\n",
    "test_data['FireplaceQu'] = test_data['FireplaceQu'].replace(np.nan,'Gd')"
   ]
  },
  {
   "cell_type": "code",
   "execution_count": null,
   "id": "0cd3c4c9",
   "metadata": {
    "execution": {
     "iopub.execute_input": "2023-04-11T11:48:35.020033Z",
     "iopub.status.busy": "2023-04-11T11:48:35.019634Z",
     "iopub.status.idle": "2023-04-11T11:48:35.029822Z",
     "shell.execute_reply": "2023-04-11T11:48:35.028294Z",
     "shell.execute_reply.started": "2023-04-11T11:48:35.019999Z"
    },
    "papermill": {
     "duration": null,
     "end_time": null,
     "exception": null,
     "start_time": null,
     "status": "pending"
    },
    "tags": []
   },
   "outputs": [],
   "source": [
    "test_data['FireplaceQu'].value_counts()"
   ]
  },
  {
   "cell_type": "code",
   "execution_count": null,
   "id": "7e00a1b3",
   "metadata": {
    "execution": {
     "iopub.execute_input": "2023-04-11T11:43:11.332825Z",
     "iopub.status.busy": "2023-04-11T11:43:11.332342Z",
     "iopub.status.idle": "2023-04-11T11:43:11.342785Z",
     "shell.execute_reply": "2023-04-11T11:43:11.341606Z",
     "shell.execute_reply.started": "2023-04-11T11:43:11.332786Z"
    },
    "papermill": {
     "duration": null,
     "end_time": null,
     "exception": null,
     "start_time": null,
     "status": "pending"
    },
    "tags": []
   },
   "outputs": [],
   "source": [
    "# Electrical\n",
    "\n",
    "# Electrical: Electrical system\n",
    "\n",
    "#        SBrkr\tStandard Circuit Breakers & Romex\n",
    "#        FuseA\tFuse Box over 60 AMP and all Romex wiring (Average)\t\n",
    "#        FuseF\t60 AMP Fuse Box and mostly Romex wiring (Fair)\n",
    "#        FuseP\t60 AMP Fuse Box and mostly knob & tube wiring (poor)\n",
    "#        Mix\tMixed\n",
    "\n",
    "# 1 empty in train_data\n",
    "# train_data['Electrical'].isnull().sum()\n",
    "train_data['Electrical'].value_counts()"
   ]
  },
  {
   "cell_type": "code",
   "execution_count": null,
   "id": "38f49532",
   "metadata": {
    "execution": {
     "iopub.execute_input": "2023-04-11T11:43:41.990579Z",
     "iopub.status.busy": "2023-04-11T11:43:41.990135Z",
     "iopub.status.idle": "2023-04-11T11:43:41.998023Z",
     "shell.execute_reply": "2023-04-11T11:43:41.996775Z",
     "shell.execute_reply.started": "2023-04-11T11:43:41.990541Z"
    },
    "papermill": {
     "duration": null,
     "end_time": null,
     "exception": null,
     "start_time": null,
     "status": "pending"
    },
    "tags": []
   },
   "outputs": [],
   "source": [
    "train_data['Electrical'] = train_data['Electrical'].replace(np.nan,'SBrkr')"
   ]
  },
  {
   "cell_type": "code",
   "execution_count": null,
   "id": "c13e7744",
   "metadata": {
    "execution": {
     "iopub.execute_input": "2023-04-11T11:44:06.989497Z",
     "iopub.status.busy": "2023-04-11T11:44:06.988990Z",
     "iopub.status.idle": "2023-04-11T11:44:06.998096Z",
     "shell.execute_reply": "2023-04-11T11:44:06.996909Z",
     "shell.execute_reply.started": "2023-04-11T11:44:06.989454Z"
    },
    "papermill": {
     "duration": null,
     "end_time": null,
     "exception": null,
     "start_time": null,
     "status": "pending"
    },
    "tags": []
   },
   "outputs": [],
   "source": []
  },
  {
   "cell_type": "code",
   "execution_count": null,
   "id": "621ed438",
   "metadata": {
    "execution": {
     "iopub.execute_input": "2023-04-11T11:20:16.874601Z",
     "iopub.status.busy": "2023-04-11T11:20:16.873685Z",
     "iopub.status.idle": "2023-04-11T11:20:16.883784Z",
     "shell.execute_reply": "2023-04-11T11:20:16.882877Z",
     "shell.execute_reply.started": "2023-04-11T11:20:16.874548Z"
    },
    "papermill": {
     "duration": null,
     "end_time": null,
     "exception": null,
     "start_time": null,
     "status": "pending"
    },
    "tags": []
   },
   "outputs": [],
   "source": [
    "# 37 null columns\n",
    "# BsmtCond: Evaluates the general condition of the basement\n",
    "\n",
    "#        Ex\tExcellent\n",
    "#        Gd\tGood\n",
    "#        TA\tTypical - slight dampness allowed\n",
    "#        Fa\tFair - dampness or some cracking or settling\n",
    "#        Po\tPoor - Severe cracking, settling, or wetness\n",
    "#        NA\tNo Basement\n",
    "\n",
    "train_data['BsmtCond'].isnull().sum()"
   ]
  },
  {
   "cell_type": "code",
   "execution_count": null,
   "id": "9c0751ab",
   "metadata": {
    "execution": {
     "iopub.execute_input": "2023-04-11T11:21:42.315742Z",
     "iopub.status.busy": "2023-04-11T11:21:42.315257Z",
     "iopub.status.idle": "2023-04-11T11:21:42.324753Z",
     "shell.execute_reply": "2023-04-11T11:21:42.323629Z",
     "shell.execute_reply.started": "2023-04-11T11:21:42.315701Z"
    },
    "papermill": {
     "duration": null,
     "end_time": null,
     "exception": null,
     "start_time": null,
     "status": "pending"
    },
    "tags": []
   },
   "outputs": [],
   "source": [
    "# 45 with null entry\n",
    "test_data['BsmtCond'].isnull().sum()"
   ]
  },
  {
   "cell_type": "code",
   "execution_count": null,
   "id": "015d9d41",
   "metadata": {
    "execution": {
     "iopub.execute_input": "2023-04-11T11:22:42.447814Z",
     "iopub.status.busy": "2023-04-11T11:22:42.447329Z",
     "iopub.status.idle": "2023-04-11T11:22:42.458082Z",
     "shell.execute_reply": "2023-04-11T11:22:42.456670Z",
     "shell.execute_reply.started": "2023-04-11T11:22:42.447778Z"
    },
    "papermill": {
     "duration": null,
     "end_time": null,
     "exception": null,
     "start_time": null,
     "status": "pending"
    },
    "tags": []
   },
   "outputs": [],
   "source": [
    "train_data['BsmtCond'].value_counts()"
   ]
  },
  {
   "cell_type": "code",
   "execution_count": null,
   "id": "3d470af2",
   "metadata": {
    "execution": {
     "iopub.execute_input": "2023-04-11T11:25:22.247644Z",
     "iopub.status.busy": "2023-04-11T11:25:22.247235Z",
     "iopub.status.idle": "2023-04-11T11:25:22.254912Z",
     "shell.execute_reply": "2023-04-11T11:25:22.253752Z",
     "shell.execute_reply.started": "2023-04-11T11:25:22.247607Z"
    },
    "papermill": {
     "duration": null,
     "end_time": null,
     "exception": null,
     "start_time": null,
     "status": "pending"
    },
    "tags": []
   },
   "outputs": [],
   "source": [
    "# Replace NA with TA:-- Slight dampness allowed\n",
    "train_data['BsmtCond'] = train_data['BsmtCond'].replace(np.nan,'TA')\n",
    "test_data['BsmtCond'] = test_data['BsmtCond'].replace(np.nan,'TA')"
   ]
  },
  {
   "cell_type": "code",
   "execution_count": null,
   "id": "fa82bb1e",
   "metadata": {
    "execution": {
     "iopub.execute_input": "2023-04-11T11:27:04.909198Z",
     "iopub.status.busy": "2023-04-11T11:27:04.908772Z",
     "iopub.status.idle": "2023-04-11T11:27:04.917258Z",
     "shell.execute_reply": "2023-04-11T11:27:04.915877Z",
     "shell.execute_reply.started": "2023-04-11T11:27:04.909165Z"
    },
    "papermill": {
     "duration": null,
     "end_time": null,
     "exception": null,
     "start_time": null,
     "status": "pending"
    },
    "tags": []
   },
   "outputs": [],
   "source": [
    "# BsmtExposure\n",
    "# 38 empty\n",
    "# BsmtExposure: Refers to walkout or garden level walls\n",
    "\n",
    "#        Gd\tGood Exposure\n",
    "#        Av\tAverage Exposure (split levels or foyers typically score average or above)\t\n",
    "#        Mn\tMimimum Exposure\n",
    "#        No\tNo Exposure\n",
    "#        NA\tNo Basement\n",
    "\n",
    "train_data['BsmtExposure'].isnull().sum()"
   ]
  },
  {
   "cell_type": "code",
   "execution_count": null,
   "id": "2859abdd",
   "metadata": {
    "execution": {
     "iopub.execute_input": "2023-04-11T11:27:48.942904Z",
     "iopub.status.busy": "2023-04-11T11:27:48.942505Z",
     "iopub.status.idle": "2023-04-11T11:27:48.952233Z",
     "shell.execute_reply": "2023-04-11T11:27:48.951349Z",
     "shell.execute_reply.started": "2023-04-11T11:27:48.942866Z"
    },
    "papermill": {
     "duration": null,
     "end_time": null,
     "exception": null,
     "start_time": null,
     "status": "pending"
    },
    "tags": []
   },
   "outputs": [],
   "source": [
    "train_data['BsmtExposure'].value_counts()"
   ]
  },
  {
   "cell_type": "code",
   "execution_count": null,
   "id": "baa38645",
   "metadata": {
    "execution": {
     "iopub.execute_input": "2023-04-11T11:34:16.234637Z",
     "iopub.status.busy": "2023-04-11T11:34:16.234130Z",
     "iopub.status.idle": "2023-04-11T11:34:16.245318Z",
     "shell.execute_reply": "2023-04-11T11:34:16.243956Z",
     "shell.execute_reply.started": "2023-04-11T11:34:16.234595Z"
    },
    "papermill": {
     "duration": null,
     "end_time": null,
     "exception": null,
     "start_time": null,
     "status": "pending"
    },
    "tags": []
   },
   "outputs": [],
   "source": [
    "test_data['BsmtExposure'].value_counts()"
   ]
  },
  {
   "cell_type": "code",
   "execution_count": null,
   "id": "04e6a3d5",
   "metadata": {
    "execution": {
     "iopub.execute_input": "2023-04-11T11:35:08.792848Z",
     "iopub.status.busy": "2023-04-11T11:35:08.791546Z",
     "iopub.status.idle": "2023-04-11T11:35:08.800262Z",
     "shell.execute_reply": "2023-04-11T11:35:08.799077Z",
     "shell.execute_reply.started": "2023-04-11T11:35:08.792798Z"
    },
    "papermill": {
     "duration": null,
     "end_time": null,
     "exception": null,
     "start_time": null,
     "status": "pending"
    },
    "tags": []
   },
   "outputs": [],
   "source": [
    "train_data['BsmtExposure'] = train_data['BsmtExposure'].replace(np.nan,'No')\n",
    "test_data['BsmtExposure'] = test_data['BsmtExposure'].replace(np.nan,'No')"
   ]
  },
  {
   "cell_type": "code",
   "execution_count": null,
   "id": "966a0bc7",
   "metadata": {
    "execution": {
     "iopub.execute_input": "2023-04-11T11:38:51.058278Z",
     "iopub.status.busy": "2023-04-11T11:38:51.057838Z",
     "iopub.status.idle": "2023-04-11T11:38:51.066941Z",
     "shell.execute_reply": "2023-04-11T11:38:51.065485Z",
     "shell.execute_reply.started": "2023-04-11T11:38:51.058240Z"
    },
    "papermill": {
     "duration": null,
     "end_time": null,
     "exception": null,
     "start_time": null,
     "status": "pending"
    },
    "tags": []
   },
   "outputs": [],
   "source": [
    "# BsmtFinType1\n",
    "# BsmtFinType1: Rating of basement finished area\n",
    "\n",
    "#        GLQ\tGood Living Quarters\n",
    "#        ALQ\tAverage Living Quarters\n",
    "#        BLQ\tBelow Average Living Quarters\t\n",
    "#        Rec\tAverage Rec Room\n",
    "#        LwQ\tLow Quality\n",
    "#        Unf\tUnfinshed\n",
    "#        NA\tNo Basement\n",
    "\n",
    "# train_data['BsmtFinType1'].value_counts()\n",
    "train_data['BsmtFinType1'] = train_data['BsmtFinType1'].replace(np.nan,'Unf')\n",
    "test_data['BsmtFinType1'] = test_data['BsmtFinType1'].replace(np.nan,'GLQ')"
   ]
  },
  {
   "cell_type": "code",
   "execution_count": null,
   "id": "433567a8",
   "metadata": {
    "execution": {
     "iopub.execute_input": "2023-04-11T11:39:25.675736Z",
     "iopub.status.busy": "2023-04-11T11:39:25.674974Z",
     "iopub.status.idle": "2023-04-11T11:39:25.685534Z",
     "shell.execute_reply": "2023-04-11T11:39:25.684229Z",
     "shell.execute_reply.started": "2023-04-11T11:39:25.675697Z"
    },
    "papermill": {
     "duration": null,
     "end_time": null,
     "exception": null,
     "start_time": null,
     "status": "pending"
    },
    "tags": []
   },
   "outputs": [],
   "source": []
  },
  {
   "cell_type": "code",
   "execution_count": null,
   "id": "bc104352",
   "metadata": {
    "execution": {
     "iopub.execute_input": "2023-04-11T11:10:29.134797Z",
     "iopub.status.busy": "2023-04-11T11:10:29.134059Z",
     "iopub.status.idle": "2023-04-11T11:10:29.157809Z",
     "shell.execute_reply": "2023-04-11T11:10:29.156232Z",
     "shell.execute_reply.started": "2023-04-11T11:10:29.134746Z"
    },
    "papermill": {
     "duration": null,
     "end_time": null,
     "exception": null,
     "start_time": null,
     "status": "pending"
    },
    "tags": []
   },
   "outputs": [],
   "source": [
    "# Extracting some features from the dataset\n",
    "features = ['OverallQual','BsmtQual','GarageArea','YearBuilt','YearRemodAdd','Fireplaces','MSZoning','MasVnrType','LotArea',\n",
    "       'SaleCondition','SaleType','Exterior2nd','GarageYrBlt','MSSubClass'\n",
    "                    ]\n",
    "train_data = train_data[features]\n",
    "train_data.head()"
   ]
  },
  {
   "cell_type": "code",
   "execution_count": null,
   "id": "21fb1810",
   "metadata": {
    "papermill": {
     "duration": null,
     "end_time": null,
     "exception": null,
     "start_time": null,
     "status": "pending"
    },
    "tags": []
   },
   "outputs": [],
   "source": [
    "\n"
   ]
  }
 ],
 "metadata": {
  "kernelspec": {
   "display_name": "Python 3",
   "language": "python",
   "name": "python3"
  },
  "language_info": {
   "codemirror_mode": {
    "name": "ipython",
    "version": 3
   },
   "file_extension": ".py",
   "mimetype": "text/x-python",
   "name": "python",
   "nbconvert_exporter": "python",
   "pygments_lexer": "ipython3",
   "version": "3.7.12"
  },
  "papermill": {
   "default_parameters": {},
   "duration": 15.309972,
   "end_time": "2023-04-11T12:29:28.290486",
   "environment_variables": {},
   "exception": true,
   "input_path": "__notebook__.ipynb",
   "output_path": "__notebook__.ipynb",
   "parameters": {},
   "start_time": "2023-04-11T12:29:12.980514",
   "version": "2.4.0"
  }
 },
 "nbformat": 4,
 "nbformat_minor": 5
}
